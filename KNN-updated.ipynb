{
 "cells": [
  {
   "cell_type": "code",
   "execution_count": 1,
   "metadata": {},
   "outputs": [],
   "source": [
    "# KNN - content based approach, \n",
    "# where for each movie we find K similar movies (nearest neighbours) to it, where the similarity is Cosine Similarity\n",
    "\n",
    "import pandas as pd\n",
    "import numpy as np"
   ]
  },
  {
   "cell_type": "code",
   "execution_count": 2,
   "metadata": {},
   "outputs": [
    {
     "data": {
      "text/html": [
       "<div>\n",
       "<style scoped>\n",
       "    .dataframe tbody tr th:only-of-type {\n",
       "        vertical-align: middle;\n",
       "    }\n",
       "\n",
       "    .dataframe tbody tr th {\n",
       "        vertical-align: top;\n",
       "    }\n",
       "\n",
       "    .dataframe thead th {\n",
       "        text-align: right;\n",
       "    }\n",
       "</style>\n",
       "<table border=\"1\" class=\"dataframe\">\n",
       "  <thead>\n",
       "    <tr style=\"text-align: right;\">\n",
       "      <th></th>\n",
       "      <th>adult</th>\n",
       "      <th>id</th>\n",
       "      <th>original_language</th>\n",
       "      <th>original_title</th>\n",
       "      <th>overview</th>\n",
       "      <th>popularity</th>\n",
       "      <th>release_date</th>\n",
       "      <th>revenue</th>\n",
       "      <th>runtime</th>\n",
       "      <th>status</th>\n",
       "      <th>genre_name</th>\n",
       "      <th>collection_name</th>\n",
       "      <th>production_companies_name</th>\n",
       "      <th>keywords</th>\n",
       "      <th>cast_name</th>\n",
       "      <th>crew_name</th>\n",
       "      <th>vote_average</th>\n",
       "    </tr>\n",
       "  </thead>\n",
       "  <tbody>\n",
       "    <tr>\n",
       "      <th>0</th>\n",
       "      <td>False</td>\n",
       "      <td>862</td>\n",
       "      <td>en</td>\n",
       "      <td>Toy Story</td>\n",
       "      <td>Led by Woody, Andy's toys live happily in his ...</td>\n",
       "      <td>21.946943</td>\n",
       "      <td>1995-10-30</td>\n",
       "      <td>373554033.0</td>\n",
       "      <td>81.0</td>\n",
       "      <td>Released</td>\n",
       "      <td>['Animation', 'Comedy', 'Family']</td>\n",
       "      <td>Toy Story Collection</td>\n",
       "      <td>['Pixar Animation Studios']</td>\n",
       "      <td>['jealousy', 'toy', 'boy', 'friendship', 'frie...</td>\n",
       "      <td>['Tom Hanks', 'Tim Allen', 'Don Rickles', 'Jim...</td>\n",
       "      <td>['John Lasseter', 'Joss Whedon', 'Andrew Stant...</td>\n",
       "      <td>7.7</td>\n",
       "    </tr>\n",
       "    <tr>\n",
       "      <th>1</th>\n",
       "      <td>False</td>\n",
       "      <td>8844</td>\n",
       "      <td>en</td>\n",
       "      <td>Jumanji</td>\n",
       "      <td>When siblings Judy and Peter discover an encha...</td>\n",
       "      <td>17.015539</td>\n",
       "      <td>1995-12-15</td>\n",
       "      <td>262797249.0</td>\n",
       "      <td>104.0</td>\n",
       "      <td>Released</td>\n",
       "      <td>['Adventure', 'Fantasy', 'Family']</td>\n",
       "      <td>NaN</td>\n",
       "      <td>['TriStar Pictures', 'Teitler Film', 'Intersco...</td>\n",
       "      <td>['board game', 'disappearance', \"based on chil...</td>\n",
       "      <td>['Robin Williams', 'Jonathan Hyde', 'Kirsten D...</td>\n",
       "      <td>['Larry J. Franco', 'Jonathan Hensleigh', 'Jam...</td>\n",
       "      <td>6.9</td>\n",
       "    </tr>\n",
       "  </tbody>\n",
       "</table>\n",
       "</div>"
      ],
      "text/plain": [
       "   adult    id original_language original_title  \\\n",
       "0  False   862                en      Toy Story   \n",
       "1  False  8844                en        Jumanji   \n",
       "\n",
       "                                            overview  popularity release_date  \\\n",
       "0  Led by Woody, Andy's toys live happily in his ...   21.946943   1995-10-30   \n",
       "1  When siblings Judy and Peter discover an encha...   17.015539   1995-12-15   \n",
       "\n",
       "       revenue  runtime    status                          genre_name  \\\n",
       "0  373554033.0     81.0  Released   ['Animation', 'Comedy', 'Family']   \n",
       "1  262797249.0    104.0  Released  ['Adventure', 'Fantasy', 'Family']   \n",
       "\n",
       "        collection_name                          production_companies_name  \\\n",
       "0  Toy Story Collection                        ['Pixar Animation Studios']   \n",
       "1                   NaN  ['TriStar Pictures', 'Teitler Film', 'Intersco...   \n",
       "\n",
       "                                            keywords  \\\n",
       "0  ['jealousy', 'toy', 'boy', 'friendship', 'frie...   \n",
       "1  ['board game', 'disappearance', \"based on chil...   \n",
       "\n",
       "                                           cast_name  \\\n",
       "0  ['Tom Hanks', 'Tim Allen', 'Don Rickles', 'Jim...   \n",
       "1  ['Robin Williams', 'Jonathan Hyde', 'Kirsten D...   \n",
       "\n",
       "                                           crew_name  vote_average  \n",
       "0  ['John Lasseter', 'Joss Whedon', 'Andrew Stant...           7.7  \n",
       "1  ['Larry J. Franco', 'Jonathan Hensleigh', 'Jam...           6.9  "
      ]
     },
     "execution_count": 2,
     "metadata": {},
     "output_type": "execute_result"
    }
   ],
   "source": [
    "df = pd.read_csv('main_dataframe.csv')\n",
    "df.head(2)"
   ]
  },
  {
   "cell_type": "code",
   "execution_count": 3,
   "metadata": {},
   "outputs": [
    {
     "data": {
      "text/plain": [
       "Index(['adult', 'id', 'original_language', 'original_title', 'overview',\n",
       "       'popularity', 'release_date', 'revenue', 'runtime', 'status',\n",
       "       'genre_name', 'collection_name', 'production_companies_name',\n",
       "       'keywords', 'cast_name', 'crew_name', 'vote_average'],\n",
       "      dtype='object')"
      ]
     },
     "execution_count": 3,
     "metadata": {},
     "output_type": "execute_result"
    }
   ],
   "source": [
    "df.columns"
   ]
  },
  {
   "cell_type": "code",
   "execution_count": 4,
   "metadata": {},
   "outputs": [
    {
     "data": {
      "text/html": [
       "<div>\n",
       "<style scoped>\n",
       "    .dataframe tbody tr th:only-of-type {\n",
       "        vertical-align: middle;\n",
       "    }\n",
       "\n",
       "    .dataframe tbody tr th {\n",
       "        vertical-align: top;\n",
       "    }\n",
       "\n",
       "    .dataframe thead th {\n",
       "        text-align: right;\n",
       "    }\n",
       "</style>\n",
       "<table border=\"1\" class=\"dataframe\">\n",
       "  <thead>\n",
       "    <tr style=\"text-align: right;\">\n",
       "      <th></th>\n",
       "      <th>id</th>\n",
       "      <th>original_title</th>\n",
       "      <th>genre_name</th>\n",
       "      <th>cast_name</th>\n",
       "      <th>keywords</th>\n",
       "      <th>vote_average</th>\n",
       "    </tr>\n",
       "  </thead>\n",
       "  <tbody>\n",
       "    <tr>\n",
       "      <th>0</th>\n",
       "      <td>862</td>\n",
       "      <td>Toy Story</td>\n",
       "      <td>['Animation', 'Comedy', 'Family']</td>\n",
       "      <td>['Tom Hanks', 'Tim Allen', 'Don Rickles', 'Jim...</td>\n",
       "      <td>['jealousy', 'toy', 'boy', 'friendship', 'frie...</td>\n",
       "      <td>7.7</td>\n",
       "    </tr>\n",
       "  </tbody>\n",
       "</table>\n",
       "</div>"
      ],
      "text/plain": [
       "    id original_title                         genre_name  \\\n",
       "0  862      Toy Story  ['Animation', 'Comedy', 'Family']   \n",
       "\n",
       "                                           cast_name  \\\n",
       "0  ['Tom Hanks', 'Tim Allen', 'Don Rickles', 'Jim...   \n",
       "\n",
       "                                            keywords  vote_average  \n",
       "0  ['jealousy', 'toy', 'boy', 'friendship', 'frie...           7.7  "
      ]
     },
     "execution_count": 4,
     "metadata": {},
     "output_type": "execute_result"
    }
   ],
   "source": [
    "# columns taken into account for => dependent variable [\"original_title\"]\n",
    "df_data = df[['id','original_title','genre_name','cast_name','keywords','vote_average']]\n",
    "df_data.head(1)"
   ]
  },
  {
   "cell_type": "code",
   "execution_count": 5,
   "metadata": {},
   "outputs": [
    {
     "data": {
      "text/plain": [
       "(45463, 6)"
      ]
     },
     "execution_count": 5,
     "metadata": {},
     "output_type": "execute_result"
    }
   ],
   "source": [
    "df_data.shape"
   ]
  },
  {
   "cell_type": "code",
   "execution_count": 6,
   "metadata": {},
   "outputs": [
    {
     "data": {
      "text/plain": [
       "id                                                              862\n",
       "original_title                                            Toy Story\n",
       "genre_name                        ['Animation', 'Comedy', 'Family']\n",
       "cast_name         ['Tom Hanks', 'Tim Allen', 'Don Rickles', 'Jim...\n",
       "keywords          ['jealousy', 'toy', 'boy', 'friendship', 'frie...\n",
       "vote_average                                                    7.7\n",
       "Name: 0, dtype: object"
      ]
     },
     "execution_count": 6,
     "metadata": {},
     "output_type": "execute_result"
    }
   ],
   "source": [
    "df_data.iloc[0]"
   ]
  },
  {
   "cell_type": "code",
   "execution_count": 7,
   "metadata": {},
   "outputs": [
    {
     "name": "stderr",
     "output_type": "stream",
     "text": [
      "C:\\Users\\Abhinav94\\AppData\\Local\\Temp\\ipykernel_9104\\1643974628.py:6: SettingWithCopyWarning: \n",
      "A value is trying to be set on a copy of a slice from a DataFrame.\n",
      "Try using .loc[row_indexer,col_indexer] = value instead\n",
      "\n",
      "See the caveats in the documentation: https://pandas.pydata.org/pandas-docs/stable/user_guide/indexing.html#returning-a-view-versus-a-copy\n",
      "  df_data['genre_name'] = df_data['genre_name'].str.strip('[]').str.replace(' ','').str.replace(\"'\",'')\n",
      "C:\\Users\\Abhinav94\\AppData\\Local\\Temp\\ipykernel_9104\\1643974628.py:7: SettingWithCopyWarning: \n",
      "A value is trying to be set on a copy of a slice from a DataFrame.\n",
      "Try using .loc[row_indexer,col_indexer] = value instead\n",
      "\n",
      "See the caveats in the documentation: https://pandas.pydata.org/pandas-docs/stable/user_guide/indexing.html#returning-a-view-versus-a-copy\n",
      "  df_data['genre_name'] = df_data['genre_name'].str.split(',')\n"
     ]
    }
   ],
   "source": [
    "for i,j in zip(df_data['genre_name'],df_data.index):\n",
    "    list2=[]\n",
    "    list2=i\n",
    "    # list2.sort()\n",
    "    df_data.loc[j,'genre_name']=str(list2)\n",
    "df_data['genre_name'] = df_data['genre_name'].str.strip('[]').str.replace(' ','').str.replace(\"'\",'')\n",
    "df_data['genre_name'] = df_data['genre_name'].str.split(',')"
   ]
  },
  {
   "cell_type": "code",
   "execution_count": 8,
   "metadata": {},
   "outputs": [
    {
     "data": {
      "text/plain": [
       "['Animation',\n",
       " 'Comedy',\n",
       " 'Family',\n",
       " 'Adventure',\n",
       " 'Fantasy',\n",
       " 'Romance',\n",
       " 'Drama',\n",
       " 'Action',\n",
       " 'Crime',\n",
       " 'Thriller']"
      ]
     },
     "execution_count": 8,
     "metadata": {},
     "output_type": "execute_result"
    }
   ],
   "source": [
    "# Trying to find a list of unique genres\n",
    "\n",
    "genreList = []\n",
    "for index, row in df_data.iterrows():\n",
    "    genres = row[\"genre_name\"]\n",
    "    \n",
    "    for genre in genres:\n",
    "        if genre not in genreList:\n",
    "            genreList.append(genre)\n",
    "genreList[:10]"
   ]
  },
  {
   "cell_type": "code",
   "execution_count": 9,
   "metadata": {},
   "outputs": [
    {
     "name": "stderr",
     "output_type": "stream",
     "text": [
      "C:\\Users\\Abhinav94\\AppData\\Local\\Temp\\ipykernel_9104\\1098395291.py:13: SettingWithCopyWarning: \n",
      "A value is trying to be set on a copy of a slice from a DataFrame.\n",
      "Try using .loc[row_indexer,col_indexer] = value instead\n",
      "\n",
      "See the caveats in the documentation: https://pandas.pydata.org/pandas-docs/stable/user_guide/indexing.html#returning-a-view-versus-a-copy\n",
      "  df_data['genres_bin'] = df_data['genre_name'].apply(lambda x: binary(x))\n"
     ]
    }
   ],
   "source": [
    "# converting genre_name,keywords,cast_name into binary lists\n",
    "def binary(genre_list):\n",
    "    binaryList = []\n",
    "    \n",
    "    for genre in genreList:\n",
    "        if genre in genre_list:\n",
    "            binaryList.append(1)\n",
    "        else:\n",
    "            binaryList.append(0)\n",
    "    \n",
    "    return binaryList\n",
    "\n",
    "df_data['genres_bin'] = df_data['genre_name'].apply(lambda x: binary(x))\n"
   ]
  },
  {
   "cell_type": "code",
   "execution_count": 10,
   "metadata": {},
   "outputs": [
    {
     "data": {
      "text/plain": [
       "0    [1, 1, 1, 0, 0, 0, 0, 0, 0, 0, 0, 0, 0, 0, 0, ...\n",
       "1    [0, 0, 1, 1, 1, 0, 0, 0, 0, 0, 0, 0, 0, 0, 0, ...\n",
       "2    [0, 1, 0, 0, 0, 1, 0, 0, 0, 0, 0, 0, 0, 0, 0, ...\n",
       "Name: genres_bin, dtype: object"
      ]
     },
     "execution_count": 10,
     "metadata": {},
     "output_type": "execute_result"
    }
   ],
   "source": [
    "df_data['genres_bin'].head(3)"
   ]
  },
  {
   "cell_type": "code",
   "execution_count": 11,
   "metadata": {},
   "outputs": [
    {
     "data": {
      "text/plain": [
       "id                    0\n",
       "original_title        0\n",
       "genre_name            0\n",
       "cast_name             1\n",
       "keywords          14353\n",
       "vote_average          3\n",
       "genres_bin            0\n",
       "dtype: int64"
      ]
     },
     "execution_count": 11,
     "metadata": {},
     "output_type": "execute_result"
    }
   ],
   "source": [
    "df_data.isna().sum()"
   ]
  },
  {
   "cell_type": "code",
   "execution_count": 12,
   "metadata": {},
   "outputs": [
    {
     "name": "stderr",
     "output_type": "stream",
     "text": [
      "C:\\Users\\Abhinav94\\AppData\\Local\\Temp\\ipykernel_9104\\500805389.py:1: SettingWithCopyWarning: \n",
      "A value is trying to be set on a copy of a slice from a DataFrame.\n",
      "Try using .loc[row_indexer,col_indexer] = value instead\n",
      "\n",
      "See the caveats in the documentation: https://pandas.pydata.org/pandas-docs/stable/user_guide/indexing.html#returning-a-view-versus-a-copy\n",
      "  df_data['keywords'] = df_data['keywords'].str.strip('[]').str.replace(' ','').str.replace(\"'\",'').str.replace('\"','')\n",
      "C:\\Users\\Abhinav94\\AppData\\Local\\Temp\\ipykernel_9104\\500805389.py:2: SettingWithCopyWarning: \n",
      "A value is trying to be set on a copy of a slice from a DataFrame.\n",
      "Try using .loc[row_indexer,col_indexer] = value instead\n",
      "\n",
      "See the caveats in the documentation: https://pandas.pydata.org/pandas-docs/stable/user_guide/indexing.html#returning-a-view-versus-a-copy\n",
      "  df_data['keywords'] = df_data['keywords'].str.split(',')\n",
      "C:\\Users\\Abhinav94\\AppData\\Local\\Temp\\ipykernel_9104\\500805389.py:7: SettingWithCopyWarning: \n",
      "A value is trying to be set on a copy of a slice from a DataFrame.\n",
      "Try using .loc[row_indexer,col_indexer] = value instead\n",
      "\n",
      "See the caveats in the documentation: https://pandas.pydata.org/pandas-docs/stable/user_guide/indexing.html#returning-a-view-versus-a-copy\n",
      "  df_data['keywords'] = df_data['keywords'].str.strip('[]').str.replace(' ','').str.replace(\"'\",'')\n",
      "C:\\Users\\Abhinav94\\AppData\\Local\\Temp\\ipykernel_9104\\500805389.py:8: SettingWithCopyWarning: \n",
      "A value is trying to be set on a copy of a slice from a DataFrame.\n",
      "Try using .loc[row_indexer,col_indexer] = value instead\n",
      "\n",
      "See the caveats in the documentation: https://pandas.pydata.org/pandas-docs/stable/user_guide/indexing.html#returning-a-view-versus-a-copy\n",
      "  df_data['keywords'] = df_data['keywords'].str.split(',')\n",
      "C:\\Users\\Abhinav94\\AppData\\Local\\Temp\\ipykernel_9104\\500805389.py:14: SettingWithCopyWarning: \n",
      "A value is trying to be set on a copy of a slice from a DataFrame.\n",
      "Try using .loc[row_indexer,col_indexer] = value instead\n",
      "\n",
      "See the caveats in the documentation: https://pandas.pydata.org/pandas-docs/stable/user_guide/indexing.html#returning-a-view-versus-a-copy\n",
      "  df_data['keywords'] = df_data['keywords'].str.strip('[]').str.replace(' ','').str.replace(\"'\",'')\n",
      "C:\\Users\\Abhinav94\\AppData\\Local\\Temp\\ipykernel_9104\\500805389.py:15: SettingWithCopyWarning: \n",
      "A value is trying to be set on a copy of a slice from a DataFrame.\n",
      "Try using .loc[row_indexer,col_indexer] = value instead\n",
      "\n",
      "See the caveats in the documentation: https://pandas.pydata.org/pandas-docs/stable/user_guide/indexing.html#returning-a-view-versus-a-copy\n",
      "  df_data['keywords'] = df_data['keywords'].str.split(',')\n"
     ]
    }
   ],
   "source": [
    "df_data['keywords'] = df_data['keywords'].str.strip('[]').str.replace(' ','').str.replace(\"'\",'').str.replace('\"','')\n",
    "df_data['keywords'] = df_data['keywords'].str.split(',')\n",
    "for i,j in zip(df_data['keywords'],df_data.index):\n",
    "    list2 = []\n",
    "    list2 = i\n",
    "    df_data.loc[j,'keywords'] = str(list2)\n",
    "df_data['keywords'] = df_data['keywords'].str.strip('[]').str.replace(' ','').str.replace(\"'\",'')\n",
    "df_data['keywords'] = df_data['keywords'].str.split(',')\n",
    "for i,j in zip(df_data['keywords'],df_data.index):\n",
    "    list2 = []\n",
    "    list2 = i\n",
    "    # list2.sort()\n",
    "    df_data.loc[j,'keywords'] = str(list2)\n",
    "df_data['keywords'] = df_data['keywords'].str.strip('[]').str.replace(' ','').str.replace(\"'\",'')\n",
    "df_data['keywords'] = df_data['keywords'].str.split(',')"
   ]
  },
  {
   "cell_type": "code",
   "execution_count": 13,
   "metadata": {},
   "outputs": [],
   "source": [
    "words_list = []\n",
    "for index, row in df_data.iterrows():\n",
    "    genres = row[\"keywords\"]\n",
    "    \n",
    "    for genre in genres:\n",
    "        if genre not in words_list:\n",
    "            words_list.append(genre)\n"
   ]
  },
  {
   "cell_type": "code",
   "execution_count": 14,
   "metadata": {},
   "outputs": [
    {
     "name": "stderr",
     "output_type": "stream",
     "text": [
      "C:\\Users\\Abhinav94\\AppData\\Local\\Temp\\ipykernel_9104\\2192393038.py:9: SettingWithCopyWarning: \n",
      "A value is trying to be set on a copy of a slice from a DataFrame.\n",
      "Try using .loc[row_indexer,col_indexer] = value instead\n",
      "\n",
      "See the caveats in the documentation: https://pandas.pydata.org/pandas-docs/stable/user_guide/indexing.html#returning-a-view-versus-a-copy\n",
      "  df_data['words_bin'] = df_data['keywords'].apply(lambda x: binary(x))\n"
     ]
    }
   ],
   "source": [
    "def binary(words):\n",
    "    binaryList = []\n",
    "    for genre in words_list:\n",
    "        if genre in words:\n",
    "            binaryList.append(1)\n",
    "        else:\n",
    "            binaryList.append(0)\n",
    "    return binaryList\n",
    "df_data['words_bin'] = df_data['keywords'].apply(lambda x: binary(x))"
   ]
  },
  {
   "cell_type": "code",
   "execution_count": 15,
   "metadata": {},
   "outputs": [
    {
     "data": {
      "text/plain": [
       "0    [1, 1, 1, 1, 1, 1, 1, 1, 1, 0, 0, 0, 0, 0, 0, ...\n",
       "1    [0, 0, 0, 0, 0, 0, 0, 0, 0, 1, 1, 1, 1, 1, 1, ...\n",
       "2    [0, 0, 0, 0, 0, 0, 0, 0, 0, 0, 0, 0, 0, 0, 0, ...\n",
       "Name: words_bin, dtype: object"
      ]
     },
     "execution_count": 15,
     "metadata": {},
     "output_type": "execute_result"
    }
   ],
   "source": [
    "df_data['words_bin'].head(3)"
   ]
  },
  {
   "cell_type": "code",
   "execution_count": 16,
   "metadata": {},
   "outputs": [
    {
     "name": "stderr",
     "output_type": "stream",
     "text": [
      "C:\\Users\\Abhinav94\\AppData\\Local\\Temp\\ipykernel_9104\\2214090736.py:1: SettingWithCopyWarning: \n",
      "A value is trying to be set on a copy of a slice from a DataFrame\n",
      "\n",
      "See the caveats in the documentation: https://pandas.pydata.org/pandas-docs/stable/user_guide/indexing.html#returning-a-view-versus-a-copy\n",
      "  df_data.dropna(inplace=True)\n"
     ]
    }
   ],
   "source": [
    "df_data.dropna(inplace=True)"
   ]
  },
  {
   "cell_type": "code",
   "execution_count": 17,
   "metadata": {},
   "outputs": [
    {
     "name": "stderr",
     "output_type": "stream",
     "text": [
      "C:\\Users\\Abhinav94\\AppData\\Local\\Temp\\ipykernel_9104\\3780366754.py:5: SettingWithCopyWarning: \n",
      "A value is trying to be set on a copy of a slice from a DataFrame.\n",
      "Try using .loc[row_indexer,col_indexer] = value instead\n",
      "\n",
      "See the caveats in the documentation: https://pandas.pydata.org/pandas-docs/stable/user_guide/indexing.html#returning-a-view-versus-a-copy\n",
      "  df_data['cast_name'] = df_data['cast_name'].str.strip('[]').str.replace(' ','').str.replace(\"'\",'')\n",
      "C:\\Users\\Abhinav94\\AppData\\Local\\Temp\\ipykernel_9104\\3780366754.py:6: SettingWithCopyWarning: \n",
      "A value is trying to be set on a copy of a slice from a DataFrame.\n",
      "Try using .loc[row_indexer,col_indexer] = value instead\n",
      "\n",
      "See the caveats in the documentation: https://pandas.pydata.org/pandas-docs/stable/user_guide/indexing.html#returning-a-view-versus-a-copy\n",
      "  df_data['cast_name'] = df_data['cast_name'].str.split(',')\n",
      "C:\\Users\\Abhinav94\\AppData\\Local\\Temp\\ipykernel_9104\\3780366754.py:12: SettingWithCopyWarning: \n",
      "A value is trying to be set on a copy of a slice from a DataFrame.\n",
      "Try using .loc[row_indexer,col_indexer] = value instead\n",
      "\n",
      "See the caveats in the documentation: https://pandas.pydata.org/pandas-docs/stable/user_guide/indexing.html#returning-a-view-versus-a-copy\n",
      "  df_data['cast_name']=df_data['cast_name'].str.strip('[]').str.replace(' ','').str.replace(\"'\",'')\n"
     ]
    }
   ],
   "source": [
    "\n",
    "for i,j in zip(df_data['cast_name'],df_data.index):\n",
    "    list2 = []\n",
    "    list2 = i[:4]\n",
    "    df_data.loc[j,'cast_name'] = str(list2)\n",
    "df_data['cast_name'] = df_data['cast_name'].str.strip('[]').str.replace(' ','').str.replace(\"'\",'')\n",
    "df_data['cast_name'] = df_data['cast_name'].str.split(',')\n",
    "for i,j in zip(df_data['cast_name'],df_data.index):\n",
    "    list2 = []\n",
    "    list2 = i\n",
    "    #list2.sort()\n",
    "    df_data.loc[j,'cast_name'] = str(list2)\n",
    "df_data['cast_name']=df_data['cast_name'].str.strip('[]').str.replace(' ','').str.replace(\"'\",'')"
   ]
  },
  {
   "cell_type": "code",
   "execution_count": 18,
   "metadata": {},
   "outputs": [],
   "source": [
    "castList = []\n",
    "for index, row in df_data.iterrows():\n",
    "    cast = row[\"cast_name\"]\n",
    "    \n",
    "    for i in cast:\n",
    "        if i not in castList:\n",
    "            castList.append(i)\n",
    "        "
   ]
  },
  {
   "cell_type": "code",
   "execution_count": 19,
   "metadata": {},
   "outputs": [
    {
     "name": "stderr",
     "output_type": "stream",
     "text": [
      "C:\\Users\\Abhinav94\\AppData\\Local\\Temp\\ipykernel_9104\\3379228768.py:11: SettingWithCopyWarning: \n",
      "A value is trying to be set on a copy of a slice from a DataFrame.\n",
      "Try using .loc[row_indexer,col_indexer] = value instead\n",
      "\n",
      "See the caveats in the documentation: https://pandas.pydata.org/pandas-docs/stable/user_guide/indexing.html#returning-a-view-versus-a-copy\n",
      "  df_data['cast_bin'] = df_data['cast_name'].apply(lambda x: binary(x))\n"
     ]
    }
   ],
   "source": [
    "def binary(cast_list):\n",
    "    binaryList = []\n",
    "    \n",
    "    for genre in castList:\n",
    "        if genre in cast_list:\n",
    "            binaryList.append(1)\n",
    "        else:\n",
    "            binaryList.append(0)\n",
    "    \n",
    "    return binaryList\n",
    "df_data['cast_bin'] = df_data['cast_name'].apply(lambda x: binary(x))\n"
   ]
  },
  {
   "cell_type": "code",
   "execution_count": 20,
   "metadata": {},
   "outputs": [
    {
     "data": {
      "text/plain": [
       "0    [1, 1, 0, 0, 0, 0, 0, 0, 0, 0, 0, 0, 0, 0, 0, ...\n",
       "1    [0, 1, 1, 0, 0, 0, 0, 0, 0, 0, 0, 0, 0, 0, 0, ...\n",
       "2    [0, 0, 0, 1, 1, 0, 0, 0, 0, 0, 0, 0, 0, 0, 0, ...\n",
       "3    [0, 0, 0, 1, 0, 1, 0, 0, 0, 0, 0, 0, 0, 0, 0, ...\n",
       "4    [0, 0, 0, 0, 0, 0, 1, 1, 0, 0, 0, 0, 0, 0, 0, ...\n",
       "Name: cast_bin, dtype: object"
      ]
     },
     "execution_count": 20,
     "metadata": {},
     "output_type": "execute_result"
    }
   ],
   "source": [
    "df_data['cast_bin'].head()"
   ]
  },
  {
   "cell_type": "code",
   "execution_count": 21,
   "metadata": {},
   "outputs": [
    {
     "name": "stderr",
     "output_type": "stream",
     "text": [
      "C:\\Users\\Abhinav94\\AppData\\Local\\Temp\\ipykernel_9104\\3507510346.py:2: SettingWithCopyWarning: \n",
      "A value is trying to be set on a copy of a slice from a DataFrame.\n",
      "Try using .loc[row_indexer,col_indexer] = value instead\n",
      "\n",
      "See the caveats in the documentation: https://pandas.pydata.org/pandas-docs/stable/user_guide/indexing.html#returning-a-view-versus-a-copy\n",
      "  df_data['new_id']=new_id\n"
     ]
    }
   ],
   "source": [
    "new_id = list(range(0,df_data.shape[0]))\n",
    "df_data['new_id']=new_id"
   ]
  },
  {
   "cell_type": "code",
   "execution_count": 22,
   "metadata": {},
   "outputs": [
    {
     "data": {
      "text/plain": [
       "Index(['id', 'original_title', 'genre_name', 'cast_name', 'keywords',\n",
       "       'vote_average', 'genres_bin', 'words_bin', 'cast_bin', 'new_id'],\n",
       "      dtype='object')"
      ]
     },
     "execution_count": 22,
     "metadata": {},
     "output_type": "execute_result"
    }
   ],
   "source": [
    "df_data.columns"
   ]
  },
  {
   "cell_type": "code",
   "execution_count": 23,
   "metadata": {},
   "outputs": [
    {
     "data": {
      "text/html": [
       "<div>\n",
       "<style scoped>\n",
       "    .dataframe tbody tr th:only-of-type {\n",
       "        vertical-align: middle;\n",
       "    }\n",
       "\n",
       "    .dataframe tbody tr th {\n",
       "        vertical-align: top;\n",
       "    }\n",
       "\n",
       "    .dataframe thead th {\n",
       "        text-align: right;\n",
       "    }\n",
       "</style>\n",
       "<table border=\"1\" class=\"dataframe\">\n",
       "  <thead>\n",
       "    <tr style=\"text-align: right;\">\n",
       "      <th></th>\n",
       "      <th>id</th>\n",
       "      <th>original_title</th>\n",
       "      <th>genre_name</th>\n",
       "      <th>cast_name</th>\n",
       "      <th>keywords</th>\n",
       "      <th>vote_average</th>\n",
       "      <th>genres_bin</th>\n",
       "      <th>words_bin</th>\n",
       "      <th>cast_bin</th>\n",
       "      <th>new_id</th>\n",
       "    </tr>\n",
       "  </thead>\n",
       "  <tbody>\n",
       "    <tr>\n",
       "      <th>0</th>\n",
       "      <td>862</td>\n",
       "      <td>Toy Story</td>\n",
       "      <td>[Animation, Comedy, Family]</td>\n",
       "      <td>To</td>\n",
       "      <td>[jealousy, toy, boy, friendship, friends, riva...</td>\n",
       "      <td>7.7</td>\n",
       "      <td>[1, 1, 1, 0, 0, 0, 0, 0, 0, 0, 0, 0, 0, 0, 0, ...</td>\n",
       "      <td>[1, 1, 1, 1, 1, 1, 1, 1, 1, 0, 0, 0, 0, 0, 0, ...</td>\n",
       "      <td>[1, 1, 0, 0, 0, 0, 0, 0, 0, 0, 0, 0, 0, 0, 0, ...</td>\n",
       "      <td>0</td>\n",
       "    </tr>\n",
       "    <tr>\n",
       "      <th>1</th>\n",
       "      <td>8844</td>\n",
       "      <td>Jumanji</td>\n",
       "      <td>[Adventure, Fantasy, Family]</td>\n",
       "      <td>Ro</td>\n",
       "      <td>[boardgame, disappearance, basedonchildrensboo...</td>\n",
       "      <td>6.9</td>\n",
       "      <td>[0, 0, 1, 1, 1, 0, 0, 0, 0, 0, 0, 0, 0, 0, 0, ...</td>\n",
       "      <td>[0, 0, 0, 0, 0, 0, 0, 0, 0, 1, 1, 1, 1, 1, 1, ...</td>\n",
       "      <td>[0, 1, 1, 0, 0, 0, 0, 0, 0, 0, 0, 0, 0, 0, 0, ...</td>\n",
       "      <td>1</td>\n",
       "    </tr>\n",
       "    <tr>\n",
       "      <th>2</th>\n",
       "      <td>15602</td>\n",
       "      <td>Grumpier Old Men</td>\n",
       "      <td>[Romance, Comedy]</td>\n",
       "      <td>Wa</td>\n",
       "      <td>[fishing, bestfriend, duringcreditsstinger, ol...</td>\n",
       "      <td>6.5</td>\n",
       "      <td>[0, 1, 0, 0, 0, 1, 0, 0, 0, 0, 0, 0, 0, 0, 0, ...</td>\n",
       "      <td>[0, 0, 0, 0, 0, 0, 0, 0, 0, 0, 0, 0, 0, 0, 0, ...</td>\n",
       "      <td>[0, 0, 0, 1, 1, 0, 0, 0, 0, 0, 0, 0, 0, 0, 0, ...</td>\n",
       "      <td>2</td>\n",
       "    </tr>\n",
       "    <tr>\n",
       "      <th>3</th>\n",
       "      <td>31357</td>\n",
       "      <td>Waiting to Exhale</td>\n",
       "      <td>[Comedy, Drama, Romance]</td>\n",
       "      <td>Wh</td>\n",
       "      <td>[basedonnovel, interracialrelationship, single...</td>\n",
       "      <td>6.1</td>\n",
       "      <td>[0, 1, 0, 0, 0, 1, 1, 0, 0, 0, 0, 0, 0, 0, 0, ...</td>\n",
       "      <td>[0, 0, 0, 0, 0, 0, 0, 0, 0, 0, 0, 0, 0, 0, 0, ...</td>\n",
       "      <td>[0, 0, 0, 1, 0, 1, 0, 0, 0, 0, 0, 0, 0, 0, 0, ...</td>\n",
       "      <td>3</td>\n",
       "    </tr>\n",
       "    <tr>\n",
       "      <th>4</th>\n",
       "      <td>11862</td>\n",
       "      <td>Father of the Bride Part II</td>\n",
       "      <td>[Comedy]</td>\n",
       "      <td>St</td>\n",
       "      <td>[baby, midlifecrisis, confidence, aging, daugh...</td>\n",
       "      <td>5.7</td>\n",
       "      <td>[0, 1, 0, 0, 0, 0, 0, 0, 0, 0, 0, 0, 0, 0, 0, ...</td>\n",
       "      <td>[0, 0, 0, 0, 0, 0, 0, 0, 0, 0, 0, 0, 0, 0, 0, ...</td>\n",
       "      <td>[0, 0, 0, 0, 0, 0, 1, 1, 0, 0, 0, 0, 0, 0, 0, ...</td>\n",
       "      <td>4</td>\n",
       "    </tr>\n",
       "  </tbody>\n",
       "</table>\n",
       "</div>"
      ],
      "text/plain": [
       "      id               original_title                    genre_name cast_name  \\\n",
       "0    862                    Toy Story   [Animation, Comedy, Family]        To   \n",
       "1   8844                      Jumanji  [Adventure, Fantasy, Family]        Ro   \n",
       "2  15602             Grumpier Old Men             [Romance, Comedy]        Wa   \n",
       "3  31357            Waiting to Exhale      [Comedy, Drama, Romance]        Wh   \n",
       "4  11862  Father of the Bride Part II                      [Comedy]        St   \n",
       "\n",
       "                                            keywords  vote_average  \\\n",
       "0  [jealousy, toy, boy, friendship, friends, riva...           7.7   \n",
       "1  [boardgame, disappearance, basedonchildrensboo...           6.9   \n",
       "2  [fishing, bestfriend, duringcreditsstinger, ol...           6.5   \n",
       "3  [basedonnovel, interracialrelationship, single...           6.1   \n",
       "4  [baby, midlifecrisis, confidence, aging, daugh...           5.7   \n",
       "\n",
       "                                          genres_bin  \\\n",
       "0  [1, 1, 1, 0, 0, 0, 0, 0, 0, 0, 0, 0, 0, 0, 0, ...   \n",
       "1  [0, 0, 1, 1, 1, 0, 0, 0, 0, 0, 0, 0, 0, 0, 0, ...   \n",
       "2  [0, 1, 0, 0, 0, 1, 0, 0, 0, 0, 0, 0, 0, 0, 0, ...   \n",
       "3  [0, 1, 0, 0, 0, 1, 1, 0, 0, 0, 0, 0, 0, 0, 0, ...   \n",
       "4  [0, 1, 0, 0, 0, 0, 0, 0, 0, 0, 0, 0, 0, 0, 0, ...   \n",
       "\n",
       "                                           words_bin  \\\n",
       "0  [1, 1, 1, 1, 1, 1, 1, 1, 1, 0, 0, 0, 0, 0, 0, ...   \n",
       "1  [0, 0, 0, 0, 0, 0, 0, 0, 0, 1, 1, 1, 1, 1, 1, ...   \n",
       "2  [0, 0, 0, 0, 0, 0, 0, 0, 0, 0, 0, 0, 0, 0, 0, ...   \n",
       "3  [0, 0, 0, 0, 0, 0, 0, 0, 0, 0, 0, 0, 0, 0, 0, ...   \n",
       "4  [0, 0, 0, 0, 0, 0, 0, 0, 0, 0, 0, 0, 0, 0, 0, ...   \n",
       "\n",
       "                                            cast_bin  new_id  \n",
       "0  [1, 1, 0, 0, 0, 0, 0, 0, 0, 0, 0, 0, 0, 0, 0, ...       0  \n",
       "1  [0, 1, 1, 0, 0, 0, 0, 0, 0, 0, 0, 0, 0, 0, 0, ...       1  \n",
       "2  [0, 0, 0, 1, 1, 0, 0, 0, 0, 0, 0, 0, 0, 0, 0, ...       2  \n",
       "3  [0, 0, 0, 1, 0, 1, 0, 0, 0, 0, 0, 0, 0, 0, 0, ...       3  \n",
       "4  [0, 0, 0, 0, 0, 0, 1, 1, 0, 0, 0, 0, 0, 0, 0, ...       4  "
      ]
     },
     "execution_count": 23,
     "metadata": {},
     "output_type": "execute_result"
    }
   ],
   "source": [
    "df_data.head()"
   ]
  },
  {
   "cell_type": "code",
   "execution_count": 27,
   "metadata": {},
   "outputs": [],
   "source": [
    "# similarity function [ To find the distance] -> For movieid,genre,words,cast\n",
    "from scipy import spatial\n",
    "\n",
    "def Similarity(movieId1, movieId2):\n",
    "    a = df_data.iloc[movieId1]\n",
    "    b = df_data.iloc[movieId2]\n",
    "    \n",
    "    genresA = a['genres_bin']\n",
    "    genresB = b['genres_bin']\n",
    "    \n",
    "    genreDistance = spatial.distance.cosine(genresA, genresB)\n",
    "    \n",
    "    wordsA = a['words_bin']\n",
    "    wordsB = b['words_bin']\n",
    "    wordsDistance = spatial.distance.cosine(wordsA, wordsB)\n",
    "\n",
    "    castA = a['cast_bin']\n",
    "    castB = b['cast_bin']\n",
    "    castDistance = spatial.distance.cosine(castA, castB)\n",
    "\n",
    "    return genreDistance + wordsDistance + castDistance"
   ]
  },
  {
   "cell_type": "code",
   "execution_count": 120,
   "metadata": {},
   "outputs": [],
   "source": [
    "from sklearn.metrics import mean_squared_error"
   ]
  },
  {
   "cell_type": "code",
   "execution_count": 118,
   "metadata": {
    "scrolled": false
   },
   "outputs": [],
   "source": [
    "import operator\n",
    "predicted_value = []\n",
    "def scorePredictor(name):\n",
    "    #name = input('Enter a movie title: ')\n",
    "    new_movie = df_data[df_data['original_title'].str.contains(name)].iloc[0].to_frame().T\n",
    "    print('Selected Movie: ',new_movie.original_title.values[0])\n",
    "    def getNeighbors(baseMovie, K):\n",
    "        distances = []\n",
    "    \n",
    "        for index, movie in df_data.iterrows():\n",
    "            if movie['new_id'] != baseMovie['new_id'].values[0]:\n",
    "                dist = Similarity(baseMovie['new_id'].values[0], movie['new_id'])\n",
    "                distances.append((movie['new_id'], dist))\n",
    "    \n",
    "        distances.sort(key=operator.itemgetter(1))\n",
    "        neighbors = []\n",
    "    \n",
    "        for x in range(K):\n",
    "            neighbors.append(distances[x])\n",
    "        return neighbors\n",
    "\n",
    "    K = 12\n",
    "    avgRating = 0\n",
    "    neighbors = getNeighbors(new_movie, K)\n",
    "    \n",
    "    print('\\nThe Recommended Movies: \\n')\n",
    "    for neighbor in neighbors:\n",
    "        avgRating = avgRating+df_data.iloc[neighbor[0]][5] \n",
    "        print( df_data.iloc[neighbor[0]][1]+\" | Genres: \"+str(df_data.iloc[neighbor[0]][2]).strip('[]').replace(' ',''))\n",
    "\n",
    "# Predicted rating vs actual rating \n",
    "\n",
    "    print('\\n')\n",
    "    avgRating = avgRating/K\n",
    "    print('The predicted rating for %s is: %f' %(new_movie['original_title'].values[0],avgRating))\n",
    "    print('The actual rating for %s is %f' %(new_movie['original_title'].values[0],new_movie['vote_average']))\n",
    "    print(\"*********************************************************************************************************\")\n",
    "    \n",
    "    predicted_value.append(avgRating)\n",
    "    #print(predicted_value)\n",
    "    return predicted_value\n",
    "    \n",
    "# First Lets try giving the name via the function and then make it genric\n",
    "#scorePredictor('Stuart Little')"
   ]
  },
  {
   "cell_type": "code",
   "execution_count": 119,
   "metadata": {
    "scrolled": true
   },
   "outputs": [
    {
     "name": "stdout",
     "output_type": "stream",
     "text": [
      "Selected Movie:  Toy Story\n",
      "\n",
      "The Recommended Movies: \n",
      "\n",
      "Toy Story 3 | Genres: 'Animation','Family','Comedy'\n",
      "Toy Story 2 | Genres: 'Animation','Comedy','Family'\n",
      "The Tangerine Bear: Home in Time for Christmas! | Genres: 'Animation','Family'\n",
      "Meet the Robinsons | Genres: 'Animation','Comedy','Family'\n",
      "Toy Story That Time Forgot | Genres: 'Animation','Family'\n",
      "Creature Comforts | Genres: 'Animation','Comedy','Family'\n",
      "Bébé's Kids | Genres: 'Animation','Comedy','Family'\n",
      "The SpongeBob SquarePants Movie | Genres: 'Animation','Comedy','Family'\n",
      "Toy Story of Terror! | Genres: 'Animation','Comedy','Family'\n",
      "The Madagascar Penguins in a Christmas Caper | Genres: 'Animation','Comedy','Family'\n",
      "Superstar Goofy | Genres: 'Animation','Comedy','Family'\n",
      "Lorenzo | Genres: 'Animation','Comedy','Family'\n",
      "\n",
      "\n",
      "The predicted rating for Toy Story is: 6.691667\n",
      "The actual rating for Toy Story is 7.700000\n",
      "*********************************************************************************************************\n",
      "Selected Movie:  Jumanji\n",
      "\n",
      "The Recommended Movies: \n",
      "\n",
      "Escape to Witch Mountain | Genres: 'Adventure','Family','Fantasy'\n",
      "Hook | Genres: 'Adventure','Fantasy','Comedy','Family'\n",
      "Gekijô ban Tottoko Hamutarô: Hamu hamu hamu~jya! Maboroshi no prinsesu | Genres: 'Fantasy','Adventure','Animation','Family'\n",
      "Charlie, the Lonesome Cougar | Genres: 'Adventure','Family'\n",
      "Kismet | Genres: 'Adventure','Fantasy'\n",
      "A Trip to Mars | Genres: 'Fantasy','Adventure'\n",
      "Captain Nemo and the Underwater City | Genres: 'Adventure','Family'\n",
      "Further Adventures of the Wilderness Family | Genres: 'Adventure','Family'\n",
      "Sovsem Propashchiy | Genres: 'Family','Adventure'\n",
      "VeggieTales: LarryBoy & The Bad Apple | Genres: 'Adventure','Family'\n",
      "VeggieTales: The Wonderful Wizard of Ha's | Genres: 'Adventure','Family'\n",
      "La Cité des Enfants Perdus | Genres: 'Fantasy','ScienceFiction','Adventure'\n",
      "\n",
      "\n",
      "The predicted rating for Jumanji is: 4.775000\n",
      "The actual rating for Jumanji is 6.900000\n",
      "*********************************************************************************************************\n",
      "Selected Movie:  Grumpier Old Men\n",
      "\n",
      "The Recommended Movies: \n",
      "\n",
      "Town & Country | Genres: 'Comedy','Romance'\n",
      "Cactus Flower | Genres: 'Comedy','Romance'\n",
      "A New Leaf | Genres: 'Comedy','Romance'\n",
      "A Guide for the Married Man | Genres: 'Comedy','Romance'\n",
      "White on Rice | Genres: 'Comedy','Romance'\n",
      "What's Up, Scarlet? | Genres: 'Comedy','Romance'\n",
      "Made For Each Other | Genres: 'Comedy','Romance'\n",
      "Beauty and the Boss | Genres: 'Comedy','Romance'\n",
      "House Calls | Genres: 'Comedy','Romance'\n",
      "Act Like You Love Me | Genres: 'Comedy','Romance'\n",
      "Shampoo | Genres: 'Comedy','Drama','Romance'\n",
      "42nd Street | Genres: 'Music','Comedy','Romance'\n",
      "\n",
      "\n",
      "The predicted rating for Grumpier Old Men is: 6.050000\n",
      "The actual rating for Grumpier Old Men is 6.500000\n",
      "*********************************************************************************************************\n",
      "Selected Movie:  Waiting to Exhale\n",
      "\n",
      "The Recommended Movies: \n",
      "\n",
      "Dreamworld | Genres: 'Comedy','Romance','Drama'\n",
      "Hello Lonesome | Genres: 'Drama','Comedy','Romance'\n",
      "Corrina, Corrina | Genres: 'Comedy','Drama','Family','Romance'\n",
      "Voy a explotar | Genres: 'Drama','Comedy','Romance','Foreign'\n",
      "Boy | Genres: 'Drama','Comedy','Romance','Foreign'\n",
      "Boys on the Side | Genres: 'Comedy','Drama'\n",
      "The Telephone | Genres: 'Drama','Comedy'\n",
      "Cowards Bend the Knee | Genres: 'Drama','Romance'\n",
      "La estrategia del caracol | Genres: 'Comedy','Drama'\n",
      "Lieksa! | Genres: 'Comedy','Drama'\n",
      "The Trouble with Dee Dee | Genres: 'Comedy','Drama'\n",
      "The Village Barbershop | Genres: 'Comedy','Drama'\n",
      "\n",
      "\n",
      "The predicted rating for Waiting to Exhale is: 5.958333\n",
      "The actual rating for Waiting to Exhale is 6.100000\n",
      "*********************************************************************************************************\n",
      "Selected Movie:  Father of the Bride Part II\n",
      "\n",
      "The Recommended Movies: \n",
      "\n",
      "審死官 | Genres: 'Comedy'\n",
      "Sour Grapes | Genres: 'Comedy'\n",
      "The Jerk | Genres: 'Comedy'\n",
      "The Out-of-Towners | Genres: 'Comedy'\n",
      "Bowfinger | Genres: 'Comedy'\n",
      "Babes in Toyland | Genres: 'Comedy'\n",
      "The Original Kings of Comedy | Genres: 'Comedy'\n",
      "Planes, Trains and Automobiles | Genres: 'Comedy'\n",
      "Unmade Beds | Genres: 'Comedy'\n",
      "P.S. Your Cat Is Dead! | Genres: 'Comedy'\n",
      "Edie & Pen | Genres: 'Comedy'\n",
      "Bringing Down the House | Genres: 'Comedy'\n",
      "\n",
      "\n",
      "The predicted rating for Father of the Bride Part II is: 6.041667\n",
      "The actual rating for Father of the Bride Part II is 5.700000\n",
      "*********************************************************************************************************\n",
      "RMSE value :  1.0836666154003887\n"
     ]
    }
   ],
   "source": [
    "predicted_value = []\n",
    "predicted_avg_rating = df_data['original_title'].iloc[0:5].apply(scorePredictor)[0]\n",
    "predicted_avg_rating_arr = np.array(predicted_avg_rating)\n",
    "actual_rating = df_data.iloc[0:5]['vote_average'].to_numpy()\n",
    "rmse = mean_squared_error(actual_rating,predicted_avg_rating_arr,squared=False)\n",
    "print(\"RMSE value : \",rmse)"
   ]
  },
  {
   "cell_type": "code",
   "execution_count": null,
   "metadata": {},
   "outputs": [],
   "source": []
  },
  {
   "cell_type": "code",
   "execution_count": null,
   "metadata": {},
   "outputs": [],
   "source": [
    "# Hyperparameter Tuning :\n",
    "# 1. GS / BO optimization\n",
    "# 2. NN / Shrinkage factors\n",
    "# 3. Ref - https://towardsdatascience.com/recommender-systems-and-hyper-parameter-tuning-25567b10e298\n"
   ]
  }
 ],
 "metadata": {
  "kernelspec": {
   "display_name": "Python 3 (ipykernel)",
   "language": "python",
   "name": "python3"
  },
  "language_info": {
   "codemirror_mode": {
    "name": "ipython",
    "version": 3
   },
   "file_extension": ".py",
   "mimetype": "text/x-python",
   "name": "python",
   "nbconvert_exporter": "python",
   "pygments_lexer": "ipython3",
   "version": "3.9.7"
  },
  "vscode": {
   "interpreter": {
    "hash": "548b74416408c9b0533ddf9a135f814fbe6dccac412294bd8565988e5bb4ed32"
   }
  }
 },
 "nbformat": 4,
 "nbformat_minor": 2
}
