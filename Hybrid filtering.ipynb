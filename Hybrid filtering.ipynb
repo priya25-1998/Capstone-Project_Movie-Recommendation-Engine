{
 "cells": [
  {
   "cell_type": "code",
   "execution_count": 1,
   "id": "3a183295",
   "metadata": {},
   "outputs": [],
   "source": [
    "import pandas as pd\n",
    "import numpy as np\n",
    "%matplotlib inline\n",
    "import pandas as pd\n",
    "import numpy as np\n",
    "import matplotlib.pyplot as plt\n",
    "import seaborn as sns\n",
    "from scipy import stats\n",
    "from ast import literal_eval\n",
    "from sklearn.feature_extraction.text import TfidfVectorizer, CountVectorizer\n",
    "from sklearn.metrics.pairwise import linear_kernel, cosine_similarity\n",
    "from nltk.stem.snowball import SnowballStemmer\n",
    "from nltk.stem.wordnet import WordNetLemmatizer\n",
    "from nltk.corpus import wordnet\n",
    "from sklearn.metrics import mean_squared_error\n",
    "\n",
    "#from surprise import Reader, Dataset, SVD, evaluate\n",
    "\n",
    "import warnings; warnings.simplefilter('ignore')"
   ]
  },
  {
   "cell_type": "code",
   "execution_count": 2,
   "id": "4d32e0fb",
   "metadata": {},
   "outputs": [
    {
     "data": {
      "text/html": [
       "<div>\n",
       "<style scoped>\n",
       "    .dataframe tbody tr th:only-of-type {\n",
       "        vertical-align: middle;\n",
       "    }\n",
       "\n",
       "    .dataframe tbody tr th {\n",
       "        vertical-align: top;\n",
       "    }\n",
       "\n",
       "    .dataframe thead th {\n",
       "        text-align: right;\n",
       "    }\n",
       "</style>\n",
       "<table border=\"1\" class=\"dataframe\">\n",
       "  <thead>\n",
       "    <tr style=\"text-align: right;\">\n",
       "      <th></th>\n",
       "      <th>adult</th>\n",
       "      <th>id</th>\n",
       "      <th>original_language</th>\n",
       "      <th>original_title</th>\n",
       "      <th>overview</th>\n",
       "      <th>popularity</th>\n",
       "      <th>release_date</th>\n",
       "      <th>revenue</th>\n",
       "      <th>runtime</th>\n",
       "      <th>status</th>\n",
       "      <th>genre_name</th>\n",
       "      <th>collection_name</th>\n",
       "      <th>production_companies_name</th>\n",
       "      <th>keywords</th>\n",
       "      <th>cast_name</th>\n",
       "      <th>crew_name</th>\n",
       "      <th>vote_average</th>\n",
       "    </tr>\n",
       "  </thead>\n",
       "  <tbody>\n",
       "    <tr>\n",
       "      <th>0</th>\n",
       "      <td>False</td>\n",
       "      <td>862</td>\n",
       "      <td>en</td>\n",
       "      <td>Toy Story</td>\n",
       "      <td>Led by Woody, Andy's toys live happily in his ...</td>\n",
       "      <td>21.946943</td>\n",
       "      <td>1995-10-30</td>\n",
       "      <td>373554033.0</td>\n",
       "      <td>81.0</td>\n",
       "      <td>Released</td>\n",
       "      <td>['Animation', 'Comedy', 'Family']</td>\n",
       "      <td>Toy Story Collection</td>\n",
       "      <td>['Pixar Animation Studios']</td>\n",
       "      <td>['jealousy', 'toy', 'boy', 'friendship', 'frie...</td>\n",
       "      <td>['Tom Hanks', 'Tim Allen', 'Don Rickles', 'Jim...</td>\n",
       "      <td>['John Lasseter', 'Joss Whedon', 'Andrew Stant...</td>\n",
       "      <td>7.7</td>\n",
       "    </tr>\n",
       "    <tr>\n",
       "      <th>1</th>\n",
       "      <td>False</td>\n",
       "      <td>8844</td>\n",
       "      <td>en</td>\n",
       "      <td>Jumanji</td>\n",
       "      <td>When siblings Judy and Peter discover an encha...</td>\n",
       "      <td>17.015539</td>\n",
       "      <td>1995-12-15</td>\n",
       "      <td>262797249.0</td>\n",
       "      <td>104.0</td>\n",
       "      <td>Released</td>\n",
       "      <td>['Adventure', 'Fantasy', 'Family']</td>\n",
       "      <td>NaN</td>\n",
       "      <td>['TriStar Pictures', 'Teitler Film', 'Intersco...</td>\n",
       "      <td>['board game', 'disappearance', \"based on chil...</td>\n",
       "      <td>['Robin Williams', 'Jonathan Hyde', 'Kirsten D...</td>\n",
       "      <td>['Larry J. Franco', 'Jonathan Hensleigh', 'Jam...</td>\n",
       "      <td>6.9</td>\n",
       "    </tr>\n",
       "  </tbody>\n",
       "</table>\n",
       "</div>"
      ],
      "text/plain": [
       "   adult    id original_language original_title  \\\n",
       "0  False   862                en      Toy Story   \n",
       "1  False  8844                en        Jumanji   \n",
       "\n",
       "                                            overview  popularity release_date  \\\n",
       "0  Led by Woody, Andy's toys live happily in his ...   21.946943   1995-10-30   \n",
       "1  When siblings Judy and Peter discover an encha...   17.015539   1995-12-15   \n",
       "\n",
       "       revenue  runtime    status                          genre_name  \\\n",
       "0  373554033.0     81.0  Released   ['Animation', 'Comedy', 'Family']   \n",
       "1  262797249.0    104.0  Released  ['Adventure', 'Fantasy', 'Family']   \n",
       "\n",
       "        collection_name                          production_companies_name  \\\n",
       "0  Toy Story Collection                        ['Pixar Animation Studios']   \n",
       "1                   NaN  ['TriStar Pictures', 'Teitler Film', 'Intersco...   \n",
       "\n",
       "                                            keywords  \\\n",
       "0  ['jealousy', 'toy', 'boy', 'friendship', 'frie...   \n",
       "1  ['board game', 'disappearance', \"based on chil...   \n",
       "\n",
       "                                           cast_name  \\\n",
       "0  ['Tom Hanks', 'Tim Allen', 'Don Rickles', 'Jim...   \n",
       "1  ['Robin Williams', 'Jonathan Hyde', 'Kirsten D...   \n",
       "\n",
       "                                           crew_name  vote_average  \n",
       "0  ['John Lasseter', 'Joss Whedon', 'Andrew Stant...           7.7  \n",
       "1  ['Larry J. Franco', 'Jonathan Hensleigh', 'Jam...           6.9  "
      ]
     },
     "execution_count": 2,
     "metadata": {},
     "output_type": "execute_result"
    }
   ],
   "source": [
    "df = pd.read_csv('C:/Users/HP/Desktop/pro/main_dataframe.csv')\n",
    "df.head(2)"
   ]
  },
  {
   "cell_type": "code",
   "execution_count": 3,
   "id": "d94765e0",
   "metadata": {},
   "outputs": [
    {
     "data": {
      "text/plain": [
       "(45463, 17)"
      ]
     },
     "execution_count": 3,
     "metadata": {},
     "output_type": "execute_result"
    }
   ],
   "source": [
    "df.shape"
   ]
  },
  {
   "cell_type": "code",
   "execution_count": 4,
   "id": "edc4890f",
   "metadata": {},
   "outputs": [],
   "source": [
    "links_small = pd.read_csv('links_small.csv')\n",
    "links_small = links_small[links_small['tmdbId'].notnull()]['tmdbId'].astype('int')"
   ]
  },
  {
   "cell_type": "code",
   "execution_count": 5,
   "id": "d76b28a9",
   "metadata": {},
   "outputs": [],
   "source": [
    "df = df.drop([19730, 29503, 35587])"
   ]
  },
  {
   "cell_type": "code",
   "execution_count": 6,
   "id": "78e0ac8f",
   "metadata": {},
   "outputs": [],
   "source": [
    "df['id'] = df['id'].astype('int')"
   ]
  },
  {
   "cell_type": "code",
   "execution_count": 7,
   "id": "ca0eb6df",
   "metadata": {},
   "outputs": [
    {
     "data": {
      "text/plain": [
       "(9098, 17)"
      ]
     },
     "execution_count": 7,
     "metadata": {},
     "output_type": "execute_result"
    }
   ],
   "source": [
    "smd = df[df['id'].isin(links_small)]\n",
    "smd.shape"
   ]
  },
  {
   "cell_type": "code",
   "execution_count": 8,
   "id": "e9a4ca34",
   "metadata": {},
   "outputs": [],
   "source": [
    "def convert_int(x):\n",
    "    try:\n",
    "        return int(x)\n",
    "    except:\n",
    "        return np.nan"
   ]
  },
  {
   "cell_type": "code",
   "execution_count": 9,
   "id": "31ec8eca",
   "metadata": {},
   "outputs": [
    {
     "data": {
      "text/html": [
       "<div>\n",
       "<style scoped>\n",
       "    .dataframe tbody tr th:only-of-type {\n",
       "        vertical-align: middle;\n",
       "    }\n",
       "\n",
       "    .dataframe tbody tr th {\n",
       "        vertical-align: top;\n",
       "    }\n",
       "\n",
       "    .dataframe thead th {\n",
       "        text-align: right;\n",
       "    }\n",
       "</style>\n",
       "<table border=\"1\" class=\"dataframe\">\n",
       "  <thead>\n",
       "    <tr style=\"text-align: right;\">\n",
       "      <th></th>\n",
       "      <th>movieId</th>\n",
       "      <th>tmdbId</th>\n",
       "    </tr>\n",
       "  </thead>\n",
       "  <tbody>\n",
       "    <tr>\n",
       "      <th>0</th>\n",
       "      <td>1</td>\n",
       "      <td>862.0</td>\n",
       "    </tr>\n",
       "    <tr>\n",
       "      <th>1</th>\n",
       "      <td>2</td>\n",
       "      <td>8844.0</td>\n",
       "    </tr>\n",
       "  </tbody>\n",
       "</table>\n",
       "</div>"
      ],
      "text/plain": [
       "   movieId  tmdbId\n",
       "0        1   862.0\n",
       "1        2  8844.0"
      ]
     },
     "execution_count": 9,
     "metadata": {},
     "output_type": "execute_result"
    }
   ],
   "source": [
    "id_map = pd.read_csv('links_small.csv')[['movieId', 'tmdbId']]\n",
    "id_map.head(2)"
   ]
  },
  {
   "cell_type": "code",
   "execution_count": 10,
   "id": "f15fbdb7",
   "metadata": {},
   "outputs": [],
   "source": [
    "#id_map = pd.read_csv('C:/Users/WA464JA/OneDrive - EY/Desktop/RECSYS/Capstone-Project_Movie-Recommendation-Engine-main/links_small.csv')[['movieId', 'tmdbId']]\n",
    "id_map['tmdbId'] = id_map['tmdbId'].apply(convert_int)\n",
    "id_map.columns = ['movieId', 'id']\n",
    "id_map = id_map.merge(df[['original_title', 'id']], on='id')#.set_index('title')"
   ]
  },
  {
   "cell_type": "code",
   "execution_count": 11,
   "id": "f4feadbd",
   "metadata": {},
   "outputs": [
    {
     "data": {
      "text/plain": [
       "adult                           0\n",
       "id                              0\n",
       "original_language               0\n",
       "original_title                  0\n",
       "overview                       12\n",
       "popularity                      0\n",
       "release_date                    0\n",
       "revenue                         0\n",
       "runtime                         0\n",
       "status                          2\n",
       "genre_name                      0\n",
       "collection_name              7424\n",
       "production_companies_name       0\n",
       "keywords                      764\n",
       "cast_name                       0\n",
       "crew_name                       0\n",
       "vote_average                    0\n",
       "dtype: int64"
      ]
     },
     "execution_count": 11,
     "metadata": {},
     "output_type": "execute_result"
    }
   ],
   "source": [
    "smd.isnull().sum()"
   ]
  },
  {
   "cell_type": "code",
   "execution_count": 12,
   "id": "bf0de3b5",
   "metadata": {},
   "outputs": [],
   "source": [
    "keywords = pd.read_csv('keywords.csv')"
   ]
  },
  {
   "cell_type": "code",
   "execution_count": 13,
   "id": "259041c2",
   "metadata": {},
   "outputs": [],
   "source": [
    "keywords.dropna(inplace=True)"
   ]
  },
  {
   "cell_type": "code",
   "execution_count": 14,
   "id": "4e0cde1f",
   "metadata": {},
   "outputs": [],
   "source": [
    "keywords['id'] = keywords['id'].astype('int')"
   ]
  },
  {
   "cell_type": "code",
   "execution_count": 15,
   "id": "401734c2",
   "metadata": {},
   "outputs": [],
   "source": [
    "#df = df.merge(credits, on='id')\n",
    "df = df.merge(keywords, on='id')"
   ]
  },
  {
   "cell_type": "code",
   "execution_count": 16,
   "id": "ee4c7a24",
   "metadata": {},
   "outputs": [
    {
     "data": {
      "text/plain": [
       "(9150, 18)"
      ]
     },
     "execution_count": 16,
     "metadata": {},
     "output_type": "execute_result"
    }
   ],
   "source": [
    "smd = df[df['id'].isin(links_small)]\n",
    "smd.shape"
   ]
  },
  {
   "cell_type": "code",
   "execution_count": 17,
   "id": "90292c8c",
   "metadata": {},
   "outputs": [
    {
     "data": {
      "text/plain": [
       "adult                           0\n",
       "id                              0\n",
       "original_language               0\n",
       "original_title                  0\n",
       "overview                       12\n",
       "popularity                      0\n",
       "release_date                    0\n",
       "revenue                         0\n",
       "runtime                         0\n",
       "status                          2\n",
       "genre_name                      0\n",
       "collection_name              7470\n",
       "production_companies_name       0\n",
       "keywords_x                    771\n",
       "cast_name                       0\n",
       "crew_name                       0\n",
       "vote_average                    0\n",
       "keywords_y                      0\n",
       "dtype: int64"
      ]
     },
     "execution_count": 17,
     "metadata": {},
     "output_type": "execute_result"
    }
   ],
   "source": [
    "smd.isnull().sum()"
   ]
  },
  {
   "cell_type": "code",
   "execution_count": 18,
   "id": "88595c36",
   "metadata": {},
   "outputs": [],
   "source": [
    "smd['keywords_y'] = smd['keywords_y'].apply(literal_eval)"
   ]
  },
  {
   "cell_type": "code",
   "execution_count": 19,
   "id": "0b9ce66b",
   "metadata": {},
   "outputs": [],
   "source": [
    "smd['keywords_y'] = smd['keywords_y'].apply(lambda x: [i['name'] for i in x] if isinstance(x, list) else [])"
   ]
  },
  {
   "cell_type": "code",
   "execution_count": 20,
   "id": "f7612dc6",
   "metadata": {},
   "outputs": [],
   "source": [
    "s = smd.apply(lambda x: pd.Series(x['keywords_y']),axis=1).stack().reset_index(level=1, drop=True)\n",
    "s.name = 'keyword'"
   ]
  },
  {
   "cell_type": "code",
   "execution_count": 21,
   "id": "26b1f6de",
   "metadata": {},
   "outputs": [
    {
     "data": {
      "text/plain": [
       "independent film        606\n",
       "woman director          546\n",
       "murder                  399\n",
       "duringcreditsstinger    327\n",
       "based on novel          313\n",
       "Name: keyword, dtype: int64"
      ]
     },
     "execution_count": 21,
     "metadata": {},
     "output_type": "execute_result"
    }
   ],
   "source": [
    "s = s.value_counts()\n",
    "s[:5]"
   ]
  },
  {
   "cell_type": "code",
   "execution_count": 22,
   "id": "7ac86fd6",
   "metadata": {},
   "outputs": [],
   "source": [
    "s = s[s > 1]"
   ]
  },
  {
   "cell_type": "code",
   "execution_count": 23,
   "id": "cb0ec884",
   "metadata": {},
   "outputs": [
    {
     "data": {
      "text/plain": [
       "'dog'"
      ]
     },
     "execution_count": 23,
     "metadata": {},
     "output_type": "execute_result"
    }
   ],
   "source": [
    "stemmer = SnowballStemmer('english')\n",
    "stemmer.stem('dogs')"
   ]
  },
  {
   "cell_type": "code",
   "execution_count": 24,
   "id": "999a19a0",
   "metadata": {},
   "outputs": [],
   "source": [
    "def filter_keywords(x):\n",
    "    words = []\n",
    "    for i in x:\n",
    "        if i in s:\n",
    "            words.append(i)\n",
    "    return words"
   ]
  },
  {
   "cell_type": "code",
   "execution_count": 25,
   "id": "d6fe0213",
   "metadata": {},
   "outputs": [],
   "source": [
    "smd['keywords_y'] = smd['keywords_y'].apply(filter_keywords)\n",
    "smd['keywords_y'] = smd['keywords_y'].apply(lambda x: [stemmer.stem(i) for i in x])\n",
    "smd['keywords)y'] = smd['keywords_y'].apply(lambda x: [str.lower(i.replace(\" \", \"\")) for i in x])"
   ]
  },
  {
   "cell_type": "code",
   "execution_count": 26,
   "id": "bc8cd549",
   "metadata": {},
   "outputs": [
    {
     "data": {
      "text/html": [
       "<div>\n",
       "<style scoped>\n",
       "    .dataframe tbody tr th:only-of-type {\n",
       "        vertical-align: middle;\n",
       "    }\n",
       "\n",
       "    .dataframe tbody tr th {\n",
       "        vertical-align: top;\n",
       "    }\n",
       "\n",
       "    .dataframe thead th {\n",
       "        text-align: right;\n",
       "    }\n",
       "</style>\n",
       "<table border=\"1\" class=\"dataframe\">\n",
       "  <thead>\n",
       "    <tr style=\"text-align: right;\">\n",
       "      <th></th>\n",
       "      <th>adult</th>\n",
       "      <th>id</th>\n",
       "      <th>original_language</th>\n",
       "      <th>original_title</th>\n",
       "      <th>overview</th>\n",
       "      <th>popularity</th>\n",
       "      <th>release_date</th>\n",
       "      <th>revenue</th>\n",
       "      <th>runtime</th>\n",
       "      <th>status</th>\n",
       "      <th>genre_name</th>\n",
       "      <th>collection_name</th>\n",
       "      <th>production_companies_name</th>\n",
       "      <th>keywords_x</th>\n",
       "      <th>cast_name</th>\n",
       "      <th>crew_name</th>\n",
       "      <th>vote_average</th>\n",
       "      <th>keywords_y</th>\n",
       "      <th>keywords)y</th>\n",
       "    </tr>\n",
       "  </thead>\n",
       "  <tbody>\n",
       "    <tr>\n",
       "      <th>0</th>\n",
       "      <td>False</td>\n",
       "      <td>862</td>\n",
       "      <td>en</td>\n",
       "      <td>Toy Story</td>\n",
       "      <td>Led by Woody, Andy's toys live happily in his ...</td>\n",
       "      <td>21.946943</td>\n",
       "      <td>1995-10-30</td>\n",
       "      <td>373554033.0</td>\n",
       "      <td>81.0</td>\n",
       "      <td>Released</td>\n",
       "      <td>['Animation', 'Comedy', 'Family']</td>\n",
       "      <td>Toy Story Collection</td>\n",
       "      <td>['Pixar Animation Studios']</td>\n",
       "      <td>['jealousy', 'toy', 'boy', 'friendship', 'frie...</td>\n",
       "      <td>['Tom Hanks', 'Tim Allen', 'Don Rickles', 'Jim...</td>\n",
       "      <td>['John Lasseter', 'Joss Whedon', 'Andrew Stant...</td>\n",
       "      <td>7.7</td>\n",
       "      <td>[jealousi, toy, boy, friendship, friend, rival...</td>\n",
       "      <td>[jealousi, toy, boy, friendship, friend, rival...</td>\n",
       "    </tr>\n",
       "    <tr>\n",
       "      <th>1</th>\n",
       "      <td>False</td>\n",
       "      <td>8844</td>\n",
       "      <td>en</td>\n",
       "      <td>Jumanji</td>\n",
       "      <td>When siblings Judy and Peter discover an encha...</td>\n",
       "      <td>17.015539</td>\n",
       "      <td>1995-12-15</td>\n",
       "      <td>262797249.0</td>\n",
       "      <td>104.0</td>\n",
       "      <td>Released</td>\n",
       "      <td>['Adventure', 'Fantasy', 'Family']</td>\n",
       "      <td>NaN</td>\n",
       "      <td>['TriStar Pictures', 'Teitler Film', 'Intersco...</td>\n",
       "      <td>['board game', 'disappearance', \"based on chil...</td>\n",
       "      <td>['Robin Williams', 'Jonathan Hyde', 'Kirsten D...</td>\n",
       "      <td>['Larry J. Franco', 'Jonathan Hensleigh', 'Jam...</td>\n",
       "      <td>6.9</td>\n",
       "      <td>[board gam, disappear, based on children's boo...</td>\n",
       "      <td>[boardgam, disappear, basedonchildren'sbook, n...</td>\n",
       "    </tr>\n",
       "    <tr>\n",
       "      <th>2</th>\n",
       "      <td>False</td>\n",
       "      <td>15602</td>\n",
       "      <td>en</td>\n",
       "      <td>Grumpier Old Men</td>\n",
       "      <td>A family wedding reignites the ancient feud be...</td>\n",
       "      <td>11.712900</td>\n",
       "      <td>1995-12-22</td>\n",
       "      <td>0.0</td>\n",
       "      <td>101.0</td>\n",
       "      <td>Released</td>\n",
       "      <td>['Romance', 'Comedy']</td>\n",
       "      <td>Grumpy Old Men Collection</td>\n",
       "      <td>['Warner Bros.', 'Lancaster Gate']</td>\n",
       "      <td>['fishing', 'best friend', 'duringcreditssting...</td>\n",
       "      <td>['Walter Matthau', 'Jack Lemmon', 'Ann-Margret...</td>\n",
       "      <td>['Howard Deutch', 'Mark Steven Johnson', 'Mark...</td>\n",
       "      <td>6.5</td>\n",
       "      <td>[fish, best friend, duringcreditssting]</td>\n",
       "      <td>[fish, bestfriend, duringcreditssting]</td>\n",
       "    </tr>\n",
       "    <tr>\n",
       "      <th>3</th>\n",
       "      <td>False</td>\n",
       "      <td>31357</td>\n",
       "      <td>en</td>\n",
       "      <td>Waiting to Exhale</td>\n",
       "      <td>Cheated on, mistreated and stepped on, the wom...</td>\n",
       "      <td>3.859495</td>\n",
       "      <td>1995-12-22</td>\n",
       "      <td>81452156.0</td>\n",
       "      <td>127.0</td>\n",
       "      <td>Released</td>\n",
       "      <td>['Comedy', 'Drama', 'Romance']</td>\n",
       "      <td>NaN</td>\n",
       "      <td>['Twentieth Century Fox Film Corporation']</td>\n",
       "      <td>['based on novel', 'interracial relationship',...</td>\n",
       "      <td>['Whitney Houston', 'Angela Bassett', 'Loretta...</td>\n",
       "      <td>['Forest Whitaker', 'Ronald Bass', 'Ronald Bas...</td>\n",
       "      <td>6.1</td>\n",
       "      <td>[based on novel, interracial relationship, sin...</td>\n",
       "      <td>[basedonnovel, interracialrelationship, single...</td>\n",
       "    </tr>\n",
       "    <tr>\n",
       "      <th>4</th>\n",
       "      <td>False</td>\n",
       "      <td>11862</td>\n",
       "      <td>en</td>\n",
       "      <td>Father of the Bride Part II</td>\n",
       "      <td>Just when George Banks has recovered from his ...</td>\n",
       "      <td>8.387519</td>\n",
       "      <td>1995-02-10</td>\n",
       "      <td>76578911.0</td>\n",
       "      <td>106.0</td>\n",
       "      <td>Released</td>\n",
       "      <td>['Comedy']</td>\n",
       "      <td>Father of the Bride Collection</td>\n",
       "      <td>['Sandollar Productions', 'Touchstone Pictures']</td>\n",
       "      <td>['baby', 'midlife crisis', 'confidence', 'agin...</td>\n",
       "      <td>['Steve Martin', 'Diane Keaton', 'Martin Short...</td>\n",
       "      <td>['Alan Silvestri', 'Elliot Davis', 'Nancy Meye...</td>\n",
       "      <td>5.7</td>\n",
       "      <td>[babi, midlife crisi, confid, age, daughter, m...</td>\n",
       "      <td>[babi, midlifecrisi, confid, age, daughter, mo...</td>\n",
       "    </tr>\n",
       "  </tbody>\n",
       "</table>\n",
       "</div>"
      ],
      "text/plain": [
       "   adult     id original_language               original_title  \\\n",
       "0  False    862                en                    Toy Story   \n",
       "1  False   8844                en                      Jumanji   \n",
       "2  False  15602                en             Grumpier Old Men   \n",
       "3  False  31357                en            Waiting to Exhale   \n",
       "4  False  11862                en  Father of the Bride Part II   \n",
       "\n",
       "                                            overview  popularity release_date  \\\n",
       "0  Led by Woody, Andy's toys live happily in his ...   21.946943   1995-10-30   \n",
       "1  When siblings Judy and Peter discover an encha...   17.015539   1995-12-15   \n",
       "2  A family wedding reignites the ancient feud be...   11.712900   1995-12-22   \n",
       "3  Cheated on, mistreated and stepped on, the wom...    3.859495   1995-12-22   \n",
       "4  Just when George Banks has recovered from his ...    8.387519   1995-02-10   \n",
       "\n",
       "       revenue  runtime    status                          genre_name  \\\n",
       "0  373554033.0     81.0  Released   ['Animation', 'Comedy', 'Family']   \n",
       "1  262797249.0    104.0  Released  ['Adventure', 'Fantasy', 'Family']   \n",
       "2          0.0    101.0  Released               ['Romance', 'Comedy']   \n",
       "3   81452156.0    127.0  Released      ['Comedy', 'Drama', 'Romance']   \n",
       "4   76578911.0    106.0  Released                          ['Comedy']   \n",
       "\n",
       "                  collection_name  \\\n",
       "0            Toy Story Collection   \n",
       "1                             NaN   \n",
       "2       Grumpy Old Men Collection   \n",
       "3                             NaN   \n",
       "4  Father of the Bride Collection   \n",
       "\n",
       "                           production_companies_name  \\\n",
       "0                        ['Pixar Animation Studios']   \n",
       "1  ['TriStar Pictures', 'Teitler Film', 'Intersco...   \n",
       "2                 ['Warner Bros.', 'Lancaster Gate']   \n",
       "3         ['Twentieth Century Fox Film Corporation']   \n",
       "4   ['Sandollar Productions', 'Touchstone Pictures']   \n",
       "\n",
       "                                          keywords_x  \\\n",
       "0  ['jealousy', 'toy', 'boy', 'friendship', 'frie...   \n",
       "1  ['board game', 'disappearance', \"based on chil...   \n",
       "2  ['fishing', 'best friend', 'duringcreditssting...   \n",
       "3  ['based on novel', 'interracial relationship',...   \n",
       "4  ['baby', 'midlife crisis', 'confidence', 'agin...   \n",
       "\n",
       "                                           cast_name  \\\n",
       "0  ['Tom Hanks', 'Tim Allen', 'Don Rickles', 'Jim...   \n",
       "1  ['Robin Williams', 'Jonathan Hyde', 'Kirsten D...   \n",
       "2  ['Walter Matthau', 'Jack Lemmon', 'Ann-Margret...   \n",
       "3  ['Whitney Houston', 'Angela Bassett', 'Loretta...   \n",
       "4  ['Steve Martin', 'Diane Keaton', 'Martin Short...   \n",
       "\n",
       "                                           crew_name  vote_average  \\\n",
       "0  ['John Lasseter', 'Joss Whedon', 'Andrew Stant...           7.7   \n",
       "1  ['Larry J. Franco', 'Jonathan Hensleigh', 'Jam...           6.9   \n",
       "2  ['Howard Deutch', 'Mark Steven Johnson', 'Mark...           6.5   \n",
       "3  ['Forest Whitaker', 'Ronald Bass', 'Ronald Bas...           6.1   \n",
       "4  ['Alan Silvestri', 'Elliot Davis', 'Nancy Meye...           5.7   \n",
       "\n",
       "                                          keywords_y  \\\n",
       "0  [jealousi, toy, boy, friendship, friend, rival...   \n",
       "1  [board gam, disappear, based on children's boo...   \n",
       "2            [fish, best friend, duringcreditssting]   \n",
       "3  [based on novel, interracial relationship, sin...   \n",
       "4  [babi, midlife crisi, confid, age, daughter, m...   \n",
       "\n",
       "                                          keywords)y  \n",
       "0  [jealousi, toy, boy, friendship, friend, rival...  \n",
       "1  [boardgam, disappear, basedonchildren'sbook, n...  \n",
       "2             [fish, bestfriend, duringcreditssting]  \n",
       "3  [basedonnovel, interracialrelationship, single...  \n",
       "4  [babi, midlifecrisi, confid, age, daughter, mo...  "
      ]
     },
     "execution_count": 26,
     "metadata": {},
     "output_type": "execute_result"
    }
   ],
   "source": [
    "smd.head()"
   ]
  },
  {
   "cell_type": "code",
   "execution_count": 27,
   "id": "0b7ebeb7",
   "metadata": {},
   "outputs": [],
   "source": [
    "smd['genre_name'] = smd['genre_name'].apply(literal_eval)"
   ]
  },
  {
   "cell_type": "code",
   "execution_count": 28,
   "id": "2a063016",
   "metadata": {},
   "outputs": [],
   "source": [
    "smd['cast_name'] = smd['cast_name'].apply(literal_eval)"
   ]
  },
  {
   "cell_type": "code",
   "execution_count": 29,
   "id": "0d84c066",
   "metadata": {},
   "outputs": [],
   "source": [
    "smd['crew_name'] = smd['crew_name'].apply(literal_eval)"
   ]
  },
  {
   "cell_type": "code",
   "execution_count": null,
   "id": "4265268a",
   "metadata": {},
   "outputs": [],
   "source": []
  },
  {
   "cell_type": "code",
   "execution_count": 30,
   "id": "e97cff7b",
   "metadata": {},
   "outputs": [
    {
     "data": {
      "text/plain": [
       "['Animation', 'Comedy', 'Family']"
      ]
     },
     "execution_count": 30,
     "metadata": {},
     "output_type": "execute_result"
    }
   ],
   "source": [
    "smd['genre_name'][0]"
   ]
  },
  {
   "cell_type": "code",
   "execution_count": null,
   "id": "b46776b4",
   "metadata": {},
   "outputs": [],
   "source": [
    "#Content based filtering"
   ]
  },
  {
   "cell_type": "code",
   "execution_count": 31,
   "id": "2369968a",
   "metadata": {},
   "outputs": [],
   "source": [
    "smd['soup']=smd['genre_name']+smd['cast_name']+smd['crew_name']+list(smd['keywords_y'])"
   ]
  },
  {
   "cell_type": "code",
   "execution_count": 32,
   "id": "c8a64e16",
   "metadata": {},
   "outputs": [],
   "source": [
    "smd['soup'] = smd['soup'].apply(lambda x: ' '.join(x))"
   ]
  },
  {
   "cell_type": "code",
   "execution_count": 33,
   "id": "7d1d7371",
   "metadata": {},
   "outputs": [],
   "source": [
    "count = CountVectorizer(analyzer='word',ngram_range=(1, 2),min_df=0, stop_words='english')\n",
    "count_matrix = count.fit_transform(smd['soup'])"
   ]
  },
  {
   "cell_type": "code",
   "execution_count": 34,
   "id": "d5a71025",
   "metadata": {},
   "outputs": [],
   "source": [
    "cosine_sim = cosine_similarity(count_matrix, count_matrix)"
   ]
  },
  {
   "cell_type": "code",
   "execution_count": 35,
   "id": "aa792699",
   "metadata": {},
   "outputs": [],
   "source": [
    "smd = smd.reset_index()\n",
    "titles = smd['original_title']\n",
    "indices = pd.Series(smd.index, index=smd['original_title'])"
   ]
  },
  {
   "cell_type": "code",
   "execution_count": 36,
   "id": "c54165ec",
   "metadata": {},
   "outputs": [],
   "source": [
    "def get_recommendations(title):\n",
    "    idx = indices[title]\n",
    "    sim_scores = list(enumerate(cosine_sim[idx]))\n",
    "    sim_scores = sorted(sim_scores, key=lambda x: x[1], reverse=True)\n",
    "    sim_scores = sim_scores[1:31]\n",
    "    movie_indices = [i[0] for i in sim_scores]\n",
    "    return titles.iloc[movie_indices]"
   ]
  },
  {
   "cell_type": "code",
   "execution_count": 37,
   "id": "1cf49c5c",
   "metadata": {},
   "outputs": [],
   "source": [
    "title='The Godfather'"
   ]
  },
  {
   "cell_type": "code",
   "execution_count": 38,
   "id": "dc3e87f8",
   "metadata": {},
   "outputs": [
    {
     "data": {
      "text/plain": [
       "982              The Godfather: Part II\n",
       "1590            The Godfather: Part III\n",
       "969                      Apocalypse Now\n",
       "2986                   The Conversation\n",
       "3685                    The Cotton Club\n",
       "775     Around the World in Eighty Days\n",
       "4486                 One from the Heart\n",
       "1679                      The Outsiders\n",
       "5827                        Rumble Fish\n",
       "2364                      South Pacific\n",
       "Name: original_title, dtype: object"
      ]
     },
     "execution_count": 38,
     "metadata": {},
     "output_type": "execute_result"
    }
   ],
   "source": [
    "get_recommendations('The Godfather').head(10)"
   ]
  },
  {
   "cell_type": "code",
   "execution_count": 39,
   "id": "13b089c9",
   "metadata": {},
   "outputs": [
    {
     "data": {
      "text/plain": [
       "7971                              The Dark Knight Rises\n",
       "6174                                      Batman Begins\n",
       "6575                                       The Prestige\n",
       "8750                                     Jurassic World\n",
       "3323                                         15 Minutes\n",
       "6188                                  War of the Worlds\n",
       "4505                                          Daredevil\n",
       "5564                                         Collateral\n",
       "3466                       A.I. Artificial Intelligence\n",
       "4903    Master and Commander: The Far Side of the World\n",
       "Name: original_title, dtype: object"
      ]
     },
     "execution_count": 39,
     "metadata": {},
     "output_type": "execute_result"
    }
   ],
   "source": [
    "get_recommendations('The Dark Knight').head(10)"
   ]
  },
  {
   "cell_type": "code",
   "execution_count": 40,
   "id": "402af5b1",
   "metadata": {},
   "outputs": [],
   "source": [
    "smd.drop('collection_name',axis=1,inplace=True)"
   ]
  },
  {
   "cell_type": "code",
   "execution_count": 41,
   "id": "2a5ab88d",
   "metadata": {},
   "outputs": [],
   "source": [
    "########## Collaborative filtering\n",
    "import surprise"
   ]
  },
  {
   "cell_type": "code",
   "execution_count": 42,
   "id": "186f073a",
   "metadata": {},
   "outputs": [],
   "source": [
    "reader = surprise.Reader()"
   ]
  },
  {
   "cell_type": "code",
   "execution_count": 43,
   "id": "0becb6bd",
   "metadata": {},
   "outputs": [
    {
     "data": {
      "text/html": [
       "<div>\n",
       "<style scoped>\n",
       "    .dataframe tbody tr th:only-of-type {\n",
       "        vertical-align: middle;\n",
       "    }\n",
       "\n",
       "    .dataframe tbody tr th {\n",
       "        vertical-align: top;\n",
       "    }\n",
       "\n",
       "    .dataframe thead th {\n",
       "        text-align: right;\n",
       "    }\n",
       "</style>\n",
       "<table border=\"1\" class=\"dataframe\">\n",
       "  <thead>\n",
       "    <tr style=\"text-align: right;\">\n",
       "      <th></th>\n",
       "      <th>userId</th>\n",
       "      <th>movieId</th>\n",
       "      <th>rating</th>\n",
       "      <th>timestamp</th>\n",
       "    </tr>\n",
       "  </thead>\n",
       "  <tbody>\n",
       "    <tr>\n",
       "      <th>0</th>\n",
       "      <td>1</td>\n",
       "      <td>31</td>\n",
       "      <td>2.5</td>\n",
       "      <td>1260759144</td>\n",
       "    </tr>\n",
       "    <tr>\n",
       "      <th>1</th>\n",
       "      <td>1</td>\n",
       "      <td>1029</td>\n",
       "      <td>3.0</td>\n",
       "      <td>1260759179</td>\n",
       "    </tr>\n",
       "    <tr>\n",
       "      <th>2</th>\n",
       "      <td>1</td>\n",
       "      <td>1061</td>\n",
       "      <td>3.0</td>\n",
       "      <td>1260759182</td>\n",
       "    </tr>\n",
       "    <tr>\n",
       "      <th>3</th>\n",
       "      <td>1</td>\n",
       "      <td>1129</td>\n",
       "      <td>2.0</td>\n",
       "      <td>1260759185</td>\n",
       "    </tr>\n",
       "    <tr>\n",
       "      <th>4</th>\n",
       "      <td>1</td>\n",
       "      <td>1172</td>\n",
       "      <td>4.0</td>\n",
       "      <td>1260759205</td>\n",
       "    </tr>\n",
       "  </tbody>\n",
       "</table>\n",
       "</div>"
      ],
      "text/plain": [
       "   userId  movieId  rating   timestamp\n",
       "0       1       31     2.5  1260759144\n",
       "1       1     1029     3.0  1260759179\n",
       "2       1     1061     3.0  1260759182\n",
       "3       1     1129     2.0  1260759185\n",
       "4       1     1172     4.0  1260759205"
      ]
     },
     "execution_count": 43,
     "metadata": {},
     "output_type": "execute_result"
    }
   ],
   "source": [
    "\n",
    "ratings = pd.read_csv('ratings_small.csv')\n",
    "ratings.head()"
   ]
  },
  {
   "cell_type": "code",
   "execution_count": 44,
   "id": "0b444db6",
   "metadata": {},
   "outputs": [
    {
     "data": {
      "text/plain": [
       "<generator object KFold.split at 0x00000209531CF740>"
      ]
     },
     "execution_count": 44,
     "metadata": {},
     "output_type": "execute_result"
    }
   ],
   "source": [
    "from surprise import SVD,Reader,Dataset\n",
    "from surprise.model_selection import cross_validate\n",
    "from surprise.model_selection import KFold\n",
    "ratings =  pd.read_csv(\"ratings_small.csv\")\n",
    "data = Dataset.load_from_df(ratings[['userId','movieId','rating']],reader)\n",
    "kf = KFold(n_splits=5)\n",
    "kf.split(data)"
   ]
  },
  {
   "cell_type": "code",
   "execution_count": 45,
   "id": "368002a9",
   "metadata": {},
   "outputs": [
    {
     "name": "stdout",
     "output_type": "stream",
     "text": [
      "Evaluating RMSE, MAE of algorithm SVD on 5 split(s).\n",
      "\n",
      "                  Fold 1  Fold 2  Fold 3  Fold 4  Fold 5  Mean    Std     \n",
      "RMSE (testset)    0.8940  0.8965  0.8988  0.9030  0.8882  0.8961  0.0049  \n",
      "MAE (testset)     0.6892  0.6910  0.6919  0.6935  0.6845  0.6900  0.0031  \n",
      "Fit time          0.97    0.97    0.97    0.98    0.99    0.98    0.01    \n",
      "Test time         0.11    0.12    0.22    0.12    0.11    0.14    0.04    \n"
     ]
    },
    {
     "data": {
      "text/plain": [
       "{'test_rmse': array([0.89402443, 0.89651112, 0.89880489, 0.90295496, 0.8881786 ]),\n",
       " 'test_mae': array([0.68919363, 0.69100958, 0.69188443, 0.69349738, 0.68451132]),\n",
       " 'fit_time': (0.965803861618042,\n",
       "  0.9685196876525879,\n",
       "  0.9685194492340088,\n",
       "  0.9841151237487793,\n",
       "  0.9882588386535645),\n",
       " 'test_time': (0.1093449592590332,\n",
       "  0.12494158744812012,\n",
       "  0.21869611740112305,\n",
       "  0.12496781349182129,\n",
       "  0.10934567451477051)}"
      ]
     },
     "execution_count": 45,
     "metadata": {},
     "output_type": "execute_result"
    }
   ],
   "source": [
    "svd = SVD()\n",
    "cross_validate(svd, data, measures=['RMSE', 'MAE'], cv=5, verbose=True)"
   ]
  },
  {
   "cell_type": "code",
   "execution_count": 46,
   "id": "a4904d70",
   "metadata": {},
   "outputs": [
    {
     "data": {
      "text/plain": [
       "<surprise.prediction_algorithms.matrix_factorization.SVD at 0x2094bb4ce80>"
      ]
     },
     "execution_count": 46,
     "metadata": {},
     "output_type": "execute_result"
    }
   ],
   "source": [
    "trainset = data.build_full_trainset()\n",
    "svd.fit(trainset)"
   ]
  },
  {
   "cell_type": "code",
   "execution_count": 47,
   "id": "be8c7e47",
   "metadata": {},
   "outputs": [
    {
     "data": {
      "text/plain": [
       "Prediction(uid=1, iid=302, r_ui=3, est=2.7385616239294306, details={'was_impossible': False})"
      ]
     },
     "execution_count": 47,
     "metadata": {},
     "output_type": "execute_result"
    }
   ],
   "source": [
    "svd.predict(1, 302, 3)"
   ]
  },
  {
   "cell_type": "code",
   "execution_count": 48,
   "id": "14405bb4",
   "metadata": {},
   "outputs": [],
   "source": [
    "indices_map = id_map.set_index('id')"
   ]
  },
  {
   "cell_type": "code",
   "execution_count": 49,
   "id": "2eb64398",
   "metadata": {},
   "outputs": [
    {
     "data": {
      "text/html": [
       "<div>\n",
       "<style scoped>\n",
       "    .dataframe tbody tr th:only-of-type {\n",
       "        vertical-align: middle;\n",
       "    }\n",
       "\n",
       "    .dataframe tbody tr th {\n",
       "        vertical-align: top;\n",
       "    }\n",
       "\n",
       "    .dataframe thead th {\n",
       "        text-align: right;\n",
       "    }\n",
       "</style>\n",
       "<table border=\"1\" class=\"dataframe\">\n",
       "  <thead>\n",
       "    <tr style=\"text-align: right;\">\n",
       "      <th></th>\n",
       "      <th>index</th>\n",
       "      <th>adult</th>\n",
       "      <th>id</th>\n",
       "      <th>original_language</th>\n",
       "      <th>original_title</th>\n",
       "      <th>overview</th>\n",
       "      <th>popularity</th>\n",
       "      <th>release_date</th>\n",
       "      <th>revenue</th>\n",
       "      <th>runtime</th>\n",
       "      <th>status</th>\n",
       "      <th>genre_name</th>\n",
       "      <th>production_companies_name</th>\n",
       "      <th>keywords_x</th>\n",
       "      <th>cast_name</th>\n",
       "      <th>crew_name</th>\n",
       "      <th>vote_average</th>\n",
       "      <th>keywords_y</th>\n",
       "      <th>keywords)y</th>\n",
       "      <th>soup</th>\n",
       "    </tr>\n",
       "  </thead>\n",
       "  <tbody>\n",
       "    <tr>\n",
       "      <th>0</th>\n",
       "      <td>0</td>\n",
       "      <td>False</td>\n",
       "      <td>862</td>\n",
       "      <td>en</td>\n",
       "      <td>Toy Story</td>\n",
       "      <td>Led by Woody, Andy's toys live happily in his ...</td>\n",
       "      <td>21.946943</td>\n",
       "      <td>1995-10-30</td>\n",
       "      <td>373554033.0</td>\n",
       "      <td>81.0</td>\n",
       "      <td>Released</td>\n",
       "      <td>[Animation, Comedy, Family]</td>\n",
       "      <td>['Pixar Animation Studios']</td>\n",
       "      <td>['jealousy', 'toy', 'boy', 'friendship', 'frie...</td>\n",
       "      <td>[Tom Hanks, Tim Allen, Don Rickles, Jim Varney...</td>\n",
       "      <td>[John Lasseter, Joss Whedon, Andrew Stanton, J...</td>\n",
       "      <td>7.7</td>\n",
       "      <td>[jealousi, toy, boy, friendship, friend, rival...</td>\n",
       "      <td>[jealousi, toy, boy, friendship, friend, rival...</td>\n",
       "      <td>Animation Comedy Family Tom Hanks Tim Allen Do...</td>\n",
       "    </tr>\n",
       "    <tr>\n",
       "      <th>1</th>\n",
       "      <td>1</td>\n",
       "      <td>False</td>\n",
       "      <td>8844</td>\n",
       "      <td>en</td>\n",
       "      <td>Jumanji</td>\n",
       "      <td>When siblings Judy and Peter discover an encha...</td>\n",
       "      <td>17.015539</td>\n",
       "      <td>1995-12-15</td>\n",
       "      <td>262797249.0</td>\n",
       "      <td>104.0</td>\n",
       "      <td>Released</td>\n",
       "      <td>[Adventure, Fantasy, Family]</td>\n",
       "      <td>['TriStar Pictures', 'Teitler Film', 'Intersco...</td>\n",
       "      <td>['board game', 'disappearance', \"based on chil...</td>\n",
       "      <td>[Robin Williams, Jonathan Hyde, Kirsten Dunst,...</td>\n",
       "      <td>[Larry J. Franco, Jonathan Hensleigh, James Ho...</td>\n",
       "      <td>6.9</td>\n",
       "      <td>[board gam, disappear, based on children's boo...</td>\n",
       "      <td>[boardgam, disappear, basedonchildren'sbook, n...</td>\n",
       "      <td>Adventure Fantasy Family Robin Williams Jonath...</td>\n",
       "    </tr>\n",
       "    <tr>\n",
       "      <th>2</th>\n",
       "      <td>2</td>\n",
       "      <td>False</td>\n",
       "      <td>15602</td>\n",
       "      <td>en</td>\n",
       "      <td>Grumpier Old Men</td>\n",
       "      <td>A family wedding reignites the ancient feud be...</td>\n",
       "      <td>11.712900</td>\n",
       "      <td>1995-12-22</td>\n",
       "      <td>0.0</td>\n",
       "      <td>101.0</td>\n",
       "      <td>Released</td>\n",
       "      <td>[Romance, Comedy]</td>\n",
       "      <td>['Warner Bros.', 'Lancaster Gate']</td>\n",
       "      <td>['fishing', 'best friend', 'duringcreditssting...</td>\n",
       "      <td>[Walter Matthau, Jack Lemmon, Ann-Margret, Sop...</td>\n",
       "      <td>[Howard Deutch, Mark Steven Johnson, Mark Stev...</td>\n",
       "      <td>6.5</td>\n",
       "      <td>[fish, best friend, duringcreditssting]</td>\n",
       "      <td>[fish, bestfriend, duringcreditssting]</td>\n",
       "      <td>Romance Comedy Walter Matthau Jack Lemmon Ann-...</td>\n",
       "    </tr>\n",
       "    <tr>\n",
       "      <th>3</th>\n",
       "      <td>3</td>\n",
       "      <td>False</td>\n",
       "      <td>31357</td>\n",
       "      <td>en</td>\n",
       "      <td>Waiting to Exhale</td>\n",
       "      <td>Cheated on, mistreated and stepped on, the wom...</td>\n",
       "      <td>3.859495</td>\n",
       "      <td>1995-12-22</td>\n",
       "      <td>81452156.0</td>\n",
       "      <td>127.0</td>\n",
       "      <td>Released</td>\n",
       "      <td>[Comedy, Drama, Romance]</td>\n",
       "      <td>['Twentieth Century Fox Film Corporation']</td>\n",
       "      <td>['based on novel', 'interracial relationship',...</td>\n",
       "      <td>[Whitney Houston, Angela Bassett, Loretta Devi...</td>\n",
       "      <td>[Forest Whitaker, Ronald Bass, Ronald Bass, Ez...</td>\n",
       "      <td>6.1</td>\n",
       "      <td>[based on novel, interracial relationship, sin...</td>\n",
       "      <td>[basedonnovel, interracialrelationship, single...</td>\n",
       "      <td>Comedy Drama Romance Whitney Houston Angela Ba...</td>\n",
       "    </tr>\n",
       "    <tr>\n",
       "      <th>4</th>\n",
       "      <td>4</td>\n",
       "      <td>False</td>\n",
       "      <td>11862</td>\n",
       "      <td>en</td>\n",
       "      <td>Father of the Bride Part II</td>\n",
       "      <td>Just when George Banks has recovered from his ...</td>\n",
       "      <td>8.387519</td>\n",
       "      <td>1995-02-10</td>\n",
       "      <td>76578911.0</td>\n",
       "      <td>106.0</td>\n",
       "      <td>Released</td>\n",
       "      <td>[Comedy]</td>\n",
       "      <td>['Sandollar Productions', 'Touchstone Pictures']</td>\n",
       "      <td>['baby', 'midlife crisis', 'confidence', 'agin...</td>\n",
       "      <td>[Steve Martin, Diane Keaton, Martin Short, Kim...</td>\n",
       "      <td>[Alan Silvestri, Elliot Davis, Nancy Meyers, N...</td>\n",
       "      <td>5.7</td>\n",
       "      <td>[babi, midlife crisi, confid, age, daughter, m...</td>\n",
       "      <td>[babi, midlifecrisi, confid, age, daughter, mo...</td>\n",
       "      <td>Comedy Steve Martin Diane Keaton Martin Short ...</td>\n",
       "    </tr>\n",
       "  </tbody>\n",
       "</table>\n",
       "</div>"
      ],
      "text/plain": [
       "   index  adult     id original_language               original_title  \\\n",
       "0      0  False    862                en                    Toy Story   \n",
       "1      1  False   8844                en                      Jumanji   \n",
       "2      2  False  15602                en             Grumpier Old Men   \n",
       "3      3  False  31357                en            Waiting to Exhale   \n",
       "4      4  False  11862                en  Father of the Bride Part II   \n",
       "\n",
       "                                            overview  popularity release_date  \\\n",
       "0  Led by Woody, Andy's toys live happily in his ...   21.946943   1995-10-30   \n",
       "1  When siblings Judy and Peter discover an encha...   17.015539   1995-12-15   \n",
       "2  A family wedding reignites the ancient feud be...   11.712900   1995-12-22   \n",
       "3  Cheated on, mistreated and stepped on, the wom...    3.859495   1995-12-22   \n",
       "4  Just when George Banks has recovered from his ...    8.387519   1995-02-10   \n",
       "\n",
       "       revenue  runtime    status                    genre_name  \\\n",
       "0  373554033.0     81.0  Released   [Animation, Comedy, Family]   \n",
       "1  262797249.0    104.0  Released  [Adventure, Fantasy, Family]   \n",
       "2          0.0    101.0  Released             [Romance, Comedy]   \n",
       "3   81452156.0    127.0  Released      [Comedy, Drama, Romance]   \n",
       "4   76578911.0    106.0  Released                      [Comedy]   \n",
       "\n",
       "                           production_companies_name  \\\n",
       "0                        ['Pixar Animation Studios']   \n",
       "1  ['TriStar Pictures', 'Teitler Film', 'Intersco...   \n",
       "2                 ['Warner Bros.', 'Lancaster Gate']   \n",
       "3         ['Twentieth Century Fox Film Corporation']   \n",
       "4   ['Sandollar Productions', 'Touchstone Pictures']   \n",
       "\n",
       "                                          keywords_x  \\\n",
       "0  ['jealousy', 'toy', 'boy', 'friendship', 'frie...   \n",
       "1  ['board game', 'disappearance', \"based on chil...   \n",
       "2  ['fishing', 'best friend', 'duringcreditssting...   \n",
       "3  ['based on novel', 'interracial relationship',...   \n",
       "4  ['baby', 'midlife crisis', 'confidence', 'agin...   \n",
       "\n",
       "                                           cast_name  \\\n",
       "0  [Tom Hanks, Tim Allen, Don Rickles, Jim Varney...   \n",
       "1  [Robin Williams, Jonathan Hyde, Kirsten Dunst,...   \n",
       "2  [Walter Matthau, Jack Lemmon, Ann-Margret, Sop...   \n",
       "3  [Whitney Houston, Angela Bassett, Loretta Devi...   \n",
       "4  [Steve Martin, Diane Keaton, Martin Short, Kim...   \n",
       "\n",
       "                                           crew_name  vote_average  \\\n",
       "0  [John Lasseter, Joss Whedon, Andrew Stanton, J...           7.7   \n",
       "1  [Larry J. Franco, Jonathan Hensleigh, James Ho...           6.9   \n",
       "2  [Howard Deutch, Mark Steven Johnson, Mark Stev...           6.5   \n",
       "3  [Forest Whitaker, Ronald Bass, Ronald Bass, Ez...           6.1   \n",
       "4  [Alan Silvestri, Elliot Davis, Nancy Meyers, N...           5.7   \n",
       "\n",
       "                                          keywords_y  \\\n",
       "0  [jealousi, toy, boy, friendship, friend, rival...   \n",
       "1  [board gam, disappear, based on children's boo...   \n",
       "2            [fish, best friend, duringcreditssting]   \n",
       "3  [based on novel, interracial relationship, sin...   \n",
       "4  [babi, midlife crisi, confid, age, daughter, m...   \n",
       "\n",
       "                                          keywords)y  \\\n",
       "0  [jealousi, toy, boy, friendship, friend, rival...   \n",
       "1  [boardgam, disappear, basedonchildren'sbook, n...   \n",
       "2             [fish, bestfriend, duringcreditssting]   \n",
       "3  [basedonnovel, interracialrelationship, single...   \n",
       "4  [babi, midlifecrisi, confid, age, daughter, mo...   \n",
       "\n",
       "                                                soup  \n",
       "0  Animation Comedy Family Tom Hanks Tim Allen Do...  \n",
       "1  Adventure Fantasy Family Robin Williams Jonath...  \n",
       "2  Romance Comedy Walter Matthau Jack Lemmon Ann-...  \n",
       "3  Comedy Drama Romance Whitney Houston Angela Ba...  \n",
       "4  Comedy Steve Martin Diane Keaton Martin Short ...  "
      ]
     },
     "execution_count": 49,
     "metadata": {},
     "output_type": "execute_result"
    }
   ],
   "source": [
    "smd.head()"
   ]
  },
  {
   "cell_type": "code",
   "execution_count": 104,
   "id": "03d33d86",
   "metadata": {},
   "outputs": [],
   "source": [
    "#hybrid filtering"
   ]
  },
  {
   "cell_type": "code",
   "execution_count": 50,
   "id": "443e920c",
   "metadata": {},
   "outputs": [],
   "source": [
    "def hybrid(userId, title):\n",
    "    idx = indices[title]\n",
    "    tmdbId = id_map[id_map['original_title'] == title]['id'].values[0]\n",
    "    #print(idx)\n",
    "    movie_id = id_map[id_map['original_title'] == title]['movieId'].values[0]\n",
    "    \n",
    "    sim_scores = list(enumerate(cosine_sim[int(idx)]))\n",
    "    sim_scores = sorted(sim_scores, key=lambda x: x[1], reverse=True)\n",
    "    sim_scores = sim_scores[1:26]\n",
    "    movie_indices = [i[0] for i in sim_scores]\n",
    "    \n",
    "    movies = smd.iloc[movie_indices][['original_title', 'vote_average','genre_name' ,'id']]\n",
    "    movies['est'] = movies['id'].apply(lambda x: svd.predict(userId, indices_map.loc[x]['movieId']).est)\n",
    "    movies = movies.sort_values('est', ascending=False)\n",
    "    return movies.head(10)"
   ]
  },
  {
   "cell_type": "code",
   "execution_count": 51,
   "id": "7acb552e",
   "metadata": {},
   "outputs": [
    {
     "data": {
      "text/html": [
       "<div>\n",
       "<style scoped>\n",
       "    .dataframe tbody tr th:only-of-type {\n",
       "        vertical-align: middle;\n",
       "    }\n",
       "\n",
       "    .dataframe tbody tr th {\n",
       "        vertical-align: top;\n",
       "    }\n",
       "\n",
       "    .dataframe thead th {\n",
       "        text-align: right;\n",
       "    }\n",
       "</style>\n",
       "<table border=\"1\" class=\"dataframe\">\n",
       "  <thead>\n",
       "    <tr style=\"text-align: right;\">\n",
       "      <th></th>\n",
       "      <th>original_title</th>\n",
       "      <th>vote_average</th>\n",
       "      <th>genre_name</th>\n",
       "      <th>id</th>\n",
       "      <th>est</th>\n",
       "    </tr>\n",
       "  </thead>\n",
       "  <tbody>\n",
       "    <tr>\n",
       "      <th>8978</th>\n",
       "      <td>The Intern</td>\n",
       "      <td>7.1</td>\n",
       "      <td>[Comedy]</td>\n",
       "      <td>257211</td>\n",
       "      <td>3.455421</td>\n",
       "    </tr>\n",
       "    <tr>\n",
       "      <th>6595</th>\n",
       "      <td>The Holiday</td>\n",
       "      <td>6.7</td>\n",
       "      <td>[Comedy, Romance]</td>\n",
       "      <td>1581</td>\n",
       "      <td>3.351483</td>\n",
       "    </tr>\n",
       "    <tr>\n",
       "      <th>1675</th>\n",
       "      <td>Dead Men Don't Wear Plaid</td>\n",
       "      <td>6.5</td>\n",
       "      <td>[Comedy, Mystery]</td>\n",
       "      <td>9442</td>\n",
       "      <td>3.281626</td>\n",
       "    </tr>\n",
       "    <tr>\n",
       "      <th>3407</th>\n",
       "      <td>The World According to Garp</td>\n",
       "      <td>6.9</td>\n",
       "      <td>[Comedy]</td>\n",
       "      <td>11307</td>\n",
       "      <td>3.239328</td>\n",
       "    </tr>\n",
       "    <tr>\n",
       "      <th>4308</th>\n",
       "      <td>The Four Seasons</td>\n",
       "      <td>6.3</td>\n",
       "      <td>[Comedy, Drama, Romance]</td>\n",
       "      <td>25113</td>\n",
       "      <td>3.220658</td>\n",
       "    </tr>\n",
       "    <tr>\n",
       "      <th>5038</th>\n",
       "      <td>Something's Gotta Give</td>\n",
       "      <td>6.3</td>\n",
       "      <td>[Drama, Comedy, Romance]</td>\n",
       "      <td>6964</td>\n",
       "      <td>3.217175</td>\n",
       "    </tr>\n",
       "    <tr>\n",
       "      <th>2180</th>\n",
       "      <td>Drop Dead Gorgeous</td>\n",
       "      <td>6.5</td>\n",
       "      <td>[Comedy]</td>\n",
       "      <td>10490</td>\n",
       "      <td>3.216455</td>\n",
       "    </tr>\n",
       "    <tr>\n",
       "      <th>3223</th>\n",
       "      <td>What Women Want</td>\n",
       "      <td>6.1</td>\n",
       "      <td>[Comedy, Romance]</td>\n",
       "      <td>3981</td>\n",
       "      <td>3.198183</td>\n",
       "    </tr>\n",
       "    <tr>\n",
       "      <th>8466</th>\n",
       "      <td>Philomena</td>\n",
       "      <td>7.4</td>\n",
       "      <td>[Drama]</td>\n",
       "      <td>205220</td>\n",
       "      <td>3.151926</td>\n",
       "    </tr>\n",
       "    <tr>\n",
       "      <th>4833</th>\n",
       "      <td>Bugsy Malone</td>\n",
       "      <td>6.5</td>\n",
       "      <td>[Drama, Action, Comedy, Music, Family]</td>\n",
       "      <td>8446</td>\n",
       "      <td>3.151128</td>\n",
       "    </tr>\n",
       "  </tbody>\n",
       "</table>\n",
       "</div>"
      ],
      "text/plain": [
       "                   original_title  vote_average  \\\n",
       "8978                   The Intern           7.1   \n",
       "6595                  The Holiday           6.7   \n",
       "1675    Dead Men Don't Wear Plaid           6.5   \n",
       "3407  The World According to Garp           6.9   \n",
       "4308             The Four Seasons           6.3   \n",
       "5038       Something's Gotta Give           6.3   \n",
       "2180           Drop Dead Gorgeous           6.5   \n",
       "3223              What Women Want           6.1   \n",
       "8466                    Philomena           7.4   \n",
       "4833                 Bugsy Malone           6.5   \n",
       "\n",
       "                                  genre_name      id       est  \n",
       "8978                                [Comedy]  257211  3.455421  \n",
       "6595                       [Comedy, Romance]    1581  3.351483  \n",
       "1675                       [Comedy, Mystery]    9442  3.281626  \n",
       "3407                                [Comedy]   11307  3.239328  \n",
       "4308                [Comedy, Drama, Romance]   25113  3.220658  \n",
       "5038                [Drama, Comedy, Romance]    6964  3.217175  \n",
       "2180                                [Comedy]   10490  3.216455  \n",
       "3223                       [Comedy, Romance]    3981  3.198183  \n",
       "8466                                 [Drama]  205220  3.151926  \n",
       "4833  [Drama, Action, Comedy, Music, Family]    8446  3.151128  "
      ]
     },
     "execution_count": 51,
     "metadata": {},
     "output_type": "execute_result"
    }
   ],
   "source": [
    "hybrid(500, 'Father of the Bride Part II')"
   ]
  },
  {
   "cell_type": "code",
   "execution_count": 52,
   "id": "7fdb327c",
   "metadata": {},
   "outputs": [
    {
     "data": {
      "text/html": [
       "<div>\n",
       "<style scoped>\n",
       "    .dataframe tbody tr th:only-of-type {\n",
       "        vertical-align: middle;\n",
       "    }\n",
       "\n",
       "    .dataframe tbody tr th {\n",
       "        vertical-align: top;\n",
       "    }\n",
       "\n",
       "    .dataframe thead th {\n",
       "        text-align: right;\n",
       "    }\n",
       "</style>\n",
       "<table border=\"1\" class=\"dataframe\">\n",
       "  <thead>\n",
       "    <tr style=\"text-align: right;\">\n",
       "      <th></th>\n",
       "      <th>movieId</th>\n",
       "      <th>id</th>\n",
       "      <th>original_title</th>\n",
       "    </tr>\n",
       "  </thead>\n",
       "  <tbody>\n",
       "    <tr>\n",
       "      <th>8430</th>\n",
       "      <td>106438</td>\n",
       "      <td>205220.0</td>\n",
       "      <td>Philomena</td>\n",
       "    </tr>\n",
       "  </tbody>\n",
       "</table>\n",
       "</div>"
      ],
      "text/plain": [
       "      movieId        id original_title\n",
       "8430   106438  205220.0      Philomena"
      ]
     },
     "execution_count": 52,
     "metadata": {},
     "output_type": "execute_result"
    }
   ],
   "source": [
    "id_map[id_map['original_title'] == 'Philomena']"
   ]
  },
  {
   "cell_type": "code",
   "execution_count": 83,
   "id": "11f1c475",
   "metadata": {},
   "outputs": [
    {
     "data": {
      "text/plain": [
       "3.747912317327766"
      ]
     },
     "execution_count": 83,
     "metadata": {},
     "output_type": "execute_result"
    }
   ],
   "source": [
    "r[r['movieId']==106438]['rating'].sum()/r[r['movieId']==106438]['rating'].count()"
   ]
  },
  {
   "cell_type": "code",
   "execution_count": 54,
   "id": "f14e8aa1",
   "metadata": {},
   "outputs": [],
   "source": [
    "h=hybrid(500, 'Father of the Bride Part II')['est']\n",
    "rmse=[]"
   ]
  },
  {
   "cell_type": "code",
   "execution_count": 55,
   "id": "f3579398",
   "metadata": {},
   "outputs": [],
   "source": [
    "r=pd.read_csv('ratings.csv')"
   ]
  },
  {
   "cell_type": "code",
   "execution_count": 57,
   "id": "c25060b7",
   "metadata": {},
   "outputs": [],
   "source": [
    "smd.to_csv('smd.csv')"
   ]
  },
  {
   "cell_type": "code",
   "execution_count": 58,
   "id": "9db335e2",
   "metadata": {},
   "outputs": [
    {
     "name": "stdout",
     "output_type": "stream",
     "text": [
      "Enter the user6789\n",
      "Enter the movieIt Takes Two\n",
      "Enter the user45\n",
      "Enter the movieLe confessionnal\n",
      "Enter the user4987\n",
      "Enter the movieLa Haine\n",
      "Enter the user1\n",
      "Enter the movieCasper\n",
      "Enter the user678\n",
      "Enter the movieThe War\n"
     ]
    },
    {
     "data": {
      "text/plain": [
       "0.6085634296770952"
      ]
     },
     "execution_count": 58,
     "metadata": {},
     "output_type": "execute_result"
    }
   ],
   "source": [
    "for j in range(5):\n",
    "    user=int(input('Enter the user'))\n",
    "    inp=input('Enter the movie')\n",
    "    h=hybrid(user, inp)['est']\n",
    "    li=list(hybrid(user, inp)['original_title'].values)\n",
    "    li1=[]\n",
    "    for i in li:\n",
    "    #print(i)\n",
    "        mov = id_map[id_map['original_title'] == i]['movieId'].values[0]\n",
    "        #print(mov)\n",
    "        li1.append(r[r['movieId']==mov]['rating'].sum()/r[r['movieId']==mov]['rating'].count())\n",
    "    rmse.append(np.sqrt(mean_squared_error(li1,h)))\n",
    "    #print(li1)\n",
    "    #print(h)\n",
    "np.sum(rmse)/5\n",
    "    "
   ]
  },
  {
   "cell_type": "code",
   "execution_count": 60,
   "id": "c4996bff",
   "metadata": {},
   "outputs": [
    {
     "data": {
      "text/html": [
       "<div>\n",
       "<style scoped>\n",
       "    .dataframe tbody tr th:only-of-type {\n",
       "        vertical-align: middle;\n",
       "    }\n",
       "\n",
       "    .dataframe tbody tr th {\n",
       "        vertical-align: top;\n",
       "    }\n",
       "\n",
       "    .dataframe thead th {\n",
       "        text-align: right;\n",
       "    }\n",
       "</style>\n",
       "<table border=\"1\" class=\"dataframe\">\n",
       "  <thead>\n",
       "    <tr style=\"text-align: right;\">\n",
       "      <th></th>\n",
       "      <th>userId</th>\n",
       "      <th>movieId</th>\n",
       "      <th>rating</th>\n",
       "      <th>timestamp</th>\n",
       "    </tr>\n",
       "  </thead>\n",
       "  <tbody>\n",
       "    <tr>\n",
       "      <th>0</th>\n",
       "      <td>1</td>\n",
       "      <td>31</td>\n",
       "      <td>2.5</td>\n",
       "      <td>1260759144</td>\n",
       "    </tr>\n",
       "    <tr>\n",
       "      <th>1</th>\n",
       "      <td>1</td>\n",
       "      <td>1029</td>\n",
       "      <td>3.0</td>\n",
       "      <td>1260759179</td>\n",
       "    </tr>\n",
       "    <tr>\n",
       "      <th>2</th>\n",
       "      <td>1</td>\n",
       "      <td>1061</td>\n",
       "      <td>3.0</td>\n",
       "      <td>1260759182</td>\n",
       "    </tr>\n",
       "    <tr>\n",
       "      <th>3</th>\n",
       "      <td>1</td>\n",
       "      <td>1129</td>\n",
       "      <td>2.0</td>\n",
       "      <td>1260759185</td>\n",
       "    </tr>\n",
       "    <tr>\n",
       "      <th>4</th>\n",
       "      <td>1</td>\n",
       "      <td>1172</td>\n",
       "      <td>4.0</td>\n",
       "      <td>1260759205</td>\n",
       "    </tr>\n",
       "  </tbody>\n",
       "</table>\n",
       "</div>"
      ],
      "text/plain": [
       "   userId  movieId  rating   timestamp\n",
       "0       1       31     2.5  1260759144\n",
       "1       1     1029     3.0  1260759179\n",
       "2       1     1061     3.0  1260759182\n",
       "3       1     1129     2.0  1260759185\n",
       "4       1     1172     4.0  1260759205"
      ]
     },
     "execution_count": 60,
     "metadata": {},
     "output_type": "execute_result"
    }
   ],
   "source": [
    "ratings.head()"
   ]
  }
 ],
 "metadata": {
  "kernelspec": {
   "display_name": "Python 3 (ipykernel)",
   "language": "python",
   "name": "python3"
  },
  "language_info": {
   "codemirror_mode": {
    "name": "ipython",
    "version": 3
   },
   "file_extension": ".py",
   "mimetype": "text/x-python",
   "name": "python",
   "nbconvert_exporter": "python",
   "pygments_lexer": "ipython3",
   "version": "3.9.16"
  }
 },
 "nbformat": 4,
 "nbformat_minor": 5
}
