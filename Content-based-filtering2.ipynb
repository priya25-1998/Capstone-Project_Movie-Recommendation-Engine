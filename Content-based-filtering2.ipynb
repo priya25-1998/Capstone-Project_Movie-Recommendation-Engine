{
 "cells": [
  {
   "cell_type": "code",
   "execution_count": 20,
   "metadata": {},
   "outputs": [],
   "source": [
    "import pandas as pd\n",
    "from sklearn.feature_extraction.text import CountVectorizer\n",
    "from sklearn.metrics.pairwise import cosine_similarity"
   ]
  },
  {
   "cell_type": "code",
   "execution_count": 21,
   "metadata": {},
   "outputs": [
    {
     "data": {
      "text/html": [
       "<div>\n",
       "<style scoped>\n",
       "    .dataframe tbody tr th:only-of-type {\n",
       "        vertical-align: middle;\n",
       "    }\n",
       "\n",
       "    .dataframe tbody tr th {\n",
       "        vertical-align: top;\n",
       "    }\n",
       "\n",
       "    .dataframe thead th {\n",
       "        text-align: right;\n",
       "    }\n",
       "</style>\n",
       "<table border=\"1\" class=\"dataframe\">\n",
       "  <thead>\n",
       "    <tr style=\"text-align: right;\">\n",
       "      <th></th>\n",
       "      <th>Unnamed: 0</th>\n",
       "      <th>adult</th>\n",
       "      <th>id</th>\n",
       "      <th>original_language</th>\n",
       "      <th>original_title</th>\n",
       "      <th>overview</th>\n",
       "      <th>popularity</th>\n",
       "      <th>revenue</th>\n",
       "      <th>runtime</th>\n",
       "      <th>genre_name</th>\n",
       "      <th>production_companies_name</th>\n",
       "      <th>cast_name</th>\n",
       "      <th>crew_name</th>\n",
       "      <th>vote_average</th>\n",
       "    </tr>\n",
       "  </thead>\n",
       "  <tbody>\n",
       "    <tr>\n",
       "      <th>0</th>\n",
       "      <td>0</td>\n",
       "      <td>False</td>\n",
       "      <td>862</td>\n",
       "      <td>en</td>\n",
       "      <td>Toy Story</td>\n",
       "      <td>Led by Woody, Andy's toys live happily in his ...</td>\n",
       "      <td>21.946943</td>\n",
       "      <td>373554033.0</td>\n",
       "      <td>81.0</td>\n",
       "      <td>['Animation', 'Comedy', 'Family']</td>\n",
       "      <td>['Pixar Animation Studios']</td>\n",
       "      <td>['Tom Hanks', 'Tim Allen', 'Don Rickles', 'Jim...</td>\n",
       "      <td>['John Lasseter', 'Joss Whedon', 'Andrew Stant...</td>\n",
       "      <td>7.7</td>\n",
       "    </tr>\n",
       "    <tr>\n",
       "      <th>1</th>\n",
       "      <td>1</td>\n",
       "      <td>False</td>\n",
       "      <td>8844</td>\n",
       "      <td>en</td>\n",
       "      <td>Jumanji</td>\n",
       "      <td>When siblings Judy and Peter discover an encha...</td>\n",
       "      <td>17.015539</td>\n",
       "      <td>262797249.0</td>\n",
       "      <td>104.0</td>\n",
       "      <td>['Adventure', 'Fantasy', 'Family']</td>\n",
       "      <td>['TriStar Pictures', 'Teitler Film', 'Intersco...</td>\n",
       "      <td>['Robin Williams', 'Jonathan Hyde', 'Kirsten D...</td>\n",
       "      <td>['Larry J. Franco', 'Jonathan Hensleigh', 'Jam...</td>\n",
       "      <td>6.9</td>\n",
       "    </tr>\n",
       "  </tbody>\n",
       "</table>\n",
       "</div>"
      ],
      "text/plain": [
       "   Unnamed: 0  adult    id original_language original_title  \\\n",
       "0           0  False   862                en      Toy Story   \n",
       "1           1  False  8844                en        Jumanji   \n",
       "\n",
       "                                            overview  popularity      revenue  \\\n",
       "0  Led by Woody, Andy's toys live happily in his ...   21.946943  373554033.0   \n",
       "1  When siblings Judy and Peter discover an encha...   17.015539  262797249.0   \n",
       "\n",
       "   runtime                          genre_name  \\\n",
       "0     81.0   ['Animation', 'Comedy', 'Family']   \n",
       "1    104.0  ['Adventure', 'Fantasy', 'Family']   \n",
       "\n",
       "                           production_companies_name  \\\n",
       "0                        ['Pixar Animation Studios']   \n",
       "1  ['TriStar Pictures', 'Teitler Film', 'Intersco...   \n",
       "\n",
       "                                           cast_name  \\\n",
       "0  ['Tom Hanks', 'Tim Allen', 'Don Rickles', 'Jim...   \n",
       "1  ['Robin Williams', 'Jonathan Hyde', 'Kirsten D...   \n",
       "\n",
       "                                           crew_name  vote_average  \n",
       "0  ['John Lasseter', 'Joss Whedon', 'Andrew Stant...           7.7  \n",
       "1  ['Larry J. Franco', 'Jonathan Hensleigh', 'Jam...           6.9  "
      ]
     },
     "execution_count": 21,
     "metadata": {},
     "output_type": "execute_result"
    }
   ],
   "source": [
    "df1 = pd.read_csv('C:/Users/Priyanka/Desktop/PGP-DSE/Capstoneprojectworks/Main_filtered.csv')\n",
    "df1.head(2)"
   ]
  },
  {
   "cell_type": "code",
   "execution_count": 22,
   "metadata": {},
   "outputs": [
    {
     "data": {
      "text/plain": [
       "Index(['Unnamed: 0', 'adult', 'id', 'original_language', 'original_title',\n",
       "       'overview', 'popularity', 'revenue', 'runtime', 'genre_name',\n",
       "       'production_companies_name', 'cast_name', 'crew_name', 'vote_average'],\n",
       "      dtype='object')"
      ]
     },
     "execution_count": 22,
     "metadata": {},
     "output_type": "execute_result"
    }
   ],
   "source": [
    "df1.columns"
   ]
  },
  {
   "cell_type": "code",
   "execution_count": 23,
   "metadata": {},
   "outputs": [],
   "source": [
    "df1.drop(columns=['Unnamed: 0'],axis=1,inplace=True)"
   ]
  },
  {
   "cell_type": "code",
   "execution_count": 24,
   "metadata": {},
   "outputs": [
    {
     "data": {
      "text/plain": [
       "(44495, 13)"
      ]
     },
     "execution_count": 24,
     "metadata": {},
     "output_type": "execute_result"
    }
   ],
   "source": [
    "df1.shape"
   ]
  },
  {
   "cell_type": "code",
   "execution_count": 25,
   "metadata": {},
   "outputs": [
    {
     "data": {
      "text/plain": [
       "adult                           bool\n",
       "id                             int64\n",
       "original_language             object\n",
       "original_title                object\n",
       "overview                      object\n",
       "popularity                   float64\n",
       "revenue                      float64\n",
       "runtime                      float64\n",
       "genre_name                    object\n",
       "production_companies_name     object\n",
       "cast_name                     object\n",
       "crew_name                     object\n",
       "vote_average                 float64\n",
       "dtype: object"
      ]
     },
     "execution_count": 25,
     "metadata": {},
     "output_type": "execute_result"
    }
   ],
   "source": [
    "df1.dtypes"
   ]
  },
  {
   "cell_type": "code",
   "execution_count": 27,
   "metadata": {},
   "outputs": [],
   "source": [
    "df1['soup']=df1['overview']+df1['genre_name']+df1['cast_name']+df1['crew_name']\n",
    "\n",
    "df1[['original_title', 'soup', 'cast_name', 'overview', 'genre_name']].head()\n",
    "\n",
    "df2 = df1.iloc[0:20000,:]\n",
    "\n",
    "metadata=df2\n",
    "\n",
    "new_row = metadata.iloc[-1,:].copy()\n",
    "\n",
    "new_row.iloc[-1]=\" \".join(['Animation','Adventures','Comedy','Family'])\n",
    "\n",
    "metadata = metadata.append(new_row)\n",
    "\n",
    "count = CountVectorizer(stop_words='english')\n",
    "\n",
    "count_matrix = count.fit_transform(metadata['soup'])\n",
    "\n",
    "cosine_sim2 = cosine_similarity(count_matrix, count_matrix)\n",
    "\n",
    "sim_scores = list(enumerate(cosine_sim2[-1,:]))\n",
    "\n",
    "sim_scores = sorted(sim_scores, key=lambda x: x[1], reverse=True)\n",
    "\n",
    "ranked_titles = []\n",
    "\n",
    "for i in range(1, 11):\n",
    "\n",
    "    indx = sim_scores[i][0]\n",
    "\n",
    "    ranked_titles.append([metadata['original_title'].iloc[indx]])"
   ]
  },
  {
   "cell_type": "code",
   "execution_count": 28,
   "metadata": {},
   "outputs": [
    {
     "name": "stdout",
     "output_type": "stream",
     "text": [
      "The Ranked Titles are : \n",
      "\n",
      "\n",
      " ['Creature Comforts']\n",
      "\n",
      " ['Dead Fury']\n",
      "\n",
      " [\"What's Cooking?\"]\n",
      "\n",
      " ['Jib']\n",
      "\n",
      " ['Living with the Fosters']\n",
      "\n",
      " [\"Ollie Hopnoodle's Haven of Bliss\"]\n",
      "\n",
      " ['Madeline']\n",
      "\n",
      " ['Spider Baby']\n",
      "\n",
      " ['Stuart Little']\n",
      "\n",
      " ['Holiday in Handcuffs']\n"
     ]
    }
   ],
   "source": [
    "print(\"The Ranked Titles are : \\n\")\n",
    "for i in ranked_titles:\n",
    "    print(\"\\n\", i)"
   ]
  },
  {
   "cell_type": "code",
   "execution_count": 29,
   "metadata": {},
   "outputs": [
    {
     "data": {
      "text/html": [
       "<div>\n",
       "<style scoped>\n",
       "    .dataframe tbody tr th:only-of-type {\n",
       "        vertical-align: middle;\n",
       "    }\n",
       "\n",
       "    .dataframe tbody tr th {\n",
       "        vertical-align: top;\n",
       "    }\n",
       "\n",
       "    .dataframe thead th {\n",
       "        text-align: right;\n",
       "    }\n",
       "</style>\n",
       "<table border=\"1\" class=\"dataframe\">\n",
       "  <thead>\n",
       "    <tr style=\"text-align: right;\">\n",
       "      <th></th>\n",
       "      <th>keywords</th>\n",
       "      <th>genre_name</th>\n",
       "      <th>cast_name</th>\n",
       "      <th>crew_name</th>\n",
       "      <th>original_title</th>\n",
       "      <th>soup</th>\n",
       "    </tr>\n",
       "  </thead>\n",
       "  <tbody>\n",
       "    <tr>\n",
       "      <th>0</th>\n",
       "      <td>['jealousy', 'toy', 'boy', 'friendship', 'frie...</td>\n",
       "      <td>['Animation', 'Comedy', 'Family']</td>\n",
       "      <td>['Tom Hanks', 'Tim Allen', 'Don Rickles', 'Jim...</td>\n",
       "      <td>['John Lasseter', 'Joss Whedon', 'Andrew Stant...</td>\n",
       "      <td>Toy Story</td>\n",
       "      <td>['jealousy', 'toy', 'boy', 'friendship', 'frie...</td>\n",
       "    </tr>\n",
       "    <tr>\n",
       "      <th>1</th>\n",
       "      <td>['board game', 'disappearance', \"based on chil...</td>\n",
       "      <td>['Adventure', 'Fantasy', 'Family']</td>\n",
       "      <td>['Robin Williams', 'Jonathan Hyde', 'Kirsten D...</td>\n",
       "      <td>['Larry J. Franco', 'Jonathan Hensleigh', 'Jam...</td>\n",
       "      <td>Jumanji</td>\n",
       "      <td>['board game', 'disappearance', \"based on chil...</td>\n",
       "    </tr>\n",
       "  </tbody>\n",
       "</table>\n",
       "</div>"
      ],
      "text/plain": [
       "                                            keywords  \\\n",
       "0  ['jealousy', 'toy', 'boy', 'friendship', 'frie...   \n",
       "1  ['board game', 'disappearance', \"based on chil...   \n",
       "\n",
       "                           genre_name  \\\n",
       "0   ['Animation', 'Comedy', 'Family']   \n",
       "1  ['Adventure', 'Fantasy', 'Family']   \n",
       "\n",
       "                                           cast_name  \\\n",
       "0  ['Tom Hanks', 'Tim Allen', 'Don Rickles', 'Jim...   \n",
       "1  ['Robin Williams', 'Jonathan Hyde', 'Kirsten D...   \n",
       "\n",
       "                                           crew_name original_title  \\\n",
       "0  ['John Lasseter', 'Joss Whedon', 'Andrew Stant...      Toy Story   \n",
       "1  ['Larry J. Franco', 'Jonathan Hensleigh', 'Jam...        Jumanji   \n",
       "\n",
       "                                                soup  \n",
       "0  ['jealousy', 'toy', 'boy', 'friendship', 'frie...  \n",
       "1  ['board game', 'disappearance', \"based on chil...  "
      ]
     },
     "execution_count": 29,
     "metadata": {},
     "output_type": "execute_result"
    }
   ],
   "source": [
    "df = pd.read_csv('C:/Users/Priyanka/Desktop/PGP-DSE/Capstoneprojectworks/main_data.csv')\n",
    "df.head(2)"
   ]
  },
  {
   "cell_type": "code",
   "execution_count": 30,
   "metadata": {},
   "outputs": [
    {
     "data": {
      "text/plain": [
       "keywords          0\n",
       "genre_name        0\n",
       "cast_name         0\n",
       "crew_name         0\n",
       "original_title    0\n",
       "soup              0\n",
       "dtype: int64"
      ]
     },
     "execution_count": 30,
     "metadata": {},
     "output_type": "execute_result"
    }
   ],
   "source": [
    "df.isna().sum()"
   ]
  },
  {
   "cell_type": "code",
   "execution_count": 31,
   "metadata": {},
   "outputs": [],
   "source": [
    "df1 = df[['keywords','genre_name','cast_name','crew_name','original_title']]"
   ]
  },
  {
   "cell_type": "code",
   "execution_count": 32,
   "metadata": {},
   "outputs": [
    {
     "data": {
      "text/plain": [
       "(30895, 5)"
      ]
     },
     "execution_count": 32,
     "metadata": {},
     "output_type": "execute_result"
    }
   ],
   "source": [
    "df1.shape"
   ]
  },
  {
   "cell_type": "code",
   "execution_count": 33,
   "metadata": {},
   "outputs": [],
   "source": [
    "df1['soup']=df1['keywords']+df1['genre_name']+df1['cast_name']+df1['crew_name']\n",
    "\n",
    "df1[['original_title', 'soup', 'cast_name', 'keywords', 'genre_name']].head()\n",
    "\n",
    "df2 = df1.iloc[0:25000,:]\n",
    "\n",
    "metadata=df2\n",
    "\n",
    "new_row = metadata.iloc[-1,:].copy()\n",
    "\n",
    "new_row.iloc[-1]=\" \".join(['Animation','Adventures'])\n",
    "\n",
    "metadata = metadata.append(new_row)\n",
    "\n",
    "count = CountVectorizer(stop_words='english')\n",
    "\n",
    "count_matrix = count.fit_transform(metadata['soup'])\n",
    "\n",
    "cosine_sim2 = cosine_similarity(count_matrix, count_matrix)\n",
    "\n",
    "sim_scores = list(enumerate(cosine_sim2[-1,:]))\n",
    "\n",
    "sim_scores = sorted(sim_scores, key=lambda x: x[1], reverse=True)\n",
    "\n",
    "ranked_titles = []\n",
    "\n",
    "for i in range(1, 11):\n",
    "\n",
    "    indx = sim_scores[i][0]\n",
    "\n",
    "    ranked_titles.append([metadata['original_title'].iloc[indx]])"
   ]
  },
  {
   "cell_type": "code",
   "execution_count": 34,
   "metadata": {},
   "outputs": [
    {
     "name": "stdout",
     "output_type": "stream",
     "text": [
      "The Ranked Titles are : \n",
      "\n",
      "\n",
      " ['Creature Comforts']\n",
      "\n",
      " ['Les dents du singe']\n",
      "\n",
      " ['Les temps morts']\n",
      "\n",
      " ['Day & Night']\n",
      "\n",
      " ['Les Escargots']\n",
      "\n",
      " ['ショート・ピース']\n",
      "\n",
      " [\"Beyond The Mind's Eye\"]\n",
      "\n",
      " ['Lifted']\n",
      "\n",
      " ['The Adventures of André and Wally B.']\n",
      "\n",
      " ['チェーンソー・メイド']\n"
     ]
    }
   ],
   "source": [
    "print(\"The Ranked Titles are : \\n\")\n",
    "for i in ranked_titles:\n",
    "    print(\"\\n\", i)"
   ]
  }
 ],
 "metadata": {
  "kernelspec": {
   "display_name": "base",
   "language": "python",
   "name": "python3"
  },
  "language_info": {
   "name": "python",
   "version": "3.9.7 (default, Sep 16 2021, 16:59:28) [MSC v.1916 64 bit (AMD64)]"
  },
  "orig_nbformat": 4,
  "vscode": {
   "interpreter": {
    "hash": "548b74416408c9b0533ddf9a135f814fbe6dccac412294bd8565988e5bb4ed32"
   }
  }
 },
 "nbformat": 4,
 "nbformat_minor": 2
}
