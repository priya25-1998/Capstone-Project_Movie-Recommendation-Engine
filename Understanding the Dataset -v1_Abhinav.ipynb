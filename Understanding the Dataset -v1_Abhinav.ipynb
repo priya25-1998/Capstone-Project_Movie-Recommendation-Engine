{
 "cells": [
  {
   "cell_type": "code",
   "execution_count": 333,
   "id": "89af3efb",
   "metadata": {},
   "outputs": [],
   "source": [
    "# Importing the Required Libraries\n",
    "import numpy as np\n",
    "import pandas as pd\n",
    "import matplotlib.pyplot as plt\n",
    "%matplotlib inline\n",
    "import seaborn as sns\n",
    "import warnings\n",
    "warnings.filterwarnings(action='ignore')\n",
    "import scipy as stats"
   ]
  },
  {
   "cell_type": "code",
   "execution_count": 244,
   "id": "76eda5c9",
   "metadata": {},
   "outputs": [],
   "source": [
    "plt.rcParams['figure.figsize'] = (10,5)"
   ]
  },
  {
   "cell_type": "code",
   "execution_count": 9,
   "id": "4232097d",
   "metadata": {},
   "outputs": [],
   "source": [
    "# Loading the Dataset\n",
    "credits = pd.read_csv('.\\\\archive\\\\credits.csv')\n",
    "Keywords = pd.read_csv('.\\\\archive\\\\keywords.csv')\n",
    "#links = pd.read_csv('links.csv')\n",
    "# links_small = pd.read_csv('Dataset/links_small.csv') same as links\n",
    "movies_metadata = pd.read_csv('.\\\\archive\\\\movies_metadata.csv')\n",
    "ratings = pd.read_csv('.\\\\archive\\\\ratings.csv')\n",
    "# ratings_small = pd.read_csv('Dataset/ratings_small.csv') same as ratings"
   ]
  },
  {
   "cell_type": "code",
   "execution_count": 10,
   "id": "adae9a4c",
   "metadata": {},
   "outputs": [
    {
     "data": {
      "text/plain": [
       "(45476, 3)"
      ]
     },
     "execution_count": 10,
     "metadata": {},
     "output_type": "execute_result"
    }
   ],
   "source": [
    "credits.shape"
   ]
  },
  {
   "cell_type": "code",
   "execution_count": 11,
   "id": "a0a5b01b",
   "metadata": {},
   "outputs": [
    {
     "data": {
      "text/html": [
       "<div>\n",
       "<style scoped>\n",
       "    .dataframe tbody tr th:only-of-type {\n",
       "        vertical-align: middle;\n",
       "    }\n",
       "\n",
       "    .dataframe tbody tr th {\n",
       "        vertical-align: top;\n",
       "    }\n",
       "\n",
       "    .dataframe thead th {\n",
       "        text-align: right;\n",
       "    }\n",
       "</style>\n",
       "<table border=\"1\" class=\"dataframe\">\n",
       "  <thead>\n",
       "    <tr style=\"text-align: right;\">\n",
       "      <th></th>\n",
       "      <th>cast</th>\n",
       "      <th>crew</th>\n",
       "      <th>id</th>\n",
       "    </tr>\n",
       "  </thead>\n",
       "  <tbody>\n",
       "    <tr>\n",
       "      <th>0</th>\n",
       "      <td>[{'cast_id': 14, 'character': 'Woody (voice)',...</td>\n",
       "      <td>[{'credit_id': '52fe4284c3a36847f8024f49', 'de...</td>\n",
       "      <td>862</td>\n",
       "    </tr>\n",
       "    <tr>\n",
       "      <th>1</th>\n",
       "      <td>[{'cast_id': 1, 'character': 'Alan Parrish', '...</td>\n",
       "      <td>[{'credit_id': '52fe44bfc3a36847f80a7cd1', 'de...</td>\n",
       "      <td>8844</td>\n",
       "    </tr>\n",
       "  </tbody>\n",
       "</table>\n",
       "</div>"
      ],
      "text/plain": [
       "                                                cast  \\\n",
       "0  [{'cast_id': 14, 'character': 'Woody (voice)',...   \n",
       "1  [{'cast_id': 1, 'character': 'Alan Parrish', '...   \n",
       "\n",
       "                                                crew    id  \n",
       "0  [{'credit_id': '52fe4284c3a36847f8024f49', 'de...   862  \n",
       "1  [{'credit_id': '52fe44bfc3a36847f80a7cd1', 'de...  8844  "
      ]
     },
     "execution_count": 11,
     "metadata": {},
     "output_type": "execute_result"
    }
   ],
   "source": [
    "credits.head(2)\n",
    "# columns : cast , crew , id(given from tmbd)"
   ]
  },
  {
   "cell_type": "code",
   "execution_count": 12,
   "id": "bc0c36be",
   "metadata": {},
   "outputs": [
    {
     "data": {
      "text/plain": [
       "\"[{'cast_id': 14, 'character': 'Woody (voice)', 'credit_id': '52fe4284c3a36847f8024f95', 'gender': 2, 'id': 31, 'name': 'Tom Hanks', 'order': 0, 'profile_path': '/pQFoyx7rp09CJTAb932F2g8Nlho.jpg'}, {'cast_id': 15, 'character': 'Buzz Lightyear (voice)', 'credit_id': '52fe4284c3a36847f8024f99', 'gender': 2, 'id': 12898, 'name': 'Tim Allen', 'order': 1, 'profile_path': '/uX2xVf6pMmPepxnvFWyBtjexzgY.jpg'}, {'cast_id': 16, 'character': 'Mr. Potato Head (voice)', 'credit_id': '52fe4284c3a36847f8024f9d', 'gender': 2, 'id': 7167, 'name': 'Don Rickles', 'order': 2, 'profile_path': '/h5BcaDMPRVLHLDzbQavec4xfSdt.jpg'}, {'cast_id': 17, 'character': 'Slinky Dog (voice)', 'credit_id': '52fe4284c3a36847f8024fa1', 'gender': 2, 'id': 12899, 'name': 'Jim Varney', 'order': 3, 'profile_path': '/eIo2jVVXYgjDtaHoF19Ll9vtW7h.jpg'}, {'cast_id': 18, 'character': 'Rex (voice)', 'credit_id': '52fe4284c3a36847f8024fa5', 'gender': 2, 'id': 12900, 'name': 'Wallace Shawn', 'order': 4, 'profile_path': '/oGE6JqPP2xH4tNORKNqxbNPYi7u.jpg'}, {'cast_id': 19, 'character': 'Hamm (voice)', 'credit_id': '52fe4284c3a36847f8024fa9', 'gender': 2, 'id': 7907, 'name': 'John Ratzenberger', 'order': 5, 'profile_path': '/yGechiKWL6TJDfVE2KPSJYqdMsY.jpg'}, {'cast_id': 20, 'character': 'Bo Peep (voice)', 'credit_id': '52fe4284c3a36847f8024fad', 'gender': 1, 'id': 8873, 'name': 'Annie Potts', 'order': 6, 'profile_path': '/eryXT84RL41jHSJcMy4kS3u9y6w.jpg'}, {'cast_id': 26, 'character': 'Andy (voice)', 'credit_id': '52fe4284c3a36847f8024fc1', 'gender': 0, 'id': 1116442, 'name': 'John Morris', 'order': 7, 'profile_path': '/vYGyvK4LzeaUCoNSHtsuqJUY15M.jpg'}, {'cast_id': 22, 'character': 'Sid (voice)', 'credit_id': '52fe4284c3a36847f8024fb1', 'gender': 2, 'id': 12901, 'name': 'Erik von Detten', 'order': 8, 'profile_path': '/twnF1ZaJ1FUNUuo6xLXwcxjayBE.jpg'}, {'cast_id': 23, 'character': 'Mrs. Davis (voice)', 'credit_id': '52fe4284c3a36847f8024fb5', 'gender': 1, 'id': 12133, 'name': 'Laurie Metcalf', 'order': 9, 'profile_path': '/unMMIT60eoBM2sN2nyR7EZ2BvvD.jpg'}, {'cast_id': 24, 'character': 'Sergeant (voice)', 'credit_id': '52fe4284c3a36847f8024fb9', 'gender': 2, 'id': 8655, 'name': 'R. Lee Ermey', 'order': 10, 'profile_path': '/r8GBqFBjypLUP9VVqDqfZ7wYbSs.jpg'}, {'cast_id': 25, 'character': 'Hannah (voice)', 'credit_id': '52fe4284c3a36847f8024fbd', 'gender': 1, 'id': 12903, 'name': 'Sarah Freeman', 'order': 11, 'profile_path': None}, {'cast_id': 27, 'character': 'TV Announcer (voice)', 'credit_id': '52fe4284c3a36847f8024fc5', 'gender': 2, 'id': 37221, 'name': 'Penn Jillette', 'order': 12, 'profile_path': '/zmAaXUdx12NRsssgHbk1T31j2x9.jpg'}]\""
      ]
     },
     "execution_count": 12,
     "metadata": {},
     "output_type": "execute_result"
    }
   ],
   "source": [
    "credits.iloc[0]['cast']\n",
    "# columns : cast_id , character , credit_id , gender , id(given from tmbd) , name , order , profile path"
   ]
  },
  {
   "cell_type": "code",
   "execution_count": 13,
   "id": "6b843765",
   "metadata": {},
   "outputs": [
    {
     "data": {
      "text/plain": [
       "13"
      ]
     },
     "execution_count": 13,
     "metadata": {},
     "output_type": "execute_result"
    }
   ],
   "source": [
    "credits.iloc[0]['cast'].count('cast_id')\n",
    "# 13 key-value paris"
   ]
  },
  {
   "cell_type": "code",
   "execution_count": 14,
   "id": "79308830",
   "metadata": {},
   "outputs": [
    {
     "data": {
      "text/plain": [
       "\"[{'credit_id': '52fe44bfc3a36847f80a7cd1', 'department': 'Production', 'gender': 2, 'id': 511, 'job': 'Executive Producer', 'name': 'Larry J. Franco', 'profile_path': None}, {'credit_id': '52fe44bfc3a36847f80a7c89', 'department': 'Writing', 'gender': 2, 'id': 876, 'job': 'Screenplay', 'name': 'Jonathan Hensleigh', 'profile_path': '/l1c4UFD3g0HVWj5f0CxXAvMAGiT.jpg'}, {'credit_id': '52fe44bfc3a36847f80a7cdd', 'department': 'Sound', 'gender': 2, 'id': 1729, 'job': 'Original Music Composer', 'name': 'James Horner', 'profile_path': '/oLOtXxXsYk8X4qq0ud4xVypXudi.jpg'}, {'credit_id': '52fe44bfc3a36847f80a7c7d', 'department': 'Directing', 'gender': 2, 'id': 4945, 'job': 'Director', 'name': 'Joe Johnston', 'profile_path': '/fok4jaO62v5IP6hkpaaAcXuw2H.jpg'}, {'credit_id': '52fe44bfc3a36847f80a7cd7', 'department': 'Editing', 'gender': 2, 'id': 4951, 'job': 'Editor', 'name': 'Robert Dalva', 'profile_path': None}, {'credit_id': '573523bec3a368025100062c', 'department': 'Production', 'gender': 0, 'id': 4952, 'job': 'Casting', 'name': 'Nancy Foy', 'profile_path': '/blCkmS4dqNsbPGuQfozHE6wgWBw.jpg'}, {'credit_id': '5722a924c3a3682d1e000b41', 'department': 'Visual Effects', 'gender': 0, 'id': 8023, 'job': 'Animation Supervisor', 'name': 'Kyle Balda', 'profile_path': '/jR8iAP6uC0V42KbUG87qBIUO3Hj.jpg'}, {'credit_id': '52fe44c0c3a36847f80a7ce3', 'department': 'Art', 'gender': 2, 'id': 9967, 'job': 'Production Design', 'name': 'James D. Bissell', 'profile_path': None}, {'credit_id': '52fe44bfc3a36847f80a7cb9', 'department': 'Production', 'gender': 2, 'id': 9184, 'job': 'Producer', 'name': 'Scott Kroopf', 'profile_path': None}, {'credit_id': '52fe44bfc3a36847f80a7ccb', 'department': 'Production', 'gender': 2, 'id': 9196, 'job': 'Executive Producer', 'name': 'Ted Field', 'profile_path': '/qmB7sZcgRUq7mRFBSTlSsVXh7sH.jpg'}, {'credit_id': '52fe44bfc3a36847f80a7cc5', 'department': 'Production', 'gender': 2, 'id': 18389, 'job': 'Executive Producer', 'name': 'Robert W. Cort', 'profile_path': None}, {'credit_id': '52fe44bfc3a36847f80a7cbf', 'department': 'Camera', 'gender': 2, 'id': 11371, 'job': 'Director of Photography', 'name': 'Thomas E. Ackerman', 'profile_path': '/xFDbxk53icM1ofL4iCIwB4GkUxN.jpg'}, {'credit_id': '52fe44bfc3a36847f80a7c83', 'department': 'Writing', 'gender': 2, 'id': 42356, 'job': 'Novel', 'name': 'Chris van Allsburg', 'profile_path': None}, {'credit_id': '52fe44bfc3a36847f80a7cb3', 'department': 'Production', 'gender': 2, 'id': 42357, 'job': 'Producer', 'name': 'William Teitler', 'profile_path': None}, {'credit_id': '52fe44bfc3a36847f80a7c8f', 'department': 'Writing', 'gender': 2, 'id': 56520, 'job': 'Screenplay', 'name': 'Greg Taylor', 'profile_path': None}, {'credit_id': '52fe44bfc3a36847f80a7c95', 'department': 'Writing', 'gender': 2, 'id': 56521, 'job': 'Screenplay', 'name': 'Jim Strain', 'profile_path': None}]\""
      ]
     },
     "execution_count": 14,
     "metadata": {},
     "output_type": "execute_result"
    }
   ],
   "source": [
    "credits.iloc[1]['crew']\n",
    "# columns : credit_id , department , gender ,id(given from tmbd), job, name,profile_path"
   ]
  },
  {
   "cell_type": "code",
   "execution_count": 15,
   "id": "32444ac3",
   "metadata": {},
   "outputs": [
    {
     "data": {
      "text/plain": [
       "16"
      ]
     },
     "execution_count": 15,
     "metadata": {},
     "output_type": "execute_result"
    }
   ],
   "source": [
    "credits.iloc[1]['crew'].count('credit_id')\n",
    "# 16 key-value pairs"
   ]
  },
  {
   "cell_type": "code",
   "execution_count": 16,
   "id": "1235ae2c",
   "metadata": {},
   "outputs": [
    {
     "data": {
      "text/plain": [
       "cast    0\n",
       "crew    0\n",
       "id      0\n",
       "dtype: int64"
      ]
     },
     "execution_count": 16,
     "metadata": {},
     "output_type": "execute_result"
    }
   ],
   "source": [
    "credits.isna().sum()"
   ]
  },
  {
   "cell_type": "code",
   "execution_count": 17,
   "id": "5554fd48",
   "metadata": {},
   "outputs": [
    {
     "data": {
      "text/html": [
       "<div>\n",
       "<style scoped>\n",
       "    .dataframe tbody tr th:only-of-type {\n",
       "        vertical-align: middle;\n",
       "    }\n",
       "\n",
       "    .dataframe tbody tr th {\n",
       "        vertical-align: top;\n",
       "    }\n",
       "\n",
       "    .dataframe thead th {\n",
       "        text-align: right;\n",
       "    }\n",
       "</style>\n",
       "<table border=\"1\" class=\"dataframe\">\n",
       "  <thead>\n",
       "    <tr style=\"text-align: right;\">\n",
       "      <th></th>\n",
       "      <th>id</th>\n",
       "      <th>keywords</th>\n",
       "    </tr>\n",
       "  </thead>\n",
       "  <tbody>\n",
       "    <tr>\n",
       "      <th>0</th>\n",
       "      <td>862</td>\n",
       "      <td>[{'id': 931, 'name': 'jealousy'}, {'id': 4290,...</td>\n",
       "    </tr>\n",
       "    <tr>\n",
       "      <th>1</th>\n",
       "      <td>8844</td>\n",
       "      <td>[{'id': 10090, 'name': 'board game'}, {'id': 1...</td>\n",
       "    </tr>\n",
       "  </tbody>\n",
       "</table>\n",
       "</div>"
      ],
      "text/plain": [
       "     id                                           keywords\n",
       "0   862  [{'id': 931, 'name': 'jealousy'}, {'id': 4290,...\n",
       "1  8844  [{'id': 10090, 'name': 'board game'}, {'id': 1..."
      ]
     },
     "execution_count": 17,
     "metadata": {},
     "output_type": "execute_result"
    }
   ],
   "source": [
    "Keywords.head(2)"
   ]
  },
  {
   "cell_type": "code",
   "execution_count": 18,
   "id": "79b99e4a",
   "metadata": {},
   "outputs": [
    {
     "data": {
      "text/plain": [
       "(46419, 2)"
      ]
     },
     "execution_count": 18,
     "metadata": {},
     "output_type": "execute_result"
    }
   ],
   "source": [
    "Keywords.shape"
   ]
  },
  {
   "cell_type": "code",
   "execution_count": 19,
   "id": "d4d23ae8",
   "metadata": {},
   "outputs": [
    {
     "data": {
      "text/plain": [
       "\"[{'id': 931, 'name': 'jealousy'}, {'id': 4290, 'name': 'toy'}, {'id': 5202, 'name': 'boy'}, {'id': 6054, 'name': 'friendship'}, {'id': 9713, 'name': 'friends'}, {'id': 9823, 'name': 'rivalry'}, {'id': 165503, 'name': 'boy next door'}, {'id': 170722, 'name': 'new toy'}, {'id': 187065, 'name': 'toy comes to life'}]\""
      ]
     },
     "execution_count": 19,
     "metadata": {},
     "output_type": "execute_result"
    }
   ],
   "source": [
    "Keywords.iloc[0]['keywords']\n",
    "# columns : id(given from tmbd), name"
   ]
  },
  {
   "cell_type": "code",
   "execution_count": 20,
   "id": "e0fd40ee",
   "metadata": {},
   "outputs": [
    {
     "data": {
      "text/plain": [
       "9"
      ]
     },
     "execution_count": 20,
     "metadata": {},
     "output_type": "execute_result"
    }
   ],
   "source": [
    "Keywords.iloc[0]['keywords'].count('id')"
   ]
  },
  {
   "cell_type": "code",
   "execution_count": 21,
   "id": "aade1ccc",
   "metadata": {
    "scrolled": true
   },
   "outputs": [
    {
     "data": {
      "text/plain": [
       "id          0\n",
       "keywords    0\n",
       "dtype: int64"
      ]
     },
     "execution_count": 21,
     "metadata": {},
     "output_type": "execute_result"
    }
   ],
   "source": [
    "Keywords.isna().sum()"
   ]
  },
  {
   "cell_type": "code",
   "execution_count": 22,
   "id": "423b9666",
   "metadata": {},
   "outputs": [],
   "source": [
    "#links.head(2)\n",
    "# imdbid -> movie id given from imdb\n",
    "# tmdbid -> movie id given from tmbd"
   ]
  },
  {
   "cell_type": "code",
   "execution_count": 23,
   "id": "c5852ddd",
   "metadata": {},
   "outputs": [],
   "source": [
    "#links.isna().sum()"
   ]
  },
  {
   "cell_type": "code",
   "execution_count": 24,
   "id": "bf2c79dd",
   "metadata": {},
   "outputs": [
    {
     "data": {
      "text/plain": [
       "(45466, 24)"
      ]
     },
     "execution_count": 24,
     "metadata": {},
     "output_type": "execute_result"
    }
   ],
   "source": [
    "movies_metadata.shape"
   ]
  },
  {
   "cell_type": "code",
   "execution_count": 25,
   "id": "5c52e6d6",
   "metadata": {},
   "outputs": [
    {
     "data": {
      "text/html": [
       "<div>\n",
       "<style scoped>\n",
       "    .dataframe tbody tr th:only-of-type {\n",
       "        vertical-align: middle;\n",
       "    }\n",
       "\n",
       "    .dataframe tbody tr th {\n",
       "        vertical-align: top;\n",
       "    }\n",
       "\n",
       "    .dataframe thead th {\n",
       "        text-align: right;\n",
       "    }\n",
       "</style>\n",
       "<table border=\"1\" class=\"dataframe\">\n",
       "  <thead>\n",
       "    <tr style=\"text-align: right;\">\n",
       "      <th></th>\n",
       "      <th>adult</th>\n",
       "      <th>belongs_to_collection</th>\n",
       "      <th>budget</th>\n",
       "      <th>genres</th>\n",
       "      <th>homepage</th>\n",
       "      <th>id</th>\n",
       "      <th>imdb_id</th>\n",
       "      <th>original_language</th>\n",
       "      <th>original_title</th>\n",
       "      <th>overview</th>\n",
       "      <th>...</th>\n",
       "      <th>release_date</th>\n",
       "      <th>revenue</th>\n",
       "      <th>runtime</th>\n",
       "      <th>spoken_languages</th>\n",
       "      <th>status</th>\n",
       "      <th>tagline</th>\n",
       "      <th>title</th>\n",
       "      <th>video</th>\n",
       "      <th>vote_average</th>\n",
       "      <th>vote_count</th>\n",
       "    </tr>\n",
       "  </thead>\n",
       "  <tbody>\n",
       "    <tr>\n",
       "      <th>0</th>\n",
       "      <td>False</td>\n",
       "      <td>{'id': 10194, 'name': 'Toy Story Collection', ...</td>\n",
       "      <td>30000000</td>\n",
       "      <td>[{'id': 16, 'name': 'Animation'}, {'id': 35, '...</td>\n",
       "      <td>http://toystory.disney.com/toy-story</td>\n",
       "      <td>862</td>\n",
       "      <td>tt0114709</td>\n",
       "      <td>en</td>\n",
       "      <td>Toy Story</td>\n",
       "      <td>Led by Woody, Andy's toys live happily in his ...</td>\n",
       "      <td>...</td>\n",
       "      <td>1995-10-30</td>\n",
       "      <td>373554033.0</td>\n",
       "      <td>81.0</td>\n",
       "      <td>[{'iso_639_1': 'en', 'name': 'English'}]</td>\n",
       "      <td>Released</td>\n",
       "      <td>NaN</td>\n",
       "      <td>Toy Story</td>\n",
       "      <td>False</td>\n",
       "      <td>7.7</td>\n",
       "      <td>5415.0</td>\n",
       "    </tr>\n",
       "    <tr>\n",
       "      <th>1</th>\n",
       "      <td>False</td>\n",
       "      <td>NaN</td>\n",
       "      <td>65000000</td>\n",
       "      <td>[{'id': 12, 'name': 'Adventure'}, {'id': 14, '...</td>\n",
       "      <td>NaN</td>\n",
       "      <td>8844</td>\n",
       "      <td>tt0113497</td>\n",
       "      <td>en</td>\n",
       "      <td>Jumanji</td>\n",
       "      <td>When siblings Judy and Peter discover an encha...</td>\n",
       "      <td>...</td>\n",
       "      <td>1995-12-15</td>\n",
       "      <td>262797249.0</td>\n",
       "      <td>104.0</td>\n",
       "      <td>[{'iso_639_1': 'en', 'name': 'English'}, {'iso...</td>\n",
       "      <td>Released</td>\n",
       "      <td>Roll the dice and unleash the excitement!</td>\n",
       "      <td>Jumanji</td>\n",
       "      <td>False</td>\n",
       "      <td>6.9</td>\n",
       "      <td>2413.0</td>\n",
       "    </tr>\n",
       "    <tr>\n",
       "      <th>2</th>\n",
       "      <td>False</td>\n",
       "      <td>{'id': 119050, 'name': 'Grumpy Old Men Collect...</td>\n",
       "      <td>0</td>\n",
       "      <td>[{'id': 10749, 'name': 'Romance'}, {'id': 35, ...</td>\n",
       "      <td>NaN</td>\n",
       "      <td>15602</td>\n",
       "      <td>tt0113228</td>\n",
       "      <td>en</td>\n",
       "      <td>Grumpier Old Men</td>\n",
       "      <td>A family wedding reignites the ancient feud be...</td>\n",
       "      <td>...</td>\n",
       "      <td>1995-12-22</td>\n",
       "      <td>0.0</td>\n",
       "      <td>101.0</td>\n",
       "      <td>[{'iso_639_1': 'en', 'name': 'English'}]</td>\n",
       "      <td>Released</td>\n",
       "      <td>Still Yelling. Still Fighting. Still Ready for...</td>\n",
       "      <td>Grumpier Old Men</td>\n",
       "      <td>False</td>\n",
       "      <td>6.5</td>\n",
       "      <td>92.0</td>\n",
       "    </tr>\n",
       "    <tr>\n",
       "      <th>3</th>\n",
       "      <td>False</td>\n",
       "      <td>NaN</td>\n",
       "      <td>16000000</td>\n",
       "      <td>[{'id': 35, 'name': 'Comedy'}, {'id': 18, 'nam...</td>\n",
       "      <td>NaN</td>\n",
       "      <td>31357</td>\n",
       "      <td>tt0114885</td>\n",
       "      <td>en</td>\n",
       "      <td>Waiting to Exhale</td>\n",
       "      <td>Cheated on, mistreated and stepped on, the wom...</td>\n",
       "      <td>...</td>\n",
       "      <td>1995-12-22</td>\n",
       "      <td>81452156.0</td>\n",
       "      <td>127.0</td>\n",
       "      <td>[{'iso_639_1': 'en', 'name': 'English'}]</td>\n",
       "      <td>Released</td>\n",
       "      <td>Friends are the people who let you be yourself...</td>\n",
       "      <td>Waiting to Exhale</td>\n",
       "      <td>False</td>\n",
       "      <td>6.1</td>\n",
       "      <td>34.0</td>\n",
       "    </tr>\n",
       "    <tr>\n",
       "      <th>4</th>\n",
       "      <td>False</td>\n",
       "      <td>{'id': 96871, 'name': 'Father of the Bride Col...</td>\n",
       "      <td>0</td>\n",
       "      <td>[{'id': 35, 'name': 'Comedy'}]</td>\n",
       "      <td>NaN</td>\n",
       "      <td>11862</td>\n",
       "      <td>tt0113041</td>\n",
       "      <td>en</td>\n",
       "      <td>Father of the Bride Part II</td>\n",
       "      <td>Just when George Banks has recovered from his ...</td>\n",
       "      <td>...</td>\n",
       "      <td>1995-02-10</td>\n",
       "      <td>76578911.0</td>\n",
       "      <td>106.0</td>\n",
       "      <td>[{'iso_639_1': 'en', 'name': 'English'}]</td>\n",
       "      <td>Released</td>\n",
       "      <td>Just When His World Is Back To Normal... He's ...</td>\n",
       "      <td>Father of the Bride Part II</td>\n",
       "      <td>False</td>\n",
       "      <td>5.7</td>\n",
       "      <td>173.0</td>\n",
       "    </tr>\n",
       "  </tbody>\n",
       "</table>\n",
       "<p>5 rows × 24 columns</p>\n",
       "</div>"
      ],
      "text/plain": [
       "   adult                              belongs_to_collection    budget  \\\n",
       "0  False  {'id': 10194, 'name': 'Toy Story Collection', ...  30000000   \n",
       "1  False                                                NaN  65000000   \n",
       "2  False  {'id': 119050, 'name': 'Grumpy Old Men Collect...         0   \n",
       "3  False                                                NaN  16000000   \n",
       "4  False  {'id': 96871, 'name': 'Father of the Bride Col...         0   \n",
       "\n",
       "                                              genres  \\\n",
       "0  [{'id': 16, 'name': 'Animation'}, {'id': 35, '...   \n",
       "1  [{'id': 12, 'name': 'Adventure'}, {'id': 14, '...   \n",
       "2  [{'id': 10749, 'name': 'Romance'}, {'id': 35, ...   \n",
       "3  [{'id': 35, 'name': 'Comedy'}, {'id': 18, 'nam...   \n",
       "4                     [{'id': 35, 'name': 'Comedy'}]   \n",
       "\n",
       "                               homepage     id    imdb_id original_language  \\\n",
       "0  http://toystory.disney.com/toy-story    862  tt0114709                en   \n",
       "1                                   NaN   8844  tt0113497                en   \n",
       "2                                   NaN  15602  tt0113228                en   \n",
       "3                                   NaN  31357  tt0114885                en   \n",
       "4                                   NaN  11862  tt0113041                en   \n",
       "\n",
       "                original_title  \\\n",
       "0                    Toy Story   \n",
       "1                      Jumanji   \n",
       "2             Grumpier Old Men   \n",
       "3            Waiting to Exhale   \n",
       "4  Father of the Bride Part II   \n",
       "\n",
       "                                            overview  ... release_date  \\\n",
       "0  Led by Woody, Andy's toys live happily in his ...  ...   1995-10-30   \n",
       "1  When siblings Judy and Peter discover an encha...  ...   1995-12-15   \n",
       "2  A family wedding reignites the ancient feud be...  ...   1995-12-22   \n",
       "3  Cheated on, mistreated and stepped on, the wom...  ...   1995-12-22   \n",
       "4  Just when George Banks has recovered from his ...  ...   1995-02-10   \n",
       "\n",
       "       revenue runtime                                   spoken_languages  \\\n",
       "0  373554033.0    81.0           [{'iso_639_1': 'en', 'name': 'English'}]   \n",
       "1  262797249.0   104.0  [{'iso_639_1': 'en', 'name': 'English'}, {'iso...   \n",
       "2          0.0   101.0           [{'iso_639_1': 'en', 'name': 'English'}]   \n",
       "3   81452156.0   127.0           [{'iso_639_1': 'en', 'name': 'English'}]   \n",
       "4   76578911.0   106.0           [{'iso_639_1': 'en', 'name': 'English'}]   \n",
       "\n",
       "     status                                            tagline  \\\n",
       "0  Released                                                NaN   \n",
       "1  Released          Roll the dice and unleash the excitement!   \n",
       "2  Released  Still Yelling. Still Fighting. Still Ready for...   \n",
       "3  Released  Friends are the people who let you be yourself...   \n",
       "4  Released  Just When His World Is Back To Normal... He's ...   \n",
       "\n",
       "                         title  video vote_average vote_count  \n",
       "0                    Toy Story  False          7.7     5415.0  \n",
       "1                      Jumanji  False          6.9     2413.0  \n",
       "2             Grumpier Old Men  False          6.5       92.0  \n",
       "3            Waiting to Exhale  False          6.1       34.0  \n",
       "4  Father of the Bride Part II  False          5.7      173.0  \n",
       "\n",
       "[5 rows x 24 columns]"
      ]
     },
     "execution_count": 25,
     "metadata": {},
     "output_type": "execute_result"
    }
   ],
   "source": [
    "movies_metadata.head(5)"
   ]
  },
  {
   "cell_type": "code",
   "execution_count": 26,
   "id": "35a6a24d",
   "metadata": {},
   "outputs": [
    {
     "data": {
      "text/plain": [
       "adult                     object\n",
       "belongs_to_collection     object\n",
       "budget                    object\n",
       "genres                    object\n",
       "homepage                  object\n",
       "id                        object\n",
       "imdb_id                   object\n",
       "original_language         object\n",
       "original_title            object\n",
       "overview                  object\n",
       "popularity                object\n",
       "poster_path               object\n",
       "production_companies      object\n",
       "production_countries      object\n",
       "release_date              object\n",
       "revenue                  float64\n",
       "runtime                  float64\n",
       "spoken_languages          object\n",
       "status                    object\n",
       "tagline                   object\n",
       "title                     object\n",
       "video                     object\n",
       "vote_average             float64\n",
       "vote_count               float64\n",
       "dtype: object"
      ]
     },
     "execution_count": 26,
     "metadata": {},
     "output_type": "execute_result"
    }
   ],
   "source": [
    "movies_metadata.dtypes\n",
    "# budget -> to be int\n",
    "# release_date -> to be datetime\n",
    "# replace appropriate data to the attributes"
   ]
  },
  {
   "cell_type": "code",
   "execution_count": 27,
   "id": "1dc96c5f",
   "metadata": {},
   "outputs": [
    {
     "data": {
      "text/plain": [
       "False                                                                                                                             45454\n",
       "True                                                                                                                                  9\n",
       " - Written by Ørnås                                                                                                                   1\n",
       " Rune Balot goes to a casino connected to the October corporation to try to wrap up her case once and for all.                        1\n",
       " Avalanche Sharks tells the story of a bikini contest that turns into a horrifying affair when it is hit by a shark avalanche.        1\n",
       "Name: adult, dtype: int64"
      ]
     },
     "execution_count": 27,
     "metadata": {},
     "output_type": "execute_result"
    }
   ],
   "source": [
    "movies_metadata['adult'].value_counts()"
   ]
  },
  {
   "cell_type": "code",
   "execution_count": 28,
   "id": "2beeed9f",
   "metadata": {},
   "outputs": [
    {
     "data": {
      "text/plain": [
       "en       32269\n",
       "fr        2438\n",
       "it        1529\n",
       "ja        1350\n",
       "de        1080\n",
       "         ...  \n",
       "zu           1\n",
       "qu           1\n",
       "104.0        1\n",
       "la           1\n",
       "si           1\n",
       "Name: original_language, Length: 92, dtype: int64"
      ]
     },
     "execution_count": 28,
     "metadata": {},
     "output_type": "execute_result"
    }
   ],
   "source": [
    "movies_metadata['original_language'].value_counts()"
   ]
  },
  {
   "cell_type": "code",
   "execution_count": 29,
   "id": "91e722a5",
   "metadata": {},
   "outputs": [
    {
     "data": {
      "text/plain": [
       "Released           45014\n",
       "Rumored              230\n",
       "Post Production       98\n",
       "In Production         20\n",
       "Planned               15\n",
       "Canceled               2\n",
       "Name: status, dtype: int64"
      ]
     },
     "execution_count": 29,
     "metadata": {},
     "output_type": "execute_result"
    }
   ],
   "source": [
    "movies_metadata['status'].value_counts()"
   ]
  },
  {
   "cell_type": "code",
   "execution_count": 30,
   "id": "01392da3",
   "metadata": {},
   "outputs": [
    {
     "data": {
      "text/plain": [
       "False    45367\n",
       "True        93\n",
       "Name: video, dtype: int64"
      ]
     },
     "execution_count": 30,
     "metadata": {},
     "output_type": "execute_result"
    }
   ],
   "source": [
    "movies_metadata['video'].value_counts()"
   ]
  },
  {
   "cell_type": "code",
   "execution_count": 31,
   "id": "74cc9da4",
   "metadata": {},
   "outputs": [
    {
     "data": {
      "text/html": [
       "<div>\n",
       "<style scoped>\n",
       "    .dataframe tbody tr th:only-of-type {\n",
       "        vertical-align: middle;\n",
       "    }\n",
       "\n",
       "    .dataframe tbody tr th {\n",
       "        vertical-align: top;\n",
       "    }\n",
       "\n",
       "    .dataframe thead th {\n",
       "        text-align: right;\n",
       "    }\n",
       "</style>\n",
       "<table border=\"1\" class=\"dataframe\">\n",
       "  <thead>\n",
       "    <tr style=\"text-align: right;\">\n",
       "      <th></th>\n",
       "      <th>revenue</th>\n",
       "      <th>runtime</th>\n",
       "      <th>vote_average</th>\n",
       "      <th>vote_count</th>\n",
       "    </tr>\n",
       "  </thead>\n",
       "  <tbody>\n",
       "    <tr>\n",
       "      <th>count</th>\n",
       "      <td>4.546000e+04</td>\n",
       "      <td>45203.000000</td>\n",
       "      <td>45460.000000</td>\n",
       "      <td>45460.000000</td>\n",
       "    </tr>\n",
       "    <tr>\n",
       "      <th>mean</th>\n",
       "      <td>1.120935e+07</td>\n",
       "      <td>94.128199</td>\n",
       "      <td>5.618207</td>\n",
       "      <td>109.897338</td>\n",
       "    </tr>\n",
       "    <tr>\n",
       "      <th>std</th>\n",
       "      <td>6.433225e+07</td>\n",
       "      <td>38.407810</td>\n",
       "      <td>1.924216</td>\n",
       "      <td>491.310374</td>\n",
       "    </tr>\n",
       "    <tr>\n",
       "      <th>min</th>\n",
       "      <td>0.000000e+00</td>\n",
       "      <td>0.000000</td>\n",
       "      <td>0.000000</td>\n",
       "      <td>0.000000</td>\n",
       "    </tr>\n",
       "    <tr>\n",
       "      <th>25%</th>\n",
       "      <td>0.000000e+00</td>\n",
       "      <td>85.000000</td>\n",
       "      <td>5.000000</td>\n",
       "      <td>3.000000</td>\n",
       "    </tr>\n",
       "    <tr>\n",
       "      <th>50%</th>\n",
       "      <td>0.000000e+00</td>\n",
       "      <td>95.000000</td>\n",
       "      <td>6.000000</td>\n",
       "      <td>10.000000</td>\n",
       "    </tr>\n",
       "    <tr>\n",
       "      <th>75%</th>\n",
       "      <td>0.000000e+00</td>\n",
       "      <td>107.000000</td>\n",
       "      <td>6.800000</td>\n",
       "      <td>34.000000</td>\n",
       "    </tr>\n",
       "    <tr>\n",
       "      <th>max</th>\n",
       "      <td>2.787965e+09</td>\n",
       "      <td>1256.000000</td>\n",
       "      <td>10.000000</td>\n",
       "      <td>14075.000000</td>\n",
       "    </tr>\n",
       "  </tbody>\n",
       "</table>\n",
       "</div>"
      ],
      "text/plain": [
       "            revenue       runtime  vote_average    vote_count\n",
       "count  4.546000e+04  45203.000000  45460.000000  45460.000000\n",
       "mean   1.120935e+07     94.128199      5.618207    109.897338\n",
       "std    6.433225e+07     38.407810      1.924216    491.310374\n",
       "min    0.000000e+00      0.000000      0.000000      0.000000\n",
       "25%    0.000000e+00     85.000000      5.000000      3.000000\n",
       "50%    0.000000e+00     95.000000      6.000000     10.000000\n",
       "75%    0.000000e+00    107.000000      6.800000     34.000000\n",
       "max    2.787965e+09   1256.000000     10.000000  14075.000000"
      ]
     },
     "execution_count": 31,
     "metadata": {},
     "output_type": "execute_result"
    }
   ],
   "source": [
    "movies_metadata.describe()"
   ]
  },
  {
   "cell_type": "code",
   "execution_count": 32,
   "id": "66bc3ed4",
   "metadata": {},
   "outputs": [
    {
     "data": {
      "text/plain": [
       "\"{'id': 10194, 'name': 'Toy Story Collection', 'poster_path': '/7G9915LfUQ2lVfwMEEhDsn3kT4B.jpg', 'backdrop_path': '/9FBwqcd9IRruEDUrTdcaafOMKUq.jpg'}\""
      ]
     },
     "execution_count": 32,
     "metadata": {},
     "output_type": "execute_result"
    }
   ],
   "source": [
    "movies_metadata.iloc[0]['belongs_to_collection']\n",
    "# columns : id , name , poster_path , backdrop_path\n"
   ]
  },
  {
   "cell_type": "code",
   "execution_count": 33,
   "id": "e36ef352",
   "metadata": {},
   "outputs": [
    {
     "data": {
      "text/plain": [
       "\"[{'id': 16, 'name': 'Animation'}, {'id': 35, 'name': 'Comedy'}, {'id': 10751, 'name': 'Family'}]\""
      ]
     },
     "execution_count": 33,
     "metadata": {},
     "output_type": "execute_result"
    }
   ],
   "source": [
    "movies_metadata.iloc[0]['genres']"
   ]
  },
  {
   "cell_type": "code",
   "execution_count": 34,
   "id": "2cca36e4",
   "metadata": {},
   "outputs": [
    {
     "data": {
      "text/plain": [
       "\"[{'iso_639_1': 'en', 'name': 'English'}]\""
      ]
     },
     "execution_count": 34,
     "metadata": {},
     "output_type": "execute_result"
    }
   ],
   "source": [
    "movies_metadata.iloc[0]['spoken_languages']"
   ]
  },
  {
   "cell_type": "code",
   "execution_count": 35,
   "id": "3bf8d9c6",
   "metadata": {
    "scrolled": true
   },
   "outputs": [
    {
     "data": {
      "text/plain": [
       "adult                        0\n",
       "belongs_to_collection    40972\n",
       "budget                       0\n",
       "genres                       0\n",
       "homepage                 37684\n",
       "id                           0\n",
       "imdb_id                     17\n",
       "original_language           11\n",
       "original_title               0\n",
       "overview                   954\n",
       "popularity                   5\n",
       "poster_path                386\n",
       "production_companies         3\n",
       "production_countries         3\n",
       "release_date                87\n",
       "revenue                      6\n",
       "runtime                    263\n",
       "spoken_languages             6\n",
       "status                      87\n",
       "tagline                  25054\n",
       "title                        6\n",
       "video                        6\n",
       "vote_average                 6\n",
       "vote_count                   6\n",
       "dtype: int64"
      ]
     },
     "execution_count": 35,
     "metadata": {},
     "output_type": "execute_result"
    }
   ],
   "source": [
    "movies_metadata.isna().sum()\n",
    "# actual movie_metadata null values count"
   ]
  },
  {
   "cell_type": "code",
   "execution_count": 36,
   "id": "d0265f82",
   "metadata": {},
   "outputs": [
    {
     "data": {
      "text/plain": [
       "(26024289, 4)"
      ]
     },
     "execution_count": 36,
     "metadata": {},
     "output_type": "execute_result"
    }
   ],
   "source": [
    "ratings.shape"
   ]
  },
  {
   "cell_type": "code",
   "execution_count": 37,
   "id": "5701a8bb",
   "metadata": {},
   "outputs": [
    {
     "data": {
      "text/html": [
       "<div>\n",
       "<style scoped>\n",
       "    .dataframe tbody tr th:only-of-type {\n",
       "        vertical-align: middle;\n",
       "    }\n",
       "\n",
       "    .dataframe tbody tr th {\n",
       "        vertical-align: top;\n",
       "    }\n",
       "\n",
       "    .dataframe thead th {\n",
       "        text-align: right;\n",
       "    }\n",
       "</style>\n",
       "<table border=\"1\" class=\"dataframe\">\n",
       "  <thead>\n",
       "    <tr style=\"text-align: right;\">\n",
       "      <th></th>\n",
       "      <th>userId</th>\n",
       "      <th>movieId</th>\n",
       "      <th>rating</th>\n",
       "      <th>timestamp</th>\n",
       "    </tr>\n",
       "  </thead>\n",
       "  <tbody>\n",
       "    <tr>\n",
       "      <th>0</th>\n",
       "      <td>1</td>\n",
       "      <td>110</td>\n",
       "      <td>1.0</td>\n",
       "      <td>1425941529</td>\n",
       "    </tr>\n",
       "    <tr>\n",
       "      <th>1</th>\n",
       "      <td>1</td>\n",
       "      <td>147</td>\n",
       "      <td>4.5</td>\n",
       "      <td>1425942435</td>\n",
       "    </tr>\n",
       "  </tbody>\n",
       "</table>\n",
       "</div>"
      ],
      "text/plain": [
       "   userId  movieId  rating   timestamp\n",
       "0       1      110     1.0  1425941529\n",
       "1       1      147     4.5  1425942435"
      ]
     },
     "execution_count": 37,
     "metadata": {},
     "output_type": "execute_result"
    }
   ],
   "source": [
    "ratings.head(2)"
   ]
  },
  {
   "cell_type": "code",
   "execution_count": 38,
   "id": "ca5c3ef8",
   "metadata": {},
   "outputs": [
    {
     "data": {
      "text/plain": [
       "userId         int64\n",
       "movieId        int64\n",
       "rating       float64\n",
       "timestamp      int64\n",
       "dtype: object"
      ]
     },
     "execution_count": 38,
     "metadata": {},
     "output_type": "execute_result"
    }
   ],
   "source": [
    "ratings.dtypes\n",
    "# timestamp seems irrevelant"
   ]
  },
  {
   "cell_type": "markdown",
   "id": "382e5728",
   "metadata": {},
   "source": [
    "# Data Exploration and Data Cleaning"
   ]
  },
  {
   "cell_type": "raw",
   "id": "4eee4651",
   "metadata": {},
   "source": [
    "Ratings Dataset"
   ]
  },
  {
   "cell_type": "code",
   "execution_count": 39,
   "id": "53d2642b",
   "metadata": {},
   "outputs": [
    {
     "data": {
      "text/html": [
       "<div>\n",
       "<style scoped>\n",
       "    .dataframe tbody tr th:only-of-type {\n",
       "        vertical-align: middle;\n",
       "    }\n",
       "\n",
       "    .dataframe tbody tr th {\n",
       "        vertical-align: top;\n",
       "    }\n",
       "\n",
       "    .dataframe thead th {\n",
       "        text-align: right;\n",
       "    }\n",
       "</style>\n",
       "<table border=\"1\" class=\"dataframe\">\n",
       "  <thead>\n",
       "    <tr style=\"text-align: right;\">\n",
       "      <th></th>\n",
       "      <th>userId</th>\n",
       "      <th>movieId</th>\n",
       "      <th>rating</th>\n",
       "      <th>timestamp</th>\n",
       "    </tr>\n",
       "  </thead>\n",
       "  <tbody>\n",
       "    <tr>\n",
       "      <th>0</th>\n",
       "      <td>1</td>\n",
       "      <td>110</td>\n",
       "      <td>1.0</td>\n",
       "      <td>1425941529</td>\n",
       "    </tr>\n",
       "    <tr>\n",
       "      <th>1</th>\n",
       "      <td>1</td>\n",
       "      <td>147</td>\n",
       "      <td>4.5</td>\n",
       "      <td>1425942435</td>\n",
       "    </tr>\n",
       "    <tr>\n",
       "      <th>2</th>\n",
       "      <td>1</td>\n",
       "      <td>858</td>\n",
       "      <td>5.0</td>\n",
       "      <td>1425941523</td>\n",
       "    </tr>\n",
       "    <tr>\n",
       "      <th>3</th>\n",
       "      <td>1</td>\n",
       "      <td>1221</td>\n",
       "      <td>5.0</td>\n",
       "      <td>1425941546</td>\n",
       "    </tr>\n",
       "    <tr>\n",
       "      <th>4</th>\n",
       "      <td>1</td>\n",
       "      <td>1246</td>\n",
       "      <td>5.0</td>\n",
       "      <td>1425941556</td>\n",
       "    </tr>\n",
       "  </tbody>\n",
       "</table>\n",
       "</div>"
      ],
      "text/plain": [
       "   userId  movieId  rating   timestamp\n",
       "0       1      110     1.0  1425941529\n",
       "1       1      147     4.5  1425942435\n",
       "2       1      858     5.0  1425941523\n",
       "3       1     1221     5.0  1425941546\n",
       "4       1     1246     5.0  1425941556"
      ]
     },
     "execution_count": 39,
     "metadata": {},
     "output_type": "execute_result"
    }
   ],
   "source": [
    "ratings_new = ratings.copy()\n",
    "ratings_new.head(5)\n",
    "\n",
    "# ratings_new is the duplicate of the ratings dataset"
   ]
  },
  {
   "cell_type": "code",
   "execution_count": 40,
   "id": "387b8d8a",
   "metadata": {},
   "outputs": [
    {
     "data": {
      "text/plain": [
       "userId       0\n",
       "movieId      0\n",
       "rating       0\n",
       "timestamp    0\n",
       "dtype: int64"
      ]
     },
     "execution_count": 40,
     "metadata": {},
     "output_type": "execute_result"
    }
   ],
   "source": [
    "ratings_new.isna().sum()"
   ]
  },
  {
   "cell_type": "code",
   "execution_count": 41,
   "id": "8aca0dfb",
   "metadata": {},
   "outputs": [],
   "source": [
    "# removing timestamp column\n",
    "ratings_new.drop(['timestamp'], axis=1,inplace=True)"
   ]
  },
  {
   "cell_type": "code",
   "execution_count": 42,
   "id": "29c0e04e",
   "metadata": {},
   "outputs": [
    {
     "data": {
      "text/html": [
       "<div>\n",
       "<style scoped>\n",
       "    .dataframe tbody tr th:only-of-type {\n",
       "        vertical-align: middle;\n",
       "    }\n",
       "\n",
       "    .dataframe tbody tr th {\n",
       "        vertical-align: top;\n",
       "    }\n",
       "\n",
       "    .dataframe thead th {\n",
       "        text-align: right;\n",
       "    }\n",
       "</style>\n",
       "<table border=\"1\" class=\"dataframe\">\n",
       "  <thead>\n",
       "    <tr style=\"text-align: right;\">\n",
       "      <th></th>\n",
       "      <th>userId</th>\n",
       "      <th>movieId</th>\n",
       "      <th>rating</th>\n",
       "    </tr>\n",
       "  </thead>\n",
       "  <tbody>\n",
       "    <tr>\n",
       "      <th>0</th>\n",
       "      <td>1</td>\n",
       "      <td>110</td>\n",
       "      <td>1.0</td>\n",
       "    </tr>\n",
       "    <tr>\n",
       "      <th>1</th>\n",
       "      <td>1</td>\n",
       "      <td>147</td>\n",
       "      <td>4.5</td>\n",
       "    </tr>\n",
       "    <tr>\n",
       "      <th>2</th>\n",
       "      <td>1</td>\n",
       "      <td>858</td>\n",
       "      <td>5.0</td>\n",
       "    </tr>\n",
       "    <tr>\n",
       "      <th>3</th>\n",
       "      <td>1</td>\n",
       "      <td>1221</td>\n",
       "      <td>5.0</td>\n",
       "    </tr>\n",
       "    <tr>\n",
       "      <th>4</th>\n",
       "      <td>1</td>\n",
       "      <td>1246</td>\n",
       "      <td>5.0</td>\n",
       "    </tr>\n",
       "  </tbody>\n",
       "</table>\n",
       "</div>"
      ],
      "text/plain": [
       "   userId  movieId  rating\n",
       "0       1      110     1.0\n",
       "1       1      147     4.5\n",
       "2       1      858     5.0\n",
       "3       1     1221     5.0\n",
       "4       1     1246     5.0"
      ]
     },
     "execution_count": 42,
     "metadata": {},
     "output_type": "execute_result"
    }
   ],
   "source": [
    "ratings_new.head(5)"
   ]
  },
  {
   "cell_type": "code",
   "execution_count": 43,
   "id": "e0daa38e",
   "metadata": {},
   "outputs": [
    {
     "data": {
      "text/plain": [
       "Index(['userId', 'movieId', 'rating'], dtype='object')"
      ]
     },
     "execution_count": 43,
     "metadata": {},
     "output_type": "execute_result"
    }
   ],
   "source": [
    "ratings_new.columns"
   ]
  },
  {
   "cell_type": "code",
   "execution_count": 44,
   "id": "55802cca",
   "metadata": {},
   "outputs": [
    {
     "data": {
      "text/plain": [
       "userId       int64\n",
       "movieId      int64\n",
       "rating     float64\n",
       "dtype: object"
      ]
     },
     "execution_count": 44,
     "metadata": {},
     "output_type": "execute_result"
    }
   ],
   "source": [
    "ratings_new.dtypes\n",
    "# movieId -> it is tmbdid"
   ]
  },
  {
   "cell_type": "code",
   "execution_count": 45,
   "id": "abfe9c8a",
   "metadata": {},
   "outputs": [],
   "source": [
    "#ratings_new.to_csv('ratings_data.csv',index=False)"
   ]
  },
  {
   "cell_type": "markdown",
   "id": "9341ac04",
   "metadata": {},
   "source": [
    "Keywords and Credits does not have null values."
   ]
  },
  {
   "cell_type": "markdown",
   "id": "429ceed8",
   "metadata": {},
   "source": [
    "Movie_Metadata dataset"
   ]
  },
  {
   "cell_type": "code",
   "execution_count": 46,
   "id": "cb3d8cf0",
   "metadata": {},
   "outputs": [
    {
     "data": {
      "text/html": [
       "<div>\n",
       "<style scoped>\n",
       "    .dataframe tbody tr th:only-of-type {\n",
       "        vertical-align: middle;\n",
       "    }\n",
       "\n",
       "    .dataframe tbody tr th {\n",
       "        vertical-align: top;\n",
       "    }\n",
       "\n",
       "    .dataframe thead th {\n",
       "        text-align: right;\n",
       "    }\n",
       "</style>\n",
       "<table border=\"1\" class=\"dataframe\">\n",
       "  <thead>\n",
       "    <tr style=\"text-align: right;\">\n",
       "      <th></th>\n",
       "      <th>adult</th>\n",
       "      <th>belongs_to_collection</th>\n",
       "      <th>budget</th>\n",
       "      <th>genres</th>\n",
       "      <th>homepage</th>\n",
       "      <th>id</th>\n",
       "      <th>imdb_id</th>\n",
       "      <th>original_language</th>\n",
       "      <th>original_title</th>\n",
       "      <th>overview</th>\n",
       "      <th>...</th>\n",
       "      <th>release_date</th>\n",
       "      <th>revenue</th>\n",
       "      <th>runtime</th>\n",
       "      <th>spoken_languages</th>\n",
       "      <th>status</th>\n",
       "      <th>tagline</th>\n",
       "      <th>title</th>\n",
       "      <th>video</th>\n",
       "      <th>vote_average</th>\n",
       "      <th>vote_count</th>\n",
       "    </tr>\n",
       "  </thead>\n",
       "  <tbody>\n",
       "    <tr>\n",
       "      <th>0</th>\n",
       "      <td>False</td>\n",
       "      <td>{'id': 10194, 'name': 'Toy Story Collection', ...</td>\n",
       "      <td>30000000</td>\n",
       "      <td>[{'id': 16, 'name': 'Animation'}, {'id': 35, '...</td>\n",
       "      <td>http://toystory.disney.com/toy-story</td>\n",
       "      <td>862</td>\n",
       "      <td>tt0114709</td>\n",
       "      <td>en</td>\n",
       "      <td>Toy Story</td>\n",
       "      <td>Led by Woody, Andy's toys live happily in his ...</td>\n",
       "      <td>...</td>\n",
       "      <td>1995-10-30</td>\n",
       "      <td>373554033.0</td>\n",
       "      <td>81.0</td>\n",
       "      <td>[{'iso_639_1': 'en', 'name': 'English'}]</td>\n",
       "      <td>Released</td>\n",
       "      <td>NaN</td>\n",
       "      <td>Toy Story</td>\n",
       "      <td>False</td>\n",
       "      <td>7.7</td>\n",
       "      <td>5415.0</td>\n",
       "    </tr>\n",
       "    <tr>\n",
       "      <th>1</th>\n",
       "      <td>False</td>\n",
       "      <td>NaN</td>\n",
       "      <td>65000000</td>\n",
       "      <td>[{'id': 12, 'name': 'Adventure'}, {'id': 14, '...</td>\n",
       "      <td>NaN</td>\n",
       "      <td>8844</td>\n",
       "      <td>tt0113497</td>\n",
       "      <td>en</td>\n",
       "      <td>Jumanji</td>\n",
       "      <td>When siblings Judy and Peter discover an encha...</td>\n",
       "      <td>...</td>\n",
       "      <td>1995-12-15</td>\n",
       "      <td>262797249.0</td>\n",
       "      <td>104.0</td>\n",
       "      <td>[{'iso_639_1': 'en', 'name': 'English'}, {'iso...</td>\n",
       "      <td>Released</td>\n",
       "      <td>Roll the dice and unleash the excitement!</td>\n",
       "      <td>Jumanji</td>\n",
       "      <td>False</td>\n",
       "      <td>6.9</td>\n",
       "      <td>2413.0</td>\n",
       "    </tr>\n",
       "  </tbody>\n",
       "</table>\n",
       "<p>2 rows × 24 columns</p>\n",
       "</div>"
      ],
      "text/plain": [
       "   adult                              belongs_to_collection    budget  \\\n",
       "0  False  {'id': 10194, 'name': 'Toy Story Collection', ...  30000000   \n",
       "1  False                                                NaN  65000000   \n",
       "\n",
       "                                              genres  \\\n",
       "0  [{'id': 16, 'name': 'Animation'}, {'id': 35, '...   \n",
       "1  [{'id': 12, 'name': 'Adventure'}, {'id': 14, '...   \n",
       "\n",
       "                               homepage    id    imdb_id original_language  \\\n",
       "0  http://toystory.disney.com/toy-story   862  tt0114709                en   \n",
       "1                                   NaN  8844  tt0113497                en   \n",
       "\n",
       "  original_title                                           overview  ...  \\\n",
       "0      Toy Story  Led by Woody, Andy's toys live happily in his ...  ...   \n",
       "1        Jumanji  When siblings Judy and Peter discover an encha...  ...   \n",
       "\n",
       "  release_date      revenue runtime  \\\n",
       "0   1995-10-30  373554033.0    81.0   \n",
       "1   1995-12-15  262797249.0   104.0   \n",
       "\n",
       "                                    spoken_languages    status  \\\n",
       "0           [{'iso_639_1': 'en', 'name': 'English'}]  Released   \n",
       "1  [{'iso_639_1': 'en', 'name': 'English'}, {'iso...  Released   \n",
       "\n",
       "                                     tagline      title  video vote_average  \\\n",
       "0                                        NaN  Toy Story  False          7.7   \n",
       "1  Roll the dice and unleash the excitement!    Jumanji  False          6.9   \n",
       "\n",
       "  vote_count  \n",
       "0     5415.0  \n",
       "1     2413.0  \n",
       "\n",
       "[2 rows x 24 columns]"
      ]
     },
     "execution_count": 46,
     "metadata": {},
     "output_type": "execute_result"
    }
   ],
   "source": [
    "metadata = movies_metadata.copy()\n",
    "metadata.head(2)"
   ]
  },
  {
   "cell_type": "code",
   "execution_count": 47,
   "id": "23aa7f90",
   "metadata": {},
   "outputs": [
    {
     "data": {
      "text/plain": [
       "adult                     object\n",
       "belongs_to_collection     object\n",
       "budget                    object\n",
       "genres                    object\n",
       "homepage                  object\n",
       "id                        object\n",
       "imdb_id                   object\n",
       "original_language         object\n",
       "original_title            object\n",
       "overview                  object\n",
       "popularity                object\n",
       "poster_path               object\n",
       "production_companies      object\n",
       "production_countries      object\n",
       "release_date              object\n",
       "revenue                  float64\n",
       "runtime                  float64\n",
       "spoken_languages          object\n",
       "status                    object\n",
       "tagline                   object\n",
       "title                     object\n",
       "video                     object\n",
       "vote_average             float64\n",
       "vote_count               float64\n",
       "dtype: object"
      ]
     },
     "execution_count": 47,
     "metadata": {},
     "output_type": "execute_result"
    }
   ],
   "source": [
    "metadata.dtypes"
   ]
  },
  {
   "cell_type": "code",
   "execution_count": 48,
   "id": "6f066317",
   "metadata": {},
   "outputs": [
    {
     "data": {
      "text/plain": [
       "Index(['adult', 'belongs_to_collection', 'budget', 'genres', 'homepage', 'id',\n",
       "       'imdb_id', 'original_language', 'original_title', 'overview',\n",
       "       'popularity', 'poster_path', 'production_companies',\n",
       "       'production_countries', 'release_date', 'revenue', 'runtime',\n",
       "       'spoken_languages', 'status', 'tagline', 'title', 'video',\n",
       "       'vote_average', 'vote_count'],\n",
       "      dtype='object')"
      ]
     },
     "execution_count": 48,
     "metadata": {},
     "output_type": "execute_result"
    }
   ],
   "source": [
    "metadata.columns"
   ]
  },
  {
   "cell_type": "code",
   "execution_count": 49,
   "id": "41e74f1c",
   "metadata": {},
   "outputs": [
    {
     "data": {
      "text/plain": [
       "False                                                                                                                             45454\n",
       "True                                                                                                                                  9\n",
       " - Written by Ørnås                                                                                                                   1\n",
       " Rune Balot goes to a casino connected to the October corporation to try to wrap up her case once and for all.                        1\n",
       " Avalanche Sharks tells the story of a bikini contest that turns into a horrifying affair when it is hit by a shark avalanche.        1\n",
       "Name: adult, dtype: int64"
      ]
     },
     "execution_count": 49,
     "metadata": {},
     "output_type": "execute_result"
    }
   ],
   "source": [
    "metadata.adult.value_counts()"
   ]
  },
  {
   "cell_type": "code",
   "execution_count": 50,
   "id": "669056fd",
   "metadata": {},
   "outputs": [],
   "source": [
    "# lets format the adult -> True or False "
   ]
  },
  {
   "cell_type": "code",
   "execution_count": 51,
   "id": "3834cb43",
   "metadata": {},
   "outputs": [
    {
     "data": {
      "text/plain": [
       "0"
      ]
     },
     "execution_count": 51,
     "metadata": {},
     "output_type": "execute_result"
    }
   ],
   "source": [
    "metadata.adult.isna().sum()\n",
    "#no missing values"
   ]
  },
  {
   "cell_type": "code",
   "execution_count": 52,
   "id": "75be6d7e",
   "metadata": {},
   "outputs": [],
   "source": [
    "metadata.replace(to_replace=\" - Written by Ørnås\", value=\"False\", inplace=True)\n",
    "metadata.replace(to_replace=\" Rune Balot goes to a casino connected to the October corporation to try to wrap up her case once and for all.\", value=\"False\", inplace=True)\n",
    "metadata.replace(to_replace=\" Avalanche Sharks tells the story of a bikini contest that turns into a horrifying affair when it is hit by a shark avalanche.\", value=\"True\", inplace=True)"
   ]
  },
  {
   "cell_type": "code",
   "execution_count": 53,
   "id": "a4215aba",
   "metadata": {},
   "outputs": [
    {
     "data": {
      "text/plain": [
       "False    45456\n",
       "True        10\n",
       "Name: adult, dtype: int64"
      ]
     },
     "execution_count": 53,
     "metadata": {},
     "output_type": "execute_result"
    }
   ],
   "source": [
    "metadata.adult.value_counts()"
   ]
  },
  {
   "cell_type": "code",
   "execution_count": 54,
   "id": "4f4c452a",
   "metadata": {},
   "outputs": [],
   "source": [
    "# converting budget datatype"
   ]
  },
  {
   "cell_type": "code",
   "execution_count": 55,
   "id": "2f533c11",
   "metadata": {},
   "outputs": [],
   "source": [
    "metadata.replace(to_replace=\"/ff9qCepilowshEtG2GYWwzt2bs4.jpg\", value=0, inplace=True)\n",
    "metadata.replace(to_replace=\"/zV8bHuSL6WXoD6FWogP9j4x80bL.jpg\", value=0, inplace=True)\n",
    "metadata.replace(to_replace=\"/zaSf5OG7V8X8gqFvly88zDdRm46.jpg\", value=0, inplace=True)"
   ]
  },
  {
   "cell_type": "code",
   "execution_count": 56,
   "id": "b661b9cb",
   "metadata": {},
   "outputs": [],
   "source": [
    "metadata['budget'] = pd.to_numeric(metadata['budget'],errors='coerce')"
   ]
  },
  {
   "cell_type": "code",
   "execution_count": 57,
   "id": "57dbd2e7",
   "metadata": {},
   "outputs": [
    {
     "data": {
      "text/plain": [
       "en       32269\n",
       "fr        2438\n",
       "it        1529\n",
       "ja        1350\n",
       "de        1080\n",
       "         ...  \n",
       "zu           1\n",
       "qu           1\n",
       "104.0        1\n",
       "la           1\n",
       "si           1\n",
       "Name: original_language, Length: 92, dtype: int64"
      ]
     },
     "execution_count": 57,
     "metadata": {},
     "output_type": "execute_result"
    }
   ],
   "source": [
    "metadata.original_language.value_counts()  \n",
    "# it follows ISO 639-1 [two letter or three letter abbreviations]"
   ]
  },
  {
   "cell_type": "code",
   "execution_count": 58,
   "id": "40820c69",
   "metadata": {},
   "outputs": [
    {
     "data": {
      "text/plain": [
       "0    21.946943\n",
       "1    17.015539\n",
       "2      11.7129\n",
       "3     3.859495\n",
       "4     8.387519\n",
       "Name: popularity, dtype: object"
      ]
     },
     "execution_count": 58,
     "metadata": {},
     "output_type": "execute_result"
    }
   ],
   "source": [
    "metadata.popularity.head(5)\n",
    "# popularity score assigned by tmbd "
   ]
  },
  {
   "cell_type": "code",
   "execution_count": 59,
   "id": "a2406450",
   "metadata": {},
   "outputs": [],
   "source": [
    "metadata['popularity'] = metadata['popularity'].apply(pd.to_numeric,errors='coerce')"
   ]
  },
  {
   "cell_type": "code",
   "execution_count": 60,
   "id": "5c494121",
   "metadata": {},
   "outputs": [
    {
     "data": {
      "text/plain": [
       "dtype('float64')"
      ]
     },
     "execution_count": 60,
     "metadata": {},
     "output_type": "execute_result"
    }
   ],
   "source": [
    "metadata.popularity.dtype"
   ]
  },
  {
   "cell_type": "code",
   "execution_count": 61,
   "id": "b0748884",
   "metadata": {},
   "outputs": [
    {
     "data": {
      "text/plain": [
       "0    [{'iso_3166_1': 'US', 'name': 'United States o...\n",
       "1    [{'iso_3166_1': 'US', 'name': 'United States o...\n",
       "2    [{'iso_3166_1': 'US', 'name': 'United States o...\n",
       "3    [{'iso_3166_1': 'US', 'name': 'United States o...\n",
       "Name: production_countries, dtype: object"
      ]
     },
     "execution_count": 61,
     "metadata": {},
     "output_type": "execute_result"
    }
   ],
   "source": [
    "metadata.production_countries.head(4)"
   ]
  },
  {
   "cell_type": "code",
   "execution_count": 62,
   "id": "00a60bef",
   "metadata": {},
   "outputs": [
    {
     "data": {
      "text/plain": [
       "\"[{'iso_3166_1': 'US', 'name': 'United States of America'}]\""
      ]
     },
     "execution_count": 62,
     "metadata": {},
     "output_type": "execute_result"
    }
   ],
   "source": [
    "metadata.iloc[0]['production_countries']"
   ]
  },
  {
   "cell_type": "code",
   "execution_count": 63,
   "id": "533de9ca",
   "metadata": {},
   "outputs": [
    {
     "data": {
      "text/plain": [
       "0       [{'name': 'Pixar Animation Studios', 'id': 3}]\n",
       "1    [{'name': 'TriStar Pictures', 'id': 559}, {'na...\n",
       "2    [{'name': 'Warner Bros.', 'id': 6194}, {'name'...\n",
       "3    [{'name': 'Twentieth Century Fox Film Corporat...\n",
       "Name: production_companies, dtype: object"
      ]
     },
     "execution_count": 63,
     "metadata": {},
     "output_type": "execute_result"
    }
   ],
   "source": [
    "metadata.production_companies.head(4)"
   ]
  },
  {
   "cell_type": "code",
   "execution_count": 64,
   "id": "741ca380",
   "metadata": {},
   "outputs": [
    {
     "data": {
      "text/plain": [
       "\"[{'name': 'Pixar Animation Studios', 'id': 3}]\""
      ]
     },
     "execution_count": 64,
     "metadata": {},
     "output_type": "execute_result"
    }
   ],
   "source": [
    "metadata.iloc[0]['production_companies']"
   ]
  },
  {
   "cell_type": "code",
   "execution_count": 65,
   "id": "57d46e8a",
   "metadata": {},
   "outputs": [
    {
     "data": {
      "text/plain": [
       "0    1995-10-30\n",
       "1    1995-12-15\n",
       "2    1995-12-22\n",
       "3    1995-12-22\n",
       "4    1995-02-10\n",
       "5    1995-12-15\n",
       "6    1995-12-15\n",
       "7    1995-12-22\n",
       "8    1995-12-22\n",
       "9    1995-11-16\n",
       "Name: release_date, dtype: object"
      ]
     },
     "execution_count": 65,
     "metadata": {},
     "output_type": "execute_result"
    }
   ],
   "source": [
    "# converting release_date datatype\n",
    "metadata.release_date.head(10)"
   ]
  },
  {
   "cell_type": "code",
   "execution_count": 66,
   "id": "d025fb7d",
   "metadata": {},
   "outputs": [],
   "source": [
    "metadata['release_date'] = pd.to_datetime(metadata['release_date'],errors='coerce')"
   ]
  },
  {
   "cell_type": "code",
   "execution_count": 67,
   "id": "9c32419f",
   "metadata": {},
   "outputs": [
    {
     "data": {
      "text/plain": [
       "dtype('<M8[ns]')"
      ]
     },
     "execution_count": 67,
     "metadata": {},
     "output_type": "execute_result"
    }
   ],
   "source": [
    "metadata.release_date.dtype"
   ]
  },
  {
   "cell_type": "code",
   "execution_count": 68,
   "id": "7ce2160b",
   "metadata": {},
   "outputs": [
    {
     "data": {
      "text/plain": [
       "\"[{'iso_639_1': 'en', 'name': 'English'}]\""
      ]
     },
     "execution_count": 68,
     "metadata": {},
     "output_type": "execute_result"
    }
   ],
   "source": [
    "metadata.iloc[0]['spoken_languages']\n",
    "# the languages in which the movie is actually spoken and released"
   ]
  },
  {
   "cell_type": "code",
   "execution_count": 69,
   "id": "6c162fda",
   "metadata": {},
   "outputs": [
    {
     "data": {
      "text/plain": [
       "0                      Toy Story\n",
       "1                        Jumanji\n",
       "2               Grumpier Old Men\n",
       "3              Waiting to Exhale\n",
       "4    Father of the Bride Part II\n",
       "Name: title, dtype: object"
      ]
     },
     "execution_count": 69,
     "metadata": {},
     "output_type": "execute_result"
    }
   ],
   "source": [
    "metadata.title.head(5)\n",
    "# official title of the movie"
   ]
  },
  {
   "cell_type": "code",
   "execution_count": 70,
   "id": "1e5bb2c8",
   "metadata": {},
   "outputs": [
    {
     "data": {
      "text/plain": [
       "False    45367\n",
       "True        93\n",
       "Name: video, dtype: int64"
      ]
     },
     "execution_count": 70,
     "metadata": {},
     "output_type": "execute_result"
    }
   ],
   "source": [
    "metadata.video.value_counts()\n",
    "# either true or false , indicates if video is present with tmbd"
   ]
  },
  {
   "cell_type": "code",
   "execution_count": 71,
   "id": "c276def8",
   "metadata": {},
   "outputs": [
    {
     "data": {
      "text/plain": [
       "0        7.7\n",
       "1        6.9\n",
       "2        6.5\n",
       "3        6.1\n",
       "4        5.7\n",
       "        ... \n",
       "45461    4.0\n",
       "45462    9.0\n",
       "45463    3.8\n",
       "45464    0.0\n",
       "45465    0.0\n",
       "Name: vote_average, Length: 45466, dtype: float64"
      ]
     },
     "execution_count": 71,
     "metadata": {},
     "output_type": "execute_result"
    }
   ],
   "source": [
    "metadata.vote_average\n",
    "# average rating of the movie"
   ]
  },
  {
   "cell_type": "code",
   "execution_count": 72,
   "id": "8aa8a723",
   "metadata": {},
   "outputs": [
    {
     "data": {
      "text/plain": [
       "0    5415.0\n",
       "1    2413.0\n",
       "2      92.0\n",
       "3      34.0\n",
       "Name: vote_count, dtype: float64"
      ]
     },
     "execution_count": 72,
     "metadata": {},
     "output_type": "execute_result"
    }
   ],
   "source": [
    "metadata.vote_count.head(4)\n",
    "# no of votes by the users for the movie"
   ]
  },
  {
   "cell_type": "code",
   "execution_count": 73,
   "id": "fc07ffe8",
   "metadata": {},
   "outputs": [],
   "source": [
    "metadata['id'] = pd.to_numeric(metadata['id'],errors='coerce')"
   ]
  },
  {
   "cell_type": "markdown",
   "id": "7e73f4f8",
   "metadata": {},
   "source": [
    "After Filtering Metadata"
   ]
  },
  {
   "cell_type": "code",
   "execution_count": 74,
   "id": "5d7ad1bf",
   "metadata": {},
   "outputs": [
    {
     "data": {
      "text/plain": [
       "adult                            object\n",
       "belongs_to_collection            object\n",
       "budget                            int64\n",
       "genres                           object\n",
       "homepage                         object\n",
       "id                              float64\n",
       "imdb_id                          object\n",
       "original_language                object\n",
       "original_title                   object\n",
       "overview                         object\n",
       "popularity                      float64\n",
       "poster_path                      object\n",
       "production_companies             object\n",
       "production_countries             object\n",
       "release_date             datetime64[ns]\n",
       "revenue                         float64\n",
       "runtime                         float64\n",
       "spoken_languages                 object\n",
       "status                           object\n",
       "tagline                          object\n",
       "title                            object\n",
       "video                            object\n",
       "vote_average                    float64\n",
       "vote_count                      float64\n",
       "dtype: object"
      ]
     },
     "execution_count": 74,
     "metadata": {},
     "output_type": "execute_result"
    }
   ],
   "source": [
    "metadata.dtypes\n",
    "# All the varaibles are fixed with the correct datatype."
   ]
  },
  {
   "cell_type": "code",
   "execution_count": 75,
   "id": "3371e267",
   "metadata": {},
   "outputs": [],
   "source": [
    "# which to column and what to be splitted :\n",
    "# belongs_to_collection', 'genres','production_companies',cast, crew"
   ]
  },
  {
   "cell_type": "markdown",
   "id": "676f20ca",
   "metadata": {},
   "source": [
    "Splitting Genres"
   ]
  },
  {
   "cell_type": "code",
   "execution_count": 76,
   "id": "362739b6",
   "metadata": {},
   "outputs": [],
   "source": [
    "import ast"
   ]
  },
  {
   "cell_type": "code",
   "execution_count": 77,
   "id": "ab7972b6",
   "metadata": {},
   "outputs": [
    {
     "data": {
      "text/plain": [
       "45466"
      ]
     },
     "execution_count": 77,
     "metadata": {},
     "output_type": "execute_result"
    }
   ],
   "source": [
    "len(metadata)"
   ]
  },
  {
   "cell_type": "code",
   "execution_count": 78,
   "id": "fe200779",
   "metadata": {},
   "outputs": [
    {
     "name": "stdout",
     "output_type": "stream",
     "text": [
      "                               name\n",
      "0       [Animation, Comedy, Family]\n",
      "1      [Adventure, Fantasy, Family]\n",
      "2                 [Romance, Comedy]\n",
      "3          [Comedy, Drama, Romance]\n",
      "4                          [Comedy]\n",
      "...                             ...\n",
      "45461               [Drama, Family]\n",
      "45462                       [Drama]\n",
      "45463     [Action, Drama, Thriller]\n",
      "45464                            []\n",
      "45465                            []\n",
      "\n",
      "[45466 rows x 1 columns]\n"
     ]
    }
   ],
   "source": [
    "final_names = []\n",
    "for i in range(len(metadata)):\n",
    "    ini_list=metadata.genres[i]\n",
    "    res = ast.literal_eval(ini_list)\n",
    "    if isinstance(res, list):\n",
    "        final_names.append([i['name'] for i in res])\n",
    "    elif isinstance(res,dict):\n",
    "        final_names.append([i[\"name\"]])\n",
    "        \n",
    "final_names = {\"name\":final_names}\n",
    "genre_list=pd.DataFrame(final_names)\n",
    "print(genre_list)"
   ]
  },
  {
   "cell_type": "code",
   "execution_count": 79,
   "id": "a9465ffe",
   "metadata": {},
   "outputs": [
    {
     "data": {
      "text/plain": [
       "45466"
      ]
     },
     "execution_count": 79,
     "metadata": {},
     "output_type": "execute_result"
    }
   ],
   "source": [
    "len(genre_list)"
   ]
  },
  {
   "cell_type": "code",
   "execution_count": 80,
   "id": "dfc8e0d3",
   "metadata": {},
   "outputs": [],
   "source": [
    "metadata=metadata.reset_index(drop=True).merge(genre_list.reset_index(drop=True), left_index=True, right_index=True)"
   ]
  },
  {
   "cell_type": "code",
   "execution_count": 81,
   "id": "82b6ff45",
   "metadata": {},
   "outputs": [],
   "source": [
    "metadata.rename(columns={'name':'genre_name'},inplace=True)"
   ]
  },
  {
   "cell_type": "code",
   "execution_count": 82,
   "id": "f7a89f44",
   "metadata": {},
   "outputs": [
    {
     "data": {
      "text/plain": [
       "Index(['adult', 'belongs_to_collection', 'budget', 'genres', 'homepage', 'id',\n",
       "       'imdb_id', 'original_language', 'original_title', 'overview',\n",
       "       'popularity', 'poster_path', 'production_companies',\n",
       "       'production_countries', 'release_date', 'revenue', 'runtime',\n",
       "       'spoken_languages', 'status', 'tagline', 'title', 'video',\n",
       "       'vote_average', 'vote_count', 'genre_name'],\n",
       "      dtype='object')"
      ]
     },
     "execution_count": 82,
     "metadata": {},
     "output_type": "execute_result"
    }
   ],
   "source": [
    "metadata.columns"
   ]
  },
  {
   "cell_type": "code",
   "execution_count": 83,
   "id": "9e79dd5e",
   "metadata": {},
   "outputs": [
    {
     "data": {
      "text/html": [
       "<div>\n",
       "<style scoped>\n",
       "    .dataframe tbody tr th:only-of-type {\n",
       "        vertical-align: middle;\n",
       "    }\n",
       "\n",
       "    .dataframe tbody tr th {\n",
       "        vertical-align: top;\n",
       "    }\n",
       "\n",
       "    .dataframe thead th {\n",
       "        text-align: right;\n",
       "    }\n",
       "</style>\n",
       "<table border=\"1\" class=\"dataframe\">\n",
       "  <thead>\n",
       "    <tr style=\"text-align: right;\">\n",
       "      <th></th>\n",
       "      <th>adult</th>\n",
       "      <th>belongs_to_collection</th>\n",
       "      <th>budget</th>\n",
       "      <th>genres</th>\n",
       "      <th>homepage</th>\n",
       "      <th>id</th>\n",
       "      <th>imdb_id</th>\n",
       "      <th>original_language</th>\n",
       "      <th>original_title</th>\n",
       "      <th>overview</th>\n",
       "      <th>...</th>\n",
       "      <th>revenue</th>\n",
       "      <th>runtime</th>\n",
       "      <th>spoken_languages</th>\n",
       "      <th>status</th>\n",
       "      <th>tagline</th>\n",
       "      <th>title</th>\n",
       "      <th>video</th>\n",
       "      <th>vote_average</th>\n",
       "      <th>vote_count</th>\n",
       "      <th>genre_name</th>\n",
       "    </tr>\n",
       "  </thead>\n",
       "  <tbody>\n",
       "    <tr>\n",
       "      <th>0</th>\n",
       "      <td>False</td>\n",
       "      <td>{'id': 10194, 'name': 'Toy Story Collection', ...</td>\n",
       "      <td>30000000</td>\n",
       "      <td>[{'id': 16, 'name': 'Animation'}, {'id': 35, '...</td>\n",
       "      <td>http://toystory.disney.com/toy-story</td>\n",
       "      <td>862.0</td>\n",
       "      <td>tt0114709</td>\n",
       "      <td>en</td>\n",
       "      <td>Toy Story</td>\n",
       "      <td>Led by Woody, Andy's toys live happily in his ...</td>\n",
       "      <td>...</td>\n",
       "      <td>373554033.0</td>\n",
       "      <td>81.0</td>\n",
       "      <td>[{'iso_639_1': 'en', 'name': 'English'}]</td>\n",
       "      <td>Released</td>\n",
       "      <td>NaN</td>\n",
       "      <td>Toy Story</td>\n",
       "      <td>False</td>\n",
       "      <td>7.7</td>\n",
       "      <td>5415.0</td>\n",
       "      <td>[Animation, Comedy, Family]</td>\n",
       "    </tr>\n",
       "    <tr>\n",
       "      <th>1</th>\n",
       "      <td>False</td>\n",
       "      <td>NaN</td>\n",
       "      <td>65000000</td>\n",
       "      <td>[{'id': 12, 'name': 'Adventure'}, {'id': 14, '...</td>\n",
       "      <td>NaN</td>\n",
       "      <td>8844.0</td>\n",
       "      <td>tt0113497</td>\n",
       "      <td>en</td>\n",
       "      <td>Jumanji</td>\n",
       "      <td>When siblings Judy and Peter discover an encha...</td>\n",
       "      <td>...</td>\n",
       "      <td>262797249.0</td>\n",
       "      <td>104.0</td>\n",
       "      <td>[{'iso_639_1': 'en', 'name': 'English'}, {'iso...</td>\n",
       "      <td>Released</td>\n",
       "      <td>Roll the dice and unleash the excitement!</td>\n",
       "      <td>Jumanji</td>\n",
       "      <td>False</td>\n",
       "      <td>6.9</td>\n",
       "      <td>2413.0</td>\n",
       "      <td>[Adventure, Fantasy, Family]</td>\n",
       "    </tr>\n",
       "    <tr>\n",
       "      <th>2</th>\n",
       "      <td>False</td>\n",
       "      <td>{'id': 119050, 'name': 'Grumpy Old Men Collect...</td>\n",
       "      <td>0</td>\n",
       "      <td>[{'id': 10749, 'name': 'Romance'}, {'id': 35, ...</td>\n",
       "      <td>NaN</td>\n",
       "      <td>15602.0</td>\n",
       "      <td>tt0113228</td>\n",
       "      <td>en</td>\n",
       "      <td>Grumpier Old Men</td>\n",
       "      <td>A family wedding reignites the ancient feud be...</td>\n",
       "      <td>...</td>\n",
       "      <td>0.0</td>\n",
       "      <td>101.0</td>\n",
       "      <td>[{'iso_639_1': 'en', 'name': 'English'}]</td>\n",
       "      <td>Released</td>\n",
       "      <td>Still Yelling. Still Fighting. Still Ready for...</td>\n",
       "      <td>Grumpier Old Men</td>\n",
       "      <td>False</td>\n",
       "      <td>6.5</td>\n",
       "      <td>92.0</td>\n",
       "      <td>[Romance, Comedy]</td>\n",
       "    </tr>\n",
       "  </tbody>\n",
       "</table>\n",
       "<p>3 rows × 25 columns</p>\n",
       "</div>"
      ],
      "text/plain": [
       "   adult                              belongs_to_collection    budget  \\\n",
       "0  False  {'id': 10194, 'name': 'Toy Story Collection', ...  30000000   \n",
       "1  False                                                NaN  65000000   \n",
       "2  False  {'id': 119050, 'name': 'Grumpy Old Men Collect...         0   \n",
       "\n",
       "                                              genres  \\\n",
       "0  [{'id': 16, 'name': 'Animation'}, {'id': 35, '...   \n",
       "1  [{'id': 12, 'name': 'Adventure'}, {'id': 14, '...   \n",
       "2  [{'id': 10749, 'name': 'Romance'}, {'id': 35, ...   \n",
       "\n",
       "                               homepage       id    imdb_id original_language  \\\n",
       "0  http://toystory.disney.com/toy-story    862.0  tt0114709                en   \n",
       "1                                   NaN   8844.0  tt0113497                en   \n",
       "2                                   NaN  15602.0  tt0113228                en   \n",
       "\n",
       "     original_title                                           overview  ...  \\\n",
       "0         Toy Story  Led by Woody, Andy's toys live happily in his ...  ...   \n",
       "1           Jumanji  When siblings Judy and Peter discover an encha...  ...   \n",
       "2  Grumpier Old Men  A family wedding reignites the ancient feud be...  ...   \n",
       "\n",
       "       revenue runtime                                   spoken_languages  \\\n",
       "0  373554033.0    81.0           [{'iso_639_1': 'en', 'name': 'English'}]   \n",
       "1  262797249.0   104.0  [{'iso_639_1': 'en', 'name': 'English'}, {'iso...   \n",
       "2          0.0   101.0           [{'iso_639_1': 'en', 'name': 'English'}]   \n",
       "\n",
       "     status                                            tagline  \\\n",
       "0  Released                                                NaN   \n",
       "1  Released          Roll the dice and unleash the excitement!   \n",
       "2  Released  Still Yelling. Still Fighting. Still Ready for...   \n",
       "\n",
       "              title  video vote_average vote_count  \\\n",
       "0         Toy Story  False          7.7     5415.0   \n",
       "1           Jumanji  False          6.9     2413.0   \n",
       "2  Grumpier Old Men  False          6.5       92.0   \n",
       "\n",
       "                     genre_name  \n",
       "0   [Animation, Comedy, Family]  \n",
       "1  [Adventure, Fantasy, Family]  \n",
       "2             [Romance, Comedy]  \n",
       "\n",
       "[3 rows x 25 columns]"
      ]
     },
     "execution_count": 83,
     "metadata": {},
     "output_type": "execute_result"
    }
   ],
   "source": [
    "metadata.head(3)"
   ]
  },
  {
   "cell_type": "markdown",
   "id": "685d4acc",
   "metadata": {},
   "source": [
    "splitting belongs_to_Collection"
   ]
  },
  {
   "cell_type": "code",
   "execution_count": 84,
   "id": "23746e74",
   "metadata": {},
   "outputs": [
    {
     "data": {
      "text/html": [
       "<div>\n",
       "<style scoped>\n",
       "    .dataframe tbody tr th:only-of-type {\n",
       "        vertical-align: middle;\n",
       "    }\n",
       "\n",
       "    .dataframe tbody tr th {\n",
       "        vertical-align: top;\n",
       "    }\n",
       "\n",
       "    .dataframe thead th {\n",
       "        text-align: right;\n",
       "    }\n",
       "</style>\n",
       "<table border=\"1\" class=\"dataframe\">\n",
       "  <thead>\n",
       "    <tr style=\"text-align: right;\">\n",
       "      <th></th>\n",
       "      <th>id</th>\n",
       "      <th>name</th>\n",
       "      <th>poster_path</th>\n",
       "      <th>backdrop_path</th>\n",
       "    </tr>\n",
       "  </thead>\n",
       "  <tbody>\n",
       "  </tbody>\n",
       "</table>\n",
       "</div>"
      ],
      "text/plain": [
       "Empty DataFrame\n",
       "Columns: [id, name, poster_path, backdrop_path]\n",
       "Index: []"
      ]
     },
     "execution_count": 84,
     "metadata": {},
     "output_type": "execute_result"
    }
   ],
   "source": [
    "collection_list=pd.DataFrame(columns=['id','name','poster_path','backdrop_path'])\n",
    "collection_list"
   ]
  },
  {
   "cell_type": "code",
   "execution_count": 85,
   "id": "96d49aaa",
   "metadata": {},
   "outputs": [],
   "source": [
    "for i in range(0,len(metadata)):\n",
    "    if isinstance(metadata.belongs_to_collection[i],float):\n",
    "        collection_list.loc[i]='nan'\n",
    "    elif \".\" in str(metadata.belongs_to_collection[i])[0:3]:\n",
    "        collection_list.loc[i]=float(metadata.belongs_to_collection[i])\n",
    "    else:\n",
    "        res=ast.literal_eval(str(metadata.belongs_to_collection[i]))\n",
    "        df4=pd.DataFrame.from_dict(res, orient ='index')\n",
    "        df5=df4.transpose()\n",
    "        collection_list=collection_list.append(df5)"
   ]
  },
  {
   "cell_type": "code",
   "execution_count": 86,
   "id": "217992b5",
   "metadata": {},
   "outputs": [],
   "source": [
    "collection_list.rename(columns={'id':'id1','name':'collection_name'},inplace=True)"
   ]
  },
  {
   "cell_type": "code",
   "execution_count": 87,
   "id": "3ed88704",
   "metadata": {},
   "outputs": [
    {
     "data": {
      "text/html": [
       "<div>\n",
       "<style scoped>\n",
       "    .dataframe tbody tr th:only-of-type {\n",
       "        vertical-align: middle;\n",
       "    }\n",
       "\n",
       "    .dataframe tbody tr th {\n",
       "        vertical-align: top;\n",
       "    }\n",
       "\n",
       "    .dataframe thead th {\n",
       "        text-align: right;\n",
       "    }\n",
       "</style>\n",
       "<table border=\"1\" class=\"dataframe\">\n",
       "  <thead>\n",
       "    <tr style=\"text-align: right;\">\n",
       "      <th></th>\n",
       "      <th>id1</th>\n",
       "      <th>collection_name</th>\n",
       "      <th>poster_path</th>\n",
       "      <th>backdrop_path</th>\n",
       "    </tr>\n",
       "  </thead>\n",
       "  <tbody>\n",
       "    <tr>\n",
       "      <th>0</th>\n",
       "      <td>10194</td>\n",
       "      <td>Toy Story Collection</td>\n",
       "      <td>/7G9915LfUQ2lVfwMEEhDsn3kT4B.jpg</td>\n",
       "      <td>/9FBwqcd9IRruEDUrTdcaafOMKUq.jpg</td>\n",
       "    </tr>\n",
       "    <tr>\n",
       "      <th>1</th>\n",
       "      <td>nan</td>\n",
       "      <td>nan</td>\n",
       "      <td>nan</td>\n",
       "      <td>nan</td>\n",
       "    </tr>\n",
       "    <tr>\n",
       "      <th>0</th>\n",
       "      <td>119050</td>\n",
       "      <td>Grumpy Old Men Collection</td>\n",
       "      <td>/nLvUdqgPgm3F85NMCii9gVFUcet.jpg</td>\n",
       "      <td>/hypTnLot2z8wpFS7qwsQHW1uV8u.jpg</td>\n",
       "    </tr>\n",
       "    <tr>\n",
       "      <th>3</th>\n",
       "      <td>nan</td>\n",
       "      <td>nan</td>\n",
       "      <td>nan</td>\n",
       "      <td>nan</td>\n",
       "    </tr>\n",
       "  </tbody>\n",
       "</table>\n",
       "</div>"
      ],
      "text/plain": [
       "      id1            collection_name                       poster_path  \\\n",
       "0   10194       Toy Story Collection  /7G9915LfUQ2lVfwMEEhDsn3kT4B.jpg   \n",
       "1     nan                        nan                               nan   \n",
       "0  119050  Grumpy Old Men Collection  /nLvUdqgPgm3F85NMCii9gVFUcet.jpg   \n",
       "3     nan                        nan                               nan   \n",
       "\n",
       "                      backdrop_path  \n",
       "0  /9FBwqcd9IRruEDUrTdcaafOMKUq.jpg  \n",
       "1                               nan  \n",
       "0  /hypTnLot2z8wpFS7qwsQHW1uV8u.jpg  \n",
       "3                               nan  "
      ]
     },
     "execution_count": 87,
     "metadata": {},
     "output_type": "execute_result"
    }
   ],
   "source": [
    "collection_list.head(4)"
   ]
  },
  {
   "cell_type": "code",
   "execution_count": 88,
   "id": "224f1374",
   "metadata": {},
   "outputs": [
    {
     "data": {
      "text/html": [
       "<div>\n",
       "<style scoped>\n",
       "    .dataframe tbody tr th:only-of-type {\n",
       "        vertical-align: middle;\n",
       "    }\n",
       "\n",
       "    .dataframe tbody tr th {\n",
       "        vertical-align: top;\n",
       "    }\n",
       "\n",
       "    .dataframe thead th {\n",
       "        text-align: right;\n",
       "    }\n",
       "</style>\n",
       "<table border=\"1\" class=\"dataframe\">\n",
       "  <thead>\n",
       "    <tr style=\"text-align: right;\">\n",
       "      <th></th>\n",
       "      <th>adult</th>\n",
       "      <th>belongs_to_collection</th>\n",
       "      <th>budget</th>\n",
       "      <th>genres</th>\n",
       "      <th>homepage</th>\n",
       "      <th>id</th>\n",
       "      <th>imdb_id</th>\n",
       "      <th>original_language</th>\n",
       "      <th>original_title</th>\n",
       "      <th>overview</th>\n",
       "      <th>...</th>\n",
       "      <th>tagline</th>\n",
       "      <th>title</th>\n",
       "      <th>video</th>\n",
       "      <th>vote_average</th>\n",
       "      <th>vote_count</th>\n",
       "      <th>genre_name</th>\n",
       "      <th>id1</th>\n",
       "      <th>collection_name</th>\n",
       "      <th>poster_path_y</th>\n",
       "      <th>backdrop_path</th>\n",
       "    </tr>\n",
       "  </thead>\n",
       "  <tbody>\n",
       "    <tr>\n",
       "      <th>0</th>\n",
       "      <td>False</td>\n",
       "      <td>{'id': 10194, 'name': 'Toy Story Collection', ...</td>\n",
       "      <td>30000000</td>\n",
       "      <td>[{'id': 16, 'name': 'Animation'}, {'id': 35, '...</td>\n",
       "      <td>http://toystory.disney.com/toy-story</td>\n",
       "      <td>862.0</td>\n",
       "      <td>tt0114709</td>\n",
       "      <td>en</td>\n",
       "      <td>Toy Story</td>\n",
       "      <td>Led by Woody, Andy's toys live happily in his ...</td>\n",
       "      <td>...</td>\n",
       "      <td>NaN</td>\n",
       "      <td>Toy Story</td>\n",
       "      <td>False</td>\n",
       "      <td>7.7</td>\n",
       "      <td>5415.0</td>\n",
       "      <td>[Animation, Comedy, Family]</td>\n",
       "      <td>10194</td>\n",
       "      <td>Toy Story Collection</td>\n",
       "      <td>/7G9915LfUQ2lVfwMEEhDsn3kT4B.jpg</td>\n",
       "      <td>/9FBwqcd9IRruEDUrTdcaafOMKUq.jpg</td>\n",
       "    </tr>\n",
       "    <tr>\n",
       "      <th>1</th>\n",
       "      <td>False</td>\n",
       "      <td>NaN</td>\n",
       "      <td>65000000</td>\n",
       "      <td>[{'id': 12, 'name': 'Adventure'}, {'id': 14, '...</td>\n",
       "      <td>NaN</td>\n",
       "      <td>8844.0</td>\n",
       "      <td>tt0113497</td>\n",
       "      <td>en</td>\n",
       "      <td>Jumanji</td>\n",
       "      <td>When siblings Judy and Peter discover an encha...</td>\n",
       "      <td>...</td>\n",
       "      <td>Roll the dice and unleash the excitement!</td>\n",
       "      <td>Jumanji</td>\n",
       "      <td>False</td>\n",
       "      <td>6.9</td>\n",
       "      <td>2413.0</td>\n",
       "      <td>[Adventure, Fantasy, Family]</td>\n",
       "      <td>nan</td>\n",
       "      <td>nan</td>\n",
       "      <td>nan</td>\n",
       "      <td>nan</td>\n",
       "    </tr>\n",
       "    <tr>\n",
       "      <th>2</th>\n",
       "      <td>False</td>\n",
       "      <td>{'id': 119050, 'name': 'Grumpy Old Men Collect...</td>\n",
       "      <td>0</td>\n",
       "      <td>[{'id': 10749, 'name': 'Romance'}, {'id': 35, ...</td>\n",
       "      <td>NaN</td>\n",
       "      <td>15602.0</td>\n",
       "      <td>tt0113228</td>\n",
       "      <td>en</td>\n",
       "      <td>Grumpier Old Men</td>\n",
       "      <td>A family wedding reignites the ancient feud be...</td>\n",
       "      <td>...</td>\n",
       "      <td>Still Yelling. Still Fighting. Still Ready for...</td>\n",
       "      <td>Grumpier Old Men</td>\n",
       "      <td>False</td>\n",
       "      <td>6.5</td>\n",
       "      <td>92.0</td>\n",
       "      <td>[Romance, Comedy]</td>\n",
       "      <td>119050</td>\n",
       "      <td>Grumpy Old Men Collection</td>\n",
       "      <td>/nLvUdqgPgm3F85NMCii9gVFUcet.jpg</td>\n",
       "      <td>/hypTnLot2z8wpFS7qwsQHW1uV8u.jpg</td>\n",
       "    </tr>\n",
       "    <tr>\n",
       "      <th>3</th>\n",
       "      <td>False</td>\n",
       "      <td>NaN</td>\n",
       "      <td>16000000</td>\n",
       "      <td>[{'id': 35, 'name': 'Comedy'}, {'id': 18, 'nam...</td>\n",
       "      <td>NaN</td>\n",
       "      <td>31357.0</td>\n",
       "      <td>tt0114885</td>\n",
       "      <td>en</td>\n",
       "      <td>Waiting to Exhale</td>\n",
       "      <td>Cheated on, mistreated and stepped on, the wom...</td>\n",
       "      <td>...</td>\n",
       "      <td>Friends are the people who let you be yourself...</td>\n",
       "      <td>Waiting to Exhale</td>\n",
       "      <td>False</td>\n",
       "      <td>6.1</td>\n",
       "      <td>34.0</td>\n",
       "      <td>[Comedy, Drama, Romance]</td>\n",
       "      <td>nan</td>\n",
       "      <td>nan</td>\n",
       "      <td>nan</td>\n",
       "      <td>nan</td>\n",
       "    </tr>\n",
       "  </tbody>\n",
       "</table>\n",
       "<p>4 rows × 29 columns</p>\n",
       "</div>"
      ],
      "text/plain": [
       "   adult                              belongs_to_collection    budget  \\\n",
       "0  False  {'id': 10194, 'name': 'Toy Story Collection', ...  30000000   \n",
       "1  False                                                NaN  65000000   \n",
       "2  False  {'id': 119050, 'name': 'Grumpy Old Men Collect...         0   \n",
       "3  False                                                NaN  16000000   \n",
       "\n",
       "                                              genres  \\\n",
       "0  [{'id': 16, 'name': 'Animation'}, {'id': 35, '...   \n",
       "1  [{'id': 12, 'name': 'Adventure'}, {'id': 14, '...   \n",
       "2  [{'id': 10749, 'name': 'Romance'}, {'id': 35, ...   \n",
       "3  [{'id': 35, 'name': 'Comedy'}, {'id': 18, 'nam...   \n",
       "\n",
       "                               homepage       id    imdb_id original_language  \\\n",
       "0  http://toystory.disney.com/toy-story    862.0  tt0114709                en   \n",
       "1                                   NaN   8844.0  tt0113497                en   \n",
       "2                                   NaN  15602.0  tt0113228                en   \n",
       "3                                   NaN  31357.0  tt0114885                en   \n",
       "\n",
       "      original_title                                           overview  ...  \\\n",
       "0          Toy Story  Led by Woody, Andy's toys live happily in his ...  ...   \n",
       "1            Jumanji  When siblings Judy and Peter discover an encha...  ...   \n",
       "2   Grumpier Old Men  A family wedding reignites the ancient feud be...  ...   \n",
       "3  Waiting to Exhale  Cheated on, mistreated and stepped on, the wom...  ...   \n",
       "\n",
       "                                             tagline              title  \\\n",
       "0                                                NaN          Toy Story   \n",
       "1          Roll the dice and unleash the excitement!            Jumanji   \n",
       "2  Still Yelling. Still Fighting. Still Ready for...   Grumpier Old Men   \n",
       "3  Friends are the people who let you be yourself...  Waiting to Exhale   \n",
       "\n",
       "   video vote_average vote_count                    genre_name     id1  \\\n",
       "0  False          7.7     5415.0   [Animation, Comedy, Family]   10194   \n",
       "1  False          6.9     2413.0  [Adventure, Fantasy, Family]     nan   \n",
       "2  False          6.5       92.0             [Romance, Comedy]  119050   \n",
       "3  False          6.1       34.0      [Comedy, Drama, Romance]     nan   \n",
       "\n",
       "             collection_name                     poster_path_y  \\\n",
       "0       Toy Story Collection  /7G9915LfUQ2lVfwMEEhDsn3kT4B.jpg   \n",
       "1                        nan                               nan   \n",
       "2  Grumpy Old Men Collection  /nLvUdqgPgm3F85NMCii9gVFUcet.jpg   \n",
       "3                        nan                               nan   \n",
       "\n",
       "                      backdrop_path  \n",
       "0  /9FBwqcd9IRruEDUrTdcaafOMKUq.jpg  \n",
       "1                               nan  \n",
       "2  /hypTnLot2z8wpFS7qwsQHW1uV8u.jpg  \n",
       "3                               nan  \n",
       "\n",
       "[4 rows x 29 columns]"
      ]
     },
     "execution_count": 88,
     "metadata": {},
     "output_type": "execute_result"
    }
   ],
   "source": [
    "metadata=metadata.reset_index(drop=True).merge(collection_list.reset_index(drop=True), left_index=True, right_index=True)\n",
    "metadata.head(4)"
   ]
  },
  {
   "cell_type": "code",
   "execution_count": 89,
   "id": "ca01a9bb",
   "metadata": {
    "scrolled": true
   },
   "outputs": [
    {
     "data": {
      "text/plain": [
       "Index(['adult', 'belongs_to_collection', 'budget', 'genres', 'homepage', 'id',\n",
       "       'imdb_id', 'original_language', 'original_title', 'overview',\n",
       "       'popularity', 'poster_path_x', 'production_companies',\n",
       "       'production_countries', 'release_date', 'revenue', 'runtime',\n",
       "       'spoken_languages', 'status', 'tagline', 'title', 'video',\n",
       "       'vote_average', 'vote_count', 'genre_name', 'id1', 'collection_name',\n",
       "       'poster_path_y', 'backdrop_path'],\n",
       "      dtype='object')"
      ]
     },
     "execution_count": 89,
     "metadata": {},
     "output_type": "execute_result"
    }
   ],
   "source": [
    "metadata.columns"
   ]
  },
  {
   "cell_type": "code",
   "execution_count": 90,
   "id": "47a53ef6",
   "metadata": {},
   "outputs": [
    {
     "data": {
      "text/plain": [
       "45466"
      ]
     },
     "execution_count": 90,
     "metadata": {},
     "output_type": "execute_result"
    }
   ],
   "source": [
    "len(metadata)"
   ]
  },
  {
   "cell_type": "markdown",
   "id": "76277850",
   "metadata": {},
   "source": [
    "###### for credits Dataset"
   ]
  },
  {
   "cell_type": "code",
   "execution_count": 91,
   "id": "2a97bf86",
   "metadata": {},
   "outputs": [],
   "source": [
    "df1 = pd.DataFrame(columns=['Cast'])"
   ]
  },
  {
   "cell_type": "code",
   "execution_count": 92,
   "id": "90a4f6de",
   "metadata": {},
   "outputs": [],
   "source": [
    "for i in range(0,len(credits)):\n",
    "    ini_list =credits.cast[i]\n",
    "    res = ast.literal_eval(ini_list)\n",
    "    #print(res)\n",
    "    #str2=str1\n",
    "    str1=''\n",
    "    li=[]\n",
    "    #print(len(res))\n",
    "    for j in range(0,len(res)):\n",
    "        res1=ast.literal_eval(str(res[j]))\n",
    "        str1=str1+','+res1['name']\n",
    "        #df = pd.DataFrame([str1], columns=['string_values'])\n",
    "        li.append(res1['name'])\n",
    "    #print(i)\n",
    "    #str2=str1\n",
    "    df1=df1.append([str(li)])"
   ]
  },
  {
   "cell_type": "code",
   "execution_count": 93,
   "id": "68700220",
   "metadata": {},
   "outputs": [
    {
     "data": {
      "text/html": [
       "<div>\n",
       "<style scoped>\n",
       "    .dataframe tbody tr th:only-of-type {\n",
       "        vertical-align: middle;\n",
       "    }\n",
       "\n",
       "    .dataframe tbody tr th {\n",
       "        vertical-align: top;\n",
       "    }\n",
       "\n",
       "    .dataframe thead th {\n",
       "        text-align: right;\n",
       "    }\n",
       "</style>\n",
       "<table border=\"1\" class=\"dataframe\">\n",
       "  <thead>\n",
       "    <tr style=\"text-align: right;\">\n",
       "      <th></th>\n",
       "      <th>Cast</th>\n",
       "      <th>0</th>\n",
       "    </tr>\n",
       "  </thead>\n",
       "  <tbody>\n",
       "    <tr>\n",
       "      <th>0</th>\n",
       "      <td>NaN</td>\n",
       "      <td>['Tom Hanks', 'Tim Allen', 'Don Rickles', 'Jim...</td>\n",
       "    </tr>\n",
       "    <tr>\n",
       "      <th>0</th>\n",
       "      <td>NaN</td>\n",
       "      <td>['Robin Williams', 'Jonathan Hyde', 'Kirsten D...</td>\n",
       "    </tr>\n",
       "    <tr>\n",
       "      <th>0</th>\n",
       "      <td>NaN</td>\n",
       "      <td>['Walter Matthau', 'Jack Lemmon', 'Ann-Margret...</td>\n",
       "    </tr>\n",
       "    <tr>\n",
       "      <th>0</th>\n",
       "      <td>NaN</td>\n",
       "      <td>['Whitney Houston', 'Angela Bassett', 'Loretta...</td>\n",
       "    </tr>\n",
       "    <tr>\n",
       "      <th>0</th>\n",
       "      <td>NaN</td>\n",
       "      <td>['Steve Martin', 'Diane Keaton', 'Martin Short...</td>\n",
       "    </tr>\n",
       "  </tbody>\n",
       "</table>\n",
       "</div>"
      ],
      "text/plain": [
       "  Cast                                                  0\n",
       "0  NaN  ['Tom Hanks', 'Tim Allen', 'Don Rickles', 'Jim...\n",
       "0  NaN  ['Robin Williams', 'Jonathan Hyde', 'Kirsten D...\n",
       "0  NaN  ['Walter Matthau', 'Jack Lemmon', 'Ann-Margret...\n",
       "0  NaN  ['Whitney Houston', 'Angela Bassett', 'Loretta...\n",
       "0  NaN  ['Steve Martin', 'Diane Keaton', 'Martin Short..."
      ]
     },
     "execution_count": 93,
     "metadata": {},
     "output_type": "execute_result"
    }
   ],
   "source": [
    "df1.head()"
   ]
  },
  {
   "cell_type": "code",
   "execution_count": 94,
   "id": "a0a478e5",
   "metadata": {},
   "outputs": [],
   "source": [
    "df1.rename(columns={0:'cast_name'},inplace=True)"
   ]
  },
  {
   "cell_type": "code",
   "execution_count": 95,
   "id": "1bb1b3b7",
   "metadata": {},
   "outputs": [],
   "source": [
    "credits=credits.reset_index(drop=True).merge(df1.reset_index(drop=True), left_index=True, right_index=True)"
   ]
  },
  {
   "cell_type": "code",
   "execution_count": 96,
   "id": "adb9cec1",
   "metadata": {},
   "outputs": [
    {
     "data": {
      "text/html": [
       "<div>\n",
       "<style scoped>\n",
       "    .dataframe tbody tr th:only-of-type {\n",
       "        vertical-align: middle;\n",
       "    }\n",
       "\n",
       "    .dataframe tbody tr th {\n",
       "        vertical-align: top;\n",
       "    }\n",
       "\n",
       "    .dataframe thead th {\n",
       "        text-align: right;\n",
       "    }\n",
       "</style>\n",
       "<table border=\"1\" class=\"dataframe\">\n",
       "  <thead>\n",
       "    <tr style=\"text-align: right;\">\n",
       "      <th></th>\n",
       "      <th>cast</th>\n",
       "      <th>crew</th>\n",
       "      <th>id</th>\n",
       "      <th>Cast</th>\n",
       "      <th>cast_name</th>\n",
       "    </tr>\n",
       "  </thead>\n",
       "  <tbody>\n",
       "    <tr>\n",
       "      <th>0</th>\n",
       "      <td>[{'cast_id': 14, 'character': 'Woody (voice)',...</td>\n",
       "      <td>[{'credit_id': '52fe4284c3a36847f8024f49', 'de...</td>\n",
       "      <td>862</td>\n",
       "      <td>NaN</td>\n",
       "      <td>['Tom Hanks', 'Tim Allen', 'Don Rickles', 'Jim...</td>\n",
       "    </tr>\n",
       "    <tr>\n",
       "      <th>1</th>\n",
       "      <td>[{'cast_id': 1, 'character': 'Alan Parrish', '...</td>\n",
       "      <td>[{'credit_id': '52fe44bfc3a36847f80a7cd1', 'de...</td>\n",
       "      <td>8844</td>\n",
       "      <td>NaN</td>\n",
       "      <td>['Robin Williams', 'Jonathan Hyde', 'Kirsten D...</td>\n",
       "    </tr>\n",
       "    <tr>\n",
       "      <th>2</th>\n",
       "      <td>[{'cast_id': 2, 'character': 'Max Goldman', 'c...</td>\n",
       "      <td>[{'credit_id': '52fe466a9251416c75077a89', 'de...</td>\n",
       "      <td>15602</td>\n",
       "      <td>NaN</td>\n",
       "      <td>['Walter Matthau', 'Jack Lemmon', 'Ann-Margret...</td>\n",
       "    </tr>\n",
       "    <tr>\n",
       "      <th>3</th>\n",
       "      <td>[{'cast_id': 1, 'character': \"Savannah 'Vannah...</td>\n",
       "      <td>[{'credit_id': '52fe44779251416c91011acb', 'de...</td>\n",
       "      <td>31357</td>\n",
       "      <td>NaN</td>\n",
       "      <td>['Whitney Houston', 'Angela Bassett', 'Loretta...</td>\n",
       "    </tr>\n",
       "    <tr>\n",
       "      <th>4</th>\n",
       "      <td>[{'cast_id': 1, 'character': 'George Banks', '...</td>\n",
       "      <td>[{'credit_id': '52fe44959251416c75039ed7', 'de...</td>\n",
       "      <td>11862</td>\n",
       "      <td>NaN</td>\n",
       "      <td>['Steve Martin', 'Diane Keaton', 'Martin Short...</td>\n",
       "    </tr>\n",
       "  </tbody>\n",
       "</table>\n",
       "</div>"
      ],
      "text/plain": [
       "                                                cast  \\\n",
       "0  [{'cast_id': 14, 'character': 'Woody (voice)',...   \n",
       "1  [{'cast_id': 1, 'character': 'Alan Parrish', '...   \n",
       "2  [{'cast_id': 2, 'character': 'Max Goldman', 'c...   \n",
       "3  [{'cast_id': 1, 'character': \"Savannah 'Vannah...   \n",
       "4  [{'cast_id': 1, 'character': 'George Banks', '...   \n",
       "\n",
       "                                                crew     id Cast  \\\n",
       "0  [{'credit_id': '52fe4284c3a36847f8024f49', 'de...    862  NaN   \n",
       "1  [{'credit_id': '52fe44bfc3a36847f80a7cd1', 'de...   8844  NaN   \n",
       "2  [{'credit_id': '52fe466a9251416c75077a89', 'de...  15602  NaN   \n",
       "3  [{'credit_id': '52fe44779251416c91011acb', 'de...  31357  NaN   \n",
       "4  [{'credit_id': '52fe44959251416c75039ed7', 'de...  11862  NaN   \n",
       "\n",
       "                                           cast_name  \n",
       "0  ['Tom Hanks', 'Tim Allen', 'Don Rickles', 'Jim...  \n",
       "1  ['Robin Williams', 'Jonathan Hyde', 'Kirsten D...  \n",
       "2  ['Walter Matthau', 'Jack Lemmon', 'Ann-Margret...  \n",
       "3  ['Whitney Houston', 'Angela Bassett', 'Loretta...  \n",
       "4  ['Steve Martin', 'Diane Keaton', 'Martin Short...  "
      ]
     },
     "execution_count": 96,
     "metadata": {},
     "output_type": "execute_result"
    }
   ],
   "source": [
    "credits.head()"
   ]
  },
  {
   "cell_type": "code",
   "execution_count": 97,
   "id": "5fcf894c",
   "metadata": {},
   "outputs": [],
   "source": [
    "credits.drop(columns=['Cast'],inplace=True)"
   ]
  },
  {
   "cell_type": "code",
   "execution_count": 98,
   "id": "692969f4",
   "metadata": {},
   "outputs": [
    {
     "data": {
      "text/html": [
       "<div>\n",
       "<style scoped>\n",
       "    .dataframe tbody tr th:only-of-type {\n",
       "        vertical-align: middle;\n",
       "    }\n",
       "\n",
       "    .dataframe tbody tr th {\n",
       "        vertical-align: top;\n",
       "    }\n",
       "\n",
       "    .dataframe thead th {\n",
       "        text-align: right;\n",
       "    }\n",
       "</style>\n",
       "<table border=\"1\" class=\"dataframe\">\n",
       "  <thead>\n",
       "    <tr style=\"text-align: right;\">\n",
       "      <th></th>\n",
       "      <th>cast</th>\n",
       "      <th>crew</th>\n",
       "      <th>id</th>\n",
       "      <th>cast_name</th>\n",
       "    </tr>\n",
       "  </thead>\n",
       "  <tbody>\n",
       "    <tr>\n",
       "      <th>0</th>\n",
       "      <td>[{'cast_id': 14, 'character': 'Woody (voice)',...</td>\n",
       "      <td>[{'credit_id': '52fe4284c3a36847f8024f49', 'de...</td>\n",
       "      <td>862</td>\n",
       "      <td>['Tom Hanks', 'Tim Allen', 'Don Rickles', 'Jim...</td>\n",
       "    </tr>\n",
       "    <tr>\n",
       "      <th>1</th>\n",
       "      <td>[{'cast_id': 1, 'character': 'Alan Parrish', '...</td>\n",
       "      <td>[{'credit_id': '52fe44bfc3a36847f80a7cd1', 'de...</td>\n",
       "      <td>8844</td>\n",
       "      <td>['Robin Williams', 'Jonathan Hyde', 'Kirsten D...</td>\n",
       "    </tr>\n",
       "    <tr>\n",
       "      <th>2</th>\n",
       "      <td>[{'cast_id': 2, 'character': 'Max Goldman', 'c...</td>\n",
       "      <td>[{'credit_id': '52fe466a9251416c75077a89', 'de...</td>\n",
       "      <td>15602</td>\n",
       "      <td>['Walter Matthau', 'Jack Lemmon', 'Ann-Margret...</td>\n",
       "    </tr>\n",
       "    <tr>\n",
       "      <th>3</th>\n",
       "      <td>[{'cast_id': 1, 'character': \"Savannah 'Vannah...</td>\n",
       "      <td>[{'credit_id': '52fe44779251416c91011acb', 'de...</td>\n",
       "      <td>31357</td>\n",
       "      <td>['Whitney Houston', 'Angela Bassett', 'Loretta...</td>\n",
       "    </tr>\n",
       "    <tr>\n",
       "      <th>4</th>\n",
       "      <td>[{'cast_id': 1, 'character': 'George Banks', '...</td>\n",
       "      <td>[{'credit_id': '52fe44959251416c75039ed7', 'de...</td>\n",
       "      <td>11862</td>\n",
       "      <td>['Steve Martin', 'Diane Keaton', 'Martin Short...</td>\n",
       "    </tr>\n",
       "  </tbody>\n",
       "</table>\n",
       "</div>"
      ],
      "text/plain": [
       "                                                cast  \\\n",
       "0  [{'cast_id': 14, 'character': 'Woody (voice)',...   \n",
       "1  [{'cast_id': 1, 'character': 'Alan Parrish', '...   \n",
       "2  [{'cast_id': 2, 'character': 'Max Goldman', 'c...   \n",
       "3  [{'cast_id': 1, 'character': \"Savannah 'Vannah...   \n",
       "4  [{'cast_id': 1, 'character': 'George Banks', '...   \n",
       "\n",
       "                                                crew     id  \\\n",
       "0  [{'credit_id': '52fe4284c3a36847f8024f49', 'de...    862   \n",
       "1  [{'credit_id': '52fe44bfc3a36847f80a7cd1', 'de...   8844   \n",
       "2  [{'credit_id': '52fe466a9251416c75077a89', 'de...  15602   \n",
       "3  [{'credit_id': '52fe44779251416c91011acb', 'de...  31357   \n",
       "4  [{'credit_id': '52fe44959251416c75039ed7', 'de...  11862   \n",
       "\n",
       "                                           cast_name  \n",
       "0  ['Tom Hanks', 'Tim Allen', 'Don Rickles', 'Jim...  \n",
       "1  ['Robin Williams', 'Jonathan Hyde', 'Kirsten D...  \n",
       "2  ['Walter Matthau', 'Jack Lemmon', 'Ann-Margret...  \n",
       "3  ['Whitney Houston', 'Angela Bassett', 'Loretta...  \n",
       "4  ['Steve Martin', 'Diane Keaton', 'Martin Short...  "
      ]
     },
     "execution_count": 98,
     "metadata": {},
     "output_type": "execute_result"
    }
   ],
   "source": [
    "credits.head()"
   ]
  },
  {
   "cell_type": "code",
   "execution_count": 99,
   "id": "c6b245f6",
   "metadata": {},
   "outputs": [],
   "source": [
    "df2 = pd.DataFrame(columns=['crew'])"
   ]
  },
  {
   "cell_type": "code",
   "execution_count": 100,
   "id": "1df612b9",
   "metadata": {},
   "outputs": [],
   "source": [
    "for i in range(0,len(credits)):\n",
    "    ini_list =credits.crew[i]\n",
    "    res = ast.literal_eval(ini_list)\n",
    "    #print(res)\n",
    "    #str2=str1\n",
    "    str1=''\n",
    "    li=[]\n",
    "    #print(i)\n",
    "    for j in range(0,len(res)):\n",
    "        res1=ast.literal_eval(str(res[j]))\n",
    "        str1=str1+','+res1['name']\n",
    "        #df = pd.DataFrame([str1], columns=['string_values'])\n",
    "        li.append(res1['name'])\n",
    "    #print(str1)\n",
    "    #str2=str1\n",
    "    df2=df2.append([str(li)])"
   ]
  },
  {
   "cell_type": "code",
   "execution_count": 101,
   "id": "40a2bfb2",
   "metadata": {},
   "outputs": [
    {
     "data": {
      "text/html": [
       "<div>\n",
       "<style scoped>\n",
       "    .dataframe tbody tr th:only-of-type {\n",
       "        vertical-align: middle;\n",
       "    }\n",
       "\n",
       "    .dataframe tbody tr th {\n",
       "        vertical-align: top;\n",
       "    }\n",
       "\n",
       "    .dataframe thead th {\n",
       "        text-align: right;\n",
       "    }\n",
       "</style>\n",
       "<table border=\"1\" class=\"dataframe\">\n",
       "  <thead>\n",
       "    <tr style=\"text-align: right;\">\n",
       "      <th></th>\n",
       "      <th>crew</th>\n",
       "      <th>0</th>\n",
       "    </tr>\n",
       "  </thead>\n",
       "  <tbody>\n",
       "    <tr>\n",
       "      <th>0</th>\n",
       "      <td>NaN</td>\n",
       "      <td>['John Lasseter', 'Joss Whedon', 'Andrew Stant...</td>\n",
       "    </tr>\n",
       "    <tr>\n",
       "      <th>0</th>\n",
       "      <td>NaN</td>\n",
       "      <td>['Larry J. Franco', 'Jonathan Hensleigh', 'Jam...</td>\n",
       "    </tr>\n",
       "    <tr>\n",
       "      <th>0</th>\n",
       "      <td>NaN</td>\n",
       "      <td>['Howard Deutch', 'Mark Steven Johnson', 'Mark...</td>\n",
       "    </tr>\n",
       "    <tr>\n",
       "      <th>0</th>\n",
       "      <td>NaN</td>\n",
       "      <td>['Forest Whitaker', 'Ronald Bass', 'Ronald Bas...</td>\n",
       "    </tr>\n",
       "    <tr>\n",
       "      <th>0</th>\n",
       "      <td>NaN</td>\n",
       "      <td>['Alan Silvestri', 'Elliot Davis', 'Nancy Meye...</td>\n",
       "    </tr>\n",
       "  </tbody>\n",
       "</table>\n",
       "</div>"
      ],
      "text/plain": [
       "  crew                                                  0\n",
       "0  NaN  ['John Lasseter', 'Joss Whedon', 'Andrew Stant...\n",
       "0  NaN  ['Larry J. Franco', 'Jonathan Hensleigh', 'Jam...\n",
       "0  NaN  ['Howard Deutch', 'Mark Steven Johnson', 'Mark...\n",
       "0  NaN  ['Forest Whitaker', 'Ronald Bass', 'Ronald Bas...\n",
       "0  NaN  ['Alan Silvestri', 'Elliot Davis', 'Nancy Meye..."
      ]
     },
     "execution_count": 101,
     "metadata": {},
     "output_type": "execute_result"
    }
   ],
   "source": [
    "df2.head()"
   ]
  },
  {
   "cell_type": "code",
   "execution_count": 102,
   "id": "640fd4e2",
   "metadata": {},
   "outputs": [],
   "source": [
    "df2.rename(columns={0:'crew_name'},inplace=True)"
   ]
  },
  {
   "cell_type": "code",
   "execution_count": 103,
   "id": "80f720a7",
   "metadata": {},
   "outputs": [
    {
     "data": {
      "text/html": [
       "<div>\n",
       "<style scoped>\n",
       "    .dataframe tbody tr th:only-of-type {\n",
       "        vertical-align: middle;\n",
       "    }\n",
       "\n",
       "    .dataframe tbody tr th {\n",
       "        vertical-align: top;\n",
       "    }\n",
       "\n",
       "    .dataframe thead th {\n",
       "        text-align: right;\n",
       "    }\n",
       "</style>\n",
       "<table border=\"1\" class=\"dataframe\">\n",
       "  <thead>\n",
       "    <tr style=\"text-align: right;\">\n",
       "      <th></th>\n",
       "      <th>crew</th>\n",
       "      <th>crew_name</th>\n",
       "    </tr>\n",
       "  </thead>\n",
       "  <tbody>\n",
       "    <tr>\n",
       "      <th>0</th>\n",
       "      <td>NaN</td>\n",
       "      <td>['John Lasseter', 'Joss Whedon', 'Andrew Stant...</td>\n",
       "    </tr>\n",
       "    <tr>\n",
       "      <th>0</th>\n",
       "      <td>NaN</td>\n",
       "      <td>['Larry J. Franco', 'Jonathan Hensleigh', 'Jam...</td>\n",
       "    </tr>\n",
       "    <tr>\n",
       "      <th>0</th>\n",
       "      <td>NaN</td>\n",
       "      <td>['Howard Deutch', 'Mark Steven Johnson', 'Mark...</td>\n",
       "    </tr>\n",
       "    <tr>\n",
       "      <th>0</th>\n",
       "      <td>NaN</td>\n",
       "      <td>['Forest Whitaker', 'Ronald Bass', 'Ronald Bas...</td>\n",
       "    </tr>\n",
       "    <tr>\n",
       "      <th>0</th>\n",
       "      <td>NaN</td>\n",
       "      <td>['Alan Silvestri', 'Elliot Davis', 'Nancy Meye...</td>\n",
       "    </tr>\n",
       "  </tbody>\n",
       "</table>\n",
       "</div>"
      ],
      "text/plain": [
       "  crew                                          crew_name\n",
       "0  NaN  ['John Lasseter', 'Joss Whedon', 'Andrew Stant...\n",
       "0  NaN  ['Larry J. Franco', 'Jonathan Hensleigh', 'Jam...\n",
       "0  NaN  ['Howard Deutch', 'Mark Steven Johnson', 'Mark...\n",
       "0  NaN  ['Forest Whitaker', 'Ronald Bass', 'Ronald Bas...\n",
       "0  NaN  ['Alan Silvestri', 'Elliot Davis', 'Nancy Meye..."
      ]
     },
     "execution_count": 103,
     "metadata": {},
     "output_type": "execute_result"
    }
   ],
   "source": [
    "df2.head()"
   ]
  },
  {
   "cell_type": "code",
   "execution_count": 104,
   "id": "f08f169f",
   "metadata": {},
   "outputs": [],
   "source": [
    "df2.drop(columns=['crew'],inplace=True)"
   ]
  },
  {
   "cell_type": "code",
   "execution_count": 105,
   "id": "e96198ae",
   "metadata": {},
   "outputs": [
    {
     "data": {
      "text/html": [
       "<div>\n",
       "<style scoped>\n",
       "    .dataframe tbody tr th:only-of-type {\n",
       "        vertical-align: middle;\n",
       "    }\n",
       "\n",
       "    .dataframe tbody tr th {\n",
       "        vertical-align: top;\n",
       "    }\n",
       "\n",
       "    .dataframe thead th {\n",
       "        text-align: right;\n",
       "    }\n",
       "</style>\n",
       "<table border=\"1\" class=\"dataframe\">\n",
       "  <thead>\n",
       "    <tr style=\"text-align: right;\">\n",
       "      <th></th>\n",
       "      <th>crew_name</th>\n",
       "    </tr>\n",
       "  </thead>\n",
       "  <tbody>\n",
       "    <tr>\n",
       "      <th>0</th>\n",
       "      <td>['John Lasseter', 'Joss Whedon', 'Andrew Stant...</td>\n",
       "    </tr>\n",
       "    <tr>\n",
       "      <th>0</th>\n",
       "      <td>['Larry J. Franco', 'Jonathan Hensleigh', 'Jam...</td>\n",
       "    </tr>\n",
       "    <tr>\n",
       "      <th>0</th>\n",
       "      <td>['Howard Deutch', 'Mark Steven Johnson', 'Mark...</td>\n",
       "    </tr>\n",
       "    <tr>\n",
       "      <th>0</th>\n",
       "      <td>['Forest Whitaker', 'Ronald Bass', 'Ronald Bas...</td>\n",
       "    </tr>\n",
       "    <tr>\n",
       "      <th>0</th>\n",
       "      <td>['Alan Silvestri', 'Elliot Davis', 'Nancy Meye...</td>\n",
       "    </tr>\n",
       "  </tbody>\n",
       "</table>\n",
       "</div>"
      ],
      "text/plain": [
       "                                           crew_name\n",
       "0  ['John Lasseter', 'Joss Whedon', 'Andrew Stant...\n",
       "0  ['Larry J. Franco', 'Jonathan Hensleigh', 'Jam...\n",
       "0  ['Howard Deutch', 'Mark Steven Johnson', 'Mark...\n",
       "0  ['Forest Whitaker', 'Ronald Bass', 'Ronald Bas...\n",
       "0  ['Alan Silvestri', 'Elliot Davis', 'Nancy Meye..."
      ]
     },
     "execution_count": 105,
     "metadata": {},
     "output_type": "execute_result"
    }
   ],
   "source": [
    "df2.head()"
   ]
  },
  {
   "cell_type": "code",
   "execution_count": 106,
   "id": "ec92d6f1",
   "metadata": {},
   "outputs": [],
   "source": [
    "credits=credits.reset_index(drop=True).merge(df2.reset_index(drop=True), left_index=True, right_index=True)"
   ]
  },
  {
   "cell_type": "code",
   "execution_count": 107,
   "id": "5a0fce61",
   "metadata": {},
   "outputs": [
    {
     "data": {
      "text/plain": [
       "Index(['cast', 'crew', 'id', 'cast_name', 'crew_name'], dtype='object')"
      ]
     },
     "execution_count": 107,
     "metadata": {},
     "output_type": "execute_result"
    }
   ],
   "source": [
    "credits.columns"
   ]
  },
  {
   "cell_type": "code",
   "execution_count": 108,
   "id": "ed90dfa8",
   "metadata": {},
   "outputs": [
    {
     "data": {
      "text/html": [
       "<div>\n",
       "<style scoped>\n",
       "    .dataframe tbody tr th:only-of-type {\n",
       "        vertical-align: middle;\n",
       "    }\n",
       "\n",
       "    .dataframe tbody tr th {\n",
       "        vertical-align: top;\n",
       "    }\n",
       "\n",
       "    .dataframe thead th {\n",
       "        text-align: right;\n",
       "    }\n",
       "</style>\n",
       "<table border=\"1\" class=\"dataframe\">\n",
       "  <thead>\n",
       "    <tr style=\"text-align: right;\">\n",
       "      <th></th>\n",
       "      <th>cast</th>\n",
       "      <th>crew</th>\n",
       "      <th>id</th>\n",
       "      <th>cast_name</th>\n",
       "      <th>crew_name</th>\n",
       "    </tr>\n",
       "  </thead>\n",
       "  <tbody>\n",
       "    <tr>\n",
       "      <th>0</th>\n",
       "      <td>[{'cast_id': 14, 'character': 'Woody (voice)',...</td>\n",
       "      <td>[{'credit_id': '52fe4284c3a36847f8024f49', 'de...</td>\n",
       "      <td>862</td>\n",
       "      <td>['Tom Hanks', 'Tim Allen', 'Don Rickles', 'Jim...</td>\n",
       "      <td>['John Lasseter', 'Joss Whedon', 'Andrew Stant...</td>\n",
       "    </tr>\n",
       "    <tr>\n",
       "      <th>1</th>\n",
       "      <td>[{'cast_id': 1, 'character': 'Alan Parrish', '...</td>\n",
       "      <td>[{'credit_id': '52fe44bfc3a36847f80a7cd1', 'de...</td>\n",
       "      <td>8844</td>\n",
       "      <td>['Robin Williams', 'Jonathan Hyde', 'Kirsten D...</td>\n",
       "      <td>['Larry J. Franco', 'Jonathan Hensleigh', 'Jam...</td>\n",
       "    </tr>\n",
       "    <tr>\n",
       "      <th>2</th>\n",
       "      <td>[{'cast_id': 2, 'character': 'Max Goldman', 'c...</td>\n",
       "      <td>[{'credit_id': '52fe466a9251416c75077a89', 'de...</td>\n",
       "      <td>15602</td>\n",
       "      <td>['Walter Matthau', 'Jack Lemmon', 'Ann-Margret...</td>\n",
       "      <td>['Howard Deutch', 'Mark Steven Johnson', 'Mark...</td>\n",
       "    </tr>\n",
       "    <tr>\n",
       "      <th>3</th>\n",
       "      <td>[{'cast_id': 1, 'character': \"Savannah 'Vannah...</td>\n",
       "      <td>[{'credit_id': '52fe44779251416c91011acb', 'de...</td>\n",
       "      <td>31357</td>\n",
       "      <td>['Whitney Houston', 'Angela Bassett', 'Loretta...</td>\n",
       "      <td>['Forest Whitaker', 'Ronald Bass', 'Ronald Bas...</td>\n",
       "    </tr>\n",
       "  </tbody>\n",
       "</table>\n",
       "</div>"
      ],
      "text/plain": [
       "                                                cast  \\\n",
       "0  [{'cast_id': 14, 'character': 'Woody (voice)',...   \n",
       "1  [{'cast_id': 1, 'character': 'Alan Parrish', '...   \n",
       "2  [{'cast_id': 2, 'character': 'Max Goldman', 'c...   \n",
       "3  [{'cast_id': 1, 'character': \"Savannah 'Vannah...   \n",
       "\n",
       "                                                crew     id  \\\n",
       "0  [{'credit_id': '52fe4284c3a36847f8024f49', 'de...    862   \n",
       "1  [{'credit_id': '52fe44bfc3a36847f80a7cd1', 'de...   8844   \n",
       "2  [{'credit_id': '52fe466a9251416c75077a89', 'de...  15602   \n",
       "3  [{'credit_id': '52fe44779251416c91011acb', 'de...  31357   \n",
       "\n",
       "                                           cast_name  \\\n",
       "0  ['Tom Hanks', 'Tim Allen', 'Don Rickles', 'Jim...   \n",
       "1  ['Robin Williams', 'Jonathan Hyde', 'Kirsten D...   \n",
       "2  ['Walter Matthau', 'Jack Lemmon', 'Ann-Margret...   \n",
       "3  ['Whitney Houston', 'Angela Bassett', 'Loretta...   \n",
       "\n",
       "                                           crew_name  \n",
       "0  ['John Lasseter', 'Joss Whedon', 'Andrew Stant...  \n",
       "1  ['Larry J. Franco', 'Jonathan Hensleigh', 'Jam...  \n",
       "2  ['Howard Deutch', 'Mark Steven Johnson', 'Mark...  \n",
       "3  ['Forest Whitaker', 'Ronald Bass', 'Ronald Bas...  "
      ]
     },
     "execution_count": 108,
     "metadata": {},
     "output_type": "execute_result"
    }
   ],
   "source": [
    "credits.head(4)"
   ]
  },
  {
   "cell_type": "markdown",
   "id": "7fa472e2",
   "metadata": {},
   "source": [
    "splitting production_companies"
   ]
  },
  {
   "cell_type": "code",
   "execution_count": 109,
   "id": "64482375",
   "metadata": {},
   "outputs": [],
   "source": [
    "df3=pd.DataFrame(['Production_Companies'])"
   ]
  },
  {
   "cell_type": "code",
   "execution_count": 110,
   "id": "8cc7382a",
   "metadata": {},
   "outputs": [],
   "source": [
    "for i in range(0,len(metadata)):\n",
    "    if isinstance(metadata.production_companies[i],float):\n",
    "        li=[]\n",
    "        li.append('nan')\n",
    "    elif metadata.production_companies[i]=='False':\n",
    "        li=[]\n",
    "        li.append(metadata.production_companies.iloc[i])\n",
    "    else:\n",
    "        ini_list =metadata.production_companies[i]\n",
    "        res = ast.literal_eval(ini_list)\n",
    "        str1=''\n",
    "        li=[]\n",
    "        for j in range(0,len(res)):\n",
    "            res1=ast.literal_eval(str(res[j]))\n",
    "            str1=str1+','+res1['name']\n",
    "            li.append(res1['name'])\n",
    "    #print(i)\n",
    "    df3=df3.append([str(li)])"
   ]
  },
  {
   "cell_type": "code",
   "execution_count": 111,
   "id": "b9da3b39",
   "metadata": {},
   "outputs": [],
   "source": [
    "df3.rename(columns={0:'production_companies_name'},inplace=True)"
   ]
  },
  {
   "cell_type": "code",
   "execution_count": 112,
   "id": "b9276c1f",
   "metadata": {},
   "outputs": [
    {
     "data": {
      "text/html": [
       "<div>\n",
       "<style scoped>\n",
       "    .dataframe tbody tr th:only-of-type {\n",
       "        vertical-align: middle;\n",
       "    }\n",
       "\n",
       "    .dataframe tbody tr th {\n",
       "        vertical-align: top;\n",
       "    }\n",
       "\n",
       "    .dataframe thead th {\n",
       "        text-align: right;\n",
       "    }\n",
       "</style>\n",
       "<table border=\"1\" class=\"dataframe\">\n",
       "  <thead>\n",
       "    <tr style=\"text-align: right;\">\n",
       "      <th></th>\n",
       "      <th>production_companies_name</th>\n",
       "    </tr>\n",
       "  </thead>\n",
       "  <tbody>\n",
       "    <tr>\n",
       "      <th>0</th>\n",
       "      <td>Production_Companies</td>\n",
       "    </tr>\n",
       "    <tr>\n",
       "      <th>0</th>\n",
       "      <td>['Pixar Animation Studios']</td>\n",
       "    </tr>\n",
       "    <tr>\n",
       "      <th>0</th>\n",
       "      <td>['TriStar Pictures', 'Teitler Film', 'Intersco...</td>\n",
       "    </tr>\n",
       "    <tr>\n",
       "      <th>0</th>\n",
       "      <td>['Warner Bros.', 'Lancaster Gate']</td>\n",
       "    </tr>\n",
       "    <tr>\n",
       "      <th>0</th>\n",
       "      <td>['Twentieth Century Fox Film Corporation']</td>\n",
       "    </tr>\n",
       "  </tbody>\n",
       "</table>\n",
       "</div>"
      ],
      "text/plain": [
       "                           production_companies_name\n",
       "0                               Production_Companies\n",
       "0                        ['Pixar Animation Studios']\n",
       "0  ['TriStar Pictures', 'Teitler Film', 'Intersco...\n",
       "0                 ['Warner Bros.', 'Lancaster Gate']\n",
       "0         ['Twentieth Century Fox Film Corporation']"
      ]
     },
     "execution_count": 112,
     "metadata": {},
     "output_type": "execute_result"
    }
   ],
   "source": [
    "df3.head()"
   ]
  },
  {
   "cell_type": "code",
   "execution_count": 113,
   "id": "627fdbe5",
   "metadata": {},
   "outputs": [],
   "source": [
    "df3=df3.iloc[1:, :]"
   ]
  },
  {
   "cell_type": "code",
   "execution_count": 114,
   "id": "172142c3",
   "metadata": {},
   "outputs": [
    {
     "data": {
      "text/html": [
       "<div>\n",
       "<style scoped>\n",
       "    .dataframe tbody tr th:only-of-type {\n",
       "        vertical-align: middle;\n",
       "    }\n",
       "\n",
       "    .dataframe tbody tr th {\n",
       "        vertical-align: top;\n",
       "    }\n",
       "\n",
       "    .dataframe thead th {\n",
       "        text-align: right;\n",
       "    }\n",
       "</style>\n",
       "<table border=\"1\" class=\"dataframe\">\n",
       "  <thead>\n",
       "    <tr style=\"text-align: right;\">\n",
       "      <th></th>\n",
       "      <th>production_companies_name</th>\n",
       "    </tr>\n",
       "  </thead>\n",
       "  <tbody>\n",
       "    <tr>\n",
       "      <th>0</th>\n",
       "      <td>['Pixar Animation Studios']</td>\n",
       "    </tr>\n",
       "    <tr>\n",
       "      <th>0</th>\n",
       "      <td>['TriStar Pictures', 'Teitler Film', 'Intersco...</td>\n",
       "    </tr>\n",
       "    <tr>\n",
       "      <th>0</th>\n",
       "      <td>['Warner Bros.', 'Lancaster Gate']</td>\n",
       "    </tr>\n",
       "    <tr>\n",
       "      <th>0</th>\n",
       "      <td>['Twentieth Century Fox Film Corporation']</td>\n",
       "    </tr>\n",
       "    <tr>\n",
       "      <th>0</th>\n",
       "      <td>['Sandollar Productions', 'Touchstone Pictures']</td>\n",
       "    </tr>\n",
       "  </tbody>\n",
       "</table>\n",
       "</div>"
      ],
      "text/plain": [
       "                           production_companies_name\n",
       "0                        ['Pixar Animation Studios']\n",
       "0  ['TriStar Pictures', 'Teitler Film', 'Intersco...\n",
       "0                 ['Warner Bros.', 'Lancaster Gate']\n",
       "0         ['Twentieth Century Fox Film Corporation']\n",
       "0   ['Sandollar Productions', 'Touchstone Pictures']"
      ]
     },
     "execution_count": 114,
     "metadata": {},
     "output_type": "execute_result"
    }
   ],
   "source": [
    "df3.head()"
   ]
  },
  {
   "cell_type": "code",
   "execution_count": 115,
   "id": "a3fe9cba",
   "metadata": {},
   "outputs": [],
   "source": [
    "metadata=metadata.reset_index(drop=True).merge(df3.reset_index(drop=True), left_index=True, right_index=True)"
   ]
  },
  {
   "cell_type": "code",
   "execution_count": 116,
   "id": "62fa6048",
   "metadata": {},
   "outputs": [
    {
     "data": {
      "text/html": [
       "<div>\n",
       "<style scoped>\n",
       "    .dataframe tbody tr th:only-of-type {\n",
       "        vertical-align: middle;\n",
       "    }\n",
       "\n",
       "    .dataframe tbody tr th {\n",
       "        vertical-align: top;\n",
       "    }\n",
       "\n",
       "    .dataframe thead th {\n",
       "        text-align: right;\n",
       "    }\n",
       "</style>\n",
       "<table border=\"1\" class=\"dataframe\">\n",
       "  <thead>\n",
       "    <tr style=\"text-align: right;\">\n",
       "      <th></th>\n",
       "      <th>adult</th>\n",
       "      <th>belongs_to_collection</th>\n",
       "      <th>budget</th>\n",
       "      <th>genres</th>\n",
       "      <th>homepage</th>\n",
       "      <th>id</th>\n",
       "      <th>imdb_id</th>\n",
       "      <th>original_language</th>\n",
       "      <th>original_title</th>\n",
       "      <th>overview</th>\n",
       "      <th>...</th>\n",
       "      <th>title</th>\n",
       "      <th>video</th>\n",
       "      <th>vote_average</th>\n",
       "      <th>vote_count</th>\n",
       "      <th>genre_name</th>\n",
       "      <th>id1</th>\n",
       "      <th>collection_name</th>\n",
       "      <th>poster_path_y</th>\n",
       "      <th>backdrop_path</th>\n",
       "      <th>production_companies_name</th>\n",
       "    </tr>\n",
       "  </thead>\n",
       "  <tbody>\n",
       "    <tr>\n",
       "      <th>0</th>\n",
       "      <td>False</td>\n",
       "      <td>{'id': 10194, 'name': 'Toy Story Collection', ...</td>\n",
       "      <td>30000000</td>\n",
       "      <td>[{'id': 16, 'name': 'Animation'}, {'id': 35, '...</td>\n",
       "      <td>http://toystory.disney.com/toy-story</td>\n",
       "      <td>862.0</td>\n",
       "      <td>tt0114709</td>\n",
       "      <td>en</td>\n",
       "      <td>Toy Story</td>\n",
       "      <td>Led by Woody, Andy's toys live happily in his ...</td>\n",
       "      <td>...</td>\n",
       "      <td>Toy Story</td>\n",
       "      <td>False</td>\n",
       "      <td>7.7</td>\n",
       "      <td>5415.0</td>\n",
       "      <td>[Animation, Comedy, Family]</td>\n",
       "      <td>10194</td>\n",
       "      <td>Toy Story Collection</td>\n",
       "      <td>/7G9915LfUQ2lVfwMEEhDsn3kT4B.jpg</td>\n",
       "      <td>/9FBwqcd9IRruEDUrTdcaafOMKUq.jpg</td>\n",
       "      <td>['Pixar Animation Studios']</td>\n",
       "    </tr>\n",
       "    <tr>\n",
       "      <th>1</th>\n",
       "      <td>False</td>\n",
       "      <td>NaN</td>\n",
       "      <td>65000000</td>\n",
       "      <td>[{'id': 12, 'name': 'Adventure'}, {'id': 14, '...</td>\n",
       "      <td>NaN</td>\n",
       "      <td>8844.0</td>\n",
       "      <td>tt0113497</td>\n",
       "      <td>en</td>\n",
       "      <td>Jumanji</td>\n",
       "      <td>When siblings Judy and Peter discover an encha...</td>\n",
       "      <td>...</td>\n",
       "      <td>Jumanji</td>\n",
       "      <td>False</td>\n",
       "      <td>6.9</td>\n",
       "      <td>2413.0</td>\n",
       "      <td>[Adventure, Fantasy, Family]</td>\n",
       "      <td>nan</td>\n",
       "      <td>nan</td>\n",
       "      <td>nan</td>\n",
       "      <td>nan</td>\n",
       "      <td>['TriStar Pictures', 'Teitler Film', 'Intersco...</td>\n",
       "    </tr>\n",
       "    <tr>\n",
       "      <th>2</th>\n",
       "      <td>False</td>\n",
       "      <td>{'id': 119050, 'name': 'Grumpy Old Men Collect...</td>\n",
       "      <td>0</td>\n",
       "      <td>[{'id': 10749, 'name': 'Romance'}, {'id': 35, ...</td>\n",
       "      <td>NaN</td>\n",
       "      <td>15602.0</td>\n",
       "      <td>tt0113228</td>\n",
       "      <td>en</td>\n",
       "      <td>Grumpier Old Men</td>\n",
       "      <td>A family wedding reignites the ancient feud be...</td>\n",
       "      <td>...</td>\n",
       "      <td>Grumpier Old Men</td>\n",
       "      <td>False</td>\n",
       "      <td>6.5</td>\n",
       "      <td>92.0</td>\n",
       "      <td>[Romance, Comedy]</td>\n",
       "      <td>119050</td>\n",
       "      <td>Grumpy Old Men Collection</td>\n",
       "      <td>/nLvUdqgPgm3F85NMCii9gVFUcet.jpg</td>\n",
       "      <td>/hypTnLot2z8wpFS7qwsQHW1uV8u.jpg</td>\n",
       "      <td>['Warner Bros.', 'Lancaster Gate']</td>\n",
       "    </tr>\n",
       "  </tbody>\n",
       "</table>\n",
       "<p>3 rows × 30 columns</p>\n",
       "</div>"
      ],
      "text/plain": [
       "   adult                              belongs_to_collection    budget  \\\n",
       "0  False  {'id': 10194, 'name': 'Toy Story Collection', ...  30000000   \n",
       "1  False                                                NaN  65000000   \n",
       "2  False  {'id': 119050, 'name': 'Grumpy Old Men Collect...         0   \n",
       "\n",
       "                                              genres  \\\n",
       "0  [{'id': 16, 'name': 'Animation'}, {'id': 35, '...   \n",
       "1  [{'id': 12, 'name': 'Adventure'}, {'id': 14, '...   \n",
       "2  [{'id': 10749, 'name': 'Romance'}, {'id': 35, ...   \n",
       "\n",
       "                               homepage       id    imdb_id original_language  \\\n",
       "0  http://toystory.disney.com/toy-story    862.0  tt0114709                en   \n",
       "1                                   NaN   8844.0  tt0113497                en   \n",
       "2                                   NaN  15602.0  tt0113228                en   \n",
       "\n",
       "     original_title                                           overview  ...  \\\n",
       "0         Toy Story  Led by Woody, Andy's toys live happily in his ...  ...   \n",
       "1           Jumanji  When siblings Judy and Peter discover an encha...  ...   \n",
       "2  Grumpier Old Men  A family wedding reignites the ancient feud be...  ...   \n",
       "\n",
       "              title  video vote_average vote_count  \\\n",
       "0         Toy Story  False          7.7     5415.0   \n",
       "1           Jumanji  False          6.9     2413.0   \n",
       "2  Grumpier Old Men  False          6.5       92.0   \n",
       "\n",
       "                     genre_name     id1            collection_name  \\\n",
       "0   [Animation, Comedy, Family]   10194       Toy Story Collection   \n",
       "1  [Adventure, Fantasy, Family]     nan                        nan   \n",
       "2             [Romance, Comedy]  119050  Grumpy Old Men Collection   \n",
       "\n",
       "                      poster_path_y                     backdrop_path  \\\n",
       "0  /7G9915LfUQ2lVfwMEEhDsn3kT4B.jpg  /9FBwqcd9IRruEDUrTdcaafOMKUq.jpg   \n",
       "1                               nan                               nan   \n",
       "2  /nLvUdqgPgm3F85NMCii9gVFUcet.jpg  /hypTnLot2z8wpFS7qwsQHW1uV8u.jpg   \n",
       "\n",
       "                           production_companies_name  \n",
       "0                        ['Pixar Animation Studios']  \n",
       "1  ['TriStar Pictures', 'Teitler Film', 'Intersco...  \n",
       "2                 ['Warner Bros.', 'Lancaster Gate']  \n",
       "\n",
       "[3 rows x 30 columns]"
      ]
     },
     "execution_count": 116,
     "metadata": {},
     "output_type": "execute_result"
    }
   ],
   "source": [
    "metadata.head(3)"
   ]
  },
  {
   "cell_type": "code",
   "execution_count": 117,
   "id": "12b69287",
   "metadata": {},
   "outputs": [
    {
     "data": {
      "text/plain": [
       "Index(['adult', 'belongs_to_collection', 'budget', 'genres', 'homepage', 'id',\n",
       "       'imdb_id', 'original_language', 'original_title', 'overview',\n",
       "       'popularity', 'poster_path_x', 'production_companies',\n",
       "       'production_countries', 'release_date', 'revenue', 'runtime',\n",
       "       'spoken_languages', 'status', 'tagline', 'title', 'video',\n",
       "       'vote_average', 'vote_count', 'genre_name', 'id1', 'collection_name',\n",
       "       'poster_path_y', 'backdrop_path', 'production_companies_name'],\n",
       "      dtype='object')"
      ]
     },
     "execution_count": 117,
     "metadata": {},
     "output_type": "execute_result"
    }
   ],
   "source": [
    "# The total columns present in metadata\n",
    "metadata.columns"
   ]
  },
  {
   "cell_type": "code",
   "execution_count": 118,
   "id": "4788f536",
   "metadata": {},
   "outputs": [
    {
     "data": {
      "text/plain": [
       "45466"
      ]
     },
     "execution_count": 118,
     "metadata": {},
     "output_type": "execute_result"
    }
   ],
   "source": [
    "len(metadata)"
   ]
  },
  {
   "cell_type": "code",
   "execution_count": 119,
   "id": "2e036a4f",
   "metadata": {},
   "outputs": [
    {
     "data": {
      "text/plain": [
       "adult                            0\n",
       "belongs_to_collection        40972\n",
       "budget                           0\n",
       "genres                           0\n",
       "homepage                     37684\n",
       "id                               3\n",
       "imdb_id                         17\n",
       "original_language               11\n",
       "original_title                   0\n",
       "overview                       954\n",
       "popularity                       6\n",
       "poster_path_x                  386\n",
       "production_companies             3\n",
       "production_countries             3\n",
       "release_date                    90\n",
       "revenue                          6\n",
       "runtime                        263\n",
       "spoken_languages                 6\n",
       "status                          87\n",
       "tagline                      25054\n",
       "title                            6\n",
       "video                            6\n",
       "vote_average                     6\n",
       "vote_count                       6\n",
       "genre_name                       0\n",
       "id1                              0\n",
       "collection_name                  0\n",
       "poster_path_y                  543\n",
       "backdrop_path                 1228\n",
       "production_companies_name        0\n",
       "dtype: int64"
      ]
     },
     "execution_count": 119,
     "metadata": {},
     "output_type": "execute_result"
    }
   ],
   "source": [
    "metadata.isna().sum()"
   ]
  },
  {
   "cell_type": "code",
   "execution_count": 120,
   "id": "24a70342",
   "metadata": {},
   "outputs": [],
   "source": [
    "#metadata.to_excel('movies_metadata_details.xlsx',index=False)"
   ]
  },
  {
   "cell_type": "code",
   "execution_count": 121,
   "id": "1e647cf7",
   "metadata": {},
   "outputs": [],
   "source": [
    "#credits.to_excel('credits_data.xlsx',index=False)"
   ]
  },
  {
   "cell_type": "code",
   "execution_count": 122,
   "id": "f4003a91",
   "metadata": {},
   "outputs": [],
   "source": [
    "#ratings_new.to_excel('ratings_data.xlsx',index=False)"
   ]
  },
  {
   "cell_type": "code",
   "execution_count": 123,
   "id": "833613ca",
   "metadata": {},
   "outputs": [
    {
     "data": {
      "text/plain": [
       "45476"
      ]
     },
     "execution_count": 123,
     "metadata": {},
     "output_type": "execute_result"
    }
   ],
   "source": [
    "len(credits)"
   ]
  },
  {
   "cell_type": "code",
   "execution_count": 124,
   "id": "fdcba929",
   "metadata": {},
   "outputs": [],
   "source": [
    "#JOINING DATA"
   ]
  },
  {
   "cell_type": "code",
   "execution_count": 125,
   "id": "e62454af",
   "metadata": {},
   "outputs": [],
   "source": [
    "main=ratings.groupby('movieId').mean()"
   ]
  },
  {
   "cell_type": "code",
   "execution_count": 126,
   "id": "2a0b515a",
   "metadata": {},
   "outputs": [],
   "source": [
    "main.drop(['userId','timestamp'],axis=1,inplace=True)"
   ]
  },
  {
   "cell_type": "code",
   "execution_count": 127,
   "id": "cc60a943",
   "metadata": {},
   "outputs": [],
   "source": [
    "main['id']=main.index"
   ]
  },
  {
   "cell_type": "code",
   "execution_count": 128,
   "id": "fdd903a6",
   "metadata": {},
   "outputs": [],
   "source": [
    "metadata=metadata[metadata.id!='1997-08-20']"
   ]
  },
  {
   "cell_type": "code",
   "execution_count": 129,
   "id": "b173b273",
   "metadata": {},
   "outputs": [],
   "source": [
    "metadata=metadata[metadata.id!='2012-09-29']"
   ]
  },
  {
   "cell_type": "code",
   "execution_count": 130,
   "id": "a39401fe",
   "metadata": {},
   "outputs": [],
   "source": [
    "metadata=metadata[metadata.id!='2014-01-01']"
   ]
  },
  {
   "cell_type": "code",
   "execution_count": 131,
   "id": "2b0e18bf",
   "metadata": {},
   "outputs": [],
   "source": [
    "metadata = metadata[metadata['id'].notna()]"
   ]
  },
  {
   "cell_type": "code",
   "execution_count": 132,
   "id": "eadc6092",
   "metadata": {},
   "outputs": [
    {
     "data": {
      "text/html": [
       "<div>\n",
       "<style scoped>\n",
       "    .dataframe tbody tr th:only-of-type {\n",
       "        vertical-align: middle;\n",
       "    }\n",
       "\n",
       "    .dataframe tbody tr th {\n",
       "        vertical-align: top;\n",
       "    }\n",
       "\n",
       "    .dataframe thead th {\n",
       "        text-align: right;\n",
       "    }\n",
       "</style>\n",
       "<table border=\"1\" class=\"dataframe\">\n",
       "  <thead>\n",
       "    <tr style=\"text-align: right;\">\n",
       "      <th></th>\n",
       "      <th>adult</th>\n",
       "      <th>belongs_to_collection</th>\n",
       "      <th>budget</th>\n",
       "      <th>genres</th>\n",
       "      <th>homepage</th>\n",
       "      <th>id</th>\n",
       "      <th>imdb_id</th>\n",
       "      <th>original_language</th>\n",
       "      <th>original_title</th>\n",
       "      <th>overview</th>\n",
       "      <th>...</th>\n",
       "      <th>title</th>\n",
       "      <th>video</th>\n",
       "      <th>vote_average</th>\n",
       "      <th>vote_count</th>\n",
       "      <th>genre_name</th>\n",
       "      <th>id1</th>\n",
       "      <th>collection_name</th>\n",
       "      <th>poster_path_y</th>\n",
       "      <th>backdrop_path</th>\n",
       "      <th>production_companies_name</th>\n",
       "    </tr>\n",
       "  </thead>\n",
       "  <tbody>\n",
       "  </tbody>\n",
       "</table>\n",
       "<p>0 rows × 30 columns</p>\n",
       "</div>"
      ],
      "text/plain": [
       "Empty DataFrame\n",
       "Columns: [adult, belongs_to_collection, budget, genres, homepage, id, imdb_id, original_language, original_title, overview, popularity, poster_path_x, production_companies, production_countries, release_date, revenue, runtime, spoken_languages, status, tagline, title, video, vote_average, vote_count, genre_name, id1, collection_name, poster_path_y, backdrop_path, production_companies_name]\n",
       "Index: []\n",
       "\n",
       "[0 rows x 30 columns]"
      ]
     },
     "execution_count": 132,
     "metadata": {},
     "output_type": "execute_result"
    }
   ],
   "source": [
    "metadata[metadata.id.isna()]"
   ]
  },
  {
   "cell_type": "code",
   "execution_count": 133,
   "id": "96ac2cb5",
   "metadata": {},
   "outputs": [
    {
     "data": {
      "text/html": [
       "<div>\n",
       "<style scoped>\n",
       "    .dataframe tbody tr th:only-of-type {\n",
       "        vertical-align: middle;\n",
       "    }\n",
       "\n",
       "    .dataframe tbody tr th {\n",
       "        vertical-align: top;\n",
       "    }\n",
       "\n",
       "    .dataframe thead th {\n",
       "        text-align: right;\n",
       "    }\n",
       "</style>\n",
       "<table border=\"1\" class=\"dataframe\">\n",
       "  <thead>\n",
       "    <tr style=\"text-align: right;\">\n",
       "      <th></th>\n",
       "      <th>adult</th>\n",
       "      <th>belongs_to_collection</th>\n",
       "      <th>budget</th>\n",
       "      <th>genres</th>\n",
       "      <th>homepage</th>\n",
       "      <th>id</th>\n",
       "      <th>imdb_id</th>\n",
       "      <th>original_language</th>\n",
       "      <th>original_title</th>\n",
       "      <th>overview</th>\n",
       "      <th>...</th>\n",
       "      <th>title</th>\n",
       "      <th>video</th>\n",
       "      <th>vote_average</th>\n",
       "      <th>vote_count</th>\n",
       "      <th>genre_name</th>\n",
       "      <th>id1</th>\n",
       "      <th>collection_name</th>\n",
       "      <th>poster_path_y</th>\n",
       "      <th>backdrop_path</th>\n",
       "      <th>production_companies_name</th>\n",
       "    </tr>\n",
       "  </thead>\n",
       "  <tbody>\n",
       "  </tbody>\n",
       "</table>\n",
       "<p>0 rows × 30 columns</p>\n",
       "</div>"
      ],
      "text/plain": [
       "Empty DataFrame\n",
       "Columns: [adult, belongs_to_collection, budget, genres, homepage, id, imdb_id, original_language, original_title, overview, popularity, poster_path_x, production_companies, production_countries, release_date, revenue, runtime, spoken_languages, status, tagline, title, video, vote_average, vote_count, genre_name, id1, collection_name, poster_path_y, backdrop_path, production_companies_name]\n",
       "Index: []\n",
       "\n",
       "[0 rows x 30 columns]"
      ]
     },
     "execution_count": 133,
     "metadata": {},
     "output_type": "execute_result"
    }
   ],
   "source": [
    "metadata[metadata.index==19730]"
   ]
  },
  {
   "cell_type": "code",
   "execution_count": 134,
   "id": "495d1aed",
   "metadata": {},
   "outputs": [],
   "source": [
    "metadata = metadata.astype({'id':'int64'})"
   ]
  },
  {
   "cell_type": "code",
   "execution_count": 135,
   "id": "77a5dbe7",
   "metadata": {},
   "outputs": [
    {
     "data": {
      "text/html": [
       "<div>\n",
       "<style scoped>\n",
       "    .dataframe tbody tr th:only-of-type {\n",
       "        vertical-align: middle;\n",
       "    }\n",
       "\n",
       "    .dataframe tbody tr th {\n",
       "        vertical-align: top;\n",
       "    }\n",
       "\n",
       "    .dataframe thead th {\n",
       "        text-align: right;\n",
       "    }\n",
       "</style>\n",
       "<table border=\"1\" class=\"dataframe\">\n",
       "  <thead>\n",
       "    <tr style=\"text-align: right;\">\n",
       "      <th></th>\n",
       "      <th>cast</th>\n",
       "      <th>crew</th>\n",
       "      <th>id</th>\n",
       "      <th>cast_name</th>\n",
       "      <th>crew_name</th>\n",
       "    </tr>\n",
       "  </thead>\n",
       "  <tbody>\n",
       "    <tr>\n",
       "      <th>0</th>\n",
       "      <td>[{'cast_id': 14, 'character': 'Woody (voice)',...</td>\n",
       "      <td>[{'credit_id': '52fe4284c3a36847f8024f49', 'de...</td>\n",
       "      <td>862</td>\n",
       "      <td>['Tom Hanks', 'Tim Allen', 'Don Rickles', 'Jim...</td>\n",
       "      <td>['John Lasseter', 'Joss Whedon', 'Andrew Stant...</td>\n",
       "    </tr>\n",
       "    <tr>\n",
       "      <th>1</th>\n",
       "      <td>[{'cast_id': 1, 'character': 'Alan Parrish', '...</td>\n",
       "      <td>[{'credit_id': '52fe44bfc3a36847f80a7cd1', 'de...</td>\n",
       "      <td>8844</td>\n",
       "      <td>['Robin Williams', 'Jonathan Hyde', 'Kirsten D...</td>\n",
       "      <td>['Larry J. Franco', 'Jonathan Hensleigh', 'Jam...</td>\n",
       "    </tr>\n",
       "    <tr>\n",
       "      <th>2</th>\n",
       "      <td>[{'cast_id': 2, 'character': 'Max Goldman', 'c...</td>\n",
       "      <td>[{'credit_id': '52fe466a9251416c75077a89', 'de...</td>\n",
       "      <td>15602</td>\n",
       "      <td>['Walter Matthau', 'Jack Lemmon', 'Ann-Margret...</td>\n",
       "      <td>['Howard Deutch', 'Mark Steven Johnson', 'Mark...</td>\n",
       "    </tr>\n",
       "    <tr>\n",
       "      <th>3</th>\n",
       "      <td>[{'cast_id': 1, 'character': \"Savannah 'Vannah...</td>\n",
       "      <td>[{'credit_id': '52fe44779251416c91011acb', 'de...</td>\n",
       "      <td>31357</td>\n",
       "      <td>['Whitney Houston', 'Angela Bassett', 'Loretta...</td>\n",
       "      <td>['Forest Whitaker', 'Ronald Bass', 'Ronald Bas...</td>\n",
       "    </tr>\n",
       "    <tr>\n",
       "      <th>4</th>\n",
       "      <td>[{'cast_id': 1, 'character': 'George Banks', '...</td>\n",
       "      <td>[{'credit_id': '52fe44959251416c75039ed7', 'de...</td>\n",
       "      <td>11862</td>\n",
       "      <td>['Steve Martin', 'Diane Keaton', 'Martin Short...</td>\n",
       "      <td>['Alan Silvestri', 'Elliot Davis', 'Nancy Meye...</td>\n",
       "    </tr>\n",
       "  </tbody>\n",
       "</table>\n",
       "</div>"
      ],
      "text/plain": [
       "                                                cast  \\\n",
       "0  [{'cast_id': 14, 'character': 'Woody (voice)',...   \n",
       "1  [{'cast_id': 1, 'character': 'Alan Parrish', '...   \n",
       "2  [{'cast_id': 2, 'character': 'Max Goldman', 'c...   \n",
       "3  [{'cast_id': 1, 'character': \"Savannah 'Vannah...   \n",
       "4  [{'cast_id': 1, 'character': 'George Banks', '...   \n",
       "\n",
       "                                                crew     id  \\\n",
       "0  [{'credit_id': '52fe4284c3a36847f8024f49', 'de...    862   \n",
       "1  [{'credit_id': '52fe44bfc3a36847f80a7cd1', 'de...   8844   \n",
       "2  [{'credit_id': '52fe466a9251416c75077a89', 'de...  15602   \n",
       "3  [{'credit_id': '52fe44779251416c91011acb', 'de...  31357   \n",
       "4  [{'credit_id': '52fe44959251416c75039ed7', 'de...  11862   \n",
       "\n",
       "                                           cast_name  \\\n",
       "0  ['Tom Hanks', 'Tim Allen', 'Don Rickles', 'Jim...   \n",
       "1  ['Robin Williams', 'Jonathan Hyde', 'Kirsten D...   \n",
       "2  ['Walter Matthau', 'Jack Lemmon', 'Ann-Margret...   \n",
       "3  ['Whitney Houston', 'Angela Bassett', 'Loretta...   \n",
       "4  ['Steve Martin', 'Diane Keaton', 'Martin Short...   \n",
       "\n",
       "                                           crew_name  \n",
       "0  ['John Lasseter', 'Joss Whedon', 'Andrew Stant...  \n",
       "1  ['Larry J. Franco', 'Jonathan Hensleigh', 'Jam...  \n",
       "2  ['Howard Deutch', 'Mark Steven Johnson', 'Mark...  \n",
       "3  ['Forest Whitaker', 'Ronald Bass', 'Ronald Bas...  \n",
       "4  ['Alan Silvestri', 'Elliot Davis', 'Nancy Meye...  "
      ]
     },
     "execution_count": 135,
     "metadata": {},
     "output_type": "execute_result"
    }
   ],
   "source": [
    "credits.head()"
   ]
  },
  {
   "cell_type": "code",
   "execution_count": 136,
   "id": "5302bdbc",
   "metadata": {},
   "outputs": [
    {
     "data": {
      "text/html": [
       "<div>\n",
       "<style scoped>\n",
       "    .dataframe tbody tr th:only-of-type {\n",
       "        vertical-align: middle;\n",
       "    }\n",
       "\n",
       "    .dataframe tbody tr th {\n",
       "        vertical-align: top;\n",
       "    }\n",
       "\n",
       "    .dataframe thead th {\n",
       "        text-align: right;\n",
       "    }\n",
       "</style>\n",
       "<table border=\"1\" class=\"dataframe\">\n",
       "  <thead>\n",
       "    <tr style=\"text-align: right;\">\n",
       "      <th></th>\n",
       "      <th>cast</th>\n",
       "      <th>crew</th>\n",
       "      <th>id</th>\n",
       "      <th>cast_name</th>\n",
       "      <th>crew_name</th>\n",
       "    </tr>\n",
       "  </thead>\n",
       "  <tbody>\n",
       "    <tr>\n",
       "      <th>0</th>\n",
       "      <td>[{'cast_id': 14, 'character': 'Woody (voice)',...</td>\n",
       "      <td>[{'credit_id': '52fe4284c3a36847f8024f49', 'de...</td>\n",
       "      <td>862</td>\n",
       "      <td>['Tom Hanks', 'Tim Allen', 'Don Rickles', 'Jim...</td>\n",
       "      <td>['John Lasseter', 'Joss Whedon', 'Andrew Stant...</td>\n",
       "    </tr>\n",
       "    <tr>\n",
       "      <th>1</th>\n",
       "      <td>[{'cast_id': 1, 'character': 'Alan Parrish', '...</td>\n",
       "      <td>[{'credit_id': '52fe44bfc3a36847f80a7cd1', 'de...</td>\n",
       "      <td>8844</td>\n",
       "      <td>['Robin Williams', 'Jonathan Hyde', 'Kirsten D...</td>\n",
       "      <td>['Larry J. Franco', 'Jonathan Hensleigh', 'Jam...</td>\n",
       "    </tr>\n",
       "    <tr>\n",
       "      <th>2</th>\n",
       "      <td>[{'cast_id': 2, 'character': 'Max Goldman', 'c...</td>\n",
       "      <td>[{'credit_id': '52fe466a9251416c75077a89', 'de...</td>\n",
       "      <td>15602</td>\n",
       "      <td>['Walter Matthau', 'Jack Lemmon', 'Ann-Margret...</td>\n",
       "      <td>['Howard Deutch', 'Mark Steven Johnson', 'Mark...</td>\n",
       "    </tr>\n",
       "    <tr>\n",
       "      <th>3</th>\n",
       "      <td>[{'cast_id': 1, 'character': \"Savannah 'Vannah...</td>\n",
       "      <td>[{'credit_id': '52fe44779251416c91011acb', 'de...</td>\n",
       "      <td>31357</td>\n",
       "      <td>['Whitney Houston', 'Angela Bassett', 'Loretta...</td>\n",
       "      <td>['Forest Whitaker', 'Ronald Bass', 'Ronald Bas...</td>\n",
       "    </tr>\n",
       "    <tr>\n",
       "      <th>4</th>\n",
       "      <td>[{'cast_id': 1, 'character': 'George Banks', '...</td>\n",
       "      <td>[{'credit_id': '52fe44959251416c75039ed7', 'de...</td>\n",
       "      <td>11862</td>\n",
       "      <td>['Steve Martin', 'Diane Keaton', 'Martin Short...</td>\n",
       "      <td>['Alan Silvestri', 'Elliot Davis', 'Nancy Meye...</td>\n",
       "    </tr>\n",
       "  </tbody>\n",
       "</table>\n",
       "</div>"
      ],
      "text/plain": [
       "                                                cast  \\\n",
       "0  [{'cast_id': 14, 'character': 'Woody (voice)',...   \n",
       "1  [{'cast_id': 1, 'character': 'Alan Parrish', '...   \n",
       "2  [{'cast_id': 2, 'character': 'Max Goldman', 'c...   \n",
       "3  [{'cast_id': 1, 'character': \"Savannah 'Vannah...   \n",
       "4  [{'cast_id': 1, 'character': 'George Banks', '...   \n",
       "\n",
       "                                                crew     id  \\\n",
       "0  [{'credit_id': '52fe4284c3a36847f8024f49', 'de...    862   \n",
       "1  [{'credit_id': '52fe44bfc3a36847f80a7cd1', 'de...   8844   \n",
       "2  [{'credit_id': '52fe466a9251416c75077a89', 'de...  15602   \n",
       "3  [{'credit_id': '52fe44779251416c91011acb', 'de...  31357   \n",
       "4  [{'credit_id': '52fe44959251416c75039ed7', 'de...  11862   \n",
       "\n",
       "                                           cast_name  \\\n",
       "0  ['Tom Hanks', 'Tim Allen', 'Don Rickles', 'Jim...   \n",
       "1  ['Robin Williams', 'Jonathan Hyde', 'Kirsten D...   \n",
       "2  ['Walter Matthau', 'Jack Lemmon', 'Ann-Margret...   \n",
       "3  ['Whitney Houston', 'Angela Bassett', 'Loretta...   \n",
       "4  ['Steve Martin', 'Diane Keaton', 'Martin Short...   \n",
       "\n",
       "                                           crew_name  \n",
       "0  ['John Lasseter', 'Joss Whedon', 'Andrew Stant...  \n",
       "1  ['Larry J. Franco', 'Jonathan Hensleigh', 'Jam...  \n",
       "2  ['Howard Deutch', 'Mark Steven Johnson', 'Mark...  \n",
       "3  ['Forest Whitaker', 'Ronald Bass', 'Ronald Bas...  \n",
       "4  ['Alan Silvestri', 'Elliot Davis', 'Nancy Meye...  "
      ]
     },
     "execution_count": 136,
     "metadata": {},
     "output_type": "execute_result"
    }
   ],
   "source": [
    "credits.head()"
   ]
  },
  {
   "cell_type": "code",
   "execution_count": 137,
   "id": "c405ae90",
   "metadata": {},
   "outputs": [
    {
     "data": {
      "text/plain": [
       "45115"
      ]
     },
     "execution_count": 137,
     "metadata": {},
     "output_type": "execute_result"
    }
   ],
   "source": [
    "len(main.groupby('id')['id'].nunique())"
   ]
  },
  {
   "cell_type": "code",
   "execution_count": 138,
   "id": "55f57cc6",
   "metadata": {},
   "outputs": [
    {
     "data": {
      "text/plain": [
       "45463"
      ]
     },
     "execution_count": 138,
     "metadata": {},
     "output_type": "execute_result"
    }
   ],
   "source": [
    "len(metadata)"
   ]
  },
  {
   "cell_type": "code",
   "execution_count": 139,
   "id": "b2b6cd33",
   "metadata": {},
   "outputs": [],
   "source": [
    "main1=pd.merge(metadata,main,on='id',how='left')"
   ]
  },
  {
   "cell_type": "code",
   "execution_count": 140,
   "id": "9ec77bba",
   "metadata": {},
   "outputs": [
    {
     "data": {
      "text/plain": [
       "45463"
      ]
     },
     "execution_count": 140,
     "metadata": {},
     "output_type": "execute_result"
    }
   ],
   "source": [
    "len(main1)"
   ]
  },
  {
   "cell_type": "code",
   "execution_count": 141,
   "id": "1aaaf778",
   "metadata": {},
   "outputs": [
    {
     "data": {
      "text/plain": [
       "45432"
      ]
     },
     "execution_count": 141,
     "metadata": {},
     "output_type": "execute_result"
    }
   ],
   "source": [
    "len(credits.groupby('id')['id'].nunique())"
   ]
  },
  {
   "cell_type": "code",
   "execution_count": 142,
   "id": "4cae495f",
   "metadata": {},
   "outputs": [
    {
     "data": {
      "text/plain": [
       "45476"
      ]
     },
     "execution_count": 142,
     "metadata": {},
     "output_type": "execute_result"
    }
   ],
   "source": [
    "len(credits)"
   ]
  },
  {
   "cell_type": "code",
   "execution_count": 143,
   "id": "fdba9fc6",
   "metadata": {},
   "outputs": [],
   "source": [
    "credits.drop_duplicates(keep='first',subset='id',inplace=True)"
   ]
  },
  {
   "cell_type": "code",
   "execution_count": 144,
   "id": "dc428415",
   "metadata": {},
   "outputs": [],
   "source": [
    "main1=pd.merge(main1,credits,on='id',how='left')"
   ]
  },
  {
   "cell_type": "code",
   "execution_count": 145,
   "id": "6f7c2818",
   "metadata": {},
   "outputs": [
    {
     "data": {
      "text/plain": [
       "45463"
      ]
     },
     "execution_count": 145,
     "metadata": {},
     "output_type": "execute_result"
    }
   ],
   "source": [
    "len(main1)"
   ]
  },
  {
   "cell_type": "code",
   "execution_count": 146,
   "id": "11646b43",
   "metadata": {},
   "outputs": [
    {
     "data": {
      "text/html": [
       "<div>\n",
       "<style scoped>\n",
       "    .dataframe tbody tr th:only-of-type {\n",
       "        vertical-align: middle;\n",
       "    }\n",
       "\n",
       "    .dataframe tbody tr th {\n",
       "        vertical-align: top;\n",
       "    }\n",
       "\n",
       "    .dataframe thead th {\n",
       "        text-align: right;\n",
       "    }\n",
       "</style>\n",
       "<table border=\"1\" class=\"dataframe\">\n",
       "  <thead>\n",
       "    <tr style=\"text-align: right;\">\n",
       "      <th></th>\n",
       "      <th>adult</th>\n",
       "      <th>belongs_to_collection</th>\n",
       "      <th>budget</th>\n",
       "      <th>genres</th>\n",
       "      <th>homepage</th>\n",
       "      <th>id</th>\n",
       "      <th>imdb_id</th>\n",
       "      <th>original_language</th>\n",
       "      <th>original_title</th>\n",
       "      <th>overview</th>\n",
       "      <th>...</th>\n",
       "      <th>id1</th>\n",
       "      <th>collection_name</th>\n",
       "      <th>poster_path_y</th>\n",
       "      <th>backdrop_path</th>\n",
       "      <th>production_companies_name</th>\n",
       "      <th>rating</th>\n",
       "      <th>cast</th>\n",
       "      <th>crew</th>\n",
       "      <th>cast_name</th>\n",
       "      <th>crew_name</th>\n",
       "    </tr>\n",
       "  </thead>\n",
       "  <tbody>\n",
       "    <tr>\n",
       "      <th>0</th>\n",
       "      <td>False</td>\n",
       "      <td>{'id': 10194, 'name': 'Toy Story Collection', ...</td>\n",
       "      <td>30000000</td>\n",
       "      <td>[{'id': 16, 'name': 'Animation'}, {'id': 35, '...</td>\n",
       "      <td>http://toystory.disney.com/toy-story</td>\n",
       "      <td>862</td>\n",
       "      <td>tt0114709</td>\n",
       "      <td>en</td>\n",
       "      <td>Toy Story</td>\n",
       "      <td>Led by Woody, Andy's toys live happily in his ...</td>\n",
       "      <td>...</td>\n",
       "      <td>10194</td>\n",
       "      <td>Toy Story Collection</td>\n",
       "      <td>/7G9915LfUQ2lVfwMEEhDsn3kT4B.jpg</td>\n",
       "      <td>/9FBwqcd9IRruEDUrTdcaafOMKUq.jpg</td>\n",
       "      <td>['Pixar Animation Studios']</td>\n",
       "      <td>3.598930</td>\n",
       "      <td>[{'cast_id': 14, 'character': 'Woody (voice)',...</td>\n",
       "      <td>[{'credit_id': '52fe4284c3a36847f8024f49', 'de...</td>\n",
       "      <td>['Tom Hanks', 'Tim Allen', 'Don Rickles', 'Jim...</td>\n",
       "      <td>['John Lasseter', 'Joss Whedon', 'Andrew Stant...</td>\n",
       "    </tr>\n",
       "    <tr>\n",
       "      <th>1</th>\n",
       "      <td>False</td>\n",
       "      <td>NaN</td>\n",
       "      <td>65000000</td>\n",
       "      <td>[{'id': 12, 'name': 'Adventure'}, {'id': 14, '...</td>\n",
       "      <td>NaN</td>\n",
       "      <td>8844</td>\n",
       "      <td>tt0113497</td>\n",
       "      <td>en</td>\n",
       "      <td>Jumanji</td>\n",
       "      <td>When siblings Judy and Peter discover an encha...</td>\n",
       "      <td>...</td>\n",
       "      <td>nan</td>\n",
       "      <td>nan</td>\n",
       "      <td>nan</td>\n",
       "      <td>nan</td>\n",
       "      <td>['TriStar Pictures', 'Teitler Film', 'Intersco...</td>\n",
       "      <td>3.760163</td>\n",
       "      <td>[{'cast_id': 1, 'character': 'Alan Parrish', '...</td>\n",
       "      <td>[{'credit_id': '52fe44bfc3a36847f80a7cd1', 'de...</td>\n",
       "      <td>['Robin Williams', 'Jonathan Hyde', 'Kirsten D...</td>\n",
       "      <td>['Larry J. Franco', 'Jonathan Hensleigh', 'Jam...</td>\n",
       "    </tr>\n",
       "    <tr>\n",
       "      <th>2</th>\n",
       "      <td>False</td>\n",
       "      <td>{'id': 119050, 'name': 'Grumpy Old Men Collect...</td>\n",
       "      <td>0</td>\n",
       "      <td>[{'id': 10749, 'name': 'Romance'}, {'id': 35, ...</td>\n",
       "      <td>NaN</td>\n",
       "      <td>15602</td>\n",
       "      <td>tt0113228</td>\n",
       "      <td>en</td>\n",
       "      <td>Grumpier Old Men</td>\n",
       "      <td>A family wedding reignites the ancient feud be...</td>\n",
       "      <td>...</td>\n",
       "      <td>119050</td>\n",
       "      <td>Grumpy Old Men Collection</td>\n",
       "      <td>/nLvUdqgPgm3F85NMCii9gVFUcet.jpg</td>\n",
       "      <td>/hypTnLot2z8wpFS7qwsQHW1uV8u.jpg</td>\n",
       "      <td>['Warner Bros.', 'Lancaster Gate']</td>\n",
       "      <td>NaN</td>\n",
       "      <td>[{'cast_id': 2, 'character': 'Max Goldman', 'c...</td>\n",
       "      <td>[{'credit_id': '52fe466a9251416c75077a89', 'de...</td>\n",
       "      <td>['Walter Matthau', 'Jack Lemmon', 'Ann-Margret...</td>\n",
       "      <td>['Howard Deutch', 'Mark Steven Johnson', 'Mark...</td>\n",
       "    </tr>\n",
       "    <tr>\n",
       "      <th>3</th>\n",
       "      <td>False</td>\n",
       "      <td>NaN</td>\n",
       "      <td>16000000</td>\n",
       "      <td>[{'id': 35, 'name': 'Comedy'}, {'id': 18, 'nam...</td>\n",
       "      <td>NaN</td>\n",
       "      <td>31357</td>\n",
       "      <td>tt0114885</td>\n",
       "      <td>en</td>\n",
       "      <td>Waiting to Exhale</td>\n",
       "      <td>Cheated on, mistreated and stepped on, the wom...</td>\n",
       "      <td>...</td>\n",
       "      <td>nan</td>\n",
       "      <td>nan</td>\n",
       "      <td>nan</td>\n",
       "      <td>nan</td>\n",
       "      <td>['Twentieth Century Fox Film Corporation']</td>\n",
       "      <td>NaN</td>\n",
       "      <td>[{'cast_id': 1, 'character': \"Savannah 'Vannah...</td>\n",
       "      <td>[{'credit_id': '52fe44779251416c91011acb', 'de...</td>\n",
       "      <td>['Whitney Houston', 'Angela Bassett', 'Loretta...</td>\n",
       "      <td>['Forest Whitaker', 'Ronald Bass', 'Ronald Bas...</td>\n",
       "    </tr>\n",
       "    <tr>\n",
       "      <th>4</th>\n",
       "      <td>False</td>\n",
       "      <td>{'id': 96871, 'name': 'Father of the Bride Col...</td>\n",
       "      <td>0</td>\n",
       "      <td>[{'id': 35, 'name': 'Comedy'}]</td>\n",
       "      <td>NaN</td>\n",
       "      <td>11862</td>\n",
       "      <td>tt0113041</td>\n",
       "      <td>en</td>\n",
       "      <td>Father of the Bride Part II</td>\n",
       "      <td>Just when George Banks has recovered from his ...</td>\n",
       "      <td>...</td>\n",
       "      <td>96871</td>\n",
       "      <td>Father of the Bride Collection</td>\n",
       "      <td>/nts4iOmNnq7GNicycMJ9pSAn204.jpg</td>\n",
       "      <td>/7qwE57OVZmMJChBpLEbJEmzUydk.jpg</td>\n",
       "      <td>['Sandollar Productions', 'Touchstone Pictures']</td>\n",
       "      <td>NaN</td>\n",
       "      <td>[{'cast_id': 1, 'character': 'George Banks', '...</td>\n",
       "      <td>[{'credit_id': '52fe44959251416c75039ed7', 'de...</td>\n",
       "      <td>['Steve Martin', 'Diane Keaton', 'Martin Short...</td>\n",
       "      <td>['Alan Silvestri', 'Elliot Davis', 'Nancy Meye...</td>\n",
       "    </tr>\n",
       "  </tbody>\n",
       "</table>\n",
       "<p>5 rows × 35 columns</p>\n",
       "</div>"
      ],
      "text/plain": [
       "   adult                              belongs_to_collection    budget  \\\n",
       "0  False  {'id': 10194, 'name': 'Toy Story Collection', ...  30000000   \n",
       "1  False                                                NaN  65000000   \n",
       "2  False  {'id': 119050, 'name': 'Grumpy Old Men Collect...         0   \n",
       "3  False                                                NaN  16000000   \n",
       "4  False  {'id': 96871, 'name': 'Father of the Bride Col...         0   \n",
       "\n",
       "                                              genres  \\\n",
       "0  [{'id': 16, 'name': 'Animation'}, {'id': 35, '...   \n",
       "1  [{'id': 12, 'name': 'Adventure'}, {'id': 14, '...   \n",
       "2  [{'id': 10749, 'name': 'Romance'}, {'id': 35, ...   \n",
       "3  [{'id': 35, 'name': 'Comedy'}, {'id': 18, 'nam...   \n",
       "4                     [{'id': 35, 'name': 'Comedy'}]   \n",
       "\n",
       "                               homepage     id    imdb_id original_language  \\\n",
       "0  http://toystory.disney.com/toy-story    862  tt0114709                en   \n",
       "1                                   NaN   8844  tt0113497                en   \n",
       "2                                   NaN  15602  tt0113228                en   \n",
       "3                                   NaN  31357  tt0114885                en   \n",
       "4                                   NaN  11862  tt0113041                en   \n",
       "\n",
       "                original_title  \\\n",
       "0                    Toy Story   \n",
       "1                      Jumanji   \n",
       "2             Grumpier Old Men   \n",
       "3            Waiting to Exhale   \n",
       "4  Father of the Bride Part II   \n",
       "\n",
       "                                            overview  ...     id1  \\\n",
       "0  Led by Woody, Andy's toys live happily in his ...  ...   10194   \n",
       "1  When siblings Judy and Peter discover an encha...  ...     nan   \n",
       "2  A family wedding reignites the ancient feud be...  ...  119050   \n",
       "3  Cheated on, mistreated and stepped on, the wom...  ...     nan   \n",
       "4  Just when George Banks has recovered from his ...  ...   96871   \n",
       "\n",
       "                  collection_name                     poster_path_y  \\\n",
       "0            Toy Story Collection  /7G9915LfUQ2lVfwMEEhDsn3kT4B.jpg   \n",
       "1                             nan                               nan   \n",
       "2       Grumpy Old Men Collection  /nLvUdqgPgm3F85NMCii9gVFUcet.jpg   \n",
       "3                             nan                               nan   \n",
       "4  Father of the Bride Collection  /nts4iOmNnq7GNicycMJ9pSAn204.jpg   \n",
       "\n",
       "                      backdrop_path  \\\n",
       "0  /9FBwqcd9IRruEDUrTdcaafOMKUq.jpg   \n",
       "1                               nan   \n",
       "2  /hypTnLot2z8wpFS7qwsQHW1uV8u.jpg   \n",
       "3                               nan   \n",
       "4  /7qwE57OVZmMJChBpLEbJEmzUydk.jpg   \n",
       "\n",
       "                           production_companies_name    rating  \\\n",
       "0                        ['Pixar Animation Studios']  3.598930   \n",
       "1  ['TriStar Pictures', 'Teitler Film', 'Intersco...  3.760163   \n",
       "2                 ['Warner Bros.', 'Lancaster Gate']       NaN   \n",
       "3         ['Twentieth Century Fox Film Corporation']       NaN   \n",
       "4   ['Sandollar Productions', 'Touchstone Pictures']       NaN   \n",
       "\n",
       "                                                cast  \\\n",
       "0  [{'cast_id': 14, 'character': 'Woody (voice)',...   \n",
       "1  [{'cast_id': 1, 'character': 'Alan Parrish', '...   \n",
       "2  [{'cast_id': 2, 'character': 'Max Goldman', 'c...   \n",
       "3  [{'cast_id': 1, 'character': \"Savannah 'Vannah...   \n",
       "4  [{'cast_id': 1, 'character': 'George Banks', '...   \n",
       "\n",
       "                                                crew  \\\n",
       "0  [{'credit_id': '52fe4284c3a36847f8024f49', 'de...   \n",
       "1  [{'credit_id': '52fe44bfc3a36847f80a7cd1', 'de...   \n",
       "2  [{'credit_id': '52fe466a9251416c75077a89', 'de...   \n",
       "3  [{'credit_id': '52fe44779251416c91011acb', 'de...   \n",
       "4  [{'credit_id': '52fe44959251416c75039ed7', 'de...   \n",
       "\n",
       "                                           cast_name  \\\n",
       "0  ['Tom Hanks', 'Tim Allen', 'Don Rickles', 'Jim...   \n",
       "1  ['Robin Williams', 'Jonathan Hyde', 'Kirsten D...   \n",
       "2  ['Walter Matthau', 'Jack Lemmon', 'Ann-Margret...   \n",
       "3  ['Whitney Houston', 'Angela Bassett', 'Loretta...   \n",
       "4  ['Steve Martin', 'Diane Keaton', 'Martin Short...   \n",
       "\n",
       "                                           crew_name  \n",
       "0  ['John Lasseter', 'Joss Whedon', 'Andrew Stant...  \n",
       "1  ['Larry J. Franco', 'Jonathan Hensleigh', 'Jam...  \n",
       "2  ['Howard Deutch', 'Mark Steven Johnson', 'Mark...  \n",
       "3  ['Forest Whitaker', 'Ronald Bass', 'Ronald Bas...  \n",
       "4  ['Alan Silvestri', 'Elliot Davis', 'Nancy Meye...  \n",
       "\n",
       "[5 rows x 35 columns]"
      ]
     },
     "execution_count": 146,
     "metadata": {},
     "output_type": "execute_result"
    }
   ],
   "source": [
    "main1.head()"
   ]
  },
  {
   "cell_type": "code",
   "execution_count": 147,
   "id": "86ef7539",
   "metadata": {},
   "outputs": [],
   "source": [
    "main1.drop(columns=['cast','crew'],inplace=True)"
   ]
  },
  {
   "cell_type": "code",
   "execution_count": 148,
   "id": "f7d19820",
   "metadata": {},
   "outputs": [
    {
     "data": {
      "text/html": [
       "<div>\n",
       "<style scoped>\n",
       "    .dataframe tbody tr th:only-of-type {\n",
       "        vertical-align: middle;\n",
       "    }\n",
       "\n",
       "    .dataframe tbody tr th {\n",
       "        vertical-align: top;\n",
       "    }\n",
       "\n",
       "    .dataframe thead th {\n",
       "        text-align: right;\n",
       "    }\n",
       "</style>\n",
       "<table border=\"1\" class=\"dataframe\">\n",
       "  <thead>\n",
       "    <tr style=\"text-align: right;\">\n",
       "      <th></th>\n",
       "      <th>adult</th>\n",
       "      <th>belongs_to_collection</th>\n",
       "      <th>budget</th>\n",
       "      <th>genres</th>\n",
       "      <th>homepage</th>\n",
       "      <th>id</th>\n",
       "      <th>imdb_id</th>\n",
       "      <th>original_language</th>\n",
       "      <th>original_title</th>\n",
       "      <th>overview</th>\n",
       "      <th>...</th>\n",
       "      <th>vote_count</th>\n",
       "      <th>genre_name</th>\n",
       "      <th>id1</th>\n",
       "      <th>collection_name</th>\n",
       "      <th>poster_path_y</th>\n",
       "      <th>backdrop_path</th>\n",
       "      <th>production_companies_name</th>\n",
       "      <th>rating</th>\n",
       "      <th>cast_name</th>\n",
       "      <th>crew_name</th>\n",
       "    </tr>\n",
       "  </thead>\n",
       "  <tbody>\n",
       "    <tr>\n",
       "      <th>0</th>\n",
       "      <td>False</td>\n",
       "      <td>{'id': 10194, 'name': 'Toy Story Collection', ...</td>\n",
       "      <td>30000000</td>\n",
       "      <td>[{'id': 16, 'name': 'Animation'}, {'id': 35, '...</td>\n",
       "      <td>http://toystory.disney.com/toy-story</td>\n",
       "      <td>862</td>\n",
       "      <td>tt0114709</td>\n",
       "      <td>en</td>\n",
       "      <td>Toy Story</td>\n",
       "      <td>Led by Woody, Andy's toys live happily in his ...</td>\n",
       "      <td>...</td>\n",
       "      <td>5415.0</td>\n",
       "      <td>[Animation, Comedy, Family]</td>\n",
       "      <td>10194</td>\n",
       "      <td>Toy Story Collection</td>\n",
       "      <td>/7G9915LfUQ2lVfwMEEhDsn3kT4B.jpg</td>\n",
       "      <td>/9FBwqcd9IRruEDUrTdcaafOMKUq.jpg</td>\n",
       "      <td>['Pixar Animation Studios']</td>\n",
       "      <td>3.598930</td>\n",
       "      <td>['Tom Hanks', 'Tim Allen', 'Don Rickles', 'Jim...</td>\n",
       "      <td>['John Lasseter', 'Joss Whedon', 'Andrew Stant...</td>\n",
       "    </tr>\n",
       "    <tr>\n",
       "      <th>1</th>\n",
       "      <td>False</td>\n",
       "      <td>NaN</td>\n",
       "      <td>65000000</td>\n",
       "      <td>[{'id': 12, 'name': 'Adventure'}, {'id': 14, '...</td>\n",
       "      <td>NaN</td>\n",
       "      <td>8844</td>\n",
       "      <td>tt0113497</td>\n",
       "      <td>en</td>\n",
       "      <td>Jumanji</td>\n",
       "      <td>When siblings Judy and Peter discover an encha...</td>\n",
       "      <td>...</td>\n",
       "      <td>2413.0</td>\n",
       "      <td>[Adventure, Fantasy, Family]</td>\n",
       "      <td>nan</td>\n",
       "      <td>nan</td>\n",
       "      <td>nan</td>\n",
       "      <td>nan</td>\n",
       "      <td>['TriStar Pictures', 'Teitler Film', 'Intersco...</td>\n",
       "      <td>3.760163</td>\n",
       "      <td>['Robin Williams', 'Jonathan Hyde', 'Kirsten D...</td>\n",
       "      <td>['Larry J. Franco', 'Jonathan Hensleigh', 'Jam...</td>\n",
       "    </tr>\n",
       "    <tr>\n",
       "      <th>2</th>\n",
       "      <td>False</td>\n",
       "      <td>{'id': 119050, 'name': 'Grumpy Old Men Collect...</td>\n",
       "      <td>0</td>\n",
       "      <td>[{'id': 10749, 'name': 'Romance'}, {'id': 35, ...</td>\n",
       "      <td>NaN</td>\n",
       "      <td>15602</td>\n",
       "      <td>tt0113228</td>\n",
       "      <td>en</td>\n",
       "      <td>Grumpier Old Men</td>\n",
       "      <td>A family wedding reignites the ancient feud be...</td>\n",
       "      <td>...</td>\n",
       "      <td>92.0</td>\n",
       "      <td>[Romance, Comedy]</td>\n",
       "      <td>119050</td>\n",
       "      <td>Grumpy Old Men Collection</td>\n",
       "      <td>/nLvUdqgPgm3F85NMCii9gVFUcet.jpg</td>\n",
       "      <td>/hypTnLot2z8wpFS7qwsQHW1uV8u.jpg</td>\n",
       "      <td>['Warner Bros.', 'Lancaster Gate']</td>\n",
       "      <td>NaN</td>\n",
       "      <td>['Walter Matthau', 'Jack Lemmon', 'Ann-Margret...</td>\n",
       "      <td>['Howard Deutch', 'Mark Steven Johnson', 'Mark...</td>\n",
       "    </tr>\n",
       "    <tr>\n",
       "      <th>3</th>\n",
       "      <td>False</td>\n",
       "      <td>NaN</td>\n",
       "      <td>16000000</td>\n",
       "      <td>[{'id': 35, 'name': 'Comedy'}, {'id': 18, 'nam...</td>\n",
       "      <td>NaN</td>\n",
       "      <td>31357</td>\n",
       "      <td>tt0114885</td>\n",
       "      <td>en</td>\n",
       "      <td>Waiting to Exhale</td>\n",
       "      <td>Cheated on, mistreated and stepped on, the wom...</td>\n",
       "      <td>...</td>\n",
       "      <td>34.0</td>\n",
       "      <td>[Comedy, Drama, Romance]</td>\n",
       "      <td>nan</td>\n",
       "      <td>nan</td>\n",
       "      <td>nan</td>\n",
       "      <td>nan</td>\n",
       "      <td>['Twentieth Century Fox Film Corporation']</td>\n",
       "      <td>NaN</td>\n",
       "      <td>['Whitney Houston', 'Angela Bassett', 'Loretta...</td>\n",
       "      <td>['Forest Whitaker', 'Ronald Bass', 'Ronald Bas...</td>\n",
       "    </tr>\n",
       "    <tr>\n",
       "      <th>4</th>\n",
       "      <td>False</td>\n",
       "      <td>{'id': 96871, 'name': 'Father of the Bride Col...</td>\n",
       "      <td>0</td>\n",
       "      <td>[{'id': 35, 'name': 'Comedy'}]</td>\n",
       "      <td>NaN</td>\n",
       "      <td>11862</td>\n",
       "      <td>tt0113041</td>\n",
       "      <td>en</td>\n",
       "      <td>Father of the Bride Part II</td>\n",
       "      <td>Just when George Banks has recovered from his ...</td>\n",
       "      <td>...</td>\n",
       "      <td>173.0</td>\n",
       "      <td>[Comedy]</td>\n",
       "      <td>96871</td>\n",
       "      <td>Father of the Bride Collection</td>\n",
       "      <td>/nts4iOmNnq7GNicycMJ9pSAn204.jpg</td>\n",
       "      <td>/7qwE57OVZmMJChBpLEbJEmzUydk.jpg</td>\n",
       "      <td>['Sandollar Productions', 'Touchstone Pictures']</td>\n",
       "      <td>NaN</td>\n",
       "      <td>['Steve Martin', 'Diane Keaton', 'Martin Short...</td>\n",
       "      <td>['Alan Silvestri', 'Elliot Davis', 'Nancy Meye...</td>\n",
       "    </tr>\n",
       "  </tbody>\n",
       "</table>\n",
       "<p>5 rows × 33 columns</p>\n",
       "</div>"
      ],
      "text/plain": [
       "   adult                              belongs_to_collection    budget  \\\n",
       "0  False  {'id': 10194, 'name': 'Toy Story Collection', ...  30000000   \n",
       "1  False                                                NaN  65000000   \n",
       "2  False  {'id': 119050, 'name': 'Grumpy Old Men Collect...         0   \n",
       "3  False                                                NaN  16000000   \n",
       "4  False  {'id': 96871, 'name': 'Father of the Bride Col...         0   \n",
       "\n",
       "                                              genres  \\\n",
       "0  [{'id': 16, 'name': 'Animation'}, {'id': 35, '...   \n",
       "1  [{'id': 12, 'name': 'Adventure'}, {'id': 14, '...   \n",
       "2  [{'id': 10749, 'name': 'Romance'}, {'id': 35, ...   \n",
       "3  [{'id': 35, 'name': 'Comedy'}, {'id': 18, 'nam...   \n",
       "4                     [{'id': 35, 'name': 'Comedy'}]   \n",
       "\n",
       "                               homepage     id    imdb_id original_language  \\\n",
       "0  http://toystory.disney.com/toy-story    862  tt0114709                en   \n",
       "1                                   NaN   8844  tt0113497                en   \n",
       "2                                   NaN  15602  tt0113228                en   \n",
       "3                                   NaN  31357  tt0114885                en   \n",
       "4                                   NaN  11862  tt0113041                en   \n",
       "\n",
       "                original_title  \\\n",
       "0                    Toy Story   \n",
       "1                      Jumanji   \n",
       "2             Grumpier Old Men   \n",
       "3            Waiting to Exhale   \n",
       "4  Father of the Bride Part II   \n",
       "\n",
       "                                            overview  ...  vote_count  \\\n",
       "0  Led by Woody, Andy's toys live happily in his ...  ...      5415.0   \n",
       "1  When siblings Judy and Peter discover an encha...  ...      2413.0   \n",
       "2  A family wedding reignites the ancient feud be...  ...        92.0   \n",
       "3  Cheated on, mistreated and stepped on, the wom...  ...        34.0   \n",
       "4  Just when George Banks has recovered from his ...  ...       173.0   \n",
       "\n",
       "                     genre_name     id1                 collection_name  \\\n",
       "0   [Animation, Comedy, Family]   10194            Toy Story Collection   \n",
       "1  [Adventure, Fantasy, Family]     nan                             nan   \n",
       "2             [Romance, Comedy]  119050       Grumpy Old Men Collection   \n",
       "3      [Comedy, Drama, Romance]     nan                             nan   \n",
       "4                      [Comedy]   96871  Father of the Bride Collection   \n",
       "\n",
       "                      poster_path_y                     backdrop_path  \\\n",
       "0  /7G9915LfUQ2lVfwMEEhDsn3kT4B.jpg  /9FBwqcd9IRruEDUrTdcaafOMKUq.jpg   \n",
       "1                               nan                               nan   \n",
       "2  /nLvUdqgPgm3F85NMCii9gVFUcet.jpg  /hypTnLot2z8wpFS7qwsQHW1uV8u.jpg   \n",
       "3                               nan                               nan   \n",
       "4  /nts4iOmNnq7GNicycMJ9pSAn204.jpg  /7qwE57OVZmMJChBpLEbJEmzUydk.jpg   \n",
       "\n",
       "                           production_companies_name    rating  \\\n",
       "0                        ['Pixar Animation Studios']  3.598930   \n",
       "1  ['TriStar Pictures', 'Teitler Film', 'Intersco...  3.760163   \n",
       "2                 ['Warner Bros.', 'Lancaster Gate']       NaN   \n",
       "3         ['Twentieth Century Fox Film Corporation']       NaN   \n",
       "4   ['Sandollar Productions', 'Touchstone Pictures']       NaN   \n",
       "\n",
       "                                           cast_name  \\\n",
       "0  ['Tom Hanks', 'Tim Allen', 'Don Rickles', 'Jim...   \n",
       "1  ['Robin Williams', 'Jonathan Hyde', 'Kirsten D...   \n",
       "2  ['Walter Matthau', 'Jack Lemmon', 'Ann-Margret...   \n",
       "3  ['Whitney Houston', 'Angela Bassett', 'Loretta...   \n",
       "4  ['Steve Martin', 'Diane Keaton', 'Martin Short...   \n",
       "\n",
       "                                           crew_name  \n",
       "0  ['John Lasseter', 'Joss Whedon', 'Andrew Stant...  \n",
       "1  ['Larry J. Franco', 'Jonathan Hensleigh', 'Jam...  \n",
       "2  ['Howard Deutch', 'Mark Steven Johnson', 'Mark...  \n",
       "3  ['Forest Whitaker', 'Ronald Bass', 'Ronald Bas...  \n",
       "4  ['Alan Silvestri', 'Elliot Davis', 'Nancy Meye...  \n",
       "\n",
       "[5 rows x 33 columns]"
      ]
     },
     "execution_count": 148,
     "metadata": {},
     "output_type": "execute_result"
    }
   ],
   "source": [
    "main1.head()"
   ]
  },
  {
   "cell_type": "code",
   "execution_count": 149,
   "id": "d0e582d4",
   "metadata": {},
   "outputs": [
    {
     "data": {
      "text/html": [
       "<div>\n",
       "<style scoped>\n",
       "    .dataframe tbody tr th:only-of-type {\n",
       "        vertical-align: middle;\n",
       "    }\n",
       "\n",
       "    .dataframe tbody tr th {\n",
       "        vertical-align: top;\n",
       "    }\n",
       "\n",
       "    .dataframe thead th {\n",
       "        text-align: right;\n",
       "    }\n",
       "</style>\n",
       "<table border=\"1\" class=\"dataframe\">\n",
       "  <thead>\n",
       "    <tr style=\"text-align: right;\">\n",
       "      <th></th>\n",
       "      <th>cast</th>\n",
       "      <th>crew</th>\n",
       "      <th>id</th>\n",
       "      <th>cast_name</th>\n",
       "      <th>crew_name</th>\n",
       "    </tr>\n",
       "  </thead>\n",
       "  <tbody>\n",
       "    <tr>\n",
       "      <th>0</th>\n",
       "      <td>[{'cast_id': 14, 'character': 'Woody (voice)',...</td>\n",
       "      <td>[{'credit_id': '52fe4284c3a36847f8024f49', 'de...</td>\n",
       "      <td>862</td>\n",
       "      <td>['Tom Hanks', 'Tim Allen', 'Don Rickles', 'Jim...</td>\n",
       "      <td>['John Lasseter', 'Joss Whedon', 'Andrew Stant...</td>\n",
       "    </tr>\n",
       "    <tr>\n",
       "      <th>1</th>\n",
       "      <td>[{'cast_id': 1, 'character': 'Alan Parrish', '...</td>\n",
       "      <td>[{'credit_id': '52fe44bfc3a36847f80a7cd1', 'de...</td>\n",
       "      <td>8844</td>\n",
       "      <td>['Robin Williams', 'Jonathan Hyde', 'Kirsten D...</td>\n",
       "      <td>['Larry J. Franco', 'Jonathan Hensleigh', 'Jam...</td>\n",
       "    </tr>\n",
       "    <tr>\n",
       "      <th>2</th>\n",
       "      <td>[{'cast_id': 2, 'character': 'Max Goldman', 'c...</td>\n",
       "      <td>[{'credit_id': '52fe466a9251416c75077a89', 'de...</td>\n",
       "      <td>15602</td>\n",
       "      <td>['Walter Matthau', 'Jack Lemmon', 'Ann-Margret...</td>\n",
       "      <td>['Howard Deutch', 'Mark Steven Johnson', 'Mark...</td>\n",
       "    </tr>\n",
       "    <tr>\n",
       "      <th>3</th>\n",
       "      <td>[{'cast_id': 1, 'character': \"Savannah 'Vannah...</td>\n",
       "      <td>[{'credit_id': '52fe44779251416c91011acb', 'de...</td>\n",
       "      <td>31357</td>\n",
       "      <td>['Whitney Houston', 'Angela Bassett', 'Loretta...</td>\n",
       "      <td>['Forest Whitaker', 'Ronald Bass', 'Ronald Bas...</td>\n",
       "    </tr>\n",
       "    <tr>\n",
       "      <th>4</th>\n",
       "      <td>[{'cast_id': 1, 'character': 'George Banks', '...</td>\n",
       "      <td>[{'credit_id': '52fe44959251416c75039ed7', 'de...</td>\n",
       "      <td>11862</td>\n",
       "      <td>['Steve Martin', 'Diane Keaton', 'Martin Short...</td>\n",
       "      <td>['Alan Silvestri', 'Elliot Davis', 'Nancy Meye...</td>\n",
       "    </tr>\n",
       "  </tbody>\n",
       "</table>\n",
       "</div>"
      ],
      "text/plain": [
       "                                                cast  \\\n",
       "0  [{'cast_id': 14, 'character': 'Woody (voice)',...   \n",
       "1  [{'cast_id': 1, 'character': 'Alan Parrish', '...   \n",
       "2  [{'cast_id': 2, 'character': 'Max Goldman', 'c...   \n",
       "3  [{'cast_id': 1, 'character': \"Savannah 'Vannah...   \n",
       "4  [{'cast_id': 1, 'character': 'George Banks', '...   \n",
       "\n",
       "                                                crew     id  \\\n",
       "0  [{'credit_id': '52fe4284c3a36847f8024f49', 'de...    862   \n",
       "1  [{'credit_id': '52fe44bfc3a36847f80a7cd1', 'de...   8844   \n",
       "2  [{'credit_id': '52fe466a9251416c75077a89', 'de...  15602   \n",
       "3  [{'credit_id': '52fe44779251416c91011acb', 'de...  31357   \n",
       "4  [{'credit_id': '52fe44959251416c75039ed7', 'de...  11862   \n",
       "\n",
       "                                           cast_name  \\\n",
       "0  ['Tom Hanks', 'Tim Allen', 'Don Rickles', 'Jim...   \n",
       "1  ['Robin Williams', 'Jonathan Hyde', 'Kirsten D...   \n",
       "2  ['Walter Matthau', 'Jack Lemmon', 'Ann-Margret...   \n",
       "3  ['Whitney Houston', 'Angela Bassett', 'Loretta...   \n",
       "4  ['Steve Martin', 'Diane Keaton', 'Martin Short...   \n",
       "\n",
       "                                           crew_name  \n",
       "0  ['John Lasseter', 'Joss Whedon', 'Andrew Stant...  \n",
       "1  ['Larry J. Franco', 'Jonathan Hensleigh', 'Jam...  \n",
       "2  ['Howard Deutch', 'Mark Steven Johnson', 'Mark...  \n",
       "3  ['Forest Whitaker', 'Ronald Bass', 'Ronald Bas...  \n",
       "4  ['Alan Silvestri', 'Elliot Davis', 'Nancy Meye...  "
      ]
     },
     "execution_count": 149,
     "metadata": {},
     "output_type": "execute_result"
    }
   ],
   "source": [
    "credits.head()"
   ]
  },
  {
   "cell_type": "code",
   "execution_count": 150,
   "id": "75946a82",
   "metadata": {},
   "outputs": [],
   "source": [
    "#credits_sql=credits.drop(columns=['cast','crew_x','Cast','crew_y'])"
   ]
  },
  {
   "cell_type": "code",
   "execution_count": 151,
   "id": "83882b89",
   "metadata": {},
   "outputs": [],
   "source": [
    "#credits_sql.to_csv('credits_sql.csv')"
   ]
  },
  {
   "cell_type": "code",
   "execution_count": 154,
   "id": "7faac227",
   "metadata": {},
   "outputs": [],
   "source": [
    "#credits_sql.to_csv('credits_mysql.csv',index=False)"
   ]
  },
  {
   "cell_type": "markdown",
   "id": "94aa3be4",
   "metadata": {},
   "source": [
    "# Keywords"
   ]
  },
  {
   "cell_type": "code",
   "execution_count": 155,
   "id": "595f825e",
   "metadata": {},
   "outputs": [
    {
     "data": {
      "text/html": [
       "<div>\n",
       "<style scoped>\n",
       "    .dataframe tbody tr th:only-of-type {\n",
       "        vertical-align: middle;\n",
       "    }\n",
       "\n",
       "    .dataframe tbody tr th {\n",
       "        vertical-align: top;\n",
       "    }\n",
       "\n",
       "    .dataframe thead th {\n",
       "        text-align: right;\n",
       "    }\n",
       "</style>\n",
       "<table border=\"1\" class=\"dataframe\">\n",
       "  <thead>\n",
       "    <tr style=\"text-align: right;\">\n",
       "      <th></th>\n",
       "      <th>id</th>\n",
       "      <th>keywords</th>\n",
       "    </tr>\n",
       "  </thead>\n",
       "  <tbody>\n",
       "    <tr>\n",
       "      <th>0</th>\n",
       "      <td>862</td>\n",
       "      <td>[{'id': 931, 'name': 'jealousy'}, {'id': 4290,...</td>\n",
       "    </tr>\n",
       "    <tr>\n",
       "      <th>1</th>\n",
       "      <td>8844</td>\n",
       "      <td>[{'id': 10090, 'name': 'board game'}, {'id': 1...</td>\n",
       "    </tr>\n",
       "    <tr>\n",
       "      <th>2</th>\n",
       "      <td>15602</td>\n",
       "      <td>[{'id': 1495, 'name': 'fishing'}, {'id': 12392...</td>\n",
       "    </tr>\n",
       "    <tr>\n",
       "      <th>3</th>\n",
       "      <td>31357</td>\n",
       "      <td>[{'id': 818, 'name': 'based on novel'}, {'id':...</td>\n",
       "    </tr>\n",
       "    <tr>\n",
       "      <th>4</th>\n",
       "      <td>11862</td>\n",
       "      <td>[{'id': 1009, 'name': 'baby'}, {'id': 1599, 'n...</td>\n",
       "    </tr>\n",
       "    <tr>\n",
       "      <th>...</th>\n",
       "      <td>...</td>\n",
       "      <td>...</td>\n",
       "    </tr>\n",
       "    <tr>\n",
       "      <th>31619</th>\n",
       "      <td>84419</td>\n",
       "      <td>[{'id': 9748, 'name': 'revenge'}, {'id': 9826,...</td>\n",
       "    </tr>\n",
       "    <tr>\n",
       "      <th>31620</th>\n",
       "      <td>390959</td>\n",
       "      <td>[{'id': 224180, 'name': 'blair witch'}]</td>\n",
       "    </tr>\n",
       "    <tr>\n",
       "      <th>31621</th>\n",
       "      <td>289923</td>\n",
       "      <td>[{'id': 616, 'name': 'witch'}, {'id': 2035, 'n...</td>\n",
       "    </tr>\n",
       "    <tr>\n",
       "      <th>31622</th>\n",
       "      <td>439050</td>\n",
       "      <td>[{'id': 10703, 'name': 'tragic love'}]</td>\n",
       "    </tr>\n",
       "    <tr>\n",
       "      <th>31623</th>\n",
       "      <td>111109</td>\n",
       "      <td>[{'id': 2679, 'name': 'artist'}, {'id': 14531,...</td>\n",
       "    </tr>\n",
       "  </tbody>\n",
       "</table>\n",
       "<p>31624 rows × 2 columns</p>\n",
       "</div>"
      ],
      "text/plain": [
       "           id                                           keywords\n",
       "0         862  [{'id': 931, 'name': 'jealousy'}, {'id': 4290,...\n",
       "1        8844  [{'id': 10090, 'name': 'board game'}, {'id': 1...\n",
       "2       15602  [{'id': 1495, 'name': 'fishing'}, {'id': 12392...\n",
       "3       31357  [{'id': 818, 'name': 'based on novel'}, {'id':...\n",
       "4       11862  [{'id': 1009, 'name': 'baby'}, {'id': 1599, 'n...\n",
       "...       ...                                                ...\n",
       "31619   84419  [{'id': 9748, 'name': 'revenge'}, {'id': 9826,...\n",
       "31620  390959            [{'id': 224180, 'name': 'blair witch'}]\n",
       "31621  289923  [{'id': 616, 'name': 'witch'}, {'id': 2035, 'n...\n",
       "31622  439050             [{'id': 10703, 'name': 'tragic love'}]\n",
       "31623  111109  [{'id': 2679, 'name': 'artist'}, {'id': 14531,...\n",
       "\n",
       "[31624 rows x 2 columns]"
      ]
     },
     "execution_count": 155,
     "metadata": {},
     "output_type": "execute_result"
    }
   ],
   "source": [
    "df_keywords = Keywords[Keywords['keywords'] != '[]']\n",
    "df_keywords.reset_index(drop=True)"
   ]
  },
  {
   "cell_type": "code",
   "execution_count": 156,
   "id": "93f56fac",
   "metadata": {},
   "outputs": [],
   "source": [
    "list1 =  df_keywords['keywords'].tolist()\n",
    "for i in range(len(list1)) :\n",
    "    list1[i] = ast.literal_eval(list1[i])"
   ]
  },
  {
   "cell_type": "code",
   "execution_count": 157,
   "id": "39abf92a",
   "metadata": {
    "scrolled": true
   },
   "outputs": [],
   "source": [
    "df_keywords['keywords'] = list1"
   ]
  },
  {
   "cell_type": "code",
   "execution_count": 158,
   "id": "6b5d7741",
   "metadata": {},
   "outputs": [],
   "source": [
    "df_keywords_copy = df_keywords.copy()\n",
    "for i in range(0,len(df_keywords['keywords'])):\n",
    "    list1 = []\n",
    "    for j in range(len(df_keywords['keywords'].iloc[i])):\n",
    "         list1.append(df_keywords.iloc[i]['keywords'][j]['name'])\n",
    "    df_keywords_copy['keywords'].iloc[i] = list1"
   ]
  },
  {
   "cell_type": "code",
   "execution_count": 159,
   "id": "a531294f",
   "metadata": {},
   "outputs": [
    {
     "data": {
      "text/html": [
       "<div>\n",
       "<style scoped>\n",
       "    .dataframe tbody tr th:only-of-type {\n",
       "        vertical-align: middle;\n",
       "    }\n",
       "\n",
       "    .dataframe tbody tr th {\n",
       "        vertical-align: top;\n",
       "    }\n",
       "\n",
       "    .dataframe thead th {\n",
       "        text-align: right;\n",
       "    }\n",
       "</style>\n",
       "<table border=\"1\" class=\"dataframe\">\n",
       "  <thead>\n",
       "    <tr style=\"text-align: right;\">\n",
       "      <th></th>\n",
       "      <th>id</th>\n",
       "      <th>keywords</th>\n",
       "    </tr>\n",
       "  </thead>\n",
       "  <tbody>\n",
       "    <tr>\n",
       "      <th>0</th>\n",
       "      <td>862</td>\n",
       "      <td>[jealousy, toy, boy, friendship, friends, riva...</td>\n",
       "    </tr>\n",
       "    <tr>\n",
       "      <th>1</th>\n",
       "      <td>8844</td>\n",
       "      <td>[board game, disappearance, based on children'...</td>\n",
       "    </tr>\n",
       "    <tr>\n",
       "      <th>2</th>\n",
       "      <td>15602</td>\n",
       "      <td>[fishing, best friend, duringcreditsstinger, o...</td>\n",
       "    </tr>\n",
       "  </tbody>\n",
       "</table>\n",
       "</div>"
      ],
      "text/plain": [
       "      id                                           keywords\n",
       "0    862  [jealousy, toy, boy, friendship, friends, riva...\n",
       "1   8844  [board game, disappearance, based on children'...\n",
       "2  15602  [fishing, best friend, duringcreditsstinger, o..."
      ]
     },
     "execution_count": 159,
     "metadata": {},
     "output_type": "execute_result"
    }
   ],
   "source": [
    "df_keywords_copy.head(3)"
   ]
  },
  {
   "cell_type": "code",
   "execution_count": 160,
   "id": "e94f5659",
   "metadata": {},
   "outputs": [
    {
     "data": {
      "text/plain": [
       "<bound method Series.unique of 0           862\n",
       "1          8844\n",
       "2         15602\n",
       "3         31357\n",
       "4         11862\n",
       "          ...  \n",
       "46409     84419\n",
       "46410    390959\n",
       "46411    289923\n",
       "46414    439050\n",
       "46415    111109\n",
       "Name: id, Length: 31624, dtype: int64>"
      ]
     },
     "execution_count": 160,
     "metadata": {},
     "output_type": "execute_result"
    }
   ],
   "source": [
    "df_keywords_copy.id.unique"
   ]
  },
  {
   "cell_type": "code",
   "execution_count": 161,
   "id": "35320a21",
   "metadata": {},
   "outputs": [
    {
     "data": {
      "text/plain": [
       "31092"
      ]
     },
     "execution_count": 161,
     "metadata": {},
     "output_type": "execute_result"
    }
   ],
   "source": [
    "len(df_keywords_copy.groupby('id')['id'].nunique())"
   ]
  },
  {
   "cell_type": "code",
   "execution_count": 162,
   "id": "760b3255",
   "metadata": {},
   "outputs": [],
   "source": [
    "df_keywords_copy.drop_duplicates(keep='first',subset='id',inplace=True)"
   ]
  },
  {
   "cell_type": "code",
   "execution_count": 163,
   "id": "5d3a7488",
   "metadata": {},
   "outputs": [],
   "source": [
    "#df_keywords_copy.to_csv('keywords_mysql.csv',index=False)"
   ]
  },
  {
   "cell_type": "code",
   "execution_count": 164,
   "id": "a6069d78",
   "metadata": {},
   "outputs": [],
   "source": [
    "main1=pd.merge(main1,df_keywords_copy,on='id',how='left')"
   ]
  },
  {
   "cell_type": "code",
   "execution_count": 165,
   "id": "fa882a69",
   "metadata": {},
   "outputs": [
    {
     "data": {
      "text/html": [
       "<div>\n",
       "<style scoped>\n",
       "    .dataframe tbody tr th:only-of-type {\n",
       "        vertical-align: middle;\n",
       "    }\n",
       "\n",
       "    .dataframe tbody tr th {\n",
       "        vertical-align: top;\n",
       "    }\n",
       "\n",
       "    .dataframe thead th {\n",
       "        text-align: right;\n",
       "    }\n",
       "</style>\n",
       "<table border=\"1\" class=\"dataframe\">\n",
       "  <thead>\n",
       "    <tr style=\"text-align: right;\">\n",
       "      <th></th>\n",
       "      <th>adult</th>\n",
       "      <th>belongs_to_collection</th>\n",
       "      <th>budget</th>\n",
       "      <th>genres</th>\n",
       "      <th>homepage</th>\n",
       "      <th>id</th>\n",
       "      <th>imdb_id</th>\n",
       "      <th>original_language</th>\n",
       "      <th>original_title</th>\n",
       "      <th>overview</th>\n",
       "      <th>...</th>\n",
       "      <th>genre_name</th>\n",
       "      <th>id1</th>\n",
       "      <th>collection_name</th>\n",
       "      <th>poster_path_y</th>\n",
       "      <th>backdrop_path</th>\n",
       "      <th>production_companies_name</th>\n",
       "      <th>rating</th>\n",
       "      <th>cast_name</th>\n",
       "      <th>crew_name</th>\n",
       "      <th>keywords</th>\n",
       "    </tr>\n",
       "  </thead>\n",
       "  <tbody>\n",
       "    <tr>\n",
       "      <th>0</th>\n",
       "      <td>False</td>\n",
       "      <td>{'id': 10194, 'name': 'Toy Story Collection', ...</td>\n",
       "      <td>30000000</td>\n",
       "      <td>[{'id': 16, 'name': 'Animation'}, {'id': 35, '...</td>\n",
       "      <td>http://toystory.disney.com/toy-story</td>\n",
       "      <td>862</td>\n",
       "      <td>tt0114709</td>\n",
       "      <td>en</td>\n",
       "      <td>Toy Story</td>\n",
       "      <td>Led by Woody, Andy's toys live happily in his ...</td>\n",
       "      <td>...</td>\n",
       "      <td>[Animation, Comedy, Family]</td>\n",
       "      <td>10194</td>\n",
       "      <td>Toy Story Collection</td>\n",
       "      <td>/7G9915LfUQ2lVfwMEEhDsn3kT4B.jpg</td>\n",
       "      <td>/9FBwqcd9IRruEDUrTdcaafOMKUq.jpg</td>\n",
       "      <td>['Pixar Animation Studios']</td>\n",
       "      <td>3.598930</td>\n",
       "      <td>['Tom Hanks', 'Tim Allen', 'Don Rickles', 'Jim...</td>\n",
       "      <td>['John Lasseter', 'Joss Whedon', 'Andrew Stant...</td>\n",
       "      <td>[jealousy, toy, boy, friendship, friends, riva...</td>\n",
       "    </tr>\n",
       "    <tr>\n",
       "      <th>1</th>\n",
       "      <td>False</td>\n",
       "      <td>NaN</td>\n",
       "      <td>65000000</td>\n",
       "      <td>[{'id': 12, 'name': 'Adventure'}, {'id': 14, '...</td>\n",
       "      <td>NaN</td>\n",
       "      <td>8844</td>\n",
       "      <td>tt0113497</td>\n",
       "      <td>en</td>\n",
       "      <td>Jumanji</td>\n",
       "      <td>When siblings Judy and Peter discover an encha...</td>\n",
       "      <td>...</td>\n",
       "      <td>[Adventure, Fantasy, Family]</td>\n",
       "      <td>nan</td>\n",
       "      <td>nan</td>\n",
       "      <td>nan</td>\n",
       "      <td>nan</td>\n",
       "      <td>['TriStar Pictures', 'Teitler Film', 'Intersco...</td>\n",
       "      <td>3.760163</td>\n",
       "      <td>['Robin Williams', 'Jonathan Hyde', 'Kirsten D...</td>\n",
       "      <td>['Larry J. Franco', 'Jonathan Hensleigh', 'Jam...</td>\n",
       "      <td>[board game, disappearance, based on children'...</td>\n",
       "    </tr>\n",
       "    <tr>\n",
       "      <th>2</th>\n",
       "      <td>False</td>\n",
       "      <td>{'id': 119050, 'name': 'Grumpy Old Men Collect...</td>\n",
       "      <td>0</td>\n",
       "      <td>[{'id': 10749, 'name': 'Romance'}, {'id': 35, ...</td>\n",
       "      <td>NaN</td>\n",
       "      <td>15602</td>\n",
       "      <td>tt0113228</td>\n",
       "      <td>en</td>\n",
       "      <td>Grumpier Old Men</td>\n",
       "      <td>A family wedding reignites the ancient feud be...</td>\n",
       "      <td>...</td>\n",
       "      <td>[Romance, Comedy]</td>\n",
       "      <td>119050</td>\n",
       "      <td>Grumpy Old Men Collection</td>\n",
       "      <td>/nLvUdqgPgm3F85NMCii9gVFUcet.jpg</td>\n",
       "      <td>/hypTnLot2z8wpFS7qwsQHW1uV8u.jpg</td>\n",
       "      <td>['Warner Bros.', 'Lancaster Gate']</td>\n",
       "      <td>NaN</td>\n",
       "      <td>['Walter Matthau', 'Jack Lemmon', 'Ann-Margret...</td>\n",
       "      <td>['Howard Deutch', 'Mark Steven Johnson', 'Mark...</td>\n",
       "      <td>[fishing, best friend, duringcreditsstinger, o...</td>\n",
       "    </tr>\n",
       "    <tr>\n",
       "      <th>3</th>\n",
       "      <td>False</td>\n",
       "      <td>NaN</td>\n",
       "      <td>16000000</td>\n",
       "      <td>[{'id': 35, 'name': 'Comedy'}, {'id': 18, 'nam...</td>\n",
       "      <td>NaN</td>\n",
       "      <td>31357</td>\n",
       "      <td>tt0114885</td>\n",
       "      <td>en</td>\n",
       "      <td>Waiting to Exhale</td>\n",
       "      <td>Cheated on, mistreated and stepped on, the wom...</td>\n",
       "      <td>...</td>\n",
       "      <td>[Comedy, Drama, Romance]</td>\n",
       "      <td>nan</td>\n",
       "      <td>nan</td>\n",
       "      <td>nan</td>\n",
       "      <td>nan</td>\n",
       "      <td>['Twentieth Century Fox Film Corporation']</td>\n",
       "      <td>NaN</td>\n",
       "      <td>['Whitney Houston', 'Angela Bassett', 'Loretta...</td>\n",
       "      <td>['Forest Whitaker', 'Ronald Bass', 'Ronald Bas...</td>\n",
       "      <td>[based on novel, interracial relationship, sin...</td>\n",
       "    </tr>\n",
       "    <tr>\n",
       "      <th>4</th>\n",
       "      <td>False</td>\n",
       "      <td>{'id': 96871, 'name': 'Father of the Bride Col...</td>\n",
       "      <td>0</td>\n",
       "      <td>[{'id': 35, 'name': 'Comedy'}]</td>\n",
       "      <td>NaN</td>\n",
       "      <td>11862</td>\n",
       "      <td>tt0113041</td>\n",
       "      <td>en</td>\n",
       "      <td>Father of the Bride Part II</td>\n",
       "      <td>Just when George Banks has recovered from his ...</td>\n",
       "      <td>...</td>\n",
       "      <td>[Comedy]</td>\n",
       "      <td>96871</td>\n",
       "      <td>Father of the Bride Collection</td>\n",
       "      <td>/nts4iOmNnq7GNicycMJ9pSAn204.jpg</td>\n",
       "      <td>/7qwE57OVZmMJChBpLEbJEmzUydk.jpg</td>\n",
       "      <td>['Sandollar Productions', 'Touchstone Pictures']</td>\n",
       "      <td>NaN</td>\n",
       "      <td>['Steve Martin', 'Diane Keaton', 'Martin Short...</td>\n",
       "      <td>['Alan Silvestri', 'Elliot Davis', 'Nancy Meye...</td>\n",
       "      <td>[baby, midlife crisis, confidence, aging, daug...</td>\n",
       "    </tr>\n",
       "  </tbody>\n",
       "</table>\n",
       "<p>5 rows × 34 columns</p>\n",
       "</div>"
      ],
      "text/plain": [
       "   adult                              belongs_to_collection    budget  \\\n",
       "0  False  {'id': 10194, 'name': 'Toy Story Collection', ...  30000000   \n",
       "1  False                                                NaN  65000000   \n",
       "2  False  {'id': 119050, 'name': 'Grumpy Old Men Collect...         0   \n",
       "3  False                                                NaN  16000000   \n",
       "4  False  {'id': 96871, 'name': 'Father of the Bride Col...         0   \n",
       "\n",
       "                                              genres  \\\n",
       "0  [{'id': 16, 'name': 'Animation'}, {'id': 35, '...   \n",
       "1  [{'id': 12, 'name': 'Adventure'}, {'id': 14, '...   \n",
       "2  [{'id': 10749, 'name': 'Romance'}, {'id': 35, ...   \n",
       "3  [{'id': 35, 'name': 'Comedy'}, {'id': 18, 'nam...   \n",
       "4                     [{'id': 35, 'name': 'Comedy'}]   \n",
       "\n",
       "                               homepage     id    imdb_id original_language  \\\n",
       "0  http://toystory.disney.com/toy-story    862  tt0114709                en   \n",
       "1                                   NaN   8844  tt0113497                en   \n",
       "2                                   NaN  15602  tt0113228                en   \n",
       "3                                   NaN  31357  tt0114885                en   \n",
       "4                                   NaN  11862  tt0113041                en   \n",
       "\n",
       "                original_title  \\\n",
       "0                    Toy Story   \n",
       "1                      Jumanji   \n",
       "2             Grumpier Old Men   \n",
       "3            Waiting to Exhale   \n",
       "4  Father of the Bride Part II   \n",
       "\n",
       "                                            overview  ...  \\\n",
       "0  Led by Woody, Andy's toys live happily in his ...  ...   \n",
       "1  When siblings Judy and Peter discover an encha...  ...   \n",
       "2  A family wedding reignites the ancient feud be...  ...   \n",
       "3  Cheated on, mistreated and stepped on, the wom...  ...   \n",
       "4  Just when George Banks has recovered from his ...  ...   \n",
       "\n",
       "                     genre_name     id1                 collection_name  \\\n",
       "0   [Animation, Comedy, Family]   10194            Toy Story Collection   \n",
       "1  [Adventure, Fantasy, Family]     nan                             nan   \n",
       "2             [Romance, Comedy]  119050       Grumpy Old Men Collection   \n",
       "3      [Comedy, Drama, Romance]     nan                             nan   \n",
       "4                      [Comedy]   96871  Father of the Bride Collection   \n",
       "\n",
       "                      poster_path_y                     backdrop_path  \\\n",
       "0  /7G9915LfUQ2lVfwMEEhDsn3kT4B.jpg  /9FBwqcd9IRruEDUrTdcaafOMKUq.jpg   \n",
       "1                               nan                               nan   \n",
       "2  /nLvUdqgPgm3F85NMCii9gVFUcet.jpg  /hypTnLot2z8wpFS7qwsQHW1uV8u.jpg   \n",
       "3                               nan                               nan   \n",
       "4  /nts4iOmNnq7GNicycMJ9pSAn204.jpg  /7qwE57OVZmMJChBpLEbJEmzUydk.jpg   \n",
       "\n",
       "                           production_companies_name    rating  \\\n",
       "0                        ['Pixar Animation Studios']  3.598930   \n",
       "1  ['TriStar Pictures', 'Teitler Film', 'Intersco...  3.760163   \n",
       "2                 ['Warner Bros.', 'Lancaster Gate']       NaN   \n",
       "3         ['Twentieth Century Fox Film Corporation']       NaN   \n",
       "4   ['Sandollar Productions', 'Touchstone Pictures']       NaN   \n",
       "\n",
       "                                           cast_name  \\\n",
       "0  ['Tom Hanks', 'Tim Allen', 'Don Rickles', 'Jim...   \n",
       "1  ['Robin Williams', 'Jonathan Hyde', 'Kirsten D...   \n",
       "2  ['Walter Matthau', 'Jack Lemmon', 'Ann-Margret...   \n",
       "3  ['Whitney Houston', 'Angela Bassett', 'Loretta...   \n",
       "4  ['Steve Martin', 'Diane Keaton', 'Martin Short...   \n",
       "\n",
       "                                           crew_name  \\\n",
       "0  ['John Lasseter', 'Joss Whedon', 'Andrew Stant...   \n",
       "1  ['Larry J. Franco', 'Jonathan Hensleigh', 'Jam...   \n",
       "2  ['Howard Deutch', 'Mark Steven Johnson', 'Mark...   \n",
       "3  ['Forest Whitaker', 'Ronald Bass', 'Ronald Bas...   \n",
       "4  ['Alan Silvestri', 'Elliot Davis', 'Nancy Meye...   \n",
       "\n",
       "                                            keywords  \n",
       "0  [jealousy, toy, boy, friendship, friends, riva...  \n",
       "1  [board game, disappearance, based on children'...  \n",
       "2  [fishing, best friend, duringcreditsstinger, o...  \n",
       "3  [based on novel, interracial relationship, sin...  \n",
       "4  [baby, midlife crisis, confidence, aging, daug...  \n",
       "\n",
       "[5 rows x 34 columns]"
      ]
     },
     "execution_count": 165,
     "metadata": {},
     "output_type": "execute_result"
    }
   ],
   "source": [
    "main1.head()"
   ]
  },
  {
   "cell_type": "code",
   "execution_count": 166,
   "id": "a3c13400",
   "metadata": {},
   "outputs": [],
   "source": [
    "#df_keywords_copy.to_csv('keywords_sql.csv')"
   ]
  },
  {
   "cell_type": "code",
   "execution_count": 167,
   "id": "09e595f6",
   "metadata": {},
   "outputs": [
    {
     "data": {
      "text/plain": [
       "adult                                object\n",
       "budget                                int64\n",
       "homepage                             object\n",
       "id                                    int64\n",
       "imdb_id                              object\n",
       "original_language                    object\n",
       "original_title                       object\n",
       "overview                             object\n",
       "popularity                          float64\n",
       "release_date                 datetime64[ns]\n",
       "revenue                             float64\n",
       "runtime                             float64\n",
       "spoken_languages                     object\n",
       "status                               object\n",
       "tagline                              object\n",
       "title                                object\n",
       "video                                object\n",
       "vote_average                        float64\n",
       "vote_count                          float64\n",
       "genre_name                           object\n",
       "collection_name                      object\n",
       "production_companies_name            object\n",
       "rating                              float64\n",
       "cast_name                            object\n",
       "crew_name                            object\n",
       "keywords                             object\n",
       "dtype: object"
      ]
     },
     "execution_count": 167,
     "metadata": {},
     "output_type": "execute_result"
    }
   ],
   "source": [
    "main1_duplicate = main1.copy()\n",
    "main1_duplicate.head(1)\n",
    "\n",
    "#main1_duplicate.columns\n",
    "\n",
    "main1_duplicate.drop(columns=['belongs_to_collection','genres','poster_path_x','production_companies','id1','poster_path_y','backdrop_path','production_countries'],inplace=True)\n",
    "\n",
    "main1_duplicate.dtypes"
   ]
  },
  {
   "cell_type": "code",
   "execution_count": 168,
   "id": "06c7c246",
   "metadata": {},
   "outputs": [
    {
     "data": {
      "text/plain": [
       "45463"
      ]
     },
     "execution_count": 168,
     "metadata": {},
     "output_type": "execute_result"
    }
   ],
   "source": [
    "len(main1)"
   ]
  },
  {
   "cell_type": "code",
   "execution_count": 169,
   "id": "ecff9b1c",
   "metadata": {},
   "outputs": [
    {
     "data": {
      "text/plain": [
       "adult                            0\n",
       "belongs_to_collection        40972\n",
       "budget                           0\n",
       "genres                           0\n",
       "homepage                     37684\n",
       "id                               0\n",
       "imdb_id                         17\n",
       "original_language               11\n",
       "original_title                   0\n",
       "overview                       954\n",
       "popularity                       3\n",
       "poster_path_x                  386\n",
       "production_companies             3\n",
       "production_countries             3\n",
       "release_date                    87\n",
       "revenue                          3\n",
       "runtime                        260\n",
       "spoken_languages                 3\n",
       "status                          84\n",
       "tagline                      25051\n",
       "title                            3\n",
       "video                            3\n",
       "vote_average                     3\n",
       "vote_count                       3\n",
       "genre_name                       0\n",
       "id1                              0\n",
       "collection_name                  0\n",
       "poster_path_y                  543\n",
       "backdrop_path                 1228\n",
       "production_companies_name        0\n",
       "rating                       37894\n",
       "cast_name                        1\n",
       "crew_name                        1\n",
       "keywords                     14353\n",
       "dtype: int64"
      ]
     },
     "execution_count": 169,
     "metadata": {},
     "output_type": "execute_result"
    }
   ],
   "source": [
    "main1.isnull().sum()"
   ]
  },
  {
   "cell_type": "code",
   "execution_count": 170,
   "id": "4a557e14",
   "metadata": {},
   "outputs": [
    {
     "data": {
      "text/html": [
       "<div>\n",
       "<style scoped>\n",
       "    .dataframe tbody tr th:only-of-type {\n",
       "        vertical-align: middle;\n",
       "    }\n",
       "\n",
       "    .dataframe tbody tr th {\n",
       "        vertical-align: top;\n",
       "    }\n",
       "\n",
       "    .dataframe thead th {\n",
       "        text-align: right;\n",
       "    }\n",
       "</style>\n",
       "<table border=\"1\" class=\"dataframe\">\n",
       "  <thead>\n",
       "    <tr style=\"text-align: right;\">\n",
       "      <th></th>\n",
       "      <th>adult</th>\n",
       "      <th>belongs_to_collection</th>\n",
       "      <th>budget</th>\n",
       "      <th>genres</th>\n",
       "      <th>homepage</th>\n",
       "      <th>id</th>\n",
       "      <th>imdb_id</th>\n",
       "      <th>original_language</th>\n",
       "      <th>original_title</th>\n",
       "      <th>overview</th>\n",
       "      <th>...</th>\n",
       "      <th>title</th>\n",
       "      <th>video</th>\n",
       "      <th>vote_average</th>\n",
       "      <th>vote_count</th>\n",
       "      <th>genre_name</th>\n",
       "      <th>id1</th>\n",
       "      <th>collection_name</th>\n",
       "      <th>poster_path_y</th>\n",
       "      <th>backdrop_path</th>\n",
       "      <th>production_companies_name</th>\n",
       "    </tr>\n",
       "  </thead>\n",
       "  <tbody>\n",
       "    <tr>\n",
       "      <th>0</th>\n",
       "      <td>False</td>\n",
       "      <td>{'id': 10194, 'name': 'Toy Story Collection', ...</td>\n",
       "      <td>30000000</td>\n",
       "      <td>[{'id': 16, 'name': 'Animation'}, {'id': 35, '...</td>\n",
       "      <td>http://toystory.disney.com/toy-story</td>\n",
       "      <td>862</td>\n",
       "      <td>tt0114709</td>\n",
       "      <td>en</td>\n",
       "      <td>Toy Story</td>\n",
       "      <td>Led by Woody, Andy's toys live happily in his ...</td>\n",
       "      <td>...</td>\n",
       "      <td>Toy Story</td>\n",
       "      <td>False</td>\n",
       "      <td>7.7</td>\n",
       "      <td>5415.0</td>\n",
       "      <td>[Animation, Comedy, Family]</td>\n",
       "      <td>10194</td>\n",
       "      <td>Toy Story Collection</td>\n",
       "      <td>/7G9915LfUQ2lVfwMEEhDsn3kT4B.jpg</td>\n",
       "      <td>/9FBwqcd9IRruEDUrTdcaafOMKUq.jpg</td>\n",
       "      <td>['Pixar Animation Studios']</td>\n",
       "    </tr>\n",
       "    <tr>\n",
       "      <th>1</th>\n",
       "      <td>False</td>\n",
       "      <td>NaN</td>\n",
       "      <td>65000000</td>\n",
       "      <td>[{'id': 12, 'name': 'Adventure'}, {'id': 14, '...</td>\n",
       "      <td>NaN</td>\n",
       "      <td>8844</td>\n",
       "      <td>tt0113497</td>\n",
       "      <td>en</td>\n",
       "      <td>Jumanji</td>\n",
       "      <td>When siblings Judy and Peter discover an encha...</td>\n",
       "      <td>...</td>\n",
       "      <td>Jumanji</td>\n",
       "      <td>False</td>\n",
       "      <td>6.9</td>\n",
       "      <td>2413.0</td>\n",
       "      <td>[Adventure, Fantasy, Family]</td>\n",
       "      <td>nan</td>\n",
       "      <td>nan</td>\n",
       "      <td>nan</td>\n",
       "      <td>nan</td>\n",
       "      <td>['TriStar Pictures', 'Teitler Film', 'Intersco...</td>\n",
       "    </tr>\n",
       "    <tr>\n",
       "      <th>2</th>\n",
       "      <td>False</td>\n",
       "      <td>{'id': 119050, 'name': 'Grumpy Old Men Collect...</td>\n",
       "      <td>0</td>\n",
       "      <td>[{'id': 10749, 'name': 'Romance'}, {'id': 35, ...</td>\n",
       "      <td>NaN</td>\n",
       "      <td>15602</td>\n",
       "      <td>tt0113228</td>\n",
       "      <td>en</td>\n",
       "      <td>Grumpier Old Men</td>\n",
       "      <td>A family wedding reignites the ancient feud be...</td>\n",
       "      <td>...</td>\n",
       "      <td>Grumpier Old Men</td>\n",
       "      <td>False</td>\n",
       "      <td>6.5</td>\n",
       "      <td>92.0</td>\n",
       "      <td>[Romance, Comedy]</td>\n",
       "      <td>119050</td>\n",
       "      <td>Grumpy Old Men Collection</td>\n",
       "      <td>/nLvUdqgPgm3F85NMCii9gVFUcet.jpg</td>\n",
       "      <td>/hypTnLot2z8wpFS7qwsQHW1uV8u.jpg</td>\n",
       "      <td>['Warner Bros.', 'Lancaster Gate']</td>\n",
       "    </tr>\n",
       "    <tr>\n",
       "      <th>3</th>\n",
       "      <td>False</td>\n",
       "      <td>NaN</td>\n",
       "      <td>16000000</td>\n",
       "      <td>[{'id': 35, 'name': 'Comedy'}, {'id': 18, 'nam...</td>\n",
       "      <td>NaN</td>\n",
       "      <td>31357</td>\n",
       "      <td>tt0114885</td>\n",
       "      <td>en</td>\n",
       "      <td>Waiting to Exhale</td>\n",
       "      <td>Cheated on, mistreated and stepped on, the wom...</td>\n",
       "      <td>...</td>\n",
       "      <td>Waiting to Exhale</td>\n",
       "      <td>False</td>\n",
       "      <td>6.1</td>\n",
       "      <td>34.0</td>\n",
       "      <td>[Comedy, Drama, Romance]</td>\n",
       "      <td>nan</td>\n",
       "      <td>nan</td>\n",
       "      <td>nan</td>\n",
       "      <td>nan</td>\n",
       "      <td>['Twentieth Century Fox Film Corporation']</td>\n",
       "    </tr>\n",
       "    <tr>\n",
       "      <th>4</th>\n",
       "      <td>False</td>\n",
       "      <td>{'id': 96871, 'name': 'Father of the Bride Col...</td>\n",
       "      <td>0</td>\n",
       "      <td>[{'id': 35, 'name': 'Comedy'}]</td>\n",
       "      <td>NaN</td>\n",
       "      <td>11862</td>\n",
       "      <td>tt0113041</td>\n",
       "      <td>en</td>\n",
       "      <td>Father of the Bride Part II</td>\n",
       "      <td>Just when George Banks has recovered from his ...</td>\n",
       "      <td>...</td>\n",
       "      <td>Father of the Bride Part II</td>\n",
       "      <td>False</td>\n",
       "      <td>5.7</td>\n",
       "      <td>173.0</td>\n",
       "      <td>[Comedy]</td>\n",
       "      <td>96871</td>\n",
       "      <td>Father of the Bride Collection</td>\n",
       "      <td>/nts4iOmNnq7GNicycMJ9pSAn204.jpg</td>\n",
       "      <td>/7qwE57OVZmMJChBpLEbJEmzUydk.jpg</td>\n",
       "      <td>['Sandollar Productions', 'Touchstone Pictures']</td>\n",
       "    </tr>\n",
       "  </tbody>\n",
       "</table>\n",
       "<p>5 rows × 30 columns</p>\n",
       "</div>"
      ],
      "text/plain": [
       "   adult                              belongs_to_collection    budget  \\\n",
       "0  False  {'id': 10194, 'name': 'Toy Story Collection', ...  30000000   \n",
       "1  False                                                NaN  65000000   \n",
       "2  False  {'id': 119050, 'name': 'Grumpy Old Men Collect...         0   \n",
       "3  False                                                NaN  16000000   \n",
       "4  False  {'id': 96871, 'name': 'Father of the Bride Col...         0   \n",
       "\n",
       "                                              genres  \\\n",
       "0  [{'id': 16, 'name': 'Animation'}, {'id': 35, '...   \n",
       "1  [{'id': 12, 'name': 'Adventure'}, {'id': 14, '...   \n",
       "2  [{'id': 10749, 'name': 'Romance'}, {'id': 35, ...   \n",
       "3  [{'id': 35, 'name': 'Comedy'}, {'id': 18, 'nam...   \n",
       "4                     [{'id': 35, 'name': 'Comedy'}]   \n",
       "\n",
       "                               homepage     id    imdb_id original_language  \\\n",
       "0  http://toystory.disney.com/toy-story    862  tt0114709                en   \n",
       "1                                   NaN   8844  tt0113497                en   \n",
       "2                                   NaN  15602  tt0113228                en   \n",
       "3                                   NaN  31357  tt0114885                en   \n",
       "4                                   NaN  11862  tt0113041                en   \n",
       "\n",
       "                original_title  \\\n",
       "0                    Toy Story   \n",
       "1                      Jumanji   \n",
       "2             Grumpier Old Men   \n",
       "3            Waiting to Exhale   \n",
       "4  Father of the Bride Part II   \n",
       "\n",
       "                                            overview  ...  \\\n",
       "0  Led by Woody, Andy's toys live happily in his ...  ...   \n",
       "1  When siblings Judy and Peter discover an encha...  ...   \n",
       "2  A family wedding reignites the ancient feud be...  ...   \n",
       "3  Cheated on, mistreated and stepped on, the wom...  ...   \n",
       "4  Just when George Banks has recovered from his ...  ...   \n",
       "\n",
       "                         title  video vote_average vote_count  \\\n",
       "0                    Toy Story  False          7.7     5415.0   \n",
       "1                      Jumanji  False          6.9     2413.0   \n",
       "2             Grumpier Old Men  False          6.5       92.0   \n",
       "3            Waiting to Exhale  False          6.1       34.0   \n",
       "4  Father of the Bride Part II  False          5.7      173.0   \n",
       "\n",
       "                     genre_name     id1                 collection_name  \\\n",
       "0   [Animation, Comedy, Family]   10194            Toy Story Collection   \n",
       "1  [Adventure, Fantasy, Family]     nan                             nan   \n",
       "2             [Romance, Comedy]  119050       Grumpy Old Men Collection   \n",
       "3      [Comedy, Drama, Romance]     nan                             nan   \n",
       "4                      [Comedy]   96871  Father of the Bride Collection   \n",
       "\n",
       "                      poster_path_y                     backdrop_path  \\\n",
       "0  /7G9915LfUQ2lVfwMEEhDsn3kT4B.jpg  /9FBwqcd9IRruEDUrTdcaafOMKUq.jpg   \n",
       "1                               nan                               nan   \n",
       "2  /nLvUdqgPgm3F85NMCii9gVFUcet.jpg  /hypTnLot2z8wpFS7qwsQHW1uV8u.jpg   \n",
       "3                               nan                               nan   \n",
       "4  /nts4iOmNnq7GNicycMJ9pSAn204.jpg  /7qwE57OVZmMJChBpLEbJEmzUydk.jpg   \n",
       "\n",
       "                           production_companies_name  \n",
       "0                        ['Pixar Animation Studios']  \n",
       "1  ['TriStar Pictures', 'Teitler Film', 'Intersco...  \n",
       "2                 ['Warner Bros.', 'Lancaster Gate']  \n",
       "3         ['Twentieth Century Fox Film Corporation']  \n",
       "4   ['Sandollar Productions', 'Touchstone Pictures']  \n",
       "\n",
       "[5 rows x 30 columns]"
      ]
     },
     "execution_count": 170,
     "metadata": {},
     "output_type": "execute_result"
    }
   ],
   "source": [
    "metadata.head()"
   ]
  },
  {
   "cell_type": "code",
   "execution_count": 171,
   "id": "08895ce2",
   "metadata": {},
   "outputs": [
    {
     "data": {
      "text/plain": [
       "45463"
      ]
     },
     "execution_count": 171,
     "metadata": {},
     "output_type": "execute_result"
    }
   ],
   "source": [
    "len(metadata)"
   ]
  },
  {
   "cell_type": "code",
   "execution_count": 172,
   "id": "2c3b4aa7",
   "metadata": {},
   "outputs": [],
   "source": [
    "original_metadata = pd.DataFrame().assign(adult=metadata['adult'], budget=metadata['budget'], homepage=metadata['homepage'],\n",
    "id=metadata['id'],imdb_id=metadata['imdb_id'],original_language=metadata['original_language'],original_title=metadata['original_title'],\n",
    "overview=metadata['overview'],popularity=metadata['popularity'],production_countries=metadata['production_countries'],\n",
    "release_date=metadata['release_date'],revenue=metadata['revenue'],runtime=metadata['runtime'],\n",
    "status=metadata['status'],title=metadata['title'],video=metadata['video'],vote_average=metadata['vote_average'],vote_count=metadata['vote_count'],\n",
    "genre_name=metadata['genre_name'],collection_name=metadata['collection_name'],production_companies_name=metadata['production_companies_name'])"
   ]
  },
  {
   "cell_type": "code",
   "execution_count": 173,
   "id": "722a833c",
   "metadata": {},
   "outputs": [],
   "source": [
    "metadata.to_csv('metadata_mysql.csv',index=False)"
   ]
  },
  {
   "cell_type": "code",
   "execution_count": 174,
   "id": "01c66345",
   "metadata": {},
   "outputs": [
    {
     "data": {
      "text/html": [
       "<div>\n",
       "<style scoped>\n",
       "    .dataframe tbody tr th:only-of-type {\n",
       "        vertical-align: middle;\n",
       "    }\n",
       "\n",
       "    .dataframe tbody tr th {\n",
       "        vertical-align: top;\n",
       "    }\n",
       "\n",
       "    .dataframe thead th {\n",
       "        text-align: right;\n",
       "    }\n",
       "</style>\n",
       "<table border=\"1\" class=\"dataframe\">\n",
       "  <thead>\n",
       "    <tr style=\"text-align: right;\">\n",
       "      <th></th>\n",
       "      <th>adult</th>\n",
       "      <th>budget</th>\n",
       "      <th>homepage</th>\n",
       "      <th>id</th>\n",
       "      <th>imdb_id</th>\n",
       "      <th>original_language</th>\n",
       "      <th>original_title</th>\n",
       "      <th>overview</th>\n",
       "      <th>popularity</th>\n",
       "      <th>production_countries</th>\n",
       "      <th>...</th>\n",
       "      <th>revenue</th>\n",
       "      <th>runtime</th>\n",
       "      <th>status</th>\n",
       "      <th>title</th>\n",
       "      <th>video</th>\n",
       "      <th>vote_average</th>\n",
       "      <th>vote_count</th>\n",
       "      <th>genre_name</th>\n",
       "      <th>collection_name</th>\n",
       "      <th>production_companies_name</th>\n",
       "    </tr>\n",
       "  </thead>\n",
       "  <tbody>\n",
       "    <tr>\n",
       "      <th>0</th>\n",
       "      <td>False</td>\n",
       "      <td>30000000</td>\n",
       "      <td>http://toystory.disney.com/toy-story</td>\n",
       "      <td>862</td>\n",
       "      <td>tt0114709</td>\n",
       "      <td>en</td>\n",
       "      <td>Toy Story</td>\n",
       "      <td>Led by Woody, Andy's toys live happily in his ...</td>\n",
       "      <td>21.946943</td>\n",
       "      <td>[{'iso_3166_1': 'US', 'name': 'United States o...</td>\n",
       "      <td>...</td>\n",
       "      <td>373554033.0</td>\n",
       "      <td>81.0</td>\n",
       "      <td>Released</td>\n",
       "      <td>Toy Story</td>\n",
       "      <td>False</td>\n",
       "      <td>7.7</td>\n",
       "      <td>5415.0</td>\n",
       "      <td>[Animation, Comedy, Family]</td>\n",
       "      <td>Toy Story Collection</td>\n",
       "      <td>['Pixar Animation Studios']</td>\n",
       "    </tr>\n",
       "    <tr>\n",
       "      <th>1</th>\n",
       "      <td>False</td>\n",
       "      <td>65000000</td>\n",
       "      <td>NaN</td>\n",
       "      <td>8844</td>\n",
       "      <td>tt0113497</td>\n",
       "      <td>en</td>\n",
       "      <td>Jumanji</td>\n",
       "      <td>When siblings Judy and Peter discover an encha...</td>\n",
       "      <td>17.015539</td>\n",
       "      <td>[{'iso_3166_1': 'US', 'name': 'United States o...</td>\n",
       "      <td>...</td>\n",
       "      <td>262797249.0</td>\n",
       "      <td>104.0</td>\n",
       "      <td>Released</td>\n",
       "      <td>Jumanji</td>\n",
       "      <td>False</td>\n",
       "      <td>6.9</td>\n",
       "      <td>2413.0</td>\n",
       "      <td>[Adventure, Fantasy, Family]</td>\n",
       "      <td>nan</td>\n",
       "      <td>['TriStar Pictures', 'Teitler Film', 'Intersco...</td>\n",
       "    </tr>\n",
       "    <tr>\n",
       "      <th>2</th>\n",
       "      <td>False</td>\n",
       "      <td>0</td>\n",
       "      <td>NaN</td>\n",
       "      <td>15602</td>\n",
       "      <td>tt0113228</td>\n",
       "      <td>en</td>\n",
       "      <td>Grumpier Old Men</td>\n",
       "      <td>A family wedding reignites the ancient feud be...</td>\n",
       "      <td>11.712900</td>\n",
       "      <td>[{'iso_3166_1': 'US', 'name': 'United States o...</td>\n",
       "      <td>...</td>\n",
       "      <td>0.0</td>\n",
       "      <td>101.0</td>\n",
       "      <td>Released</td>\n",
       "      <td>Grumpier Old Men</td>\n",
       "      <td>False</td>\n",
       "      <td>6.5</td>\n",
       "      <td>92.0</td>\n",
       "      <td>[Romance, Comedy]</td>\n",
       "      <td>Grumpy Old Men Collection</td>\n",
       "      <td>['Warner Bros.', 'Lancaster Gate']</td>\n",
       "    </tr>\n",
       "    <tr>\n",
       "      <th>3</th>\n",
       "      <td>False</td>\n",
       "      <td>16000000</td>\n",
       "      <td>NaN</td>\n",
       "      <td>31357</td>\n",
       "      <td>tt0114885</td>\n",
       "      <td>en</td>\n",
       "      <td>Waiting to Exhale</td>\n",
       "      <td>Cheated on, mistreated and stepped on, the wom...</td>\n",
       "      <td>3.859495</td>\n",
       "      <td>[{'iso_3166_1': 'US', 'name': 'United States o...</td>\n",
       "      <td>...</td>\n",
       "      <td>81452156.0</td>\n",
       "      <td>127.0</td>\n",
       "      <td>Released</td>\n",
       "      <td>Waiting to Exhale</td>\n",
       "      <td>False</td>\n",
       "      <td>6.1</td>\n",
       "      <td>34.0</td>\n",
       "      <td>[Comedy, Drama, Romance]</td>\n",
       "      <td>nan</td>\n",
       "      <td>['Twentieth Century Fox Film Corporation']</td>\n",
       "    </tr>\n",
       "    <tr>\n",
       "      <th>4</th>\n",
       "      <td>False</td>\n",
       "      <td>0</td>\n",
       "      <td>NaN</td>\n",
       "      <td>11862</td>\n",
       "      <td>tt0113041</td>\n",
       "      <td>en</td>\n",
       "      <td>Father of the Bride Part II</td>\n",
       "      <td>Just when George Banks has recovered from his ...</td>\n",
       "      <td>8.387519</td>\n",
       "      <td>[{'iso_3166_1': 'US', 'name': 'United States o...</td>\n",
       "      <td>...</td>\n",
       "      <td>76578911.0</td>\n",
       "      <td>106.0</td>\n",
       "      <td>Released</td>\n",
       "      <td>Father of the Bride Part II</td>\n",
       "      <td>False</td>\n",
       "      <td>5.7</td>\n",
       "      <td>173.0</td>\n",
       "      <td>[Comedy]</td>\n",
       "      <td>Father of the Bride Collection</td>\n",
       "      <td>['Sandollar Productions', 'Touchstone Pictures']</td>\n",
       "    </tr>\n",
       "  </tbody>\n",
       "</table>\n",
       "<p>5 rows × 21 columns</p>\n",
       "</div>"
      ],
      "text/plain": [
       "   adult    budget                              homepage     id    imdb_id  \\\n",
       "0  False  30000000  http://toystory.disney.com/toy-story    862  tt0114709   \n",
       "1  False  65000000                                   NaN   8844  tt0113497   \n",
       "2  False         0                                   NaN  15602  tt0113228   \n",
       "3  False  16000000                                   NaN  31357  tt0114885   \n",
       "4  False         0                                   NaN  11862  tt0113041   \n",
       "\n",
       "  original_language               original_title  \\\n",
       "0                en                    Toy Story   \n",
       "1                en                      Jumanji   \n",
       "2                en             Grumpier Old Men   \n",
       "3                en            Waiting to Exhale   \n",
       "4                en  Father of the Bride Part II   \n",
       "\n",
       "                                            overview  popularity  \\\n",
       "0  Led by Woody, Andy's toys live happily in his ...   21.946943   \n",
       "1  When siblings Judy and Peter discover an encha...   17.015539   \n",
       "2  A family wedding reignites the ancient feud be...   11.712900   \n",
       "3  Cheated on, mistreated and stepped on, the wom...    3.859495   \n",
       "4  Just when George Banks has recovered from his ...    8.387519   \n",
       "\n",
       "                                production_countries  ...      revenue  \\\n",
       "0  [{'iso_3166_1': 'US', 'name': 'United States o...  ...  373554033.0   \n",
       "1  [{'iso_3166_1': 'US', 'name': 'United States o...  ...  262797249.0   \n",
       "2  [{'iso_3166_1': 'US', 'name': 'United States o...  ...          0.0   \n",
       "3  [{'iso_3166_1': 'US', 'name': 'United States o...  ...   81452156.0   \n",
       "4  [{'iso_3166_1': 'US', 'name': 'United States o...  ...   76578911.0   \n",
       "\n",
       "   runtime    status                        title  video vote_average  \\\n",
       "0     81.0  Released                    Toy Story  False          7.7   \n",
       "1    104.0  Released                      Jumanji  False          6.9   \n",
       "2    101.0  Released             Grumpier Old Men  False          6.5   \n",
       "3    127.0  Released            Waiting to Exhale  False          6.1   \n",
       "4    106.0  Released  Father of the Bride Part II  False          5.7   \n",
       "\n",
       "   vote_count                    genre_name                 collection_name  \\\n",
       "0      5415.0   [Animation, Comedy, Family]            Toy Story Collection   \n",
       "1      2413.0  [Adventure, Fantasy, Family]                             nan   \n",
       "2        92.0             [Romance, Comedy]       Grumpy Old Men Collection   \n",
       "3        34.0      [Comedy, Drama, Romance]                             nan   \n",
       "4       173.0                      [Comedy]  Father of the Bride Collection   \n",
       "\n",
       "                           production_companies_name  \n",
       "0                        ['Pixar Animation Studios']  \n",
       "1  ['TriStar Pictures', 'Teitler Film', 'Intersco...  \n",
       "2                 ['Warner Bros.', 'Lancaster Gate']  \n",
       "3         ['Twentieth Century Fox Film Corporation']  \n",
       "4   ['Sandollar Productions', 'Touchstone Pictures']  \n",
       "\n",
       "[5 rows x 21 columns]"
      ]
     },
     "execution_count": 174,
     "metadata": {},
     "output_type": "execute_result"
    }
   ],
   "source": [
    "original_metadata.head()"
   ]
  },
  {
   "cell_type": "code",
   "execution_count": 175,
   "id": "4e0647b5",
   "metadata": {},
   "outputs": [
    {
     "data": {
      "text/plain": [
       "Index(['adult', 'belongs_to_collection', 'budget', 'genres', 'homepage', 'id',\n",
       "       'imdb_id', 'original_language', 'original_title', 'overview',\n",
       "       'popularity', 'poster_path_x', 'production_companies',\n",
       "       'production_countries', 'release_date', 'revenue', 'runtime',\n",
       "       'spoken_languages', 'status', 'tagline', 'title', 'video',\n",
       "       'vote_average', 'vote_count', 'genre_name', 'id1', 'collection_name',\n",
       "       'poster_path_y', 'backdrop_path', 'production_companies_name', 'rating',\n",
       "       'cast_name', 'crew_name', 'keywords'],\n",
       "      dtype='object')"
      ]
     },
     "execution_count": 175,
     "metadata": {},
     "output_type": "execute_result"
    }
   ],
   "source": [
    "main1.columns"
   ]
  },
  {
   "cell_type": "code",
   "execution_count": 176,
   "id": "c2bd8a12",
   "metadata": {},
   "outputs": [],
   "source": [
    "original_metadata = pd.DataFrame().assign(adult=metadata['adult'], \n",
    "id=metadata['id'],original_language=metadata['original_language'],original_title=metadata['original_title'],\n",
    "overview=metadata['overview'],popularity=metadata['popularity'],production_countries=metadata['production_countries'],\n",
    "release_date=metadata['release_date'],revenue=metadata['revenue'],runtime=metadata['runtime'],\n",
    "status=metadata['status'],\n",
    "genre_name=metadata['genre_name'],collection_name=metadata['collection_name'],production_companies_name=metadata['production_companies_name'])"
   ]
  },
  {
   "cell_type": "code",
   "execution_count": 177,
   "id": "b05abac6",
   "metadata": {},
   "outputs": [],
   "source": [
    "dataframe = pd.DataFrame().assign(adult=main1['adult'], \n",
    "id=main1['id'],original_language=main1['original_language'],original_title=main1['original_title'],\n",
    "overview=main1['overview'],popularity=main1['popularity'],\n",
    "release_date=main1['release_date'],revenue=main1['revenue'],runtime=main1['runtime'],\n",
    "status=main1['status'],\n",
    "genre_name=main1['genre_name'],collection_name=main1['collection_name'],\n",
    "production_companies_name=main1['production_companies_name'],keywords=main1['keywords'],cast_name=main1['cast_name'],\n",
    "crew_name=main1['crew_name'],vote_average=main1['vote_average'])"
   ]
  },
  {
   "cell_type": "code",
   "execution_count": 178,
   "id": "7c283735",
   "metadata": {},
   "outputs": [
    {
     "data": {
      "text/html": [
       "<div>\n",
       "<style scoped>\n",
       "    .dataframe tbody tr th:only-of-type {\n",
       "        vertical-align: middle;\n",
       "    }\n",
       "\n",
       "    .dataframe tbody tr th {\n",
       "        vertical-align: top;\n",
       "    }\n",
       "\n",
       "    .dataframe thead th {\n",
       "        text-align: right;\n",
       "    }\n",
       "</style>\n",
       "<table border=\"1\" class=\"dataframe\">\n",
       "  <thead>\n",
       "    <tr style=\"text-align: right;\">\n",
       "      <th></th>\n",
       "      <th>adult</th>\n",
       "      <th>id</th>\n",
       "      <th>original_language</th>\n",
       "      <th>original_title</th>\n",
       "      <th>overview</th>\n",
       "      <th>popularity</th>\n",
       "      <th>release_date</th>\n",
       "      <th>revenue</th>\n",
       "      <th>runtime</th>\n",
       "      <th>status</th>\n",
       "      <th>genre_name</th>\n",
       "      <th>collection_name</th>\n",
       "      <th>production_companies_name</th>\n",
       "      <th>keywords</th>\n",
       "      <th>cast_name</th>\n",
       "      <th>crew_name</th>\n",
       "      <th>vote_average</th>\n",
       "    </tr>\n",
       "  </thead>\n",
       "  <tbody>\n",
       "    <tr>\n",
       "      <th>0</th>\n",
       "      <td>False</td>\n",
       "      <td>862</td>\n",
       "      <td>en</td>\n",
       "      <td>Toy Story</td>\n",
       "      <td>Led by Woody, Andy's toys live happily in his ...</td>\n",
       "      <td>21.946943</td>\n",
       "      <td>1995-10-30</td>\n",
       "      <td>373554033.0</td>\n",
       "      <td>81.0</td>\n",
       "      <td>Released</td>\n",
       "      <td>[Animation, Comedy, Family]</td>\n",
       "      <td>Toy Story Collection</td>\n",
       "      <td>['Pixar Animation Studios']</td>\n",
       "      <td>[jealousy, toy, boy, friendship, friends, riva...</td>\n",
       "      <td>['Tom Hanks', 'Tim Allen', 'Don Rickles', 'Jim...</td>\n",
       "      <td>['John Lasseter', 'Joss Whedon', 'Andrew Stant...</td>\n",
       "      <td>7.7</td>\n",
       "    </tr>\n",
       "    <tr>\n",
       "      <th>1</th>\n",
       "      <td>False</td>\n",
       "      <td>8844</td>\n",
       "      <td>en</td>\n",
       "      <td>Jumanji</td>\n",
       "      <td>When siblings Judy and Peter discover an encha...</td>\n",
       "      <td>17.015539</td>\n",
       "      <td>1995-12-15</td>\n",
       "      <td>262797249.0</td>\n",
       "      <td>104.0</td>\n",
       "      <td>Released</td>\n",
       "      <td>[Adventure, Fantasy, Family]</td>\n",
       "      <td>nan</td>\n",
       "      <td>['TriStar Pictures', 'Teitler Film', 'Intersco...</td>\n",
       "      <td>[board game, disappearance, based on children'...</td>\n",
       "      <td>['Robin Williams', 'Jonathan Hyde', 'Kirsten D...</td>\n",
       "      <td>['Larry J. Franco', 'Jonathan Hensleigh', 'Jam...</td>\n",
       "      <td>6.9</td>\n",
       "    </tr>\n",
       "    <tr>\n",
       "      <th>2</th>\n",
       "      <td>False</td>\n",
       "      <td>15602</td>\n",
       "      <td>en</td>\n",
       "      <td>Grumpier Old Men</td>\n",
       "      <td>A family wedding reignites the ancient feud be...</td>\n",
       "      <td>11.712900</td>\n",
       "      <td>1995-12-22</td>\n",
       "      <td>0.0</td>\n",
       "      <td>101.0</td>\n",
       "      <td>Released</td>\n",
       "      <td>[Romance, Comedy]</td>\n",
       "      <td>Grumpy Old Men Collection</td>\n",
       "      <td>['Warner Bros.', 'Lancaster Gate']</td>\n",
       "      <td>[fishing, best friend, duringcreditsstinger, o...</td>\n",
       "      <td>['Walter Matthau', 'Jack Lemmon', 'Ann-Margret...</td>\n",
       "      <td>['Howard Deutch', 'Mark Steven Johnson', 'Mark...</td>\n",
       "      <td>6.5</td>\n",
       "    </tr>\n",
       "    <tr>\n",
       "      <th>3</th>\n",
       "      <td>False</td>\n",
       "      <td>31357</td>\n",
       "      <td>en</td>\n",
       "      <td>Waiting to Exhale</td>\n",
       "      <td>Cheated on, mistreated and stepped on, the wom...</td>\n",
       "      <td>3.859495</td>\n",
       "      <td>1995-12-22</td>\n",
       "      <td>81452156.0</td>\n",
       "      <td>127.0</td>\n",
       "      <td>Released</td>\n",
       "      <td>[Comedy, Drama, Romance]</td>\n",
       "      <td>nan</td>\n",
       "      <td>['Twentieth Century Fox Film Corporation']</td>\n",
       "      <td>[based on novel, interracial relationship, sin...</td>\n",
       "      <td>['Whitney Houston', 'Angela Bassett', 'Loretta...</td>\n",
       "      <td>['Forest Whitaker', 'Ronald Bass', 'Ronald Bas...</td>\n",
       "      <td>6.1</td>\n",
       "    </tr>\n",
       "    <tr>\n",
       "      <th>4</th>\n",
       "      <td>False</td>\n",
       "      <td>11862</td>\n",
       "      <td>en</td>\n",
       "      <td>Father of the Bride Part II</td>\n",
       "      <td>Just when George Banks has recovered from his ...</td>\n",
       "      <td>8.387519</td>\n",
       "      <td>1995-02-10</td>\n",
       "      <td>76578911.0</td>\n",
       "      <td>106.0</td>\n",
       "      <td>Released</td>\n",
       "      <td>[Comedy]</td>\n",
       "      <td>Father of the Bride Collection</td>\n",
       "      <td>['Sandollar Productions', 'Touchstone Pictures']</td>\n",
       "      <td>[baby, midlife crisis, confidence, aging, daug...</td>\n",
       "      <td>['Steve Martin', 'Diane Keaton', 'Martin Short...</td>\n",
       "      <td>['Alan Silvestri', 'Elliot Davis', 'Nancy Meye...</td>\n",
       "      <td>5.7</td>\n",
       "    </tr>\n",
       "  </tbody>\n",
       "</table>\n",
       "</div>"
      ],
      "text/plain": [
       "   adult     id original_language               original_title  \\\n",
       "0  False    862                en                    Toy Story   \n",
       "1  False   8844                en                      Jumanji   \n",
       "2  False  15602                en             Grumpier Old Men   \n",
       "3  False  31357                en            Waiting to Exhale   \n",
       "4  False  11862                en  Father of the Bride Part II   \n",
       "\n",
       "                                            overview  popularity release_date  \\\n",
       "0  Led by Woody, Andy's toys live happily in his ...   21.946943   1995-10-30   \n",
       "1  When siblings Judy and Peter discover an encha...   17.015539   1995-12-15   \n",
       "2  A family wedding reignites the ancient feud be...   11.712900   1995-12-22   \n",
       "3  Cheated on, mistreated and stepped on, the wom...    3.859495   1995-12-22   \n",
       "4  Just when George Banks has recovered from his ...    8.387519   1995-02-10   \n",
       "\n",
       "       revenue  runtime    status                    genre_name  \\\n",
       "0  373554033.0     81.0  Released   [Animation, Comedy, Family]   \n",
       "1  262797249.0    104.0  Released  [Adventure, Fantasy, Family]   \n",
       "2          0.0    101.0  Released             [Romance, Comedy]   \n",
       "3   81452156.0    127.0  Released      [Comedy, Drama, Romance]   \n",
       "4   76578911.0    106.0  Released                      [Comedy]   \n",
       "\n",
       "                  collection_name  \\\n",
       "0            Toy Story Collection   \n",
       "1                             nan   \n",
       "2       Grumpy Old Men Collection   \n",
       "3                             nan   \n",
       "4  Father of the Bride Collection   \n",
       "\n",
       "                           production_companies_name  \\\n",
       "0                        ['Pixar Animation Studios']   \n",
       "1  ['TriStar Pictures', 'Teitler Film', 'Intersco...   \n",
       "2                 ['Warner Bros.', 'Lancaster Gate']   \n",
       "3         ['Twentieth Century Fox Film Corporation']   \n",
       "4   ['Sandollar Productions', 'Touchstone Pictures']   \n",
       "\n",
       "                                            keywords  \\\n",
       "0  [jealousy, toy, boy, friendship, friends, riva...   \n",
       "1  [board game, disappearance, based on children'...   \n",
       "2  [fishing, best friend, duringcreditsstinger, o...   \n",
       "3  [based on novel, interracial relationship, sin...   \n",
       "4  [baby, midlife crisis, confidence, aging, daug...   \n",
       "\n",
       "                                           cast_name  \\\n",
       "0  ['Tom Hanks', 'Tim Allen', 'Don Rickles', 'Jim...   \n",
       "1  ['Robin Williams', 'Jonathan Hyde', 'Kirsten D...   \n",
       "2  ['Walter Matthau', 'Jack Lemmon', 'Ann-Margret...   \n",
       "3  ['Whitney Houston', 'Angela Bassett', 'Loretta...   \n",
       "4  ['Steve Martin', 'Diane Keaton', 'Martin Short...   \n",
       "\n",
       "                                           crew_name  vote_average  \n",
       "0  ['John Lasseter', 'Joss Whedon', 'Andrew Stant...           7.7  \n",
       "1  ['Larry J. Franco', 'Jonathan Hensleigh', 'Jam...           6.9  \n",
       "2  ['Howard Deutch', 'Mark Steven Johnson', 'Mark...           6.5  \n",
       "3  ['Forest Whitaker', 'Ronald Bass', 'Ronald Bas...           6.1  \n",
       "4  ['Alan Silvestri', 'Elliot Davis', 'Nancy Meye...           5.7  "
      ]
     },
     "execution_count": 178,
     "metadata": {},
     "output_type": "execute_result"
    }
   ],
   "source": [
    "dataframe.head()"
   ]
  },
  {
   "cell_type": "code",
   "execution_count": 179,
   "id": "618db511",
   "metadata": {},
   "outputs": [
    {
     "data": {
      "text/plain": [
       "adult                            0\n",
       "id                               0\n",
       "original_language               11\n",
       "original_title                   0\n",
       "overview                       954\n",
       "popularity                       3\n",
       "release_date                    87\n",
       "revenue                          3\n",
       "runtime                        260\n",
       "status                          84\n",
       "genre_name                       0\n",
       "collection_name                  0\n",
       "production_companies_name        0\n",
       "keywords                     14353\n",
       "cast_name                        1\n",
       "crew_name                        1\n",
       "vote_average                     3\n",
       "dtype: int64"
      ]
     },
     "execution_count": 179,
     "metadata": {},
     "output_type": "execute_result"
    }
   ],
   "source": [
    "dataframe.isnull().sum()"
   ]
  },
  {
   "cell_type": "markdown",
   "id": "462a8159",
   "metadata": {},
   "source": [
    "# Outliers detection"
   ]
  },
  {
   "cell_type": "code",
   "execution_count": 180,
   "id": "d9f4efc3",
   "metadata": {},
   "outputs": [
    {
     "data": {
      "text/plain": [
       "<AxesSubplot:xlabel='vote_average'>"
      ]
     },
     "execution_count": 180,
     "metadata": {},
     "output_type": "execute_result"
    },
    {
     "data": {
      "image/png": "[encoded data removed]",
      "text/plain": [
       "<Figure size 432x288 with 1 Axes>"
      ]
     },
     "metadata": {
      "needs_background": "light"
     },
     "output_type": "display_data"
    }
   ],
   "source": [
    "sns.boxplot(dataframe['vote_average'])"
   ]
  },
  {
   "cell_type": "code",
   "execution_count": 181,
   "id": "35e1a885",
   "metadata": {},
   "outputs": [
    {
     "data": {
      "text/plain": [
       "<AxesSubplot:xlabel='vote_average', ylabel='Count'>"
      ]
     },
     "execution_count": 181,
     "metadata": {},
     "output_type": "execute_result"
    },
    {
     "data": {
      "image/png": "[encoded data removed]",
      "text/plain": [
       "<Figure size 432x288 with 1 Axes>"
      ]
     },
     "metadata": {
      "needs_background": "light"
     },
     "output_type": "display_data"
    }
   ],
   "source": [
    "sns.histplot(dataframe['vote_average'])"
   ]
  },
  {
   "cell_type": "code",
   "execution_count": 182,
   "id": "ba065608",
   "metadata": {},
   "outputs": [
    {
     "data": {
      "text/plain": [
       "<AxesSubplot:xlabel='runtime'>"
      ]
     },
     "execution_count": 182,
     "metadata": {},
     "output_type": "execute_result"
    },
    {
     "data": {
      "image/png": "[encoded data removed]",
      "text/plain": [
       "<Figure size 432x288 with 1 Axes>"
      ]
     },
     "metadata": {
      "needs_background": "light"
     },
     "output_type": "display_data"
    }
   ],
   "source": [
    "sns.boxplot(dataframe['runtime'])"
   ]
  },
  {
   "cell_type": "code",
   "execution_count": 183,
   "id": "41cbce2c",
   "metadata": {},
   "outputs": [
    {
     "data": {
      "text/plain": [
       "<AxesSubplot:xlabel='runtime', ylabel='Count'>"
      ]
     },
     "execution_count": 183,
     "metadata": {},
     "output_type": "execute_result"
    },
    {
     "data": {
      "image/png": "[encoded data removed]",
      "text/plain": [
       "<Figure size 432x288 with 1 Axes>"
      ]
     },
     "metadata": {
      "needs_background": "light"
     },
     "output_type": "display_data"
    }
   ],
   "source": [
    "sns.histplot(dataframe['runtime'])"
   ]
  },
  {
   "cell_type": "code",
   "execution_count": 184,
   "id": "ef70b813",
   "metadata": {},
   "outputs": [
    {
     "data": {
      "text/plain": [
       "<AxesSubplot:xlabel='revenue'>"
      ]
     },
     "execution_count": 184,
     "metadata": {},
     "output_type": "execute_result"
    },
    {
     "data": {
      "image/png": "[encoded data removed]",
      "text/plain": [
       "<Figure size 432x288 with 1 Axes>"
      ]
     },
     "metadata": {
      "needs_background": "light"
     },
     "output_type": "display_data"
    }
   ],
   "source": [
    "sns.boxplot(dataframe['revenue'])"
   ]
  },
  {
   "cell_type": "code",
   "execution_count": 185,
   "id": "3646cfca",
   "metadata": {},
   "outputs": [
    {
     "data": {
      "text/plain": [
       "<AxesSubplot:xlabel='revenue', ylabel='Count'>"
      ]
     },
     "execution_count": 185,
     "metadata": {},
     "output_type": "execute_result"
    },
    {
     "data": {
      "image/png": "[encoded data removed]",
      "text/plain": [
       "<Figure size 432x288 with 1 Axes>"
      ]
     },
     "metadata": {
      "needs_background": "light"
     },
     "output_type": "display_data"
    }
   ],
   "source": [
    "sns.histplot(dataframe['revenue'])"
   ]
  },
  {
   "cell_type": "code",
   "execution_count": 186,
   "id": "4d88b259",
   "metadata": {},
   "outputs": [
    {
     "data": {
      "text/plain": [
       "<AxesSubplot:xlabel='popularity'>"
      ]
     },
     "execution_count": 186,
     "metadata": {},
     "output_type": "execute_result"
    },
    {
     "data": {
      "image/png": "[encoded data removed]",
      "text/plain": [
       "<Figure size 432x288 with 1 Axes>"
      ]
     },
     "metadata": {
      "needs_background": "light"
     },
     "output_type": "display_data"
    }
   ],
   "source": [
    "sns.boxplot(dataframe['popularity'])"
   ]
  },
  {
   "cell_type": "code",
   "execution_count": 187,
   "id": "7f6e4bbf",
   "metadata": {},
   "outputs": [
    {
     "data": {
      "text/plain": [
       "<AxesSubplot:xlabel='popularity', ylabel='Count'>"
      ]
     },
     "execution_count": 187,
     "metadata": {},
     "output_type": "execute_result"
    },
    {
     "data": {
      "image/png": "[encoded data removed]",
      "text/plain": [
       "<Figure size 432x288 with 1 Axes>"
      ]
     },
     "metadata": {
      "needs_background": "light"
     },
     "output_type": "display_data"
    }
   ],
   "source": [
    "sns.histplot(dataframe['popularity'])"
   ]
  },
  {
   "cell_type": "code",
   "execution_count": 188,
   "id": "2bca7366",
   "metadata": {},
   "outputs": [
    {
     "name": "stdout",
     "output_type": "stream",
     "text": [
      "85.0\n",
      "107.0\n",
      "22.0\n",
      "52.0 140.0\n"
     ]
    }
   ],
   "source": [
    "#runtime outliers\n",
    "Q1=dataframe['runtime'].quantile(0.25)\n",
    "Q3=dataframe['runtime'].quantile(0.75)\n",
    "IQR=Q3-Q1\n",
    "print(Q1)\n",
    "print(Q3)\n",
    "print(IQR)\n",
    "Lower_Whisker = Q1-1.5*IQR\n",
    "Upper_Whisker = Q3+1.5*IQR\n",
    "print(Lower_Whisker, Upper_Whisker)"
   ]
  },
  {
   "cell_type": "code",
   "execution_count": 189,
   "id": "32b84bb3",
   "metadata": {},
   "outputs": [],
   "source": [
    "out_dataframe = dataframe[dataframe['runtime']< Upper_Whisker]\n",
    "out_dataframe = dataframe[dataframe['runtime']>Lower_Whisker]"
   ]
  },
  {
   "cell_type": "code",
   "execution_count": 190,
   "id": "2a8f882f",
   "metadata": {},
   "outputs": [
    {
     "data": {
      "text/plain": [
       "41693"
      ]
     },
     "execution_count": 190,
     "metadata": {},
     "output_type": "execute_result"
    }
   ],
   "source": [
    "len(out_dataframe)"
   ]
  },
  {
   "cell_type": "code",
   "execution_count": 191,
   "id": "dd4f63c5",
   "metadata": {},
   "outputs": [
    {
     "name": "stdout",
     "output_type": "stream",
     "text": [
      "0.38594775\n",
      "3.67890225\n",
      "3.2929545\n",
      "-4.553484 8.618334\n"
     ]
    }
   ],
   "source": [
    "#popularity outliers\n",
    "Q1=dataframe['popularity'].quantile(0.25)\n",
    "Q3=dataframe['popularity'].quantile(0.75)\n",
    "IQR=Q3-Q1\n",
    "print(Q1)\n",
    "print(Q3)\n",
    "print(IQR)\n",
    "Lower_Whisker = Q1-1.5*IQR\n",
    "Upper_Whisker = Q3+1.5*IQR\n",
    "print(Lower_Whisker, Upper_Whisker)"
   ]
  },
  {
   "cell_type": "code",
   "execution_count": 192,
   "id": "31cf4edd",
   "metadata": {},
   "outputs": [],
   "source": [
    "out_dataframe_pop = dataframe[dataframe['popularity']< Upper_Whisker]\n",
    "out_dataframe_pop = dataframe[dataframe['popularity']>Lower_Whisker]"
   ]
  },
  {
   "cell_type": "code",
   "execution_count": 193,
   "id": "2de59852",
   "metadata": {},
   "outputs": [],
   "source": [
    "out_dataframe = out_dataframe[out_dataframe['popularity']< Upper_Whisker]\n",
    "out_dataframe = out_dataframe[out_dataframe['popularity']>Lower_Whisker]"
   ]
  },
  {
   "cell_type": "code",
   "execution_count": 194,
   "id": "45246683",
   "metadata": {},
   "outputs": [
    {
     "data": {
      "text/plain": [
       "37484"
      ]
     },
     "execution_count": 194,
     "metadata": {},
     "output_type": "execute_result"
    }
   ],
   "source": [
    "len(out_dataframe)"
   ]
  },
  {
   "cell_type": "code",
   "execution_count": 195,
   "id": "f74f6910",
   "metadata": {},
   "outputs": [
    {
     "data": {
      "text/plain": [
       "45460"
      ]
     },
     "execution_count": 195,
     "metadata": {},
     "output_type": "execute_result"
    }
   ],
   "source": [
    "len(out_dataframe_pop)"
   ]
  },
  {
   "cell_type": "code",
   "execution_count": 196,
   "id": "4d6cd4ec",
   "metadata": {},
   "outputs": [
    {
     "name": "stdout",
     "output_type": "stream",
     "text": [
      "5.0\n",
      "6.8\n",
      "1.7999999999999998\n",
      "2.3000000000000003 9.5\n"
     ]
    }
   ],
   "source": [
    "#vote_average outliers\n",
    "Q1=dataframe['vote_average'].quantile(0.25)\n",
    "Q3=dataframe['vote_average'].quantile(0.75)\n",
    "IQR=Q3-Q1\n",
    "print(Q1)\n",
    "print(Q3)\n",
    "print(IQR)\n",
    "Lower_Whisker = Q1-1.5*IQR\n",
    "Upper_Whisker = Q3+1.5*IQR\n",
    "print(Lower_Whisker, Upper_Whisker)"
   ]
  },
  {
   "cell_type": "code",
   "execution_count": 197,
   "id": "0338bbbb",
   "metadata": {},
   "outputs": [],
   "source": [
    "out_dataframe_vote_avg = dataframe[dataframe['vote_average']< Upper_Whisker]\n",
    "out_dataframe_vote_avg = dataframe[dataframe['vote_average']>Lower_Whisker]"
   ]
  },
  {
   "cell_type": "code",
   "execution_count": 198,
   "id": "f342eba9",
   "metadata": {},
   "outputs": [],
   "source": [
    "out_dataframe = out_dataframe[out_dataframe['vote_average']< Upper_Whisker]\n",
    "out_dataframe = out_dataframe[out_dataframe['vote_average']>Lower_Whisker]"
   ]
  },
  {
   "cell_type": "code",
   "execution_count": 199,
   "id": "acfb134a",
   "metadata": {},
   "outputs": [
    {
     "data": {
      "text/plain": [
       "42049"
      ]
     },
     "execution_count": 199,
     "metadata": {},
     "output_type": "execute_result"
    }
   ],
   "source": [
    "len(out_dataframe_vote_avg)"
   ]
  },
  {
   "cell_type": "code",
   "execution_count": 200,
   "id": "15784d53",
   "metadata": {},
   "outputs": [
    {
     "data": {
      "text/plain": [
       "34626"
      ]
     },
     "execution_count": 200,
     "metadata": {},
     "output_type": "execute_result"
    }
   ],
   "source": [
    "len(out_dataframe)"
   ]
  },
  {
   "cell_type": "code",
   "execution_count": 201,
   "id": "b7b9abbe",
   "metadata": {},
   "outputs": [
    {
     "name": "stdout",
     "output_type": "stream",
     "text": [
      "0.0\n",
      "0.0\n",
      "0.0\n",
      "0.0 0.0\n"
     ]
    }
   ],
   "source": [
    "#revenue outliers\n",
    "Q1=dataframe['revenue'].quantile(0.25)\n",
    "Q3=dataframe['revenue'].quantile(0.75)\n",
    "IQR=Q3-Q1\n",
    "print(Q1)\n",
    "print(Q3)\n",
    "print(IQR)\n",
    "Lower_Whisker = Q1-1.5*IQR\n",
    "Upper_Whisker = Q3+1.5*IQR\n",
    "print(Lower_Whisker, Upper_Whisker)"
   ]
  },
  {
   "cell_type": "code",
   "execution_count": 202,
   "id": "0cb3d045",
   "metadata": {},
   "outputs": [],
   "source": [
    "out_dataframe_rev = dataframe[dataframe['revenue']< Upper_Whisker]\n",
    "out_dataframe_rev = dataframe[dataframe['revenue']>Lower_Whisker]"
   ]
  },
  {
   "cell_type": "code",
   "execution_count": 203,
   "id": "6980185f",
   "metadata": {},
   "outputs": [
    {
     "data": {
      "text/plain": [
       "7408"
      ]
     },
     "execution_count": 203,
     "metadata": {},
     "output_type": "execute_result"
    }
   ],
   "source": [
    "len(out_dataframe_rev)"
   ]
  },
  {
   "cell_type": "code",
   "execution_count": 204,
   "id": "40fcfc68",
   "metadata": {},
   "outputs": [],
   "source": [
    "out_dataframe = out_dataframe[out_dataframe['revenue']< Upper_Whisker]\n",
    "out_dataframe = out_dataframe[out_dataframe['revenue']>Lower_Whisker]"
   ]
  },
  {
   "cell_type": "code",
   "execution_count": 205,
   "id": "c61fe53d",
   "metadata": {},
   "outputs": [
    {
     "data": {
      "text/plain": [
       "0"
      ]
     },
     "execution_count": 205,
     "metadata": {},
     "output_type": "execute_result"
    }
   ],
   "source": [
    "len(out_dataframe)"
   ]
  },
  {
   "cell_type": "code",
   "execution_count": 206,
   "id": "e0518872",
   "metadata": {},
   "outputs": [
    {
     "data": {
      "text/plain": [
       "45463"
      ]
     },
     "execution_count": 206,
     "metadata": {},
     "output_type": "execute_result"
    }
   ],
   "source": [
    "len(dataframe)"
   ]
  },
  {
   "cell_type": "code",
   "execution_count": 207,
   "id": "0d9760b7",
   "metadata": {},
   "outputs": [
    {
     "data": {
      "text/plain": [
       "45463"
      ]
     },
     "execution_count": 207,
     "metadata": {},
     "output_type": "execute_result"
    }
   ],
   "source": [
    "len(metadata)"
   ]
  },
  {
   "cell_type": "markdown",
   "id": "65b0a776",
   "metadata": {},
   "source": [
    "# Normality test"
   ]
  },
  {
   "cell_type": "code",
   "execution_count": 208,
   "id": "fc40f0b2",
   "metadata": {},
   "outputs": [],
   "source": [
    "from scipy.stats import shapiro\n",
    "from numpy.random import seed\n",
    "from numpy.random import poisson\n",
    "\n",
    "#set seed (e.g. make this example reproducible)\n",
    "seed(0)\n",
    "\n",
    "#generate dataset of 100 values that follow a Poisson distribution with mean=5\n",
    "data = dataframe.popularity.sample(n=5000)"
   ]
  },
  {
   "cell_type": "code",
   "execution_count": 209,
   "id": "f0444db0",
   "metadata": {},
   "outputs": [
    {
     "name": "stdout",
     "output_type": "stream",
     "text": [
      "Data not normal\n"
     ]
    }
   ],
   "source": [
    "st,pval=shapiro(data)\n",
    "if pval<0.05:\n",
    "    print('Data not normal')\n",
    "else:\n",
    "    print('Data normal')"
   ]
  },
  {
   "cell_type": "code",
   "execution_count": 210,
   "id": "1815e8cb",
   "metadata": {},
   "outputs": [
    {
     "name": "stdout",
     "output_type": "stream",
     "text": [
      "Data not normal\n"
     ]
    }
   ],
   "source": [
    "data = dataframe.revenue.sample(n=5000)\n",
    "st,pval=shapiro(data)\n",
    "if pval<0.05:\n",
    "    print('Data not normal')\n",
    "else:\n",
    "    print('Data normal')"
   ]
  },
  {
   "cell_type": "code",
   "execution_count": 211,
   "id": "5f91fca4",
   "metadata": {},
   "outputs": [
    {
     "name": "stdout",
     "output_type": "stream",
     "text": [
      "Data not normal\n"
     ]
    }
   ],
   "source": [
    "data = dataframe.vote_average.sample(n=4999)\n",
    "st,pval=shapiro(data)\n",
    "if pval<0.05:\n",
    "    print('Data not normal')\n",
    "else:\n",
    "    print('Data normal')"
   ]
  },
  {
   "cell_type": "code",
   "execution_count": 212,
   "id": "be74b670",
   "metadata": {},
   "outputs": [
    {
     "name": "stdout",
     "output_type": "stream",
     "text": [
      "Data normal\n"
     ]
    }
   ],
   "source": [
    "data = dataframe.runtime.sample(n=4999)\n",
    "st,pval=shapiro(data)\n",
    "if pval<0.05:\n",
    "    print('Data not normal')\n",
    "else:\n",
    "    print('Data normal')"
   ]
  },
  {
   "cell_type": "code",
   "execution_count": 213,
   "id": "d0bd24ee",
   "metadata": {},
   "outputs": [
    {
     "data": {
      "text/plain": [
       "<AxesSubplot:xlabel='runtime', ylabel='Count'>"
      ]
     },
     "execution_count": 213,
     "metadata": {},
     "output_type": "execute_result"
    },
    {
     "data": {
      "image/png": "[encoded data removed]",
      "text/plain": [
       "<Figure size 432x288 with 1 Axes>"
      ]
     },
     "metadata": {
      "needs_background": "light"
     },
     "output_type": "display_data"
    }
   ],
   "source": [
    "sns.histplot(dataframe.runtime)"
   ]
  },
  {
   "cell_type": "markdown",
   "id": "e31af4e9",
   "metadata": {},
   "source": [
    "# Data Visualization"
   ]
  },
  {
   "cell_type": "markdown",
   "id": "80f9de04",
   "metadata": {},
   "source": [
    "Movies having the genre as Drama are maximum in number compared to others."
   ]
  },
  {
   "cell_type": "markdown",
   "id": "8b23b674",
   "metadata": {},
   "source": [
    "The second highest count will be the Comedy genre."
   ]
  },
  {
   "cell_type": "code",
   "execution_count": 214,
   "id": "98984c63",
   "metadata": {},
   "outputs": [
    {
     "data": {
      "image/png": "[encoded data removed]",
      "text/plain": [
       "<Figure size 864x720 with 1 Axes>"
      ]
     },
     "metadata": {
      "needs_background": "light"
     },
     "output_type": "display_data"
    }
   ],
   "source": [
    "plt.subplots(figsize=(12,10))\n",
    "list1 = []\n",
    "for i in dataframe['genre_name']:\n",
    "    list1.extend(i)\n",
    "ax = pd.Series(list1).value_counts()[:10].sort_values(ascending=True).plot.barh(width=0.9,color=sns.color_palette('hls',10))\n",
    "for i, v in enumerate(pd.Series(list1).value_counts()[:10].sort_values(ascending=True).values): \n",
    "    ax.text(.8, i, v,fontsize=12,color='white',weight='bold')\n",
    "plt.title('Top Genres')\n",
    "plt.show()"
   ]
  },
  {
   "cell_type": "markdown",
   "id": "b890133d",
   "metadata": {},
   "source": [
    "Relation between Runtime and Budget"
   ]
  },
  {
   "cell_type": "code",
   "execution_count": 215,
   "id": "35e9c68f",
   "metadata": {},
   "outputs": [
    {
     "data": {
      "text/plain": [
       "<AxesSubplot:xlabel='runtime', ylabel='budget'>"
      ]
     },
     "execution_count": 215,
     "metadata": {},
     "output_type": "execute_result"
    },
    {
     "data": {
      "image/png": "[encoded data removed]",
      "text/plain": [
       "<Figure size 432x288 with 1 Axes>"
      ]
     },
     "metadata": {
      "needs_background": "light"
     },
     "output_type": "display_data"
    }
   ],
   "source": [
    "sns.scatterplot(\n",
    "    data=metadata, x=\"runtime\", y=\"budget\",\n",
    "    sizes=(20, 100), hue_norm=(0, 7), legend=\"full\",color=\"green\",marker=\"+\",palette=\"deep\")"
   ]
  },
  {
   "cell_type": "markdown",
   "id": "c0004c41",
   "metadata": {},
   "source": [
    "Observations : 1. Runtime increases - Budget decreases                                                              2. 70 - 150 approx Runtime some falls under lower budget but                                             budget also it keeps increasing for some \n",
    "               3.There are more outliers for Runtime"
   ]
  },
  {
   "cell_type": "markdown",
   "id": "74f7fdfe",
   "metadata": {},
   "source": [
    "Relation between Revenue and Budget"
   ]
  },
  {
   "cell_type": "code",
   "execution_count": 216,
   "id": "1afc3362",
   "metadata": {},
   "outputs": [
    {
     "data": {
      "text/plain": [
       "<AxesSubplot:xlabel='revenue', ylabel='budget'>"
      ]
     },
     "execution_count": 216,
     "metadata": {},
     "output_type": "execute_result"
    },
    {
     "data": {
      "image/png": "[encoded data removed]",
      "text/plain": [
       "<Figure size 432x288 with 1 Axes>"
      ]
     },
     "metadata": {
      "needs_background": "light"
     },
     "output_type": "display_data"
    }
   ],
   "source": [
    "sns.scatterplot(\n",
    "    data=metadata, x=\"revenue\", y=\"budget\",\n",
    "    sizes=(20, 100), hue_norm=(0, 7), legend=\"full\",color=\"Red\",marker=\"o\",palette=\"deep\")"
   ]
  },
  {
   "cell_type": "markdown",
   "id": "e356cbce",
   "metadata": {},
   "source": [
    "Observations : Low buget movies produces Low revenue"
   ]
  },
  {
   "cell_type": "markdown",
   "id": "f711d74a",
   "metadata": {},
   "source": [
    "# coorelation Matrix "
   ]
  },
  {
   "cell_type": "raw",
   "id": "7f4ad505",
   "metadata": {},
   "source": [
    "Also checks the Multi-collinearity for Numerical and Categorical Variables."
   ]
  },
  {
   "cell_type": "code",
   "execution_count": 217,
   "id": "1cc4d62d",
   "metadata": {},
   "outputs": [
    {
     "data": {
      "text/html": [
       "<div>\n",
       "<style scoped>\n",
       "    .dataframe tbody tr th:only-of-type {\n",
       "        vertical-align: middle;\n",
       "    }\n",
       "\n",
       "    .dataframe tbody tr th {\n",
       "        vertical-align: top;\n",
       "    }\n",
       "\n",
       "    .dataframe thead th {\n",
       "        text-align: right;\n",
       "    }\n",
       "</style>\n",
       "<table border=\"1\" class=\"dataframe\">\n",
       "  <thead>\n",
       "    <tr style=\"text-align: right;\">\n",
       "      <th></th>\n",
       "      <th>adult</th>\n",
       "      <th>id</th>\n",
       "      <th>original_language</th>\n",
       "      <th>original_title</th>\n",
       "      <th>overview</th>\n",
       "      <th>popularity</th>\n",
       "      <th>release_date</th>\n",
       "      <th>revenue</th>\n",
       "      <th>runtime</th>\n",
       "      <th>status</th>\n",
       "      <th>genre_name</th>\n",
       "      <th>collection_name</th>\n",
       "      <th>production_companies_name</th>\n",
       "      <th>keywords</th>\n",
       "      <th>cast_name</th>\n",
       "      <th>crew_name</th>\n",
       "      <th>vote_average</th>\n",
       "    </tr>\n",
       "  </thead>\n",
       "  <tbody>\n",
       "    <tr>\n",
       "      <th>0</th>\n",
       "      <td>False</td>\n",
       "      <td>862</td>\n",
       "      <td>en</td>\n",
       "      <td>Toy Story</td>\n",
       "      <td>Led by Woody, Andy's toys live happily in his ...</td>\n",
       "      <td>21.946943</td>\n",
       "      <td>1995-10-30</td>\n",
       "      <td>373554033.0</td>\n",
       "      <td>81.0</td>\n",
       "      <td>Released</td>\n",
       "      <td>[Animation, Comedy, Family]</td>\n",
       "      <td>Toy Story Collection</td>\n",
       "      <td>['Pixar Animation Studios']</td>\n",
       "      <td>[jealousy, toy, boy, friendship, friends, riva...</td>\n",
       "      <td>['Tom Hanks', 'Tim Allen', 'Don Rickles', 'Jim...</td>\n",
       "      <td>['John Lasseter', 'Joss Whedon', 'Andrew Stant...</td>\n",
       "      <td>7.7</td>\n",
       "    </tr>\n",
       "    <tr>\n",
       "      <th>1</th>\n",
       "      <td>False</td>\n",
       "      <td>8844</td>\n",
       "      <td>en</td>\n",
       "      <td>Jumanji</td>\n",
       "      <td>When siblings Judy and Peter discover an encha...</td>\n",
       "      <td>17.015539</td>\n",
       "      <td>1995-12-15</td>\n",
       "      <td>262797249.0</td>\n",
       "      <td>104.0</td>\n",
       "      <td>Released</td>\n",
       "      <td>[Adventure, Fantasy, Family]</td>\n",
       "      <td>nan</td>\n",
       "      <td>['TriStar Pictures', 'Teitler Film', 'Intersco...</td>\n",
       "      <td>[board game, disappearance, based on children'...</td>\n",
       "      <td>['Robin Williams', 'Jonathan Hyde', 'Kirsten D...</td>\n",
       "      <td>['Larry J. Franco', 'Jonathan Hensleigh', 'Jam...</td>\n",
       "      <td>6.9</td>\n",
       "    </tr>\n",
       "    <tr>\n",
       "      <th>2</th>\n",
       "      <td>False</td>\n",
       "      <td>15602</td>\n",
       "      <td>en</td>\n",
       "      <td>Grumpier Old Men</td>\n",
       "      <td>A family wedding reignites the ancient feud be...</td>\n",
       "      <td>11.712900</td>\n",
       "      <td>1995-12-22</td>\n",
       "      <td>0.0</td>\n",
       "      <td>101.0</td>\n",
       "      <td>Released</td>\n",
       "      <td>[Romance, Comedy]</td>\n",
       "      <td>Grumpy Old Men Collection</td>\n",
       "      <td>['Warner Bros.', 'Lancaster Gate']</td>\n",
       "      <td>[fishing, best friend, duringcreditsstinger, o...</td>\n",
       "      <td>['Walter Matthau', 'Jack Lemmon', 'Ann-Margret...</td>\n",
       "      <td>['Howard Deutch', 'Mark Steven Johnson', 'Mark...</td>\n",
       "      <td>6.5</td>\n",
       "    </tr>\n",
       "  </tbody>\n",
       "</table>\n",
       "</div>"
      ],
      "text/plain": [
       "   adult     id original_language    original_title  \\\n",
       "0  False    862                en         Toy Story   \n",
       "1  False   8844                en           Jumanji   \n",
       "2  False  15602                en  Grumpier Old Men   \n",
       "\n",
       "                                            overview  popularity release_date  \\\n",
       "0  Led by Woody, Andy's toys live happily in his ...   21.946943   1995-10-30   \n",
       "1  When siblings Judy and Peter discover an encha...   17.015539   1995-12-15   \n",
       "2  A family wedding reignites the ancient feud be...   11.712900   1995-12-22   \n",
       "\n",
       "       revenue  runtime    status                    genre_name  \\\n",
       "0  373554033.0     81.0  Released   [Animation, Comedy, Family]   \n",
       "1  262797249.0    104.0  Released  [Adventure, Fantasy, Family]   \n",
       "2          0.0    101.0  Released             [Romance, Comedy]   \n",
       "\n",
       "             collection_name  \\\n",
       "0       Toy Story Collection   \n",
       "1                        nan   \n",
       "2  Grumpy Old Men Collection   \n",
       "\n",
       "                           production_companies_name  \\\n",
       "0                        ['Pixar Animation Studios']   \n",
       "1  ['TriStar Pictures', 'Teitler Film', 'Intersco...   \n",
       "2                 ['Warner Bros.', 'Lancaster Gate']   \n",
       "\n",
       "                                            keywords  \\\n",
       "0  [jealousy, toy, boy, friendship, friends, riva...   \n",
       "1  [board game, disappearance, based on children'...   \n",
       "2  [fishing, best friend, duringcreditsstinger, o...   \n",
       "\n",
       "                                           cast_name  \\\n",
       "0  ['Tom Hanks', 'Tim Allen', 'Don Rickles', 'Jim...   \n",
       "1  ['Robin Williams', 'Jonathan Hyde', 'Kirsten D...   \n",
       "2  ['Walter Matthau', 'Jack Lemmon', 'Ann-Margret...   \n",
       "\n",
       "                                           crew_name  vote_average  \n",
       "0  ['John Lasseter', 'Joss Whedon', 'Andrew Stant...           7.7  \n",
       "1  ['Larry J. Franco', 'Jonathan Hensleigh', 'Jam...           6.9  \n",
       "2  ['Howard Deutch', 'Mark Steven Johnson', 'Mark...           6.5  "
      ]
     },
     "execution_count": 217,
     "metadata": {},
     "output_type": "execute_result"
    }
   ],
   "source": [
    "dataframe_copy = dataframe.copy()\n",
    "dataframe_copy.head(3)"
   ]
  },
  {
   "cell_type": "code",
   "execution_count": 218,
   "id": "06664052",
   "metadata": {},
   "outputs": [
    {
     "data": {
      "text/plain": [
       "Index(['adult', 'id', 'original_language', 'original_title', 'overview',\n",
       "       'popularity', 'release_date', 'revenue', 'runtime', 'status',\n",
       "       'genre_name', 'collection_name', 'production_companies_name',\n",
       "       'keywords', 'cast_name', 'crew_name', 'vote_average'],\n",
       "      dtype='object')"
      ]
     },
     "execution_count": 218,
     "metadata": {},
     "output_type": "execute_result"
    }
   ],
   "source": [
    "dataframe_copy.columns"
   ]
  },
  {
   "cell_type": "code",
   "execution_count": 219,
   "id": "ca928e62",
   "metadata": {},
   "outputs": [
    {
     "data": {
      "text/plain": [
       "en    32269\n",
       "fr     2438\n",
       "it     1529\n",
       "ja     1350\n",
       "de     1080\n",
       "      ...  \n",
       "ay        1\n",
       "rw        1\n",
       "cy        1\n",
       "tg        1\n",
       "si        1\n",
       "Name: original_language, Length: 89, dtype: int64"
      ]
     },
     "execution_count": 219,
     "metadata": {},
     "output_type": "execute_result"
    }
   ],
   "source": [
    "dataframe_copy.original_language.value_counts()"
   ]
  },
  {
   "cell_type": "code",
   "execution_count": 220,
   "id": "41c04048",
   "metadata": {},
   "outputs": [
    {
     "data": {
      "text/html": [
       "<div>\n",
       "<style scoped>\n",
       "    .dataframe tbody tr th:only-of-type {\n",
       "        vertical-align: middle;\n",
       "    }\n",
       "\n",
       "    .dataframe tbody tr th {\n",
       "        vertical-align: top;\n",
       "    }\n",
       "\n",
       "    .dataframe thead th {\n",
       "        text-align: right;\n",
       "    }\n",
       "</style>\n",
       "<table border=\"1\" class=\"dataframe\">\n",
       "  <thead>\n",
       "    <tr style=\"text-align: right;\">\n",
       "      <th></th>\n",
       "      <th>id</th>\n",
       "      <th>original_language</th>\n",
       "      <th>original_title</th>\n",
       "      <th>overview</th>\n",
       "      <th>popularity</th>\n",
       "      <th>release_date</th>\n",
       "      <th>revenue</th>\n",
       "      <th>runtime</th>\n",
       "      <th>genre_name</th>\n",
       "      <th>collection_name</th>\n",
       "      <th>...</th>\n",
       "      <th>crew_name</th>\n",
       "      <th>vote_average</th>\n",
       "      <th>adult_False</th>\n",
       "      <th>adult_True</th>\n",
       "      <th>status_Canceled</th>\n",
       "      <th>status_In Production</th>\n",
       "      <th>status_Planned</th>\n",
       "      <th>status_Post Production</th>\n",
       "      <th>status_Released</th>\n",
       "      <th>status_Rumored</th>\n",
       "    </tr>\n",
       "  </thead>\n",
       "  <tbody>\n",
       "    <tr>\n",
       "      <th>0</th>\n",
       "      <td>862</td>\n",
       "      <td>en</td>\n",
       "      <td>Toy Story</td>\n",
       "      <td>Led by Woody, Andy's toys live happily in his ...</td>\n",
       "      <td>21.946943</td>\n",
       "      <td>1995-10-30</td>\n",
       "      <td>373554033.0</td>\n",
       "      <td>81.0</td>\n",
       "      <td>[Animation, Comedy, Family]</td>\n",
       "      <td>Toy Story Collection</td>\n",
       "      <td>...</td>\n",
       "      <td>['John Lasseter', 'Joss Whedon', 'Andrew Stant...</td>\n",
       "      <td>7.7</td>\n",
       "      <td>1</td>\n",
       "      <td>0</td>\n",
       "      <td>0</td>\n",
       "      <td>0</td>\n",
       "      <td>0</td>\n",
       "      <td>0</td>\n",
       "      <td>1</td>\n",
       "      <td>0</td>\n",
       "    </tr>\n",
       "    <tr>\n",
       "      <th>1</th>\n",
       "      <td>8844</td>\n",
       "      <td>en</td>\n",
       "      <td>Jumanji</td>\n",
       "      <td>When siblings Judy and Peter discover an encha...</td>\n",
       "      <td>17.015539</td>\n",
       "      <td>1995-12-15</td>\n",
       "      <td>262797249.0</td>\n",
       "      <td>104.0</td>\n",
       "      <td>[Adventure, Fantasy, Family]</td>\n",
       "      <td>nan</td>\n",
       "      <td>...</td>\n",
       "      <td>['Larry J. Franco', 'Jonathan Hensleigh', 'Jam...</td>\n",
       "      <td>6.9</td>\n",
       "      <td>1</td>\n",
       "      <td>0</td>\n",
       "      <td>0</td>\n",
       "      <td>0</td>\n",
       "      <td>0</td>\n",
       "      <td>0</td>\n",
       "      <td>1</td>\n",
       "      <td>0</td>\n",
       "    </tr>\n",
       "  </tbody>\n",
       "</table>\n",
       "<p>2 rows × 23 columns</p>\n",
       "</div>"
      ],
      "text/plain": [
       "     id original_language original_title  \\\n",
       "0   862                en      Toy Story   \n",
       "1  8844                en        Jumanji   \n",
       "\n",
       "                                            overview  popularity release_date  \\\n",
       "0  Led by Woody, Andy's toys live happily in his ...   21.946943   1995-10-30   \n",
       "1  When siblings Judy and Peter discover an encha...   17.015539   1995-12-15   \n",
       "\n",
       "       revenue  runtime                    genre_name       collection_name  \\\n",
       "0  373554033.0     81.0   [Animation, Comedy, Family]  Toy Story Collection   \n",
       "1  262797249.0    104.0  [Adventure, Fantasy, Family]                   nan   \n",
       "\n",
       "   ...                                          crew_name vote_average  \\\n",
       "0  ...  ['John Lasseter', 'Joss Whedon', 'Andrew Stant...          7.7   \n",
       "1  ...  ['Larry J. Franco', 'Jonathan Hensleigh', 'Jam...          6.9   \n",
       "\n",
       "  adult_False adult_True  status_Canceled  status_In Production  \\\n",
       "0           1          0                0                     0   \n",
       "1           1          0                0                     0   \n",
       "\n",
       "   status_Planned  status_Post Production  status_Released  status_Rumored  \n",
       "0               0                       0                1               0  \n",
       "1               0                       0                1               0  \n",
       "\n",
       "[2 rows x 23 columns]"
      ]
     },
     "execution_count": 220,
     "metadata": {},
     "output_type": "execute_result"
    }
   ],
   "source": [
    "new_encoded_values = pd.get_dummies(data=dataframe_copy, prefix=None, prefix_sep='_', dummy_na=False, columns=['adult','status'], sparse=False, drop_first=False, dtype=None)\n",
    "new_encoded_values.head(2)"
   ]
  },
  {
   "cell_type": "code",
   "execution_count": 221,
   "id": "86913715",
   "metadata": {},
   "outputs": [
    {
     "data": {
      "image/png": "[encoded data removed]",
      "text/plain": [
       "<Figure size 1440x1440 with 2 Axes>"
      ]
     },
     "metadata": {
      "needs_background": "light"
     },
     "output_type": "display_data"
    }
   ],
   "source": [
    "correlated = new_encoded_values.corr()\n",
    "fig, ax = plt.subplots(figsize=(20,20))\n",
    "sns.heatmap(correlated,annot=True)\n",
    "plt.show()\n",
    "# write observations for categorical variables correlation based on eigen values"
   ]
  },
  {
   "cell_type": "code",
   "execution_count": 223,
   "id": "1ce66839",
   "metadata": {
    "scrolled": false
   },
   "outputs": [
    {
     "data": {
      "text/html": [
       "<div>\n",
       "<style scoped>\n",
       "    .dataframe tbody tr th:only-of-type {\n",
       "        vertical-align: middle;\n",
       "    }\n",
       "\n",
       "    .dataframe tbody tr th {\n",
       "        vertical-align: top;\n",
       "    }\n",
       "\n",
       "    .dataframe thead th {\n",
       "        text-align: right;\n",
       "    }\n",
       "</style>\n",
       "<table border=\"1\" class=\"dataframe\">\n",
       "  <thead>\n",
       "    <tr style=\"text-align: right;\">\n",
       "      <th></th>\n",
       "      <th>adult</th>\n",
       "      <th>id</th>\n",
       "      <th>original_language</th>\n",
       "      <th>original_title</th>\n",
       "      <th>overview</th>\n",
       "      <th>popularity</th>\n",
       "      <th>release_date</th>\n",
       "      <th>revenue</th>\n",
       "      <th>runtime</th>\n",
       "      <th>status</th>\n",
       "      <th>genre_name</th>\n",
       "      <th>collection_name</th>\n",
       "      <th>production_companies_name</th>\n",
       "      <th>keywords</th>\n",
       "      <th>cast_name</th>\n",
       "      <th>crew_name</th>\n",
       "      <th>vote_average</th>\n",
       "    </tr>\n",
       "  </thead>\n",
       "  <tbody>\n",
       "    <tr>\n",
       "      <th>0</th>\n",
       "      <td>False</td>\n",
       "      <td>862</td>\n",
       "      <td>en</td>\n",
       "      <td>Toy Story</td>\n",
       "      <td>Led by Woody, Andy's toys live happily in his ...</td>\n",
       "      <td>21.946943</td>\n",
       "      <td>1995-10-30</td>\n",
       "      <td>373554033.0</td>\n",
       "      <td>81.0</td>\n",
       "      <td>Released</td>\n",
       "      <td>[Animation, Comedy, Family]</td>\n",
       "      <td>Toy Story Collection</td>\n",
       "      <td>['Pixar Animation Studios']</td>\n",
       "      <td>[jealousy, toy, boy, friendship, friends, riva...</td>\n",
       "      <td>['Tom Hanks', 'Tim Allen', 'Don Rickles', 'Jim...</td>\n",
       "      <td>['John Lasseter', 'Joss Whedon', 'Andrew Stant...</td>\n",
       "      <td>7.7</td>\n",
       "    </tr>\n",
       "    <tr>\n",
       "      <th>1</th>\n",
       "      <td>False</td>\n",
       "      <td>8844</td>\n",
       "      <td>en</td>\n",
       "      <td>Jumanji</td>\n",
       "      <td>When siblings Judy and Peter discover an encha...</td>\n",
       "      <td>17.015539</td>\n",
       "      <td>1995-12-15</td>\n",
       "      <td>262797249.0</td>\n",
       "      <td>104.0</td>\n",
       "      <td>Released</td>\n",
       "      <td>[Adventure, Fantasy, Family]</td>\n",
       "      <td>nan</td>\n",
       "      <td>['TriStar Pictures', 'Teitler Film', 'Intersco...</td>\n",
       "      <td>[board game, disappearance, based on children'...</td>\n",
       "      <td>['Robin Williams', 'Jonathan Hyde', 'Kirsten D...</td>\n",
       "      <td>['Larry J. Franco', 'Jonathan Hensleigh', 'Jam...</td>\n",
       "      <td>6.9</td>\n",
       "    </tr>\n",
       "    <tr>\n",
       "      <th>2</th>\n",
       "      <td>False</td>\n",
       "      <td>15602</td>\n",
       "      <td>en</td>\n",
       "      <td>Grumpier Old Men</td>\n",
       "      <td>A family wedding reignites the ancient feud be...</td>\n",
       "      <td>11.712900</td>\n",
       "      <td>1995-12-22</td>\n",
       "      <td>0.0</td>\n",
       "      <td>101.0</td>\n",
       "      <td>Released</td>\n",
       "      <td>[Romance, Comedy]</td>\n",
       "      <td>Grumpy Old Men Collection</td>\n",
       "      <td>['Warner Bros.', 'Lancaster Gate']</td>\n",
       "      <td>[fishing, best friend, duringcreditsstinger, o...</td>\n",
       "      <td>['Walter Matthau', 'Jack Lemmon', 'Ann-Margret...</td>\n",
       "      <td>['Howard Deutch', 'Mark Steven Johnson', 'Mark...</td>\n",
       "      <td>6.5</td>\n",
       "    </tr>\n",
       "    <tr>\n",
       "      <th>3</th>\n",
       "      <td>False</td>\n",
       "      <td>31357</td>\n",
       "      <td>en</td>\n",
       "      <td>Waiting to Exhale</td>\n",
       "      <td>Cheated on, mistreated and stepped on, the wom...</td>\n",
       "      <td>3.859495</td>\n",
       "      <td>1995-12-22</td>\n",
       "      <td>81452156.0</td>\n",
       "      <td>127.0</td>\n",
       "      <td>Released</td>\n",
       "      <td>[Comedy, Drama, Romance]</td>\n",
       "      <td>nan</td>\n",
       "      <td>['Twentieth Century Fox Film Corporation']</td>\n",
       "      <td>[based on novel, interracial relationship, sin...</td>\n",
       "      <td>['Whitney Houston', 'Angela Bassett', 'Loretta...</td>\n",
       "      <td>['Forest Whitaker', 'Ronald Bass', 'Ronald Bas...</td>\n",
       "      <td>6.1</td>\n",
       "    </tr>\n",
       "    <tr>\n",
       "      <th>4</th>\n",
       "      <td>False</td>\n",
       "      <td>11862</td>\n",
       "      <td>en</td>\n",
       "      <td>Father of the Bride Part II</td>\n",
       "      <td>Just when George Banks has recovered from his ...</td>\n",
       "      <td>8.387519</td>\n",
       "      <td>1995-02-10</td>\n",
       "      <td>76578911.0</td>\n",
       "      <td>106.0</td>\n",
       "      <td>Released</td>\n",
       "      <td>[Comedy]</td>\n",
       "      <td>Father of the Bride Collection</td>\n",
       "      <td>['Sandollar Productions', 'Touchstone Pictures']</td>\n",
       "      <td>[baby, midlife crisis, confidence, aging, daug...</td>\n",
       "      <td>['Steve Martin', 'Diane Keaton', 'Martin Short...</td>\n",
       "      <td>['Alan Silvestri', 'Elliot Davis', 'Nancy Meye...</td>\n",
       "      <td>5.7</td>\n",
       "    </tr>\n",
       "  </tbody>\n",
       "</table>\n",
       "</div>"
      ],
      "text/plain": [
       "   adult     id original_language               original_title  \\\n",
       "0  False    862                en                    Toy Story   \n",
       "1  False   8844                en                      Jumanji   \n",
       "2  False  15602                en             Grumpier Old Men   \n",
       "3  False  31357                en            Waiting to Exhale   \n",
       "4  False  11862                en  Father of the Bride Part II   \n",
       "\n",
       "                                            overview  popularity release_date  \\\n",
       "0  Led by Woody, Andy's toys live happily in his ...   21.946943   1995-10-30   \n",
       "1  When siblings Judy and Peter discover an encha...   17.015539   1995-12-15   \n",
       "2  A family wedding reignites the ancient feud be...   11.712900   1995-12-22   \n",
       "3  Cheated on, mistreated and stepped on, the wom...    3.859495   1995-12-22   \n",
       "4  Just when George Banks has recovered from his ...    8.387519   1995-02-10   \n",
       "\n",
       "       revenue  runtime    status                    genre_name  \\\n",
       "0  373554033.0     81.0  Released   [Animation, Comedy, Family]   \n",
       "1  262797249.0    104.0  Released  [Adventure, Fantasy, Family]   \n",
       "2          0.0    101.0  Released             [Romance, Comedy]   \n",
       "3   81452156.0    127.0  Released      [Comedy, Drama, Romance]   \n",
       "4   76578911.0    106.0  Released                      [Comedy]   \n",
       "\n",
       "                  collection_name  \\\n",
       "0            Toy Story Collection   \n",
       "1                             nan   \n",
       "2       Grumpy Old Men Collection   \n",
       "3                             nan   \n",
       "4  Father of the Bride Collection   \n",
       "\n",
       "                           production_companies_name  \\\n",
       "0                        ['Pixar Animation Studios']   \n",
       "1  ['TriStar Pictures', 'Teitler Film', 'Intersco...   \n",
       "2                 ['Warner Bros.', 'Lancaster Gate']   \n",
       "3         ['Twentieth Century Fox Film Corporation']   \n",
       "4   ['Sandollar Productions', 'Touchstone Pictures']   \n",
       "\n",
       "                                            keywords  \\\n",
       "0  [jealousy, toy, boy, friendship, friends, riva...   \n",
       "1  [board game, disappearance, based on children'...   \n",
       "2  [fishing, best friend, duringcreditsstinger, o...   \n",
       "3  [based on novel, interracial relationship, sin...   \n",
       "4  [baby, midlife crisis, confidence, aging, daug...   \n",
       "\n",
       "                                           cast_name  \\\n",
       "0  ['Tom Hanks', 'Tim Allen', 'Don Rickles', 'Jim...   \n",
       "1  ['Robin Williams', 'Jonathan Hyde', 'Kirsten D...   \n",
       "2  ['Walter Matthau', 'Jack Lemmon', 'Ann-Margret...   \n",
       "3  ['Whitney Houston', 'Angela Bassett', 'Loretta...   \n",
       "4  ['Steve Martin', 'Diane Keaton', 'Martin Short...   \n",
       "\n",
       "                                           crew_name  vote_average  \n",
       "0  ['John Lasseter', 'Joss Whedon', 'Andrew Stant...           7.7  \n",
       "1  ['Larry J. Franco', 'Jonathan Hensleigh', 'Jam...           6.9  \n",
       "2  ['Howard Deutch', 'Mark Steven Johnson', 'Mark...           6.5  \n",
       "3  ['Forest Whitaker', 'Ronald Bass', 'Ronald Bas...           6.1  \n",
       "4  ['Alan Silvestri', 'Elliot Davis', 'Nancy Meye...           5.7  "
      ]
     },
     "execution_count": 223,
     "metadata": {},
     "output_type": "execute_result"
    }
   ],
   "source": [
    "dataframe.head()"
   ]
  },
  {
   "cell_type": "code",
   "execution_count": 225,
   "id": "784fa2f3",
   "metadata": {},
   "outputs": [
    {
     "name": "stdout",
     "output_type": "stream",
     "text": [
      "<class 'pandas.core.frame.DataFrame'>\n",
      "Int64Index: 45463 entries, 0 to 45462\n",
      "Data columns (total 17 columns):\n",
      " #   Column                     Non-Null Count  Dtype         \n",
      "---  ------                     --------------  -----         \n",
      " 0   adult                      45463 non-null  object        \n",
      " 1   id                         45463 non-null  int64         \n",
      " 2   original_language          45452 non-null  object        \n",
      " 3   original_title             45463 non-null  object        \n",
      " 4   overview                   44509 non-null  object        \n",
      " 5   popularity                 45460 non-null  float64       \n",
      " 6   release_date               45376 non-null  datetime64[ns]\n",
      " 7   revenue                    45460 non-null  float64       \n",
      " 8   runtime                    45203 non-null  float64       \n",
      " 9   status                     45379 non-null  object        \n",
      " 10  genre_name                 45463 non-null  object        \n",
      " 11  collection_name            45463 non-null  object        \n",
      " 12  production_companies_name  45463 non-null  object        \n",
      " 13  keywords                   31110 non-null  object        \n",
      " 14  cast_name                  45462 non-null  object        \n",
      " 15  crew_name                  45462 non-null  object        \n",
      " 16  vote_average               45460 non-null  float64       \n",
      "dtypes: datetime64[ns](1), float64(4), int64(1), object(11)\n",
      "memory usage: 6.2+ MB\n"
     ]
    }
   ],
   "source": [
    "dataframe_copy.info()"
   ]
  },
  {
   "cell_type": "markdown",
   "id": "b147b039",
   "metadata": {},
   "source": [
    "# Visualization"
   ]
  },
  {
   "cell_type": "code",
   "execution_count": 227,
   "id": "f7d1dfd1",
   "metadata": {},
   "outputs": [],
   "source": [
    "dataframe_cat = dataframe_copy.select_dtypes(include='object')\n",
    "dataframe_num = dataframe_copy.select_dtypes(include='number')"
   ]
  },
  {
   "cell_type": "code",
   "execution_count": 249,
   "id": "77819689",
   "metadata": {
    "scrolled": true
   },
   "outputs": [
    {
     "data": {
      "text/html": [
       "<div>\n",
       "<style scoped>\n",
       "    .dataframe tbody tr th:only-of-type {\n",
       "        vertical-align: middle;\n",
       "    }\n",
       "\n",
       "    .dataframe tbody tr th {\n",
       "        vertical-align: top;\n",
       "    }\n",
       "\n",
       "    .dataframe thead th {\n",
       "        text-align: right;\n",
       "    }\n",
       "</style>\n",
       "<table border=\"1\" class=\"dataframe\">\n",
       "  <thead>\n",
       "    <tr style=\"text-align: right;\">\n",
       "      <th></th>\n",
       "      <th>adult</th>\n",
       "      <th>original_language</th>\n",
       "      <th>original_title</th>\n",
       "      <th>overview</th>\n",
       "      <th>status</th>\n",
       "      <th>genre_name</th>\n",
       "      <th>collection_name</th>\n",
       "      <th>production_companies_name</th>\n",
       "      <th>keywords</th>\n",
       "      <th>cast_name</th>\n",
       "      <th>crew_name</th>\n",
       "    </tr>\n",
       "  </thead>\n",
       "  <tbody>\n",
       "    <tr>\n",
       "      <th>0</th>\n",
       "      <td>False</td>\n",
       "      <td>en</td>\n",
       "      <td>Toy Story</td>\n",
       "      <td>Led by Woody, Andy's toys live happily in his ...</td>\n",
       "      <td>Released</td>\n",
       "      <td>[Animation, Comedy, Family]</td>\n",
       "      <td>Toy Story Collection</td>\n",
       "      <td>['Pixar Animation Studios']</td>\n",
       "      <td>[jealousy, toy, boy, friendship, friends, riva...</td>\n",
       "      <td>['Tom Hanks', 'Tim Allen', 'Don Rickles', 'Jim...</td>\n",
       "      <td>['John Lasseter', 'Joss Whedon', 'Andrew Stant...</td>\n",
       "    </tr>\n",
       "    <tr>\n",
       "      <th>1</th>\n",
       "      <td>False</td>\n",
       "      <td>en</td>\n",
       "      <td>Jumanji</td>\n",
       "      <td>When siblings Judy and Peter discover an encha...</td>\n",
       "      <td>Released</td>\n",
       "      <td>[Adventure, Fantasy, Family]</td>\n",
       "      <td>nan</td>\n",
       "      <td>['TriStar Pictures', 'Teitler Film', 'Intersco...</td>\n",
       "      <td>[board game, disappearance, based on children'...</td>\n",
       "      <td>['Robin Williams', 'Jonathan Hyde', 'Kirsten D...</td>\n",
       "      <td>['Larry J. Franco', 'Jonathan Hensleigh', 'Jam...</td>\n",
       "    </tr>\n",
       "    <tr>\n",
       "      <th>2</th>\n",
       "      <td>False</td>\n",
       "      <td>en</td>\n",
       "      <td>Grumpier Old Men</td>\n",
       "      <td>A family wedding reignites the ancient feud be...</td>\n",
       "      <td>Released</td>\n",
       "      <td>[Romance, Comedy]</td>\n",
       "      <td>Grumpy Old Men Collection</td>\n",
       "      <td>['Warner Bros.', 'Lancaster Gate']</td>\n",
       "      <td>[fishing, best friend, duringcreditsstinger, o...</td>\n",
       "      <td>['Walter Matthau', 'Jack Lemmon', 'Ann-Margret...</td>\n",
       "      <td>['Howard Deutch', 'Mark Steven Johnson', 'Mark...</td>\n",
       "    </tr>\n",
       "    <tr>\n",
       "      <th>3</th>\n",
       "      <td>False</td>\n",
       "      <td>en</td>\n",
       "      <td>Waiting to Exhale</td>\n",
       "      <td>Cheated on, mistreated and stepped on, the wom...</td>\n",
       "      <td>Released</td>\n",
       "      <td>[Comedy, Drama, Romance]</td>\n",
       "      <td>nan</td>\n",
       "      <td>['Twentieth Century Fox Film Corporation']</td>\n",
       "      <td>[based on novel, interracial relationship, sin...</td>\n",
       "      <td>['Whitney Houston', 'Angela Bassett', 'Loretta...</td>\n",
       "      <td>['Forest Whitaker', 'Ronald Bass', 'Ronald Bas...</td>\n",
       "    </tr>\n",
       "    <tr>\n",
       "      <th>4</th>\n",
       "      <td>False</td>\n",
       "      <td>en</td>\n",
       "      <td>Father of the Bride Part II</td>\n",
       "      <td>Just when George Banks has recovered from his ...</td>\n",
       "      <td>Released</td>\n",
       "      <td>[Comedy]</td>\n",
       "      <td>Father of the Bride Collection</td>\n",
       "      <td>['Sandollar Productions', 'Touchstone Pictures']</td>\n",
       "      <td>[baby, midlife crisis, confidence, aging, daug...</td>\n",
       "      <td>['Steve Martin', 'Diane Keaton', 'Martin Short...</td>\n",
       "      <td>['Alan Silvestri', 'Elliot Davis', 'Nancy Meye...</td>\n",
       "    </tr>\n",
       "  </tbody>\n",
       "</table>\n",
       "</div>"
      ],
      "text/plain": [
       "   adult original_language               original_title  \\\n",
       "0  False                en                    Toy Story   \n",
       "1  False                en                      Jumanji   \n",
       "2  False                en             Grumpier Old Men   \n",
       "3  False                en            Waiting to Exhale   \n",
       "4  False                en  Father of the Bride Part II   \n",
       "\n",
       "                                            overview    status  \\\n",
       "0  Led by Woody, Andy's toys live happily in his ...  Released   \n",
       "1  When siblings Judy and Peter discover an encha...  Released   \n",
       "2  A family wedding reignites the ancient feud be...  Released   \n",
       "3  Cheated on, mistreated and stepped on, the wom...  Released   \n",
       "4  Just when George Banks has recovered from his ...  Released   \n",
       "\n",
       "                     genre_name                 collection_name  \\\n",
       "0   [Animation, Comedy, Family]            Toy Story Collection   \n",
       "1  [Adventure, Fantasy, Family]                             nan   \n",
       "2             [Romance, Comedy]       Grumpy Old Men Collection   \n",
       "3      [Comedy, Drama, Romance]                             nan   \n",
       "4                      [Comedy]  Father of the Bride Collection   \n",
       "\n",
       "                           production_companies_name  \\\n",
       "0                        ['Pixar Animation Studios']   \n",
       "1  ['TriStar Pictures', 'Teitler Film', 'Intersco...   \n",
       "2                 ['Warner Bros.', 'Lancaster Gate']   \n",
       "3         ['Twentieth Century Fox Film Corporation']   \n",
       "4   ['Sandollar Productions', 'Touchstone Pictures']   \n",
       "\n",
       "                                            keywords  \\\n",
       "0  [jealousy, toy, boy, friendship, friends, riva...   \n",
       "1  [board game, disappearance, based on children'...   \n",
       "2  [fishing, best friend, duringcreditsstinger, o...   \n",
       "3  [based on novel, interracial relationship, sin...   \n",
       "4  [baby, midlife crisis, confidence, aging, daug...   \n",
       "\n",
       "                                           cast_name  \\\n",
       "0  ['Tom Hanks', 'Tim Allen', 'Don Rickles', 'Jim...   \n",
       "1  ['Robin Williams', 'Jonathan Hyde', 'Kirsten D...   \n",
       "2  ['Walter Matthau', 'Jack Lemmon', 'Ann-Margret...   \n",
       "3  ['Whitney Houston', 'Angela Bassett', 'Loretta...   \n",
       "4  ['Steve Martin', 'Diane Keaton', 'Martin Short...   \n",
       "\n",
       "                                           crew_name  \n",
       "0  ['John Lasseter', 'Joss Whedon', 'Andrew Stant...  \n",
       "1  ['Larry J. Franco', 'Jonathan Hensleigh', 'Jam...  \n",
       "2  ['Howard Deutch', 'Mark Steven Johnson', 'Mark...  \n",
       "3  ['Forest Whitaker', 'Ronald Bass', 'Ronald Bas...  \n",
       "4  ['Alan Silvestri', 'Elliot Davis', 'Nancy Meye...  "
      ]
     },
     "execution_count": 249,
     "metadata": {},
     "output_type": "execute_result"
    }
   ],
   "source": [
    "dataframe_cat.head()"
   ]
  },
  {
   "cell_type": "code",
   "execution_count": 263,
   "id": "d2602d33",
   "metadata": {},
   "outputs": [
    {
     "data": {
      "text/plain": [
       "adult                            0\n",
       "id                               0\n",
       "original_language               11\n",
       "original_title                   0\n",
       "overview                       954\n",
       "popularity                       3\n",
       "release_date                    87\n",
       "revenue                          3\n",
       "runtime                        260\n",
       "status                          84\n",
       "genre_name                       0\n",
       "collection_name                  0\n",
       "production_companies_name        0\n",
       "keywords                     14353\n",
       "cast_name                        1\n",
       "crew_name                        1\n",
       "vote_average                     3\n",
       "dtype: int64"
      ]
     },
     "execution_count": 263,
     "metadata": {},
     "output_type": "execute_result"
    }
   ],
   "source": [
    "dataframe_copy.isnull().sum()"
   ]
  },
  {
   "cell_type": "code",
   "execution_count": 245,
   "id": "e43b231a",
   "metadata": {
    "scrolled": true
   },
   "outputs": [
    {
     "data": {
      "image/png": "[encoded data removed]",
      "text/plain": [
       "<Figure size 720x360 with 1 Axes>"
      ]
     },
     "metadata": {
      "needs_background": "light"
     },
     "output_type": "display_data"
    }
   ],
   "source": [
    "# For categorical column\n",
    "sns.countplot(data=dataframe_cat,x='adult')\n",
    "plt.show()"
   ]
  },
  {
   "cell_type": "code",
   "execution_count": null,
   "id": "60666ffd",
   "metadata": {},
   "outputs": [],
   "source": [
    "# we can see that most the movie are not adult category"
   ]
  },
  {
   "cell_type": "code",
   "execution_count": 253,
   "id": "3f3bd529",
   "metadata": {
    "scrolled": true
   },
   "outputs": [
    {
     "data": {
      "text/plain": [
       "Released           45014\n",
       "Rumored              230\n",
       "Post Production       98\n",
       "In Production         20\n",
       "Planned               15\n",
       "Canceled               2\n",
       "Name: status, dtype: int64"
      ]
     },
     "execution_count": 253,
     "metadata": {},
     "output_type": "execute_result"
    }
   ],
   "source": [
    "dataframe_cat['status'].value_counts()"
   ]
  },
  {
   "cell_type": "code",
   "execution_count": 254,
   "id": "ff147d9a",
   "metadata": {},
   "outputs": [
    {
     "data": {
      "text/plain": [
       "0.9901238369663242"
      ]
     },
     "execution_count": 254,
     "metadata": {},
     "output_type": "execute_result"
    }
   ],
   "source": [
    "dataframe_cat['status'].value_counts()[0]/len(dataframe_cat['status'])"
   ]
  },
  {
   "cell_type": "code",
   "execution_count": 250,
   "id": "ee0387c5",
   "metadata": {},
   "outputs": [
    {
     "data": {
      "image/png": "[encoded data removed]",
      "text/plain": [
       "<Figure size 720x360 with 1 Axes>"
      ]
     },
     "metadata": {
      "needs_background": "light"
     },
     "output_type": "display_data"
    }
   ],
   "source": [
    "sns.countplot(data=dataframe_cat,x='status')\n",
    "\n",
    "plt.xticks(rotation='vertical')\n",
    "plt.show()"
   ]
  },
  {
   "cell_type": "code",
   "execution_count": null,
   "id": "fdb7a89f",
   "metadata": {},
   "outputs": [],
   "source": [
    "# Most of the movie almost 99% of total movies has released."
   ]
  },
  {
   "cell_type": "code",
   "execution_count": null,
   "id": "dc9b410e",
   "metadata": {},
   "outputs": [],
   "source": [
    "# For Numerical column"
   ]
  },
  {
   "cell_type": "code",
   "execution_count": 298,
   "id": "e77d50fb",
   "metadata": {},
   "outputs": [],
   "source": [
    "from sklearn.preprocessing import StandardScaler"
   ]
  },
  {
   "cell_type": "code",
   "execution_count": 304,
   "id": "ab264ace",
   "metadata": {},
   "outputs": [
    {
     "data": {
      "text/html": [
       "<div>\n",
       "<style scoped>\n",
       "    .dataframe tbody tr th:only-of-type {\n",
       "        vertical-align: middle;\n",
       "    }\n",
       "\n",
       "    .dataframe tbody tr th {\n",
       "        vertical-align: top;\n",
       "    }\n",
       "\n",
       "    .dataframe thead th {\n",
       "        text-align: right;\n",
       "    }\n",
       "</style>\n",
       "<table border=\"1\" class=\"dataframe\">\n",
       "  <thead>\n",
       "    <tr style=\"text-align: right;\">\n",
       "      <th></th>\n",
       "      <th>id</th>\n",
       "      <th>popularity</th>\n",
       "      <th>revenue</th>\n",
       "      <th>runtime</th>\n",
       "      <th>vote_average</th>\n",
       "    </tr>\n",
       "  </thead>\n",
       "  <tbody>\n",
       "    <tr>\n",
       "      <th>0</th>\n",
       "      <td>-0.955881</td>\n",
       "      <td>3.168087</td>\n",
       "      <td>5.632458</td>\n",
       "      <td>-0.341814</td>\n",
       "      <td>1.081903</td>\n",
       "    </tr>\n",
       "    <tr>\n",
       "      <th>1</th>\n",
       "      <td>-0.884904</td>\n",
       "      <td>2.346918</td>\n",
       "      <td>3.910802</td>\n",
       "      <td>0.257029</td>\n",
       "      <td>0.666145</td>\n",
       "    </tr>\n",
       "    <tr>\n",
       "      <th>2</th>\n",
       "      <td>-0.824812</td>\n",
       "      <td>1.463932</td>\n",
       "      <td>-0.174243</td>\n",
       "      <td>0.178919</td>\n",
       "      <td>0.458266</td>\n",
       "    </tr>\n",
       "    <tr>\n",
       "      <th>3</th>\n",
       "      <td>-0.684717</td>\n",
       "      <td>0.156197</td>\n",
       "      <td>1.091888</td>\n",
       "      <td>0.855872</td>\n",
       "      <td>0.250387</td>\n",
       "    </tr>\n",
       "    <tr>\n",
       "      <th>4</th>\n",
       "      <td>-0.858068</td>\n",
       "      <td>0.910195</td>\n",
       "      <td>1.016136</td>\n",
       "      <td>0.309102</td>\n",
       "      <td>0.042508</td>\n",
       "    </tr>\n",
       "  </tbody>\n",
       "</table>\n",
       "</div>"
      ],
      "text/plain": [
       "         id  popularity   revenue   runtime  vote_average\n",
       "0 -0.955881    3.168087  5.632458 -0.341814      1.081903\n",
       "1 -0.884904    2.346918  3.910802  0.257029      0.666145\n",
       "2 -0.824812    1.463932 -0.174243  0.178919      0.458266\n",
       "3 -0.684717    0.156197  1.091888  0.855872      0.250387\n",
       "4 -0.858068    0.910195  1.016136  0.309102      0.042508"
      ]
     },
     "execution_count": 304,
     "metadata": {},
     "output_type": "execute_result"
    }
   ],
   "source": [
    "ss = StandardScaler()\n",
    "x = ss.fit_transform(dataframe_num)\n",
    "df_ss_num = pd.DataFrame(x,columns=dataframe_num.columns)\n",
    "df_ss_num.head()"
   ]
  },
  {
   "cell_type": "code",
   "execution_count": 305,
   "id": "730617b9",
   "metadata": {},
   "outputs": [
    {
     "data": {
      "image/png": "[encoded data removed]",
      "text/plain": [
       "<Figure size 720x360 with 2 Axes>"
      ]
     },
     "metadata": {
      "needs_background": "light"
     },
     "output_type": "display_data"
    }
   ],
   "source": [
    "sns.heatmap(df_ss_num.iloc[:,1:].corr(),annot=True)\n",
    "plt.show()"
   ]
  },
  {
   "cell_type": "code",
   "execution_count": null,
   "id": "224ce23f",
   "metadata": {},
   "outputs": [],
   "source": [
    "# revenue and popularity have moderate positive correlation\n",
    "# Rest of the features having very low positive correlation"
   ]
  },
  {
   "cell_type": "code",
   "execution_count": 336,
   "id": "9648f549",
   "metadata": {},
   "outputs": [
    {
     "data": {
      "image/png": "[encoded data removed]",
      "text/plain": [
       "<Figure size 1440x1800 with 1 Axes>"
      ]
     },
     "metadata": {
      "needs_background": "light"
     },
     "output_type": "display_data"
    }
   ],
   "source": [
    "plt.figure(figsize=(20,25))\n",
    "sns.boxplot(data=df_ss_num.iloc[:,1:4])\n",
    "plt.show()"
   ]
  },
  {
   "cell_type": "code",
   "execution_count": 313,
   "id": "6ee314aa",
   "metadata": {},
   "outputs": [
    {
     "data": {
      "image/png": "[encoded data removed]",
      "text/plain": [
       "<Figure size 720x360 with 1 Axes>"
      ]
     },
     "metadata": {
      "needs_background": "light"
     },
     "output_type": "display_data"
    }
   ],
   "source": [
    "sns.boxplot(data=df_ss_num['vote_average'])\n",
    "plt.show()"
   ]
  },
  {
   "cell_type": "code",
   "execution_count": null,
   "id": "2c3c7758",
   "metadata": {},
   "outputs": [],
   "source": [
    "# There are outliers for revenue,popularity  column on positive side\n",
    "# There are outliers for runtime,vote_average on both on positive side and negative side."
   ]
  },
  {
   "cell_type": "code",
   "execution_count": null,
   "id": "e6d07fae",
   "metadata": {},
   "outputs": [],
   "source": []
  },
  {
   "cell_type": "markdown",
   "id": "e8684c47",
   "metadata": {},
   "source": [
    "# Connection"
   ]
  },
  {
   "cell_type": "code",
   "execution_count": 222,
   "id": "4c98dac2",
   "metadata": {},
   "outputs": [
    {
     "ename": "ModuleNotFoundError",
     "evalue": "No module named 'mysql'",
     "output_type": "error",
     "traceback": [
      "\u001b[1;31m---------------------------------------------------------------------------\u001b[0m",
      "\u001b[1;31mModuleNotFoundError\u001b[0m                       Traceback (most recent call last)",
      "\u001b[1;32m~\\AppData\\Local\\Temp\\1/ipykernel_24168/4131037277.py\u001b[0m in \u001b[0;36m<module>\u001b[1;34m\u001b[0m\n\u001b[1;32m----> 1\u001b[1;33m \u001b[1;32mimport\u001b[0m \u001b[0mmysql\u001b[0m\u001b[1;33m.\u001b[0m\u001b[0mconnector\u001b[0m\u001b[1;33m\u001b[0m\u001b[1;33m\u001b[0m\u001b[0m\n\u001b[0m",
      "\u001b[1;31mModuleNotFoundError\u001b[0m: No module named 'mysql'"
     ]
    }
   ],
   "source": [
    "import mysql.connector"
   ]
  },
  {
   "cell_type": "code",
   "execution_count": null,
   "id": "ed0a06b8",
   "metadata": {},
   "outputs": [],
   "source": [
    "mydb = mysql.connector.connect(\n",
    "  host=\"127.0.0.1\",\n",
    "  user=\"root\",\n",
    "  password=\"root\",\n",
    "  database=\"capstone\"\n",
    ")\n",
    "\n",
    "print(mydb)"
   ]
  },
  {
   "cell_type": "code",
   "execution_count": null,
   "id": "fc790b6b",
   "metadata": {},
   "outputs": [],
   "source": [
    "query=\"SELECT * FROM df1\"\n",
    "df_mysql = pd.read_sql(query, con = mydb)"
   ]
  },
  {
   "cell_type": "code",
   "execution_count": null,
   "id": "ab0543bd",
   "metadata": {},
   "outputs": [],
   "source": [
    "df_mysql.head()"
   ]
  },
  {
   "cell_type": "code",
   "execution_count": null,
   "id": "3d79f64f",
   "metadata": {},
   "outputs": [],
   "source": [
    "df_mysql.columns"
   ]
  },
  {
   "cell_type": "code",
   "execution_count": null,
   "id": "1e45d989",
   "metadata": {},
   "outputs": [],
   "source": [
    "df_mysql.to_csv('final_data.csv',index=False)"
   ]
  },
  {
   "cell_type": "code",
   "execution_count": null,
   "id": "b507d3db",
   "metadata": {},
   "outputs": [],
   "source": [
    "len(df_mysql)"
   ]
  }
 ],
 "metadata": {
  "kernelspec": {
   "display_name": "Python 3 (ipykernel)",
   "language": "python",
   "name": "python3"
  },
  "language_info": {
   "codemirror_mode": {
    "name": "ipython",
    "version": 3
   },
   "file_extension": ".py",
   "mimetype": "text/x-python",
   "name": "python",
   "nbconvert_exporter": "python",
   "pygments_lexer": "ipython3",
   "version": "3.9.7"
  },
  "vscode": {
   "interpreter": {
    "hash": "8a6c8994fc5cb661ec93644d3d265534183b7f4a7d339c2cccb0f2c72bae3cc5"
   }
  }
 },
 "nbformat": 4,
 "nbformat_minor": 5
}
