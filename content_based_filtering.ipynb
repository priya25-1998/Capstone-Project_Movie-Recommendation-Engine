{
 "cells": [
  {
   "cell_type": "code",
   "execution_count": 26,
   "metadata": {},
   "outputs": [],
   "source": [
    "# Importing the Required Libraries\n",
    "\n",
    "import pandas as pd\n",
    "from sklearn.feature_extraction.text import CountVectorizer\n",
    "from sklearn.metrics.pairwise import cosine_similarity\n"
   ]
  },
  {
   "cell_type": "code",
   "execution_count": 27,
   "metadata": {},
   "outputs": [
    {
     "data": {
      "text/html": [
       "<div>\n",
       "<style scoped>\n",
       "    .dataframe tbody tr th:only-of-type {\n",
       "        vertical-align: middle;\n",
       "    }\n",
       "\n",
       "    .dataframe tbody tr th {\n",
       "        vertical-align: top;\n",
       "    }\n",
       "\n",
       "    .dataframe thead th {\n",
       "        text-align: right;\n",
       "    }\n",
       "</style>\n",
       "<table border=\"1\" class=\"dataframe\">\n",
       "  <thead>\n",
       "    <tr style=\"text-align: right;\">\n",
       "      <th></th>\n",
       "      <th>keywords</th>\n",
       "      <th>genre_name</th>\n",
       "      <th>cast_name</th>\n",
       "      <th>crew_name</th>\n",
       "      <th>original_title</th>\n",
       "      <th>soup</th>\n",
       "    </tr>\n",
       "  </thead>\n",
       "  <tbody>\n",
       "    <tr>\n",
       "      <th>0</th>\n",
       "      <td>['jealousy', 'toy', 'boy', 'friendship', 'frie...</td>\n",
       "      <td>['Animation', 'Comedy', 'Family']</td>\n",
       "      <td>['Tom Hanks', 'Tim Allen', 'Don Rickles', 'Jim...</td>\n",
       "      <td>['John Lasseter', 'Joss Whedon', 'Andrew Stant...</td>\n",
       "      <td>Toy Story</td>\n",
       "      <td>['jealousy', 'toy', 'boy', 'friendship', 'frie...</td>\n",
       "    </tr>\n",
       "    <tr>\n",
       "      <th>1</th>\n",
       "      <td>['board game', 'disappearance', \"based on chil...</td>\n",
       "      <td>['Adventure', 'Fantasy', 'Family']</td>\n",
       "      <td>['Robin Williams', 'Jonathan Hyde', 'Kirsten D...</td>\n",
       "      <td>['Larry J. Franco', 'Jonathan Hensleigh', 'Jam...</td>\n",
       "      <td>Jumanji</td>\n",
       "      <td>['board game', 'disappearance', \"based on chil...</td>\n",
       "    </tr>\n",
       "  </tbody>\n",
       "</table>\n",
       "</div>"
      ],
      "text/plain": [
       "                                            keywords  \\\n",
       "0  ['jealousy', 'toy', 'boy', 'friendship', 'frie...   \n",
       "1  ['board game', 'disappearance', \"based on chil...   \n",
       "\n",
       "                           genre_name  \\\n",
       "0   ['Animation', 'Comedy', 'Family']   \n",
       "1  ['Adventure', 'Fantasy', 'Family']   \n",
       "\n",
       "                                           cast_name  \\\n",
       "0  ['Tom Hanks', 'Tim Allen', 'Don Rickles', 'Jim...   \n",
       "1  ['Robin Williams', 'Jonathan Hyde', 'Kirsten D...   \n",
       "\n",
       "                                           crew_name original_title  \\\n",
       "0  ['John Lasseter', 'Joss Whedon', 'Andrew Stant...      Toy Story   \n",
       "1  ['Larry J. Franco', 'Jonathan Hensleigh', 'Jam...        Jumanji   \n",
       "\n",
       "                                                soup  \n",
       "0  ['jealousy', 'toy', 'boy', 'friendship', 'frie...  \n",
       "1  ['board game', 'disappearance', \"based on chil...  "
      ]
     },
     "execution_count": 27,
     "metadata": {},
     "output_type": "execute_result"
    }
   ],
   "source": [
    "df = pd.read_csv('C:/Users/Priyanka/Desktop/PGP-DSE/Capstoneprojectworks/main_data.csv')\n",
    "df.head(2)"
   ]
  },
  {
   "cell_type": "code",
   "execution_count": 28,
   "metadata": {},
   "outputs": [
    {
     "data": {
      "text/plain": [
       "Index(['keywords', 'genre_name', 'cast_name', 'crew_name', 'original_title',\n",
       "       'soup'],\n",
       "      dtype='object')"
      ]
     },
     "execution_count": 28,
     "metadata": {},
     "output_type": "execute_result"
    }
   ],
   "source": [
    "df.columns"
   ]
  },
  {
   "cell_type": "code",
   "execution_count": 29,
   "metadata": {},
   "outputs": [
    {
     "data": {
      "text/plain": [
       "keywords          0\n",
       "genre_name        0\n",
       "cast_name         0\n",
       "crew_name         0\n",
       "original_title    0\n",
       "soup              0\n",
       "dtype: int64"
      ]
     },
     "execution_count": 29,
     "metadata": {},
     "output_type": "execute_result"
    }
   ],
   "source": [
    "df.isna().sum()"
   ]
  },
  {
   "cell_type": "code",
   "execution_count": 30,
   "metadata": {},
   "outputs": [],
   "source": [
    "df1 = df[['keywords','genre_name','cast_name','crew_name','original_title']]"
   ]
  },
  {
   "cell_type": "code",
   "execution_count": 31,
   "metadata": {},
   "outputs": [
    {
     "data": {
      "text/plain": [
       "(30895, 5)"
      ]
     },
     "execution_count": 31,
     "metadata": {},
     "output_type": "execute_result"
    }
   ],
   "source": [
    "df1.shape"
   ]
  },
  {
   "cell_type": "code",
   "execution_count": 43,
   "metadata": {},
   "outputs": [
    {
     "name": "stdout",
     "output_type": "stream",
     "text": [
      "3403\n"
     ]
    }
   ],
   "source": [
    "print(df1['genre_name'].nunique())"
   ]
  },
  {
   "cell_type": "code",
   "execution_count": 44,
   "metadata": {},
   "outputs": [],
   "source": [
    "df1['soup']=df1['keywords']+df1['genre_name']+df1['cast_name']+df1['crew_name']\n",
    "\n",
    "df1[['original_title', 'soup', 'cast_name', 'keywords', 'genre_name']].head()\n",
    "\n",
    "df2 = df1.iloc[0:20000,:]\n",
    "\n",
    "metadata=df2"
   ]
  },
  {
   "cell_type": "code",
   "execution_count": 45,
   "metadata": {},
   "outputs": [
    {
     "data": {
      "text/plain": [
       "Index(['keywords', 'genre_name', 'cast_name', 'crew_name', 'original_title',\n",
       "       'soup'],\n",
       "      dtype='object')"
      ]
     },
     "execution_count": 45,
     "metadata": {},
     "output_type": "execute_result"
    }
   ],
   "source": [
    "metadata.columns"
   ]
  },
  {
   "cell_type": "code",
   "execution_count": 46,
   "metadata": {},
   "outputs": [
    {
     "data": {
      "text/plain": [
       "(20000, 6)"
      ]
     },
     "execution_count": 46,
     "metadata": {},
     "output_type": "execute_result"
    }
   ],
   "source": [
    "metadata.shape"
   ]
  },
  {
   "cell_type": "code",
   "execution_count": 47,
   "metadata": {},
   "outputs": [
    {
     "data": {
      "text/html": [
       "<div>\n",
       "<style scoped>\n",
       "    .dataframe tbody tr th:only-of-type {\n",
       "        vertical-align: middle;\n",
       "    }\n",
       "\n",
       "    .dataframe tbody tr th {\n",
       "        vertical-align: top;\n",
       "    }\n",
       "\n",
       "    .dataframe thead th {\n",
       "        text-align: right;\n",
       "    }\n",
       "</style>\n",
       "<table border=\"1\" class=\"dataframe\">\n",
       "  <thead>\n",
       "    <tr style=\"text-align: right;\">\n",
       "      <th></th>\n",
       "      <th>keywords</th>\n",
       "      <th>genre_name</th>\n",
       "      <th>cast_name</th>\n",
       "      <th>crew_name</th>\n",
       "      <th>original_title</th>\n",
       "      <th>soup</th>\n",
       "    </tr>\n",
       "  </thead>\n",
       "  <tbody>\n",
       "    <tr>\n",
       "      <th>0</th>\n",
       "      <td>['jealousy', 'toy', 'boy', 'friendship', 'frie...</td>\n",
       "      <td>['Animation', 'Comedy', 'Family']</td>\n",
       "      <td>['Tom Hanks', 'Tim Allen', 'Don Rickles', 'Jim...</td>\n",
       "      <td>['John Lasseter', 'Joss Whedon', 'Andrew Stant...</td>\n",
       "      <td>Toy Story</td>\n",
       "      <td>['jealousy', 'toy', 'boy', 'friendship', 'frie...</td>\n",
       "    </tr>\n",
       "    <tr>\n",
       "      <th>1</th>\n",
       "      <td>['board game', 'disappearance', \"based on chil...</td>\n",
       "      <td>['Adventure', 'Fantasy', 'Family']</td>\n",
       "      <td>['Robin Williams', 'Jonathan Hyde', 'Kirsten D...</td>\n",
       "      <td>['Larry J. Franco', 'Jonathan Hensleigh', 'Jam...</td>\n",
       "      <td>Jumanji</td>\n",
       "      <td>['board game', 'disappearance', \"based on chil...</td>\n",
       "    </tr>\n",
       "    <tr>\n",
       "      <th>2</th>\n",
       "      <td>['fishing', 'best friend', 'duringcreditssting...</td>\n",
       "      <td>['Romance', 'Comedy']</td>\n",
       "      <td>['Walter Matthau', 'Jack Lemmon', 'Ann-Margret...</td>\n",
       "      <td>['Howard Deutch', 'Mark Steven Johnson', 'Mark...</td>\n",
       "      <td>Grumpier Old Men</td>\n",
       "      <td>['fishing', 'best friend', 'duringcreditssting...</td>\n",
       "    </tr>\n",
       "    <tr>\n",
       "      <th>3</th>\n",
       "      <td>['based on novel', 'interracial relationship',...</td>\n",
       "      <td>['Comedy', 'Drama', 'Romance']</td>\n",
       "      <td>['Whitney Houston', 'Angela Bassett', 'Loretta...</td>\n",
       "      <td>['Forest Whitaker', 'Ronald Bass', 'Ronald Bas...</td>\n",
       "      <td>Waiting to Exhale</td>\n",
       "      <td>['based on novel', 'interracial relationship',...</td>\n",
       "    </tr>\n",
       "    <tr>\n",
       "      <th>4</th>\n",
       "      <td>['baby', 'midlife crisis', 'confidence', 'agin...</td>\n",
       "      <td>['Comedy']</td>\n",
       "      <td>['Steve Martin', 'Diane Keaton', 'Martin Short...</td>\n",
       "      <td>['Alan Silvestri', 'Elliot Davis', 'Nancy Meye...</td>\n",
       "      <td>Father of the Bride Part II</td>\n",
       "      <td>['baby', 'midlife crisis', 'confidence', 'agin...</td>\n",
       "    </tr>\n",
       "    <tr>\n",
       "      <th>5</th>\n",
       "      <td>['robbery', 'detective', 'bank', 'obsession', ...</td>\n",
       "      <td>['Action', 'Crime', 'Drama', 'Thriller']</td>\n",
       "      <td>['Al Pacino', 'Robert De Niro', 'Val Kilmer', ...</td>\n",
       "      <td>['Michael Mann', 'Michael Mann', 'Art Linson',...</td>\n",
       "      <td>Heat</td>\n",
       "      <td>['robbery', 'detective', 'bank', 'obsession', ...</td>\n",
       "    </tr>\n",
       "    <tr>\n",
       "      <th>6</th>\n",
       "      <td>['paris', 'brother brother relationship', 'cha...</td>\n",
       "      <td>['Comedy', 'Romance']</td>\n",
       "      <td>['Harrison Ford', 'Julia Ormond', 'Greg Kinnea...</td>\n",
       "      <td>['Sydney Pollack', 'Barbara Benedek', 'Sydney ...</td>\n",
       "      <td>Sabrina</td>\n",
       "      <td>['paris', 'brother brother relationship', 'cha...</td>\n",
       "    </tr>\n",
       "    <tr>\n",
       "      <th>7</th>\n",
       "      <td>['terrorist', 'hostage', 'explosive', 'vice pr...</td>\n",
       "      <td>['Action', 'Adventure', 'Thriller']</td>\n",
       "      <td>['Jean-Claude Van Damme', 'Powers Boothe', 'Do...</td>\n",
       "      <td>['Peter Hyams', 'Karen Elise Baldwin', 'Gene Q...</td>\n",
       "      <td>Sudden Death</td>\n",
       "      <td>['terrorist', 'hostage', 'explosive', 'vice pr...</td>\n",
       "    </tr>\n",
       "    <tr>\n",
       "      <th>8</th>\n",
       "      <td>['cuba', 'falsely accused', 'secret identity',...</td>\n",
       "      <td>['Adventure', 'Action', 'Thriller']</td>\n",
       "      <td>['Pierce Brosnan', 'Sean Bean', 'Izabella Scor...</td>\n",
       "      <td>['Martin Campbell', 'Ian Fleming', 'Jeffrey Ca...</td>\n",
       "      <td>GoldenEye</td>\n",
       "      <td>['cuba', 'falsely accused', 'secret identity',...</td>\n",
       "    </tr>\n",
       "    <tr>\n",
       "      <th>9</th>\n",
       "      <td>['white house', 'usa president', 'new love', '...</td>\n",
       "      <td>['Comedy', 'Drama', 'Romance']</td>\n",
       "      <td>['Michael Douglas', 'Annette Bening', 'Michael...</td>\n",
       "      <td>['John Seale', 'Rob Reiner', 'Rob Reiner', 'Ro...</td>\n",
       "      <td>The American President</td>\n",
       "      <td>['white house', 'usa president', 'new love', '...</td>\n",
       "    </tr>\n",
       "  </tbody>\n",
       "</table>\n",
       "</div>"
      ],
      "text/plain": [
       "                                            keywords  \\\n",
       "0  ['jealousy', 'toy', 'boy', 'friendship', 'frie...   \n",
       "1  ['board game', 'disappearance', \"based on chil...   \n",
       "2  ['fishing', 'best friend', 'duringcreditssting...   \n",
       "3  ['based on novel', 'interracial relationship',...   \n",
       "4  ['baby', 'midlife crisis', 'confidence', 'agin...   \n",
       "5  ['robbery', 'detective', 'bank', 'obsession', ...   \n",
       "6  ['paris', 'brother brother relationship', 'cha...   \n",
       "7  ['terrorist', 'hostage', 'explosive', 'vice pr...   \n",
       "8  ['cuba', 'falsely accused', 'secret identity',...   \n",
       "9  ['white house', 'usa president', 'new love', '...   \n",
       "\n",
       "                                 genre_name  \\\n",
       "0         ['Animation', 'Comedy', 'Family']   \n",
       "1        ['Adventure', 'Fantasy', 'Family']   \n",
       "2                     ['Romance', 'Comedy']   \n",
       "3            ['Comedy', 'Drama', 'Romance']   \n",
       "4                                ['Comedy']   \n",
       "5  ['Action', 'Crime', 'Drama', 'Thriller']   \n",
       "6                     ['Comedy', 'Romance']   \n",
       "7       ['Action', 'Adventure', 'Thriller']   \n",
       "8       ['Adventure', 'Action', 'Thriller']   \n",
       "9            ['Comedy', 'Drama', 'Romance']   \n",
       "\n",
       "                                           cast_name  \\\n",
       "0  ['Tom Hanks', 'Tim Allen', 'Don Rickles', 'Jim...   \n",
       "1  ['Robin Williams', 'Jonathan Hyde', 'Kirsten D...   \n",
       "2  ['Walter Matthau', 'Jack Lemmon', 'Ann-Margret...   \n",
       "3  ['Whitney Houston', 'Angela Bassett', 'Loretta...   \n",
       "4  ['Steve Martin', 'Diane Keaton', 'Martin Short...   \n",
       "5  ['Al Pacino', 'Robert De Niro', 'Val Kilmer', ...   \n",
       "6  ['Harrison Ford', 'Julia Ormond', 'Greg Kinnea...   \n",
       "7  ['Jean-Claude Van Damme', 'Powers Boothe', 'Do...   \n",
       "8  ['Pierce Brosnan', 'Sean Bean', 'Izabella Scor...   \n",
       "9  ['Michael Douglas', 'Annette Bening', 'Michael...   \n",
       "\n",
       "                                           crew_name  \\\n",
       "0  ['John Lasseter', 'Joss Whedon', 'Andrew Stant...   \n",
       "1  ['Larry J. Franco', 'Jonathan Hensleigh', 'Jam...   \n",
       "2  ['Howard Deutch', 'Mark Steven Johnson', 'Mark...   \n",
       "3  ['Forest Whitaker', 'Ronald Bass', 'Ronald Bas...   \n",
       "4  ['Alan Silvestri', 'Elliot Davis', 'Nancy Meye...   \n",
       "5  ['Michael Mann', 'Michael Mann', 'Art Linson',...   \n",
       "6  ['Sydney Pollack', 'Barbara Benedek', 'Sydney ...   \n",
       "7  ['Peter Hyams', 'Karen Elise Baldwin', 'Gene Q...   \n",
       "8  ['Martin Campbell', 'Ian Fleming', 'Jeffrey Ca...   \n",
       "9  ['John Seale', 'Rob Reiner', 'Rob Reiner', 'Ro...   \n",
       "\n",
       "                original_title  \\\n",
       "0                    Toy Story   \n",
       "1                      Jumanji   \n",
       "2             Grumpier Old Men   \n",
       "3            Waiting to Exhale   \n",
       "4  Father of the Bride Part II   \n",
       "5                         Heat   \n",
       "6                      Sabrina   \n",
       "7                 Sudden Death   \n",
       "8                    GoldenEye   \n",
       "9       The American President   \n",
       "\n",
       "                                                soup  \n",
       "0  ['jealousy', 'toy', 'boy', 'friendship', 'frie...  \n",
       "1  ['board game', 'disappearance', \"based on chil...  \n",
       "2  ['fishing', 'best friend', 'duringcreditssting...  \n",
       "3  ['based on novel', 'interracial relationship',...  \n",
       "4  ['baby', 'midlife crisis', 'confidence', 'agin...  \n",
       "5  ['robbery', 'detective', 'bank', 'obsession', ...  \n",
       "6  ['paris', 'brother brother relationship', 'cha...  \n",
       "7  ['terrorist', 'hostage', 'explosive', 'vice pr...  \n",
       "8  ['cuba', 'falsely accused', 'secret identity',...  \n",
       "9  ['white house', 'usa president', 'new love', '...  "
      ]
     },
     "execution_count": 47,
     "metadata": {},
     "output_type": "execute_result"
    }
   ],
   "source": [
    "metadata.head(10)"
   ]
  },
  {
   "cell_type": "code",
   "execution_count": 49,
   "metadata": {},
   "outputs": [
    {
     "name": "stdout",
     "output_type": "stream",
     "text": [
      "The Movies Titles are : \n",
      "\n",
      "\n",
      " A Sound of Thunder\n",
      "\n",
      " The Order\n",
      "\n",
      " Double Impact\n",
      "\n",
      " Timecop\n",
      "\n",
      " Universal Soldier: Day of Reckoning\n",
      "\n",
      " The Quest\n",
      "\n",
      " Wake of Death\n",
      "\n",
      " Dragon Eyes\n",
      "\n",
      " Narrow Margin\n",
      "\n",
      " The Presidio\n"
     ]
    }
   ],
   "source": [
    "\n",
    "# content-based filtering movie-recommendation system\n",
    "\n",
    "movie_title = metadata['original_title']\n",
    "indices = pd.Series(metadata.index, index=metadata['original_title'])\n",
    "\n",
    "def movie_recommendation(movie_name):\n",
    "    count = CountVectorizer(stop_words='english')\n",
    "    count_matrix = count.fit_transform(metadata['soup'])\n",
    "    cosine_sim2 = cosine_similarity(count_matrix, count_matrix)\n",
    "    idx = indices[movie_name]\n",
    "    sim_scores = list(enumerate(cosine_sim2[idx]))\n",
    "    sim_scores = sorted(sim_scores, key=lambda x: x[1], reverse=True)[1:]\n",
    "    sim_scores = sim_scores[1:31]\n",
    "    movie_indices = [i[0] for i in sim_scores]\n",
    "    return movie_title.iloc[movie_indices]\n",
    "    \n",
    "\n",
    "movie_name = input(\"Enter the Movie Title : \")\n",
    "Recommendations = movie_recommendation(movie_name).head(10)\n",
    "Titles = Recommendations.tolist()\n",
    "\n",
    "# We try to give Top 10 similar recommendations to the users:\n",
    "\n",
    "print(\"The Movies Titles are : \\n\")\n",
    "for i in Titles:\n",
    "    print(\"\\n\", i)"
   ]
  }
 ],
 "metadata": {
  "kernelspec": {
   "display_name": "Python 3",
   "language": "python",
   "name": "python3"
  },
  "language_info": {
   "codemirror_mode": {
    "name": "ipython",
    "version": 3
   },
   "file_extension": ".py",
   "mimetype": "text/x-python",
   "name": "python",
   "nbconvert_exporter": "python",
   "pygments_lexer": "ipython3",
   "version": "3.10.8 (tags/v3.10.8:aaaf517, Oct 11 2022, 16:50:30) [MSC v.1933 64 bit (AMD64)]"
  },
  "orig_nbformat": 4,
  "vscode": {
   "interpreter": {
    "hash": "8a6c8994fc5cb661ec93644d3d265534183b7f4a7d339c2cccb0f2c72bae3cc5"
   }
  }
 },
 "nbformat": 4,
 "nbformat_minor": 2
}
